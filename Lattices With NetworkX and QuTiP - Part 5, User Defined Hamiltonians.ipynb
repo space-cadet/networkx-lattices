{
 "cells": [
  {
   "cell_type": "markdown",
   "metadata": {
    "toc": "true"
   },
   "source": [
    "<h1>Table of Contents<span class=\"tocSkip\"></span></h1>\n",
    "<div class=\"toc\"><ul class=\"toc-item\"><li><span><a href=\"#switch-Class-Definition\" data-toc-modified-id=\"switch-Class-Definition-1\" data-vivaldi-spatnav-clickable=\"1\"><span class=\"toc-item-num\">1&nbsp;&nbsp;</span><code>switch</code> Class Definition</a></span></li><li><span><a href=\"#hashQobj-class-definition\" data-toc-modified-id=\"hashQobj-class-definition-2\" data-vivaldi-spatnav-clickable=\"1\"><span class=\"toc-item-num\">2&nbsp;&nbsp;</span><code>hashQobj</code> class definition</a></span></li><li><span><a href=\"#qutipGraphToric-Class-Definition\" data-toc-modified-id=\"qutipGraphToric-Class-Definition-3\" data-vivaldi-spatnav-clickable=\"1\"><span class=\"toc-item-num\">3&nbsp;&nbsp;</span><code>qutipGraphToric</code> Class Definition</a></span></li><li><span><a href=\"#Plot-Subgraphs\" data-toc-modified-id=\"Plot-Subgraphs-4\" data-vivaldi-spatnav-clickable=\"1\"><span class=\"toc-item-num\">4&nbsp;&nbsp;</span>Plot Subgraphs</a></span><ul class=\"toc-item\"><li><span><a href=\"#Highlight-Subgraph\" data-toc-modified-id=\"Highlight-Subgraph-4.1\" data-vivaldi-spatnav-clickable=\"1\"><span class=\"toc-item-num\">4.1&nbsp;&nbsp;</span>Highlight Subgraph</a></span></li><li><span><a href=\"#Plot-Subgraphs\" data-toc-modified-id=\"Plot-Subgraphs-4.2\" data-vivaldi-spatnav-clickable=\"1\"><span class=\"toc-item-num\">4.2&nbsp;&nbsp;</span>Plot Subgraphs</a></span></li><li><span><a href=\"#Making-Better-Plots\" data-toc-modified-id=\"Making-Better-Plots-4.3\" data-vivaldi-spatnav-clickable=\"1\"><span class=\"toc-item-num\">4.3&nbsp;&nbsp;</span>Making Better Plots</a></span><ul class=\"toc-item\"><li><span><a href=\"#With-PyDot\" data-toc-modified-id=\"With-PyDot-4.3.1\" data-vivaldi-spatnav-clickable=\"1\"><span class=\"toc-item-num\">4.3.1&nbsp;&nbsp;</span>With PyDot</a></span></li><li><span><a href=\"#With-PyGraphViz\" data-toc-modified-id=\"With-PyGraphViz-4.3.2\" data-vivaldi-spatnav-clickable=\"1\"><span class=\"toc-item-num\">4.3.2&nbsp;&nbsp;</span>With PyGraphViz</a></span></li></ul></li><li><span><a href=\"#Sandbox\" data-toc-modified-id=\"Sandbox-4.4\" data-vivaldi-spatnav-clickable=\"1\"><span class=\"toc-item-num\">4.4&nbsp;&nbsp;</span>Sandbox</a></span></li></ul></li><li><span><a href=\"#qutipLattice-Class-Definition\" data-toc-modified-id=\"qutipLattice-Class-Definition-5\" data-vivaldi-spatnav-clickable=\"1\"><span class=\"toc-item-num\">5&nbsp;&nbsp;</span><code>qutipLattice</code> Class Definition</a></span></li><li><span><a href=\"#JSON-for-Hamiltonians\" data-toc-modified-id=\"JSON-for-Hamiltonians-6\" data-vivaldi-spatnav-clickable=\"1\"><span class=\"toc-item-num\">6&nbsp;&nbsp;</span>JSON for Hamiltonians</a></span></li><li><span><a href=\"#qutipHam-Class-Definition\" data-toc-modified-id=\"qutipHam-Class-Definition-7\" data-vivaldi-spatnav-clickable=\"1\"><span class=\"toc-item-num\">7&nbsp;&nbsp;</span><code>qutipHam</code> Class Definition</a></span><ul class=\"toc-item\"><li><span><a href=\"#Class-definition\" data-toc-modified-id=\"Class-definition-7.1\" data-vivaldi-spatnav-clickable=\"1\"><span class=\"toc-item-num\">7.1&nbsp;&nbsp;</span>Class definition</a></span></li></ul></li><li><span><a href=\"#Hamiltonian-from-JSON-and-Graph\" data-toc-modified-id=\"Hamiltonian-from-JSON-and-Graph-8\" data-vivaldi-spatnav-clickable=\"1\"><span class=\"toc-item-num\">8&nbsp;&nbsp;</span>Hamiltonian from JSON and Graph</a></span></li><li><span><a href=\"#Calling-Function-by-Names\" data-toc-modified-id=\"Calling-Function-by-Names-9\" data-vivaldi-spatnav-clickable=\"1\"><span class=\"toc-item-num\">9&nbsp;&nbsp;</span>Calling Function by Names</a></span></li><li><span><a href=\"#qutipHamiltonian-Class-Definition\" data-toc-modified-id=\"qutipHamiltonian-Class-Definition-10\" data-vivaldi-spatnav-clickable=\"1\"><span class=\"toc-item-num\">10&nbsp;&nbsp;</span><code>qutipHamiltonian</code> Class Definition</a></span><ul class=\"toc-item\"><li><span><a href=\"#Class-definition\" data-toc-modified-id=\"Class-definition-10.1\" data-vivaldi-spatnav-clickable=\"1\"><span class=\"toc-item-num\">10.1&nbsp;&nbsp;</span>Class definition</a></span></li><li><span><a href=\"#Class-Test\" data-toc-modified-id=\"Class-Test-10.2\" data-vivaldi-spatnav-clickable=\"1\"><span class=\"toc-item-num\">10.2&nbsp;&nbsp;</span>Class Test</a></span></li><li><span><a href=\"#Test-to-Verify-getDeltaEnergy-Work-as-Advt.\" data-toc-modified-id=\"Test-to-Verify-getDeltaEnergy-Work-as-Advt.-10.3\" data-vivaldi-spatnav-clickable=\"1\"><span class=\"toc-item-num\">10.3&nbsp;&nbsp;</span>Test to Verify <code>getDeltaEnergy</code> Work as Advt.</a></span></li><li><span><a href=\"#Simulated-Annealing-Algorithm\" data-toc-modified-id=\"Simulated-Annealing-Algorithm-10.4\" data-vivaldi-spatnav-clickable=\"1\"><span class=\"toc-item-num\">10.4&nbsp;&nbsp;</span>Simulated Annealing Algorithm</a></span></li><li><span><a href=\"#2D-Spin-Glass-Lattice\" data-toc-modified-id=\"2D-Spin-Glass-Lattice-10.5\" data-vivaldi-spatnav-clickable=\"1\"><span class=\"toc-item-num\">10.5&nbsp;&nbsp;</span>2D Spin-Glass Lattice</a></span></li></ul></li><li><span><a href=\"#Sandbox\" data-toc-modified-id=\"Sandbox-11\" data-vivaldi-spatnav-clickable=\"1\"><span class=\"toc-item-num\">11&nbsp;&nbsp;</span>Sandbox</a></span></li></ul></div>"
   ]
  },
  {
   "cell_type": "code",
   "execution_count": 1,
   "metadata": {},
   "outputs": [],
   "source": [
    "import networkx as nx\n",
    "import numpy as np\n",
    "import matplotlib as matplotlib\n",
    "matplotlib.use('qt5agg')"
   ]
  },
  {
   "cell_type": "code",
   "execution_count": 2,
   "metadata": {},
   "outputs": [],
   "source": [
    "import matplotlib.pyplot as plt\n",
    "import random\n",
    "\n",
    "from qutip import *"
   ]
  },
  {
   "cell_type": "code",
   "execution_count": 3,
   "metadata": {},
   "outputs": [],
   "source": [
    "from pprint import pprint"
   ]
  },
  {
   "cell_type": "code",
   "execution_count": 4,
   "metadata": {},
   "outputs": [],
   "source": [
    "import json"
   ]
  },
  {
   "cell_type": "code",
   "execution_count": 5,
   "metadata": {},
   "outputs": [
    {
     "data": {
      "text/plain": [
       "'Qt5Agg'"
      ]
     },
     "execution_count": 5,
     "metadata": {},
     "output_type": "execute_result"
    }
   ],
   "source": [
    "matplotlib.get_backend()"
   ]
  },
  {
   "cell_type": "code",
   "execution_count": 6,
   "metadata": {},
   "outputs": [],
   "source": [
    "%matplotlib inline"
   ]
  },
  {
   "cell_type": "markdown",
   "metadata": {},
   "source": [
    "# `switch` Class Definition"
   ]
  },
  {
   "cell_type": "markdown",
   "metadata": {},
   "source": [
    "Reference: [ActiveState Recipes](http://code.activestate.com/recipes/410692/)\n",
    "\n",
    "Example Usage:\n",
    "\n",
    "The following example is pretty much the exact use-case of a dictionary, but is included for its simplicity. Note that you can include statements in each suite.\n",
    "    \n",
    "```\n",
    "v = 'ten'\n",
    "for case in switch(v):\n",
    "    if case('one'):\n",
    "        print 1\n",
    "        break\n",
    "    if case('two'):\n",
    "        print 2\n",
    "        break\n",
    "    if case('ten'):\n",
    "        print 10\n",
    "        break\n",
    "    if case('eleven'):\n",
    "        print 11\n",
    "        break\n",
    "    if case(): # default, could also just omit condition or 'if True'\n",
    "        print \"something else!\"\n",
    "        # No need to break here, it'll stop anyway\n",
    "```"
   ]
  },
  {
   "cell_type": "code",
   "execution_count": 7,
   "metadata": {},
   "outputs": [],
   "source": [
    "# This class provides the functionality we want. You only need to look at\n",
    "# this if you want to know how this works. It only needs to be defined\n",
    "# once, no need to muck around with its internals.\n",
    "class switch(object):\n",
    "    def __init__(self, value):\n",
    "        self.value = value\n",
    "        self.fall = False\n",
    "\n",
    "    def __iter__(self):\n",
    "        \"\"\"Return the match method once, then stop\"\"\"\n",
    "        yield self.match\n",
    "        raise StopIteration\n",
    "    \n",
    "    def match(self, *args):\n",
    "        \"\"\"Indicate whether or not to enter a case suite\"\"\"\n",
    "        if self.fall or not args:\n",
    "            return True\n",
    "        elif self.value in args: # changed for v1.5, see below\n",
    "            self.fall = True\n",
    "            return True\n",
    "        else:\n",
    "            return False"
   ]
  },
  {
   "cell_type": "markdown",
   "metadata": {},
   "source": [
    "# `hashQobj` class definition"
   ]
  },
  {
   "cell_type": "code",
   "execution_count": 8,
   "metadata": {},
   "outputs": [],
   "source": [
    "class hashQobj(Qobj):\n",
    "    \n",
    "    def __hash__(self):\n",
    "        return hash(repr(self))"
   ]
  },
  {
   "cell_type": "markdown",
   "metadata": {},
   "source": [
    "# `qutipGraphToric` Class Definition"
   ]
  },
  {
   "cell_type": "code",
   "execution_count": 10,
   "metadata": {},
   "outputs": [],
   "source": [
    "class qutipGraphToric():\n",
    "    \n",
    "    graph = None            # graph on which Hamiltonian is defined.\n",
    "    \n",
    "    state_dims = 2                # dimension of single particle Hilbert space.\n",
    "    \n",
    "    periodic = False\n",
    "    \n",
    "    hamOp = Qobj()\n",
    "    \n",
    "    def __init__(self, graph = None, is_periodic = False, spin = 0.5):\n",
    "        \n",
    "        if graph != None:\n",
    "            self.graph = graph\n",
    "        else:\n",
    "            self.graph = nx.grid_2d_graph(3,3, periodic=is_periodic)\n",
    "            \n",
    "        self.spin = spin\n",
    "        \n",
    "        self.state_dims = 2*spin + 1\n",
    "        \n",
    "        self.hamType = \"Toric Code\"\n",
    "        \n",
    "        self.initEdges()\n",
    "        \n",
    "        self.initNodes()\n",
    "        \n",
    "        self.initOp()\n",
    "        \n",
    "    def initEdges(self):\n",
    "    \n",
    "        self.num_edges = len(self.graph.edges)\n",
    "    \n",
    "        xop = spin_Jx(self.spin)\n",
    "        zop = spin_Jz(self.spin)\n",
    "\n",
    "        \n",
    "        # associate the Pauli X and Z operators with each edge\n",
    "        for e in self.graph.edges:\n",
    "            self.graph.edges[e]['ops'] = [xop, zop]\n",
    "            \n",
    "        return\n",
    "        \n",
    "    def initNodes(self):\n",
    "        \n",
    "        nodeop = identity(self.state_dims)\n",
    "        \n",
    "        oplist = []\n",
    "        \n",
    "        # iterate over all nodes\n",
    "        for node in self.graph.nodes:\n",
    "            # iterate over all edges connected to each node\n",
    "            for edge in self.graph.edges(nbunch=node):\n",
    "                oplist.append[self.graph.edges[edge]['ops'][0]]\n",
    "            \n",
    "            nodeop = tensor(oplist)\n",
    "            \n",
    "            self.graph.nodes[node]['op'] = nodeop\n",
    "            \n",
    "        return\n",
    "        \n",
    "            \n",
    "    def initOp(self):\n",
    "        \n",
    "        nodeop = identity(self.state_dims)\n",
    "        \n",
    "        oplist = []\n",
    "\n",
    "#         for n in self.graph.nodes:\n",
    "        \n",
    "                    \n",
    "#                 print(self.graph[n][nn])\n",
    "#                 nodeop *= self.graph[n][nn]['ops'][0]\n",
    "#                 self.graph.nodes[n]['node_op'] = nodeop\n",
    "\n",
    "        \n",
    "#             print(nodeop)\n",
    "        \n",
    "        return\n",
    "        \n",
    "        \n",
    "        "
   ]
  },
  {
   "cell_type": "code",
   "execution_count": 11,
   "metadata": {},
   "outputs": [],
   "source": [
    "op = sigmax()"
   ]
  },
  {
   "cell_type": "code",
   "execution_count": 12,
   "metadata": {},
   "outputs": [],
   "source": [
    "tensor?"
   ]
  },
  {
   "cell_type": "code",
   "execution_count": 13,
   "metadata": {},
   "outputs": [
    {
     "ename": "TypeError",
     "evalue": "'builtin_function_or_method' object is not subscriptable",
     "output_type": "error",
     "traceback": [
      "\u001b[0;31m---------------------------------------------------------------------------\u001b[0m",
      "\u001b[0;31mTypeError\u001b[0m                                 Traceback (most recent call last)",
      "\u001b[0;32m<ipython-input-13-bd297049e5fe>\u001b[0m in \u001b[0;36m<module>\u001b[0;34m\u001b[0m\n\u001b[0;32m----> 1\u001b[0;31m \u001b[0mtoricgraph\u001b[0m \u001b[0;34m=\u001b[0m \u001b[0mqutipGraphToric\u001b[0m\u001b[0;34m(\u001b[0m\u001b[0;34m)\u001b[0m\u001b[0;34m\u001b[0m\u001b[0;34m\u001b[0m\u001b[0m\n\u001b[0m",
      "\u001b[0;32m<ipython-input-10-3245283d0cc1>\u001b[0m in \u001b[0;36m__init__\u001b[0;34m(self, graph, is_periodic, spin)\u001b[0m\n\u001b[1;32m     24\u001b[0m         \u001b[0mself\u001b[0m\u001b[0;34m.\u001b[0m\u001b[0minitEdges\u001b[0m\u001b[0;34m(\u001b[0m\u001b[0;34m)\u001b[0m\u001b[0;34m\u001b[0m\u001b[0;34m\u001b[0m\u001b[0m\n\u001b[1;32m     25\u001b[0m \u001b[0;34m\u001b[0m\u001b[0m\n\u001b[0;32m---> 26\u001b[0;31m         \u001b[0mself\u001b[0m\u001b[0;34m.\u001b[0m\u001b[0minitNodes\u001b[0m\u001b[0;34m(\u001b[0m\u001b[0;34m)\u001b[0m\u001b[0;34m\u001b[0m\u001b[0;34m\u001b[0m\u001b[0m\n\u001b[0m\u001b[1;32m     27\u001b[0m \u001b[0;34m\u001b[0m\u001b[0m\n\u001b[1;32m     28\u001b[0m         \u001b[0mself\u001b[0m\u001b[0;34m.\u001b[0m\u001b[0minitOp\u001b[0m\u001b[0;34m(\u001b[0m\u001b[0;34m)\u001b[0m\u001b[0;34m\u001b[0m\u001b[0;34m\u001b[0m\u001b[0m\n",
      "\u001b[0;32m<ipython-input-10-3245283d0cc1>\u001b[0m in \u001b[0;36minitNodes\u001b[0;34m(self)\u001b[0m\n\u001b[1;32m     52\u001b[0m             \u001b[0;31m# iterate over all edges connected to each node\u001b[0m\u001b[0;34m\u001b[0m\u001b[0;34m\u001b[0m\u001b[0;34m\u001b[0m\u001b[0m\n\u001b[1;32m     53\u001b[0m             \u001b[0;32mfor\u001b[0m \u001b[0medge\u001b[0m \u001b[0;32min\u001b[0m \u001b[0mself\u001b[0m\u001b[0;34m.\u001b[0m\u001b[0mgraph\u001b[0m\u001b[0;34m.\u001b[0m\u001b[0medges\u001b[0m\u001b[0;34m(\u001b[0m\u001b[0mnbunch\u001b[0m\u001b[0;34m=\u001b[0m\u001b[0mnode\u001b[0m\u001b[0;34m)\u001b[0m\u001b[0;34m:\u001b[0m\u001b[0;34m\u001b[0m\u001b[0;34m\u001b[0m\u001b[0m\n\u001b[0;32m---> 54\u001b[0;31m                 \u001b[0moplist\u001b[0m\u001b[0;34m.\u001b[0m\u001b[0mappend\u001b[0m\u001b[0;34m[\u001b[0m\u001b[0mself\u001b[0m\u001b[0;34m.\u001b[0m\u001b[0mgraph\u001b[0m\u001b[0;34m.\u001b[0m\u001b[0medges\u001b[0m\u001b[0;34m[\u001b[0m\u001b[0medge\u001b[0m\u001b[0;34m]\u001b[0m\u001b[0;34m[\u001b[0m\u001b[0;34m'ops'\u001b[0m\u001b[0;34m]\u001b[0m\u001b[0;34m[\u001b[0m\u001b[0;36m0\u001b[0m\u001b[0;34m]\u001b[0m\u001b[0;34m]\u001b[0m\u001b[0;34m\u001b[0m\u001b[0;34m\u001b[0m\u001b[0m\n\u001b[0m\u001b[1;32m     55\u001b[0m \u001b[0;34m\u001b[0m\u001b[0m\n\u001b[1;32m     56\u001b[0m             \u001b[0mnodeop\u001b[0m \u001b[0;34m=\u001b[0m \u001b[0mtensor\u001b[0m\u001b[0;34m(\u001b[0m\u001b[0moplist\u001b[0m\u001b[0;34m)\u001b[0m\u001b[0;34m\u001b[0m\u001b[0;34m\u001b[0m\u001b[0m\n",
      "\u001b[0;31mTypeError\u001b[0m: 'builtin_function_or_method' object is not subscriptable"
     ]
    }
   ],
   "source": [
    "toricgraph = qutipGraphToric()"
   ]
  },
  {
   "cell_type": "code",
   "execution_count": null,
   "metadata": {},
   "outputs": [],
   "source": [
    "len(toricgraph.graph.edges)"
   ]
  },
  {
   "cell_type": "code",
   "execution_count": null,
   "metadata": {},
   "outputs": [],
   "source": [
    "toricgraph.graph.nodes.data()"
   ]
  },
  {
   "cell_type": "code",
   "execution_count": null,
   "metadata": {},
   "outputs": [],
   "source": [
    "toricgraph.graph.edges.data()"
   ]
  },
  {
   "cell_type": "code",
   "execution_count": null,
   "metadata": {},
   "outputs": [],
   "source": [
    "for node in toricgraph.graph.nodes:\n",
    "    print(toricgraph.graph.edges(nbunch=node))"
   ]
  },
  {
   "cell_type": "code",
   "execution_count": null,
   "metadata": {},
   "outputs": [],
   "source": [
    "for n in grid.nodes:\n",
    "    for nn in grid.adj[n]:\n",
    "        print(n,nn)\n",
    "        print(grid[n][nn])"
   ]
  },
  {
   "cell_type": "code",
   "execution_count": null,
   "metadata": {},
   "outputs": [],
   "source": [
    "grid.e"
   ]
  },
  {
   "cell_type": "code",
   "execution_count": null,
   "metadata": {},
   "outputs": [],
   "source": [
    "grid = nx.grid_2d_graph(4,4,periodic=True)"
   ]
  },
  {
   "cell_type": "code",
   "execution_count": null,
   "metadata": {},
   "outputs": [],
   "source": [
    "nx.draw(grid, with_labels=True)"
   ]
  },
  {
   "cell_type": "code",
   "execution_count": null,
   "metadata": {},
   "outputs": [],
   "source": [
    "for e in grid.edges:\n",
    "    print(grid.edges[e])"
   ]
  },
  {
   "cell_type": "code",
   "execution_count": null,
   "metadata": {},
   "outputs": [],
   "source": [
    "grid.node_dict_factory()"
   ]
  },
  {
   "cell_type": "code",
   "execution_count": null,
   "metadata": {},
   "outputs": [],
   "source": [
    "range(len(grid.edges))"
   ]
  },
  {
   "cell_type": "markdown",
   "metadata": {},
   "source": [
    "# Plot Subgraphs"
   ]
  },
  {
   "cell_type": "markdown",
   "metadata": {},
   "source": [
    "## Highlight Subgraph\n",
    "\n",
    "This function takes two graphs as arguments. The second graph is a subgraph of the first. It then plots the whole graph with the nodes and edges belonging to the subgraph plotted in different color scheme from the rest of the graph."
   ]
  },
  {
   "cell_type": "code",
   "execution_count": 20,
   "metadata": {},
   "outputs": [],
   "source": [
    "def nxHighlightSubGraph(graph, subgraph, color_scheme=('r', 'b','g', 'g')):\n",
    "    '''\n",
    "    Takes a graph as the first argument and a subgraph of the first graph as the second argument.\n",
    "    Returns a representation of the first graph with the nodes and edges in the subgraph highlighted\n",
    "    as per the color scheme optionally specified in the third argument.\n",
    "    '''\n",
    "    try:\n",
    "        GM = nx.isomorphism.GraphMatcher(graph, subgraph)\n",
    "    except:\n",
    "        raise ModuleNotFoundError(\"Networkx needs to be imported and graph and subgraph need to be valid networkx objects\")\n",
    "    \n",
    "    if not GM.subgraph_is_isomorphic():\n",
    "        raise ValueError(\"The second argument must be a subgraph of the first argument\")\n",
    "    \n",
    "    g_node_color = color_scheme[0]\n",
    "    g_edge_color = color_scheme[1]\n",
    "    \n",
    "    sg_node_color = color_scheme[2]\n",
    "    sg_edge_color = color_scheme[3]\n",
    "    \n",
    "    node_color_list = []\n",
    "    edge_color_list = []\n",
    "    \n",
    "    for node in graph.nodes:\n",
    "        if (node in subgraph.nodes):\n",
    "            graph.nodes[node]['color'] = sg_node_color\n",
    "            node_color_list.append(sg_node_color)\n",
    "        else:\n",
    "            graph.nodes[node]['color'] = g_node_color\n",
    "            node_color_list.append(g_node_color)\n",
    "            \n",
    "    for edge in graph.edges:\n",
    "        if (edge in subgraph.edges):\n",
    "            graph.edges[edge]['color'] = sg_edge_color\n",
    "            edge_color_list.append(sg_edge_color)\n",
    "        else:\n",
    "            graph.edges[edge]['color'] = g_edge_color\n",
    "            edge_color_list.append(g_edge_color)\n",
    "            \n",
    "    return (node_color_list, edge_color_list)"
   ]
  },
  {
   "cell_type": "markdown",
   "metadata": {},
   "source": [
    "## Plot Subgraphs"
   ]
  },
  {
   "cell_type": "code",
   "execution_count": 21,
   "metadata": {},
   "outputs": [],
   "source": [
    "g1 = nx.grid_2d_graph(4,4)"
   ]
  },
  {
   "cell_type": "code",
   "execution_count": 22,
   "metadata": {},
   "outputs": [
    {
     "name": "stderr",
     "output_type": "stream",
     "text": [
      "/Users/deepak/miniconda3/envs/python3/lib/python3.6/site-packages/networkx/drawing/nx_pylab.py:611: MatplotlibDeprecationWarning: isinstance(..., numbers.Number)\n",
      "  if cb.is_numlike(alpha):\n"
     ]
    },
    {
     "data": {
      "image/png": "[encoded data removed]",
      "text/plain": [
       "<Figure size 432x288 with 1 Axes>"
      ]
     },
     "metadata": {
      "image/png": {
       "height": 318,
       "width": 477
      }
     },
     "output_type": "display_data"
    }
   ],
   "source": [
    "nx.draw(g1, with_labels=True)"
   ]
  },
  {
   "cell_type": "code",
   "execution_count": 17,
   "metadata": {},
   "outputs": [
    {
     "name": "stdout",
     "output_type": "stream",
     "text": [
      "3 4\n"
     ]
    }
   ],
   "source": [
    "# g1_cycle_basis = nx.cycle_basis(g1)\n",
    "\n",
    "# g1_simple_cycles = nx.simple_cycles(g1)\n",
    "\n",
    "g1_min_cycle_basis = nx.minimum_cycle_basis(g1)\n",
    "\n",
    "# num_cycles = len(g1_cycle_basis)\n",
    "# num_cycles = len(g1_simple_cycles)\n",
    "num_cycles = len(g1_min_cycle_basis)\n",
    "\n",
    "ncols = 4\n",
    "nrows = int(np.floor(num_cycles/ncols) + num_cycles%ncols)\n",
    "\n",
    "print(nrows, ncols)"
   ]
  },
  {
   "cell_type": "code",
   "execution_count": 18,
   "metadata": {},
   "outputs": [
    {
     "data": {
      "text/plain": [
       "<matplotlib.axes._subplots.AxesSubplot at 0x2322304da0>"
      ]
     },
     "execution_count": 18,
     "metadata": {},
     "output_type": "execute_result"
    },
    {
     "data": {
      "text/plain": [
       "<matplotlib.axes._subplots.AxesSubplot at 0x2322304668>"
      ]
     },
     "execution_count": 18,
     "metadata": {},
     "output_type": "execute_result"
    },
    {
     "data": {
      "text/plain": [
       "<matplotlib.axes._subplots.AxesSubplot at 0x232259add8>"
      ]
     },
     "execution_count": 18,
     "metadata": {},
     "output_type": "execute_result"
    },
    {
     "data": {
      "text/plain": [
       "<matplotlib.axes._subplots.AxesSubplot at 0x23225cde80>"
      ]
     },
     "execution_count": 18,
     "metadata": {},
     "output_type": "execute_result"
    },
    {
     "data": {
      "text/plain": [
       "<matplotlib.axes._subplots.AxesSubplot at 0x2322600f28>"
      ]
     },
     "execution_count": 18,
     "metadata": {},
     "output_type": "execute_result"
    },
    {
     "data": {
      "text/plain": [
       "<matplotlib.axes._subplots.AxesSubplot at 0x232263b048>"
      ]
     },
     "execution_count": 18,
     "metadata": {},
     "output_type": "execute_result"
    },
    {
     "data": {
      "text/plain": [
       "<matplotlib.axes._subplots.AxesSubplot at 0x23226700b8>"
      ]
     },
     "execution_count": 18,
     "metadata": {},
     "output_type": "execute_result"
    },
    {
     "data": {
      "text/plain": [
       "<matplotlib.axes._subplots.AxesSubplot at 0x23226a2160>"
      ]
     },
     "execution_count": 18,
     "metadata": {},
     "output_type": "execute_result"
    },
    {
     "data": {
      "text/plain": [
       "<matplotlib.axes._subplots.AxesSubplot at 0x23226d2240>"
      ]
     },
     "execution_count": 18,
     "metadata": {},
     "output_type": "execute_result"
    },
    {
     "data": {
      "image/png": "[encoded data removed]",
      "text/plain": [
       "<Figure size 432x288 with 9 Axes>"
      ]
     },
     "metadata": {
      "image/png": {
       "height": 248,
       "width": 370
      }
     },
     "output_type": "display_data"
    }
   ],
   "source": [
    "for i in range(num_cycles):\n",
    "    subgraph = g1.subgraph(g1_min_cycle_basis[i])\n",
    "    (node_colors, edge_colors) = nxHighlightSubGraph(g1,subgraph)\n",
    "    plt_index = i+1\n",
    "    plt.subplot(nrows, ncols, plt_index)\n",
    "    nx.draw(g1, pos = nx.kamada_kawai_layout(g1), node_color = node_colors, edge_color = edge_colors)"
   ]
  },
  {
   "cell_type": "markdown",
   "metadata": {},
   "source": [
    "## Making Better Plots"
   ]
  },
  {
   "cell_type": "markdown",
   "metadata": {},
   "source": [
    "### With PyDot"
   ]
  },
  {
   "cell_type": "code",
   "execution_count": 27,
   "metadata": {},
   "outputs": [],
   "source": [
    "from IPython.display import Image, display"
   ]
  },
  {
   "cell_type": "code",
   "execution_count": 28,
   "metadata": {},
   "outputs": [],
   "source": [
    "def viewPyDot(pdot):\n",
    "    plt = Image(pdot.create_png())\n",
    "    display(plt)"
   ]
  },
  {
   "cell_type": "code",
   "execution_count": 29,
   "metadata": {},
   "outputs": [],
   "source": [
    "pd_g1 = nx.drawing.nx_pydot.to_pydot(g1)"
   ]
  },
  {
   "cell_type": "code",
   "execution_count": 30,
   "metadata": {},
   "outputs": [
    {
     "data": {
      "image/png": "[encoded data removed]",
      "text/plain": [
       "<IPython.core.display.Image object>"
      ]
     },
     "metadata": {},
     "output_type": "display_data"
    }
   ],
   "source": [
    "viewPyDot(pd_g1)"
   ]
  },
  {
   "cell_type": "markdown",
   "metadata": {
    "heading_collapsed": true
   },
   "source": [
    "### With PyGraphViz"
   ]
  },
  {
   "cell_type": "code",
   "execution_count": null,
   "metadata": {
    "hidden": true
   },
   "outputs": [],
   "source": [
    "fig1 = plt.figure(1)"
   ]
  },
  {
   "cell_type": "code",
   "execution_count": null,
   "metadata": {
    "hidden": true
   },
   "outputs": [],
   "source": [
    "fig1??"
   ]
  },
  {
   "cell_type": "code",
   "execution_count": 25,
   "metadata": {
    "hidden": true
   },
   "outputs": [],
   "source": [
    "import graphviz as pygraphviz"
   ]
  },
  {
   "cell_type": "code",
   "execution_count": 26,
   "metadata": {
    "hidden": true
   },
   "outputs": [
    {
     "ename": "ImportError",
     "evalue": "('requires pygraphviz ', 'http://pygraphviz.github.io/')",
     "output_type": "error",
     "traceback": [
      "\u001b[0;31m---------------------------------------------------------------------------\u001b[0m",
      "\u001b[0;31mModuleNotFoundError\u001b[0m                       Traceback (most recent call last)",
      "\u001b[0;32m~/miniconda3/envs/python3/lib/python3.6/site-packages/networkx/drawing/nx_agraph.py\u001b[0m in \u001b[0;36mto_agraph\u001b[0;34m(N)\u001b[0m\n\u001b[1;32m    132\u001b[0m     \u001b[0;32mtry\u001b[0m\u001b[0;34m:\u001b[0m\u001b[0;34m\u001b[0m\u001b[0;34m\u001b[0m\u001b[0m\n\u001b[0;32m--> 133\u001b[0;31m         \u001b[0;32mimport\u001b[0m \u001b[0mpygraphviz\u001b[0m\u001b[0;34m\u001b[0m\u001b[0;34m\u001b[0m\u001b[0m\n\u001b[0m\u001b[1;32m    134\u001b[0m     \u001b[0;32mexcept\u001b[0m \u001b[0mImportError\u001b[0m\u001b[0;34m:\u001b[0m\u001b[0;34m\u001b[0m\u001b[0;34m\u001b[0m\u001b[0m\n",
      "\u001b[0;31mModuleNotFoundError\u001b[0m: No module named 'pygraphviz'",
      "\nDuring handling of the above exception, another exception occurred:\n",
      "\u001b[0;31mImportError\u001b[0m                               Traceback (most recent call last)",
      "\u001b[0;32m<ipython-input-26-c02d5005ef3a>\u001b[0m in \u001b[0;36m<module>\u001b[0;34m\u001b[0m\n\u001b[0;32m----> 1\u001b[0;31m \u001b[0mgv_g1\u001b[0m \u001b[0;34m=\u001b[0m \u001b[0mnx\u001b[0m\u001b[0;34m.\u001b[0m\u001b[0mnx_agraph\u001b[0m\u001b[0;34m.\u001b[0m\u001b[0mto_agraph\u001b[0m\u001b[0;34m(\u001b[0m\u001b[0mg1\u001b[0m\u001b[0;34m)\u001b[0m\u001b[0;34m\u001b[0m\u001b[0;34m\u001b[0m\u001b[0m\n\u001b[0m",
      "\u001b[0;32m~/miniconda3/envs/python3/lib/python3.6/site-packages/networkx/drawing/nx_agraph.py\u001b[0m in \u001b[0;36mto_agraph\u001b[0;34m(N)\u001b[0m\n\u001b[1;32m    134\u001b[0m     \u001b[0;32mexcept\u001b[0m \u001b[0mImportError\u001b[0m\u001b[0;34m:\u001b[0m\u001b[0;34m\u001b[0m\u001b[0;34m\u001b[0m\u001b[0m\n\u001b[1;32m    135\u001b[0m         raise ImportError('requires pygraphviz ',\n\u001b[0;32m--> 136\u001b[0;31m                           'http://pygraphviz.github.io/')\n\u001b[0m\u001b[1;32m    137\u001b[0m     \u001b[0mdirected\u001b[0m \u001b[0;34m=\u001b[0m \u001b[0mN\u001b[0m\u001b[0;34m.\u001b[0m\u001b[0mis_directed\u001b[0m\u001b[0;34m(\u001b[0m\u001b[0;34m)\u001b[0m\u001b[0;34m\u001b[0m\u001b[0;34m\u001b[0m\u001b[0m\n\u001b[1;32m    138\u001b[0m     \u001b[0mstrict\u001b[0m \u001b[0;34m=\u001b[0m \u001b[0mnx\u001b[0m\u001b[0;34m.\u001b[0m\u001b[0mnumber_of_selfloops\u001b[0m\u001b[0;34m(\u001b[0m\u001b[0mN\u001b[0m\u001b[0;34m)\u001b[0m \u001b[0;34m==\u001b[0m \u001b[0;36m0\u001b[0m \u001b[0;32mand\u001b[0m \u001b[0;32mnot\u001b[0m \u001b[0mN\u001b[0m\u001b[0;34m.\u001b[0m\u001b[0mis_multigraph\u001b[0m\u001b[0;34m(\u001b[0m\u001b[0;34m)\u001b[0m\u001b[0;34m\u001b[0m\u001b[0;34m\u001b[0m\u001b[0m\n",
      "\u001b[0;31mImportError\u001b[0m: ('requires pygraphviz ', 'http://pygraphviz.github.io/')"
     ]
    }
   ],
   "source": [
    "gv_g1 = nx.nx_agraph.to_agraph(g1)"
   ]
  },
  {
   "cell_type": "markdown",
   "metadata": {},
   "source": [
    "## Sandbox"
   ]
  },
  {
   "cell_type": "code",
   "execution_count": 95,
   "metadata": {},
   "outputs": [],
   "source": [
    "g1 = nx.grid_2d_graph(3,4)"
   ]
  },
  {
   "cell_type": "code",
   "execution_count": 96,
   "metadata": {},
   "outputs": [
    {
     "data": {
      "image/png": "[encoded data removed]",
      "text/plain": [
       "<Figure size 432x288 with 1 Axes>"
      ]
     },
     "metadata": {
      "image/png": {
       "height": 318,
       "width": 477
      }
     },
     "output_type": "display_data"
    }
   ],
   "source": [
    "nx.draw(g1, with_labels=True)"
   ]
  },
  {
   "cell_type": "code",
   "execution_count": 97,
   "metadata": {},
   "outputs": [
    {
     "data": {
      "text/plain": [
       "[[(1, 2), (1, 3), (0, 3), (0, 2)],\n",
       " [(1, 2), (2, 2), (2, 3), (1, 3)],\n",
       " [(1, 1), (2, 1), (2, 2), (2, 3), (1, 3), (0, 3), (0, 2), (0, 1)],\n",
       " [(0, 0),\n",
       "  (1, 0),\n",
       "  (2, 0),\n",
       "  (2, 1),\n",
       "  (2, 2),\n",
       "  (2, 3),\n",
       "  (1, 3),\n",
       "  (0, 3),\n",
       "  (0, 2),\n",
       "  (0, 1)],\n",
       " [(1, 1), (1, 0), (2, 0), (2, 1)],\n",
       " [(1, 1), (1, 2), (0, 2), (0, 1)]]"
      ]
     },
     "execution_count": 97,
     "metadata": {},
     "output_type": "execute_result"
    }
   ],
   "source": [
    "nx.cycle_basis(g1)"
   ]
  },
  {
   "cell_type": "code",
   "execution_count": 98,
   "metadata": {},
   "outputs": [],
   "source": [
    "g1sub = g1.subgraph(nx.cycle_basis(g1)[0])"
   ]
  },
  {
   "cell_type": "code",
   "execution_count": 99,
   "metadata": {},
   "outputs": [
    {
     "data": {
      "text/plain": [
       "NodeView(((1, 2), (0, 3), (1, 3), (0, 2)))"
      ]
     },
     "execution_count": 99,
     "metadata": {},
     "output_type": "execute_result"
    }
   ],
   "source": [
    "g1sub.nodes"
   ]
  },
  {
   "cell_type": "code",
   "execution_count": 100,
   "metadata": {},
   "outputs": [
    {
     "data": {
      "text/plain": [
       "EdgeView([((1, 2), (0, 2)), ((1, 2), (1, 3)), ((0, 3), (1, 3)), ((0, 3), (0, 2))])"
      ]
     },
     "execution_count": 100,
     "metadata": {},
     "output_type": "execute_result"
    }
   ],
   "source": [
    "g1sub.edges"
   ]
  },
  {
   "cell_type": "code",
   "execution_count": 101,
   "metadata": {},
   "outputs": [],
   "source": [
    "(node_colors, edge_colors) = nxHighlightSubGraph(g1,g1sub)"
   ]
  },
  {
   "cell_type": "code",
   "execution_count": 102,
   "metadata": {},
   "outputs": [
    {
     "data": {
      "text/plain": [
       "['r', 'r', 'g', 'g', 'r', 'r', 'g', 'g', 'r', 'r', 'r', 'r']"
      ]
     },
     "execution_count": 102,
     "metadata": {},
     "output_type": "execute_result"
    }
   ],
   "source": [
    "node_colors"
   ]
  },
  {
   "cell_type": "code",
   "execution_count": 103,
   "metadata": {},
   "outputs": [
    {
     "data": {
      "text/plain": [
       "['b',\n",
       " 'b',\n",
       " 'b',\n",
       " 'b',\n",
       " 'g',\n",
       " 'g',\n",
       " 'g',\n",
       " 'b',\n",
       " 'b',\n",
       " 'b',\n",
       " 'b',\n",
       " 'b',\n",
       " 'g',\n",
       " 'b',\n",
       " 'b',\n",
       " 'b',\n",
       " 'b']"
      ]
     },
     "execution_count": 103,
     "metadata": {},
     "output_type": "execute_result"
    }
   ],
   "source": [
    "edge_colors"
   ]
  },
  {
   "cell_type": "code",
   "execution_count": 104,
   "metadata": {},
   "outputs": [
    {
     "data": {
      "image/png": "[encoded data removed]",
      "text/plain": [
       "<Figure size 432x288 with 1 Axes>"
      ]
     },
     "metadata": {
      "image/png": {
       "height": 318,
       "width": 477
      }
     },
     "output_type": "display_data"
    }
   ],
   "source": [
    "nx.draw(g1, node_color = node_colors, edge_color = edge_colors)"
   ]
  },
  {
   "cell_type": "code",
   "execution_count": 111,
   "metadata": {},
   "outputs": [
    {
     "name": "stdout",
     "output_type": "stream",
     "text": [
      "3 2\n"
     ]
    }
   ],
   "source": [
    "# g1_cycle_basis = nx.cycle_basis(g1)\n",
    "\n",
    "# g1_simple_cycles = nx.simple_cycles(g1)\n",
    "\n",
    "g1_min_cycle_basis = nx.minimum_cycle_basis(g1)\n",
    "\n",
    "# num_cycles = len(g1_cycle_basis)\n",
    "# num_cycles = len(g1_simple_cycles)\n",
    "num_cycles = len(g1_min_cycle_basis)\n",
    "\n",
    "ncols = 2\n",
    "nrows = int(np.floor(num_cycles/ncols) + num_cycles%ncols)\n",
    "\n",
    "print(nrows, ncols)"
   ]
  },
  {
   "cell_type": "code",
   "execution_count": 116,
   "metadata": {},
   "outputs": [
    {
     "data": {
      "text/plain": [
       "<matplotlib.axes._subplots.AxesSubplot at 0x2333660278>"
      ]
     },
     "execution_count": 116,
     "metadata": {},
     "output_type": "execute_result"
    },
    {
     "data": {
      "text/plain": [
       "<matplotlib.axes._subplots.AxesSubplot at 0x23336607b8>"
      ]
     },
     "execution_count": 116,
     "metadata": {},
     "output_type": "execute_result"
    },
    {
     "data": {
      "text/plain": [
       "<matplotlib.axes._subplots.AxesSubplot at 0x2333687cc0>"
      ]
     },
     "execution_count": 116,
     "metadata": {},
     "output_type": "execute_result"
    },
    {
     "data": {
      "text/plain": [
       "<matplotlib.axes._subplots.AxesSubplot at 0x2333848668>"
      ]
     },
     "execution_count": 116,
     "metadata": {},
     "output_type": "execute_result"
    },
    {
     "data": {
      "text/plain": [
       "<matplotlib.axes._subplots.AxesSubplot at 0x2333848588>"
      ]
     },
     "execution_count": 116,
     "metadata": {},
     "output_type": "execute_result"
    },
    {
     "data": {
      "text/plain": [
       "<matplotlib.axes._subplots.AxesSubplot at 0x233387b240>"
      ]
     },
     "execution_count": 116,
     "metadata": {},
     "output_type": "execute_result"
    },
    {
     "data": {
      "image/png": "[encoded data removed]",
      "text/plain": [
       "<Figure size 432x288 with 6 Axes>"
      ]
     },
     "metadata": {
      "image/png": {
       "height": 248,
       "width": 370
      }
     },
     "output_type": "display_data"
    }
   ],
   "source": [
    "for i in range(num_cycles):\n",
    "    subgraph = g1.subgraph(g1_min_cycle_basis[i])\n",
    "    (node_colors, edge_colors) = nxHighlightSubGraph(g1,subgraph)\n",
    "    plt_index = i+1\n",
    "    plt.subplot(nrows, ncols, plt_index)\n",
    "    nx.draw(g1, pos = nx.kamada_kawai_layout(g1), node_color = node_colors, edge_color = edge_colors)"
   ]
  },
  {
   "cell_type": "code",
   "execution_count": 93,
   "metadata": {},
   "outputs": [],
   "source": [
    "plt.subplot?"
   ]
  },
  {
   "cell_type": "code",
   "execution_count": 81,
   "metadata": {},
   "outputs": [
    {
     "data": {
      "text/plain": [
       "[(1, 2), (1, 3), (0, 3), (0, 2)]"
      ]
     },
     "execution_count": 81,
     "metadata": {},
     "output_type": "execute_result"
    }
   ],
   "source": [
    "cycles[0]"
   ]
  },
  {
   "cell_type": "code",
   "execution_count": 85,
   "metadata": {},
   "outputs": [
    {
     "data": {
      "text/plain": [
       "<networkx.classes.graph.Graph at 0x232d3a7160>"
      ]
     },
     "execution_count": 85,
     "metadata": {},
     "output_type": "execute_result"
    }
   ],
   "source": [
    "nx.Graph(cycles[0])"
   ]
  },
  {
   "cell_type": "code",
   "execution_count": 105,
   "metadata": {},
   "outputs": [],
   "source": [
    "subgraph = nx.Graph()"
   ]
  },
  {
   "cell_type": "code",
   "execution_count": 106,
   "metadata": {},
   "outputs": [],
   "source": [
    "subgraph.add_cycle(cycles[0])"
   ]
  },
  {
   "cell_type": "code",
   "execution_count": 109,
   "metadata": {},
   "outputs": [
    {
     "name": "stdout",
     "output_type": "stream",
     "text": [
      "[(1, 2), (1, 3), (0, 3), (0, 2)]\n"
     ]
    }
   ],
   "source": [
    "print(subgraph.nodes)"
   ]
  },
  {
   "cell_type": "code",
   "execution_count": 124,
   "metadata": {},
   "outputs": [
    {
     "name": "stderr",
     "output_type": "stream",
     "text": [
      "/Users/deepak/miniconda3/envs/python3/lib/python3.6/site-packages/networkx/drawing/nx_pylab.py:611: MatplotlibDeprecationWarning: isinstance(..., numbers.Number)\n",
      "  if cb.is_numlike(alpha):\n"
     ]
    },
    {
     "data": {
      "image/png": "[encoded data removed]",
      "text/plain": [
       "<Figure size 432x288 with 1 Axes>"
      ]
     },
     "metadata": {
      "image/png": {
       "height": 318,
       "width": 477
      }
     },
     "output_type": "display_data"
    }
   ],
   "source": [
    "nx.draw(subgraph, with_labels = True)"
   ]
  },
  {
   "cell_type": "code",
   "execution_count": 125,
   "metadata": {},
   "outputs": [
    {
     "data": {
      "text/plain": [
       "EdgeView([((1, 2), (1, 3)), ((1, 2), (0, 2)), ((1, 3), (0, 3)), ((0, 3), (0, 2))])"
      ]
     },
     "execution_count": 125,
     "metadata": {},
     "output_type": "execute_result"
    }
   ],
   "source": [
    "subgraph.edges"
   ]
  },
  {
   "cell_type": "code",
   "execution_count": 68,
   "metadata": {},
   "outputs": [
    {
     "data": {
      "text/plain": [
       "9"
      ]
     },
     "execution_count": 68,
     "metadata": {},
     "output_type": "execute_result"
    }
   ],
   "source": [
    "len(_67)"
   ]
  },
  {
   "cell_type": "code",
   "execution_count": 75,
   "metadata": {},
   "outputs": [],
   "source": [
    "from networkx.algorithms import isomorphism as iso"
   ]
  },
  {
   "cell_type": "code",
   "execution_count": 86,
   "metadata": {},
   "outputs": [],
   "source": [
    "GM = iso.GraphMatcher(grid, nx.Graph(cycles[0]))"
   ]
  },
  {
   "cell_type": "code",
   "execution_count": 88,
   "metadata": {},
   "outputs": [
    {
     "data": {
      "text/plain": [
       "True"
      ]
     },
     "execution_count": 88,
     "metadata": {},
     "output_type": "execute_result"
    }
   ],
   "source": [
    "GM.subgraph_is_isomorphic()"
   ]
  },
  {
   "cell_type": "code",
   "execution_count": 89,
   "metadata": {},
   "outputs": [],
   "source": [
    "GM = iso.GraphMatcher(nx.Graph(cycles[0]), grid)"
   ]
  },
  {
   "cell_type": "code",
   "execution_count": 90,
   "metadata": {},
   "outputs": [
    {
     "data": {
      "text/plain": [
       "False"
      ]
     },
     "execution_count": 90,
     "metadata": {},
     "output_type": "execute_result"
    }
   ],
   "source": [
    "GM.subgraph_is_isomorphic()"
   ]
  },
  {
   "cell_type": "code",
   "execution_count": null,
   "metadata": {},
   "outputs": [],
   "source": [
    "nx.isomorphism.G"
   ]
  },
  {
   "cell_type": "code",
   "execution_count": 93,
   "metadata": {},
   "outputs": [
    {
     "data": {
      "text/plain": [
       "networkx.classes.graph.Graph"
      ]
     },
     "execution_count": 93,
     "metadata": {},
     "output_type": "execute_result"
    }
   ],
   "source": [
    "type(grid)"
   ]
  },
  {
   "cell_type": "code",
   "execution_count": 112,
   "metadata": {},
   "outputs": [],
   "source": [
    "GM = nx.isomorphism.GraphMatcher(grid, subgraph)"
   ]
  },
  {
   "cell_type": "code",
   "execution_count": 113,
   "metadata": {},
   "outputs": [
    {
     "data": {
      "text/plain": [
       "True"
      ]
     },
     "execution_count": 113,
     "metadata": {},
     "output_type": "execute_result"
    }
   ],
   "source": [
    "GM.subgraph_is_isomorphic()"
   ]
  },
  {
   "cell_type": "code",
   "execution_count": 119,
   "metadata": {},
   "outputs": [],
   "source": [
    "match = GM.match()"
   ]
  },
  {
   "cell_type": "code",
   "execution_count": 120,
   "metadata": {},
   "outputs": [
    {
     "name": "stdout",
     "output_type": "stream",
     "text": [
      "{(0, 0): (1, 2), (0, 1): (1, 3), (1, 1): (0, 3), (1, 0): (0, 2)}\n"
     ]
    }
   ],
   "source": [
    "for i in match:\n",
    "    print(i)"
   ]
  },
  {
   "cell_type": "code",
   "execution_count": 122,
   "metadata": {},
   "outputs": [
    {
     "data": {
      "text/plain": [
       "True"
      ]
     },
     "execution_count": 122,
     "metadata": {},
     "output_type": "execute_result"
    }
   ],
   "source": [
    "set(subgraph.nodes).issubset(grid.nodes)"
   ]
  },
  {
   "cell_type": "code",
   "execution_count": 130,
   "metadata": {},
   "outputs": [
    {
     "data": {
      "text/plain": [
       "False"
      ]
     },
     "execution_count": 130,
     "metadata": {},
     "output_type": "execute_result"
    }
   ],
   "source": [
    "set(sorted(subgraph.edges)).issubset(sorted(grid.edges))"
   ]
  },
  {
   "cell_type": "code",
   "execution_count": 126,
   "metadata": {},
   "outputs": [
    {
     "data": {
      "text/plain": [
       "EdgeView([((0, 0), (1, 0)), ((0, 0), (0, 1)), ((0, 1), (1, 1)), ((0, 1), (0, 2)), ((0, 2), (1, 2)), ((0, 2), (0, 3)), ((0, 3), (1, 3)), ((1, 0), (2, 0)), ((1, 0), (1, 1)), ((1, 1), (2, 1)), ((1, 1), (1, 2)), ((1, 2), (2, 2)), ((1, 2), (1, 3)), ((1, 3), (2, 3)), ((2, 0), (3, 0)), ((2, 0), (2, 1)), ((2, 1), (3, 1)), ((2, 1), (2, 2)), ((2, 2), (3, 2)), ((2, 2), (2, 3)), ((2, 3), (3, 3)), ((3, 0), (3, 1)), ((3, 1), (3, 2)), ((3, 2), (3, 3))])"
      ]
     },
     "execution_count": 126,
     "metadata": {},
     "output_type": "execute_result"
    }
   ],
   "source": [
    "grid.edges"
   ]
  },
  {
   "cell_type": "code",
   "execution_count": 132,
   "metadata": {},
   "outputs": [
    {
     "data": {
      "text/plain": [
       "[((0, 3), (0, 2)), ((1, 2), (0, 2)), ((1, 2), (1, 3)), ((1, 3), (0, 3))]"
      ]
     },
     "execution_count": 132,
     "metadata": {},
     "output_type": "execute_result"
    }
   ],
   "source": [
    "sorted(subgraph.edges)"
   ]
  },
  {
   "cell_type": "code",
   "execution_count": 131,
   "metadata": {},
   "outputs": [
    {
     "data": {
      "text/plain": [
       "[((0, 0), (0, 1)),\n",
       " ((0, 0), (1, 0)),\n",
       " ((0, 1), (0, 2)),\n",
       " ((0, 1), (1, 1)),\n",
       " ((0, 2), (0, 3)),\n",
       " ((0, 2), (1, 2)),\n",
       " ((0, 3), (1, 3)),\n",
       " ((1, 0), (1, 1)),\n",
       " ((1, 0), (2, 0)),\n",
       " ((1, 1), (1, 2)),\n",
       " ((1, 1), (2, 1)),\n",
       " ((1, 2), (1, 3)),\n",
       " ((1, 2), (2, 2)),\n",
       " ((1, 3), (2, 3)),\n",
       " ((2, 0), (2, 1)),\n",
       " ((2, 0), (3, 0)),\n",
       " ((2, 1), (2, 2)),\n",
       " ((2, 1), (3, 1)),\n",
       " ((2, 2), (2, 3)),\n",
       " ((2, 2), (3, 2)),\n",
       " ((2, 3), (3, 3)),\n",
       " ((3, 0), (3, 1)),\n",
       " ((3, 1), (3, 2)),\n",
       " ((3, 2), (3, 3))]"
      ]
     },
     "execution_count": 131,
     "metadata": {},
     "output_type": "execute_result"
    }
   ],
   "source": [
    "sorted(grid.edges)"
   ]
  },
  {
   "cell_type": "code",
   "execution_count": 103,
   "metadata": {},
   "outputs": [
    {
     "name": "stdout",
     "output_type": "stream",
     "text": [
      "[(0, 0), (0, 1), (0, 2), (0, 3), (1, 0), (1, 1), (1, 2), (1, 3), (2, 0), (2, 1), (2, 2), (2, 3), (3, 0), (3, 1), (3, 2), (3, 3)]\n"
     ]
    }
   ],
   "source": [
    "print(grid.nodes)"
   ]
  },
  {
   "cell_type": "code",
   "execution_count": 104,
   "metadata": {},
   "outputs": [
    {
     "name": "stdout",
     "output_type": "stream",
     "text": [
      "[1, 2, 3, 0]\n"
     ]
    }
   ],
   "source": [
    "print(nx.Graph(cycles[0]).nodes)"
   ]
  },
  {
   "cell_type": "markdown",
   "metadata": {},
   "source": [
    "# `qutipLattice` Class Definition"
   ]
  },
  {
   "cell_type": "code",
   "execution_count": 7,
   "metadata": {},
   "outputs": [],
   "source": [
    "class qutipLattice():\n",
    "    \n",
    "    hamiltonian = None\n",
    "    \n",
    "    hamOp = Qobj()\n",
    "    \n",
    "    fieldOp = Qobj()\n",
    "    \n",
    "    graph = nx.empty_graph(0)\n",
    "#     size = 10\n",
    "    state_dims = 2\n",
    "    state = np.empty([]) # create empty array\n",
    "    colors = ['r','b','g','c','m','y','k','w']\n",
    "    node_color_map = {}\n",
    "    edge_color_map = {}\n",
    "#     upspin = hashQobj(basis(2,0))\n",
    "#     dnspin = hashQobj(basis(2,1))\n",
    "#     color_map = {upspin:'r', dnspin :'b'}\n",
    "    state_values = []    # elements are hashQobj objects which are all possible states of a node allowed for particular model\n",
    "    node_color_dict = {} # dictionary whose keys are nodes and values are colors for each node\n",
    "    node_colors = []\n",
    "    pos_dict = {}\n",
    "    \n",
    "    node_list = []\n",
    "    edge_list = []\n",
    "    \n",
    "    edge_color_dict = {} # dictionary whose keys are edges and values are colors for each edge\n",
    "    edge_colors = []\n",
    "    \n",
    "    lattice_dims = [10]      # by default lattice dimension is 1d with 10 sites,\n",
    "                             # in general will be list [x,y,z,...], indicating\n",
    "                             # size of lattice along each dimension\n",
    "    dimension = 1                 # dimensionality of lattice, by default 1d\n",
    "    \n",
    "    use_default_vars = True\n",
    "    \n",
    "    scale_mult = []\n",
    "    \n",
    "    node_size = 100\n",
    "    \n",
    "    node_ext_field_on = False     # flag to determine whether or not an external field is present\n",
    "    \n",
    "    history_size = 100       # number of instances of past results to store \n",
    "    \n",
    "    history_latt_energy = []        # array to store the previously calculated values of the lattice energy\n",
    "    \n",
    "    history_node_energy = {}        # dict to store nodes whose energy was last calculated and the calculated energies\n",
    "    \n",
    "    \n",
    "    \n",
    "    def __init__(self,lattice_dims=[10],periodic=False,hamType=None,hamVars=None):\n",
    "        \n",
    "        if isinstance(lattice_dims,list) and len(lattice_dims)>0 and all(isinstance(i,int) for i in lattice_dims):\n",
    "            self.lattice_dims = lattice_dims\n",
    "            self.dimension = len(lattice_dims)\n",
    "        else:\n",
    "            raise ValueError('lattice_dim should be non-empty list of positive integers')\n",
    "        \n",
    "#         self.size = size\n",
    "        \n",
    "#         self.graph = nx.grid_2d_graph(size,size,periodic=periodic)\n",
    "\n",
    "        self.graph = nx.grid_graph(self.lattice_dims,periodic=periodic)\n",
    "        \n",
    "        for i in self.lattice_dims:\n",
    "            self.scale_mult.append(10.0/i)   # what does this do ???\n",
    "        \n",
    "        if self.dimension == 1:\n",
    "            for node in self.graph:\n",
    "                self.pos_dict[node] = [self.scale_mult[0]*node,0]\n",
    "        else:\n",
    "            print(\"Dimension of Lattice: \", self.dimension)\n",
    "            for node in self.graph:\n",
    "                # set the node co-ordinates to be same as node indices\n",
    "                self.pos_dict[node] = [self.scale_mult[i]*node[i] for i in range(self.dimension)]\n",
    "                \n",
    "        # set 'flipped' attribute of each node to False\n",
    "        for node in self.graph:\n",
    "            self.graph.node[node]['flipped'] = False\n",
    "\n",
    "            print(self.graph.node[node]['flipped'])\n",
    "\n",
    "        \n",
    "        if hamType:\n",
    "            self.hamiltonian = qutipHamiltonian(hamType,self.graph,hamVars)\n",
    "            self.hamOp = self.hamiltonian.hamOp\n",
    "            self.fieldOp = self.hamiltonian.fieldOp\n",
    "            self.state_dims = self.hamiltonian.state_dims\n",
    "            self.state_values = [hashQobj(basis(self.state_dims,i)) for i in range(self.state_dims)] # Possible states of a given site\n",
    "            print(self.state_values)\n",
    "            for i in range(self.state_dims):\n",
    "                self.node_color_map[self.state_values[i]] = self.colors[i]\n",
    "            self.setRandomState()\n",
    "    \n",
    "    def setRandomState(self):\n",
    "        '''Iterates over all nodes in the graph. For each node, creates an attribute\n",
    "        labeled 'state', and assigns to it at random QuTiP objects returned by basis(2,0) or basis(2,1)\n",
    "        corresponding to spin up or spin down.'''\n",
    "\n",
    "        for node in self.graph:\n",
    "            self.graph.node[node]['state'] = self.state_values[np.random.randint(self.state_dims)]\n",
    "            self.updateNodeColor(node)\n",
    "        \n",
    "        return\n",
    "\n",
    "    def updateNodeColor(self,node):\n",
    "        self.node_color_dict[node] = self.node_color_map[self.graph.node[node]['state']]\n",
    "    \n",
    "    def setRandomField(self,ranges=[-1.0,1.0]):\n",
    "        '''Iterates over all nodes in the graph. For each node, creates an attribute\n",
    "        labeled 'field', and assigns to it at random a value between the limits specified by the first\n",
    "        elements of the list passed in the first argument'''\n",
    "        \n",
    "        if not(isinstance(ranges,list)):\n",
    "            raise ValueError('Argument `ranges` must be of list type')\n",
    "        elif len(ranges)!=2 or not(all(isinstance(i,float) for i in ranges)):\n",
    "            raise ValueError('Argument `ranges` must have exactly two elements of type float')\n",
    "        else:\n",
    "            self.node_ext_field_on = True\n",
    "            upper = max(ranges)\n",
    "            lower = min(ranges)\n",
    "            delta = upper - lower\n",
    "            for node in self.graph:\n",
    "                self.graph.node[node]['field'] = delta * np.random.random_sample() + lower\n",
    "    \n",
    "    def setExternalField(self,field=None):\n",
    "        '''Sets the external field at each lattice site. The argument `field` is a dictionary whose\n",
    "        keys are nodes and values are the values of the field at each node. These values are\n",
    "        assigned to a new node attribute called `field`. '''\n",
    "        \n",
    "        if field==None or len(field)==0:\n",
    "            print('Fields not specified. Setting field at each node to zero.')\n",
    "            return\n",
    "        else:\n",
    "            print('Setting external field')\n",
    "            \n",
    "            self.node_ext_field_on = True\n",
    "            \n",
    "            def_field_nodes = set(field.keys())\n",
    "            all_nodes = set(self.graph.nodes())\n",
    "            if (def_field_nodes < all_nodes):\n",
    "                undef_field_nodes = all_nodes - def_field_nodes\n",
    "            elif (def_field_nodes > all_nodes):\n",
    "                raise ValueError('Specified nodes are not present in lattice')\n",
    "                \n",
    "            for node in field.keys():\n",
    "                self.graph.node[node]['field'] = float(field[k])\n",
    "            for node in undef_field_nodes:\n",
    "                self.graph.node[node]['field'] = 0.0\n",
    "        return\n",
    "\n",
    "    def fieldEnergy(self,node):\n",
    "        if self.node_ext_field_on:\n",
    "            energy = 0.\n",
    "            energy += expect(self.fieldOp,self.graph.node[node]['field']*self.graph.node[node]['state'])\n",
    "            return energy\n",
    "    \n",
    "    def nearestEnergy(self,node):\n",
    "        energy = 0.\n",
    "        for neighbor in self.graph[node]:\n",
    "            tempstate = tensor(self.graph.node[node]['state'],self.graph.node[neighbor]['state'])\n",
    "            energy += expect(self.hamOp,tempstate)\n",
    "        return energy\n",
    "    \n",
    "    def nextNearestEnergy(self,node):\n",
    "        energy = 0.\n",
    "        for nearest in self.graph[node]:\n",
    "            for nextnearest in self.graph[nearest]:\n",
    "                if nextnearest!=node:\n",
    "                    tempstate = tensor(self.graph.node[node]['state'],self.graph.node[nextnearest]['state'])\n",
    "                    energy += expect(self.hamOp,tempstate)\n",
    "        return energy\n",
    "    \n",
    "    def getNodeRandomState(self,node):\n",
    "        '''Function to get a state of the specified node different from the present state'''\n",
    "        old_state = self.graph.node[node]['state']\n",
    "        new_state = old_state\n",
    "        \n",
    "        while (new_state == old_state):  # iterate until we obtain a state different from the original one.\n",
    "            new_state = self.state_values[np.random.randint(self.state_dims)]\n",
    "            \n",
    "#         self.setNodeState(node,new_state)\n",
    "        \n",
    "        return new_state\n",
    "    \n",
    "    \n",
    "    def setNodeState(self,node,state_f):\n",
    "        \n",
    "        state_i = self.graph.node[node]['state']\n",
    "        \n",
    "        self.graph.node[node]['state'] = state_f\n",
    "        self.updateNodeColor(node)\n",
    "        \n",
    "        return state_i\n",
    "        \n",
    "        \n",
    "    def getRandomNode(self):\n",
    "        '''Select and return a node from the lattice at random.'''\n",
    "        '''Oct 13, 2018: Previously I was using self.graphs.nodes() method to fetch a list of nodes before choosing\n",
    "        one at random. It turns out that this method returns a nx.NodeView object rather than a list and\n",
    "        choosing an item at random from this NodeView object, returns not a random node, but rather the data\n",
    "        associated with a random node. Replacing with list(self.graph) fixed this problem'''\n",
    "        return random.choice(list(self.graph))\n",
    "    \n",
    "    def latticeEnergy(self):\n",
    "        energy = 0\n",
    "        if self.node_ext_field_on:\n",
    "            for node in self.graph:\n",
    "                energy = energy + self.nearestEnergy(node) + self.fieldEnergy(node)\n",
    "        else:\n",
    "            for node in self.graph.nodes():\n",
    "                energy = energy + self.nearestEnergy(node)\n",
    "        return energy\n",
    "    \n",
    "    def getRandomState(self):\n",
    "        '''Returns random state from allowed values'''\n",
    "        return self.state_values[np.random.randint(self.state_dims)]\n",
    "    \n",
    "    def getDeltaEnergy(self,node,state_f):\n",
    "        '''Function to calculate the change in the lattice energy due to changing the state of the given node.\n",
    "        \n",
    "        Parameters\n",
    "        ----------\n",
    "        \n",
    "        node:  node for which state is to changed\n",
    "        \n",
    "        state_f: hashQobj object corresponding to state given node should be set to\n",
    "        '''        \n",
    "        state_i = self.graph.node[node]['state']\n",
    "        \n",
    "        # if the new state is the same as old state, then the energy will not change\n",
    "        if (state_f == state_i):\n",
    "            return 0.\n",
    "\n",
    "        energy_i = 0.\n",
    "        energy_f = 0.\n",
    "\n",
    "        energy_i += self.nearestEnergy(node)\n",
    "        for neighbor in self.graph[node]:\n",
    "            energy_i += self.nearestEnergy(neighbor)\n",
    "        \n",
    "        self.graph.node[node]['state'] = state_f\n",
    "        \n",
    "        energy_f += self.nearestEnergy(node)\n",
    "        for neighbor in self.graph[node]:\n",
    "            energy_f += self.nearestEnergy(neighbor)\n",
    "            \n",
    "        if self.node_ext_field_on == True:\n",
    "            energy_i += expect(self.fieldOp,self.graph.node[node]['field']*state_i)\n",
    "            energy_f += expect(self.fieldOp,self.graph.node[node]['field']*state_f)\n",
    "        \n",
    "        self.graph.node[node]['state'] = state_i\n",
    "        \n",
    "        return (energy_f - energy_i)\n",
    "    \n",
    "    def getDeltaEnergySimple(self,node,state_f):\n",
    "        \n",
    "        state_i = self.graph.node[node]['state']\n",
    "        \n",
    "        # if the new state is the same as old state, then the energy will not change\n",
    "        if (state_f == state_i):\n",
    "            return 0.\n",
    "\n",
    "        energy_i = self.latticeEnergy()\n",
    "        self.graph.node[node]['state'] = state_f\n",
    "    \n",
    "        energy_f = self.latticeEnergy()\n",
    "        self.graph.node[node]['state'] = state_i\n",
    "        \n",
    "        return (energy_f - energy_i)\n",
    "\n",
    "    \n",
    "    def draw(self):\n",
    "        self.node_colors = list(self.node_color_dict.values())\n",
    "        nx.draw(self.graph,pos=self.pos_dict,node_color=self.node_colors,node_size=self.node_size)\n",
    "                "
   ]
  },
  {
   "cell_type": "markdown",
   "metadata": {},
   "source": [
    "# JSON for Hamiltonians"
   ]
  },
  {
   "cell_type": "code",
   "execution_count": 25,
   "metadata": {},
   "outputs": [],
   "source": [
    "ising_json_v1 = {\n",
    "    \"hamiltonian_name\": \"Ising\",\n",
    "    \n",
    "    # dimensionality of on-site Hilbert space, by default = 2 for spin 1/2 state.\n",
    "    \"site_dims\": 2,\n",
    "    \n",
    "    # site terms definitions:\n",
    "    # each term is represented by a dictionary\n",
    "    # the `type` key specifies the range of the interaction (0 = on-site), (1 = nearest neighbor)\n",
    "    # (2 = next nearest neighbor), etc. One can also have terms which are an arbitrary mixture\n",
    "    # various neighors, and vertex terms which depend on the edge degrees of freedom or vice-versa.\n",
    "    #\n",
    "    # coefs.type key specifies the type and values of the coefficients of that term\n",
    "    # coefs.type = 0 is for site-independent (constant) coefficients\n",
    "    # coefs.type = 1 is for site-dependent (variable) coefficients\n",
    "    # the `term` key specifies the form of the interaction term\n",
    "    \n",
    "    \"site_terms\": [\n",
    "        \n",
    "    {\n",
    "        \"type\": 0,\n",
    "        \n",
    "        \"coefs\": { \"type\": 0, \"value\": -1 },\n",
    "        \n",
    "        \"term\": [ \"spin_Jz\", \"spin_Jz\" ]\n",
    "    },\n",
    "\n",
    "    {\n",
    "        \"type\": 1,\n",
    "        \n",
    "        \"coefs\": { \"type\": 0, \"value\": -1 },\n",
    "        \n",
    "        \"term\": [ \"spin_Jz\", \"spin_Jz\" ]        \n",
    "    }\n",
    "    \n",
    "    ],\n",
    "}"
   ]
  },
  {
   "cell_type": "code",
   "execution_count": 24,
   "metadata": {},
   "outputs": [],
   "source": [
    "ising_json_v2 = {\n",
    "    \"hamiltonian_name\": \"Ising\",\n",
    "    \n",
    "    # dimensionality of on-site Hilbert space, by default = 2 for spin 1/2 state.\n",
    "    \"site_dims\": 2,\n",
    "    \n",
    "    # site terms definitions:\n",
    "    # each term is represented by a dictionary\n",
    "    # the `type` key specifies the range of the interaction (0 = on-site), (1 = nearest neighbor)\n",
    "    # (2 = next nearest neighbor), etc. One can also have terms which are an arbitrary mixture\n",
    "    # various neighors, and vertex terms which depend on the edge degrees of freedom or vice-versa.\n",
    "    #\n",
    "    # No. This scheme will not work very well if your Hamiltonian has terms of the form Z_1 Z_2 ... Z_k.\n",
    "    # This is a \"k-local\" term. Rather than referring to nearest or next-nearest neighbor we should\n",
    "    # use the term \"k-local\" as it is more general.\n",
    "    #\n",
    "    # coefs.type key specifies the type and values of the coefficients of that term\n",
    "    # coefs.type = 0 is for site-independent (constant) coefficients\n",
    "    # coefs.type = 1 is for site-dependent (variable) coefficients\n",
    "    # the `term` key specifies the form of the interaction term\n",
    "    \n",
    "    \"terms\": [\n",
    "        \n",
    "    {\n",
    "        \"face_dim\": 0,\n",
    "        \n",
    "        \"coefs\": { \"type\": 0, \"value\": -1 },\n",
    "        \n",
    "        \"term\": { \n",
    "            \n",
    "            \"source\": \"spin_Jz\",\n",
    "            \"target\": \"spin_Jz\" \n",
    "        }\n",
    "    },\n",
    "\n",
    "    {\n",
    "        \"face_dim\": 1,\n",
    "        \n",
    "        \"coefs\": { \"type\": 0, \"value\": -1 },\n",
    "        \n",
    "        \"term\": [ \"spin_Jz\", \"spin_Jz\" ]        \n",
    "    }\n",
    "    \n",
    "    ],\n",
    "}"
   ]
  },
  {
   "cell_type": "code",
   "execution_count": 26,
   "metadata": {},
   "outputs": [
    {
     "name": "stdout",
     "output_type": "stream",
     "text": [
      "{'hamiltonian_name': 'Ising',\n",
      " 'site_dims': 2,\n",
      " 'site_terms': [{'coefs': {'type': 0, 'value': -1},\n",
      "                 'term': ['spin_Jz', 'spin_Jz'],\n",
      "                 'type': 0},\n",
      "                {'coefs': {'type': 0, 'value': -1},\n",
      "                 'term': ['spin_Jz', 'spin_Jz'],\n",
      "                 'type': 1}]}\n"
     ]
    }
   ],
   "source": [
    "pprint(ising_json_v1)"
   ]
  },
  {
   "cell_type": "code",
   "execution_count": 55,
   "metadata": {},
   "outputs": [],
   "source": [
    "toric_json = {\n",
    "    \n",
    "    \"ham_name\": \"Ising\",\n",
    "    \n",
    "    # dimensionality of on-site Hilbert space, by default = 2 for spin 1/2 state.\n",
    "    \"state_dims\": 2,\n",
    "    \n",
    "    \"terms\": [\n",
    "        \n",
    "        # Each term has a parent and one or more sources. The parent can be an arbitrary face (either a\n",
    "        # vertex, an edge or a higher dimensional face).\n",
    "        # `parent_dim` key specifies whether the parent is a vertex (dim = 0), line (dim = 1),\n",
    "        # 2d face (dim = 2) etc.\n",
    "        # For instance, in the toric code, there are two kinds of terms - vertex terms and\n",
    "        # face (or plaquette) terms\n",
    "        \n",
    "        {\n",
    "            \"parent_dim\": 0,\n",
    "            \n",
    "            \"coefs\": { \"type\": \"constant\", \"value\": 1.0 },\n",
    "            \n",
    "            \"def\": {\n",
    "                \n",
    "                \"function\": 'prod',\n",
    "                \"targets\": 'nearest_edges',\n",
    "                \"opn\": 'sigma_Jx'\n",
    "            }\n",
    "        },\n",
    "        {\n",
    "            \"parent_dim\": 2,\n",
    "            \n",
    "            \"coefs\": { \"type\": \"constant\", \"value\": 1.0 },\n",
    "            \n",
    "#             \"op\": ('prod', 'nearest edges', 'sigma_Jz')\n",
    "            \n",
    "            \"def\": {\n",
    "                \n",
    "                \"function\": 'prod',\n",
    "                \"targets\": 'nearest_edges',\n",
    "                \"opn\": 'sigma_Jz'\n",
    "            }\n",
    "        }\n",
    "    ]\n",
    "    \n",
    "}"
   ]
  },
  {
   "cell_type": "code",
   "execution_count": 53,
   "metadata": {},
   "outputs": [
    {
     "name": "stdout",
     "output_type": "stream",
     "text": [
      "dict_keys(['parent_dim', 'coefs', 'def'])\n"
     ]
    }
   ],
   "source": [
    "pprint(toric_json[\"terms\"][0].keys())"
   ]
  },
  {
   "cell_type": "code",
   "execution_count": 43,
   "metadata": {},
   "outputs": [
    {
     "data": {
      "text/plain": [
       "'{\"hamiltonian_name\": \"Ising\", \"site_dims\": 2, \"terms\": [{\"parent_dim\": 0, \"coefs\": {\"type\": \"constant\", \"value\": 1}, \"op\": [\"prod\", \"nearest_edges\", \"sigma_Jx\"]}, {\"parent_dim\": 2, \"coefs\": {\"type\": \"constant\", \"value\": 1}, \"op\": [\"prod\", \"nearest edges\", \"sigma_Jz\"]}]}'"
      ]
     },
     "execution_count": 43,
     "metadata": {},
     "output_type": "execute_result"
    }
   ],
   "source": [
    "json.dumps(toric_json)"
   ]
  },
  {
   "cell_type": "markdown",
   "metadata": {},
   "source": [
    "# `qutipHam` Class Definition"
   ]
  },
  {
   "cell_type": "markdown",
   "metadata": {},
   "source": [
    "## Class definition"
   ]
  },
  {
   "cell_type": "code",
   "execution_count": 56,
   "metadata": {
    "code_folding": []
   },
   "outputs": [],
   "source": [
    "class qutipHam():\n",
    "    '''Class which defines the hamiltonian acting on a given site of a lattice'''\n",
    "    \n",
    "    hamType = None          # type of Hamiltonian: Ising, Heisenberg, Hubbard etc.\n",
    "    \n",
    "    hamOp = Qobj()          # single-site Hamiltonian operator\n",
    "    \n",
    "    fieldOp = Qobj()\n",
    "    \n",
    "    vars = {}            # parameters necessary for defining Hamiltonian, coupling strengths, etc.\n",
    "    \n",
    "    graph = None            # graph on which Hamiltonian is defined.\n",
    "    \n",
    "    state_dims = 2                # dimension of single particle Hilbert space.\n",
    "        \n",
    "    def __init__(self, hamType=None, graph=None, hamVars=None):\n",
    "\n",
    "        self.hamType = hamType\n",
    "        \n",
    "#         self.initHamiltonian(graph,hamType,hamVars)\n",
    "\n",
    "    def addTerm(ham_term):\n",
    "                \n",
    "        return\n",
    "                \n",
    "    def initHamiltonian(self,graph,hamType,hamVars):\n",
    "        \n",
    "        if graph!=None:\n",
    "            self.graph = graph\n",
    "        else:\n",
    "            print('Lattice is not defined.')\n",
    "        \n",
    "        defVars = self.defaultVars.get(hamType)\n",
    "        \n",
    "        print(defVars)\n",
    "        \n",
    "        if hamVars:\n",
    "            if set(hamVars.keys()).issubset(set(defVars.keys())):\n",
    "                self.setHamiltonianVars(hamType,hamVars)\n",
    "                self.setHamiltonianOp(hamType)\n",
    "                print(self.hamVars)\n",
    "            else:\n",
    "                raise ValueError('Hamiltonian variables for', self.hamType, 'model, should subset of:'\\\n",
    "                                            ,defVars)\n",
    "        else:\n",
    "            print('Hamiltonian parameters not specified. Using default values')\n",
    "            self.setHamiltonianVars(hamType,defVars)\n",
    "            self.setHamiltonianOp(hamType)\n",
    "            print(self.hamVars)\n",
    "            \n",
    "        return\n",
    "    \n",
    "    def setHamiltonianVars(self,hamType,hamVars):\n",
    "\n",
    "        self.hamVars = self.defaultVars.get(hamType)\n",
    "        for k in hamVars.keys():\n",
    "            self.hamVars[k] = hamVars[k]\n",
    "            \n",
    "            return\n",
    "\n",
    "    def getHamiltonianVars(self):\n",
    "        if self.hamVars == {}:\n",
    "            print(\"Hamiltonian variables not defined\")\n",
    "        else:\n",
    "            for k in self.hamVars.keys():\n",
    "                print(k,self.hamVars[k])\n",
    "        \n",
    "    def setHamiltonianOp(self,hamType):\n",
    "        return\n",
    "    \n",
    "    @property\n",
    "    def hermitian(self):\n",
    "        return self._isHermitian\n",
    "    \n",
    "    @hermitian.setter\n",
    "    def hermitian(self, value):\n",
    "        if isinstance(value, bool):\n",
    "            self._isHermitian = value\n",
    "        else:\n",
    "            raise ValueError('hermitian must be a boolean data type')"
   ]
  },
  {
   "cell_type": "markdown",
   "metadata": {},
   "source": [
    "# Hamiltonian from JSON and Graph"
   ]
  },
  {
   "cell_type": "code",
   "execution_count": 57,
   "metadata": {},
   "outputs": [],
   "source": [
    "def generateHamiltonian(ham_json, ham_graph, ham_vars=None):\n",
    "    \n",
    "    ham = qutipHam()\n",
    "    \n",
    "    ham.hamType = ham_json[\"ham_name\"]\n",
    "    \n",
    "    ham.state_dims = ham_json[\"state_dims\"]\n",
    "    \n",
    "    if ham_graph == None:\n",
    "        raise AttributeError(\"Graph is undefined. qutipHam does not know which lattice to construct hamiltonian for.\")\n",
    "    else:\n",
    "        ham.graph = ham_graph\n",
    "    \n",
    "    ham.vars = ham_vars\n",
    "    \n",
    "    for term in ham_json[\"terms\"]:\n",
    "        \n",
    "        ham.addTerm(term)\n",
    "        \n",
    "    def addTerm(self, term):\n",
    "        "
   ]
  },
  {
   "cell_type": "markdown",
   "metadata": {},
   "source": [
    "# Calling Function by Names\n",
    "\n",
    "Reference: https://stackoverflow.com/a/3071"
   ]
  },
  {
   "cell_type": "code",
   "execution_count": 57,
   "metadata": {},
   "outputs": [
    {
     "data": {
      "text/plain": [
       "<function spin_Jz at 0x131f58c620>"
      ]
     },
     "execution_count": 57,
     "metadata": {},
     "output_type": "execute_result"
    }
   ],
   "source": [
    "getattr(qutip,'spin_Jz')"
   ]
  },
  {
   "cell_type": "code",
   "execution_count": 67,
   "metadata": {},
   "outputs": [],
   "source": [
    "def op_from_name(op_name, args=[]):\n",
    "    '''\n",
    "    Function returns the operator corresponding to the name passed in the first argument.\n",
    "    \n",
    "    For instance:\n",
    "    \n",
    "    op_from_name(\"sigmaz\", args=[0.5]) will return spin_Jz(0.5)\n",
    "    \n",
    "    op_from_name(\"spin_state\", args=[1,0]) will return spin_state(1,0)\n",
    "    '''\n",
    "    op = getattr(qutip, op_name)\n",
    "    \n",
    "    return op(*args)\n",
    "    "
   ]
  },
  {
   "cell_type": "code",
   "execution_count": 68,
   "metadata": {},
   "outputs": [
    {
     "data": {
      "text/latex": [
       "Quantum object: dims = [[3], [1]], shape = (3, 1), type = ket\\begin{equation*}\\left(\\begin{array}{*{11}c}0.0\\\\1.0\\\\0.0\\\\\\end{array}\\right)\\end{equation*}"
      ],
      "text/plain": [
       "Quantum object: dims = [[3], [1]], shape = (3, 1), type = ket\n",
       "Qobj data =\n",
       "[[0.]\n",
       " [1.]\n",
       " [0.]]"
      ]
     },
     "execution_count": 68,
     "metadata": {},
     "output_type": "execute_result"
    }
   ],
   "source": [
    "op_from_name(\"spin_state\",args=[1,0])"
   ]
  },
  {
   "cell_type": "code",
   "execution_count": 76,
   "metadata": {},
   "outputs": [
    {
     "data": {
      "text/latex": [
       "Quantum object: dims = [[4], [1]], shape = (4, 1), type = ket\\begin{equation*}\\left(\\begin{array}{*{11}c}1.0\\\\0.0\\\\0.0\\\\0.0\\\\\\end{array}\\right)\\end{equation*}"
      ],
      "text/plain": [
       "Quantum object: dims = [[4], [1]], shape = (4, 1), type = ket\n",
       "Qobj data =\n",
       "[[1.]\n",
       " [0.]\n",
       " [0.]\n",
       " [0.]]"
      ]
     },
     "execution_count": 76,
     "metadata": {},
     "output_type": "execute_result"
    }
   ],
   "source": [
    "op_from_name(\"spin_coherent\", args=[1.5, 0,np.pi])"
   ]
  },
  {
   "cell_type": "code",
   "execution_count": 56,
   "metadata": {},
   "outputs": [
    {
     "data": {
      "text/latex": [
       "Quantum object: dims = [[2], [2]], shape = (2, 2), type = oper, isherm = True\\begin{equation*}\\left(\\begin{array}{*{11}c}0.500 & 0.0\\\\0.0 & -0.500\\\\\\end{array}\\right)\\end{equation*}"
      ],
      "text/plain": [
       "Quantum object: dims = [[2], [2]], shape = (2, 2), type = oper, isherm = True\n",
       "Qobj data =\n",
       "[[ 0.5  0. ]\n",
       " [ 0.  -0.5]]"
      ]
     },
     "execution_count": 56,
     "metadata": {},
     "output_type": "execute_result"
    }
   ],
   "source": [
    "spin_Jz(0.5)"
   ]
  },
  {
   "cell_type": "code",
   "execution_count": 31,
   "metadata": {},
   "outputs": [],
   "source": [
    "model = {\n",
    "    'name':   'Ising',\n",
    "    'sitedims':    2    # default size of site Hilbert space    \n",
    "}\n",
    "\n",
    "hamTypes = ['NumberOp', 'Ising', 'Heisenberg','Hubbard', 'AKLT', 'SpinGlass']\n",
    "    \n",
    "defaultVars = {'NumberOp':   {'J':1, 'dims': 2},\n",
    "               'Ising':      {'J': 1, 'mu': 0},\n",
    "               'Heisenberg': {'J': 1, 'mu': 0, 'dims': 3},\n",
    "               'Hubbard':    {'J': 1, 'U': 0, 'mu': 1},\n",
    "               'SpinGlass':  {'J_ij': [[]], 'mu': 0},\n",
    "               'AKLT':       {'J': 1}\n",
    "          }             # default values of Hamiltonian parameters"
   ]
  },
  {
   "cell_type": "code",
   "execution_count": 32,
   "metadata": {},
   "outputs": [],
   "source": [
    "import json"
   ]
  },
  {
   "cell_type": "code",
   "execution_count": 35,
   "metadata": {},
   "outputs": [
    {
     "data": {
      "text/plain": [
       "'[\"NumberOp\", \"Ising\", \"Heisenberg\", \"Hubbard\", \"AKLT\", \"SpinGlass\"]'"
      ]
     },
     "execution_count": 35,
     "metadata": {},
     "output_type": "execute_result"
    }
   ],
   "source": [
    "json.dumps(hamTypes)"
   ]
  },
  {
   "cell_type": "code",
   "execution_count": 39,
   "metadata": {},
   "outputs": [
    {
     "name": "stdout",
     "output_type": "stream",
     "text": [
      "{\n",
      "    \"NumberOp\": {\n",
      "        \"J\": 1,\n",
      "        \"dims\": 2\n",
      "    },\n",
      "    \"Ising\": {\n",
      "        \"J\": 1,\n",
      "        \"mu\": 0\n",
      "    },\n",
      "    \"Heisenberg\": {\n",
      "        \"J\": 1,\n",
      "        \"mu\": 0,\n",
      "        \"dims\": 3\n",
      "    },\n",
      "    \"Hubbard\": {\n",
      "        \"J\": 1,\n",
      "        \"U\": 0,\n",
      "        \"mu\": 1\n",
      "    },\n",
      "    \"SpinGlass\": {\n",
      "        \"J_ij\": [\n",
      "            []\n",
      "        ],\n",
      "        \"mu\": 0\n",
      "    },\n",
      "    \"AKLT\": {\n",
      "        \"J\": 1\n",
      "    }\n",
      "}\n"
     ]
    }
   ],
   "source": [
    "print(json.dumps(defaultVars, indent=4))"
   ]
  },
  {
   "cell_type": "markdown",
   "metadata": {},
   "source": [
    "# `qutipHamiltonian` Class Definition"
   ]
  },
  {
   "cell_type": "markdown",
   "metadata": {},
   "source": [
    "## Class definition"
   ]
  },
  {
   "cell_type": "code",
   "execution_count": 9,
   "metadata": {
    "code_folding": [
     171
    ]
   },
   "outputs": [],
   "source": [
    "class qutipHamiltonian():\n",
    "    '''Class which defines the hamiltonian acting on a given site of a lattice'''\n",
    "    \n",
    "    hamType = None          # type of Hamiltonian: Ising, Heisenberg, Hubbard etc.\n",
    "    \n",
    "    hamOp = Qobj()          # single-site Hamiltonian operator\n",
    "    \n",
    "    fieldOp = Qobj()\n",
    "    \n",
    "    hamVars = {}            # parameters necessary for defining Hamiltonian, coupling strengths, etc.\n",
    "    \n",
    "    graph = None            # graph on which Hamiltonian is defined.\n",
    "    \n",
    "    state_dims = 2                # dimension of single particle Hilbert space.\n",
    "    \n",
    "    latticeDimension = 2    # dimension of lattice on which Hamiltonian is defined.\n",
    "\n",
    "    latticeSize = (5,5)     # tuple containing number of sites in lattice, should match latticeDimension.\n",
    "    \n",
    "    def __init__(self, hamType, graph=None, hamVars=None):\n",
    "        \n",
    "        if hamType != None:\n",
    "            if hamType not in self.hamTypes:\n",
    "                raise ValueError('hamType must be one of ',self.hamTypes)\n",
    "            else:\n",
    "                self.hamType = hamType\n",
    "                self.initHamiltonian(graph,hamType,hamVars)\n",
    "                \n",
    "    def initHamiltonian(self,graph,hamType,hamVars):\n",
    "        \n",
    "        if graph!=None:\n",
    "            self.graph = graph\n",
    "        else:\n",
    "            print('Lattice is not defined.')\n",
    "        \n",
    "        defVars = self.defaultVars.get(hamType)\n",
    "        \n",
    "        print(defVars)\n",
    "        \n",
    "        if hamVars:\n",
    "            if set(hamVars.keys()).issubset(set(defVars.keys())):\n",
    "                self.setHamiltonianVars(hamType,hamVars)\n",
    "                self.setHamiltonianOp(hamType)\n",
    "                print(self.hamVars)\n",
    "            else:\n",
    "                raise ValueError('Hamiltonian variables for', self.hamType, 'model, should subset of:'\\\n",
    "                                            ,defVars)\n",
    "        else:\n",
    "            print('Hamiltonian parameters not specified. Using default values')\n",
    "            self.setHamiltonianVars(hamType,defVars)\n",
    "            self.setHamiltonianOp(hamType)\n",
    "            print(self.hamVars)\n",
    "            \n",
    "        return\n",
    "    \n",
    "    def setHamiltonianVars(self,hamType,hamVars):\n",
    "\n",
    "        self.hamVars = self.defaultVars.get(hamType)\n",
    "        for k in hamVars.keys():\n",
    "            self.hamVars[k] = hamVars[k]    \n",
    "\n",
    "        for case in switch(hamType):\n",
    "            \n",
    "            if case('ToricCode'):\n",
    "                print('ToricCode')\n",
    "                self.J_e = self.hamVars['J_e']\n",
    "                self.J_m = self.hamVars['J_m']\n",
    "                break\n",
    "            \n",
    "            if case('Ising'):\n",
    "                print('Ising')\n",
    "                self.J = self.hamVars['J']\n",
    "                self.mu = self.hamVars['mu']\n",
    "                break\n",
    "\n",
    "            if case('Hubbard'):\n",
    "                print('Hubbard')\n",
    "                self.J = self.hamVars['J']\n",
    "                self.mu = self.hamVars['mu']\n",
    "                self.U = self.hamVars['U']\n",
    "                break\n",
    "                \n",
    "            if case('Heisenberg'):\n",
    "                print('Heisenberg')\n",
    "                self.J = self.hamVars['J']\n",
    "                self.mu = self.hamVars['mu']\n",
    "                self.state_dims = 3     # Heisenberg spin-chain has spin 1 particles\n",
    "                break\n",
    "            \n",
    "            if case('AKLT'):\n",
    "                print('AKLT')\n",
    "                self.J = self.hamVars['J']\n",
    "                \n",
    "#             if case('SpinGlass'):\n",
    "#                 if hamVars:\n",
    "#                     self.J_ij = hamVars['J_ij']\n",
    "#                     self.mu = hamVars['mu']\n",
    "#                 else:\n",
    "#                     self.J = 1\n",
    "#                     self.h = 0\n",
    "#                     self.mu = 0\n",
    "#                 break\n",
    "                \n",
    "            if case('NumberOp'):\n",
    "                break\n",
    "            \n",
    "            return\n",
    "\n",
    "    def getHamiltonianVars(self):\n",
    "        if self.hamVars == {}:\n",
    "            print(\"Hamiltonian variables not defined\")\n",
    "        else:\n",
    "            for k in self.hamVars.keys():\n",
    "                print(k,self.hamVars[k])\n",
    "        \n",
    "    def setHamiltonianOp(self,hamType):\n",
    "        if self.hamVars.get('dims'):\n",
    "            self.state_dims = self.hamVars['dims']\n",
    "        else:\n",
    "            self.state_dims = 2\n",
    "\n",
    "        dim = self.state_dims\n",
    "        j = (dim-1)/2.0\n",
    "        \n",
    "        sx = jmat(j,'x')\n",
    "        sy = jmat(j,'y')\n",
    "        sz = jmat(j,'z')\n",
    "        sp = jmat(j,'+')\n",
    "        sm = jmat(j,'-')\n",
    "        identity = qeye(dim)\n",
    "        \n",
    "        self.fieldOp = sz\n",
    "        \n",
    "        for case in switch(hamType):\n",
    "            if case('Ising'):\n",
    "                self.hamOp = -self.J * tensor(sz,sz)\n",
    "                break\n",
    "            \n",
    "            if case('AKLT'):\n",
    "                self.hamOp = -self.J * (tensor(sx,sx) + tensor(sy,sy) + tensor(sz,sz))\n",
    "                self.hamOp += -self.J/3.0 * (tensor(sx,sx) + tensor(sy,sy) + tensor(sz,sz))**2\n",
    "            \n",
    "            if case('Hubbard'):\n",
    "                break\n",
    "                \n",
    "            if case('Heisenberg'):\n",
    "                self.hamOp = -0.5*self.J * (tensor(sp,sm) + tensor(sm,sp))\n",
    "                self.hamOp += -self.J * tensor(sz,sz)\n",
    "                break\n",
    "                \n",
    "#             if case('SpinGlass'):\n",
    "#                 if hamVars:\n",
    "#                     self.J_ij = hamVars['J_ij']\n",
    "#                     self.mu = hamVars['mu']\n",
    "#                 else:\n",
    "#                     self.J = 1\n",
    "#                     self.h = 0\n",
    "#                     self.mu = 0\n",
    "#                 break\n",
    "                \n",
    "            if case('NumberOp'):\n",
    "                break        \n",
    "            \n",
    "            return\n",
    "    \n",
    "    @property\n",
    "    def hermitian(self):\n",
    "        return self._isHermitian\n",
    "    \n",
    "    @hermitian.setter\n",
    "    def hermitian(self, value):\n",
    "        if isinstance(value, bool):\n",
    "            self._isHermitian = value\n",
    "        else:\n",
    "            raise ValueError('hermitian must be a boolean data type')"
   ]
  },
  {
   "cell_type": "markdown",
   "metadata": {},
   "source": [
    "## Class Test"
   ]
  },
  {
   "cell_type": "code",
   "execution_count": 10,
   "metadata": {},
   "outputs": [
    {
     "name": "stdout",
     "output_type": "stream",
     "text": [
      "False\n",
      "False\n",
      "False\n",
      "False\n",
      "False\n",
      "False\n",
      "False\n",
      "False\n",
      "False\n",
      "False\n",
      "{'J': 1, 'mu': 0, 'dims': 3}\n",
      "Heisenberg\n",
      "{'J': 1, 'mu': 0.1, 'dims': 3}\n",
      "[Quantum object: dims = [[3], [1]], shape = (3, 1), type = ket\n",
      "Qobj data =\n",
      "[[1.]\n",
      " [0.]\n",
      " [0.]], Quantum object: dims = [[3], [1]], shape = (3, 1), type = ket\n",
      "Qobj data =\n",
      "[[0.]\n",
      " [1.]\n",
      " [0.]], Quantum object: dims = [[3], [1]], shape = (3, 1), type = ket\n",
      "Qobj data =\n",
      "[[0.]\n",
      " [0.]\n",
      " [1.]]]\n"
     ]
    }
   ],
   "source": [
    "latt = qutipLattice(lattice_dims=[10],hamType='Heisenberg',periodic=False,hamVars={'mu': 0.1, 'J': 1})"
   ]
  },
  {
   "cell_type": "markdown",
   "metadata": {},
   "source": [
    "## Test to Verify `getDeltaEnergy` Work as Advt."
   ]
  },
  {
   "cell_type": "code",
   "execution_count": 11,
   "metadata": {},
   "outputs": [
    {
     "name": "stdout",
     "output_type": "stream",
     "text": [
      "-4.0 -4.0\n",
      "2.0 2.0\n",
      "0.0 0.0\n",
      "0.0 0.0\n",
      "-4.0 -4.0\n",
      "-2.0 -2.0\n",
      "0.0 0.0\n",
      "0.0 0.0\n",
      "-2.0 -2.0\n",
      "-8.0 -8.0\n"
     ]
    }
   ],
   "source": [
    "for i in range(10):\n",
    "    node = latt.getRandomNode()\n",
    "    state_f = latt.getNodeRandomState(node)\n",
    "    delta_e1= latt.getDeltaEnergy(node,state_f)\n",
    "    delta_e2 = latt.getDeltaEnergySimple(node,state_f)\n",
    "    print(delta_e1,delta_e2)"
   ]
  },
  {
   "cell_type": "code",
   "execution_count": 12,
   "metadata": {},
   "outputs": [
    {
     "data": {
      "text/plain": [
       "5"
      ]
     },
     "execution_count": 12,
     "metadata": {},
     "output_type": "execute_result"
    }
   ],
   "source": [
    "node1 = latt.getRandomNode()\n",
    "node1"
   ]
  },
  {
   "cell_type": "code",
   "execution_count": 19,
   "metadata": {},
   "outputs": [
    {
     "data": {
      "text/plain": [
       "dict"
      ]
     },
     "execution_count": 19,
     "metadata": {},
     "output_type": "execute_result"
    }
   ],
   "source": [
    "type(node1)"
   ]
  },
  {
   "cell_type": "code",
   "execution_count": 13,
   "metadata": {},
   "outputs": [
    {
     "name": "stdout",
     "output_type": "stream",
     "text": [
      "0\n",
      "1\n",
      "2\n",
      "3\n",
      "4\n",
      "5\n",
      "6\n",
      "7\n",
      "8\n",
      "9\n"
     ]
    }
   ],
   "source": [
    "for node in latt.graph:\n",
    "    print(node)"
   ]
  },
  {
   "cell_type": "code",
   "execution_count": 14,
   "metadata": {},
   "outputs": [
    {
     "data": {
      "text/plain": [
       "{'flipped': False,\n",
       " 'state': Quantum object: dims = [[3], [1]], shape = (3, 1), type = ket\n",
       " Qobj data =\n",
       " [[0.]\n",
       "  [0.]\n",
       "  [1.]]}"
      ]
     },
     "execution_count": 14,
     "metadata": {},
     "output_type": "execute_result"
    }
   ],
   "source": [
    "latt.graph.node[node1]"
   ]
  },
  {
   "cell_type": "code",
   "execution_count": 15,
   "metadata": {},
   "outputs": [
    {
     "data": {
      "text/plain": [
       "{'flipped': False,\n",
       " 'state': Quantum object: dims = [[3], [1]], shape = (3, 1), type = ket\n",
       " Qobj data =\n",
       " [[0.]\n",
       "  [0.]\n",
       "  [1.]]}"
      ]
     },
     "execution_count": 15,
     "metadata": {},
     "output_type": "execute_result"
    }
   ],
   "source": [
    "latt.graph.node[9]"
   ]
  },
  {
   "cell_type": "code",
   "execution_count": 16,
   "metadata": {},
   "outputs": [
    {
     "data": {
      "text/plain": [
       "NodeView((0, 1, 2, 3, 4, 5, 6, 7, 8, 9))"
      ]
     },
     "execution_count": 16,
     "metadata": {},
     "output_type": "execute_result"
    }
   ],
   "source": [
    "latt.graph.node"
   ]
  },
  {
   "cell_type": "code",
   "execution_count": 26,
   "metadata": {},
   "outputs": [
    {
     "data": {
      "text/plain": [
       "networkx.classes.reportviews.NodeView"
      ]
     },
     "execution_count": 26,
     "metadata": {},
     "output_type": "execute_result"
    }
   ],
   "source": [
    "type(_25)"
   ]
  },
  {
   "cell_type": "code",
   "execution_count": 17,
   "metadata": {},
   "outputs": [
    {
     "data": {
      "text/plain": [
       "{'flipped': False,\n",
       " 'state': Quantum object: dims = [[3], [1]], shape = (3, 1), type = ket\n",
       " Qobj data =\n",
       " [[1.]\n",
       "  [0.]\n",
       "  [0.]]}"
      ]
     },
     "execution_count": 17,
     "metadata": {},
     "output_type": "execute_result"
    }
   ],
   "source": [
    "random.choice(latt.graph.nodes)"
   ]
  },
  {
   "cell_type": "code",
   "execution_count": 12,
   "metadata": {},
   "outputs": [
    {
     "ename": "NameError",
     "evalue": "name '_14' is not defined",
     "output_type": "error",
     "traceback": [
      "\u001b[0;31m---------------------------------------------------------------------------\u001b[0m",
      "\u001b[0;31mNameError\u001b[0m                                 Traceback (most recent call last)",
      "\u001b[0;32m<ipython-input-12-e98f8c336b0d>\u001b[0m in \u001b[0;36m<module>\u001b[0;34m()\u001b[0m\n\u001b[0;32m----> 1\u001b[0;31m \u001b[0mtype\u001b[0m\u001b[0;34m(\u001b[0m\u001b[0m_14\u001b[0m\u001b[0;34m)\u001b[0m\u001b[0;34m\u001b[0m\u001b[0m\n\u001b[0m",
      "\u001b[0;31mNameError\u001b[0m: name '_14' is not defined"
     ]
    }
   ],
   "source": [
    "type(_14)"
   ]
  },
  {
   "cell_type": "code",
   "execution_count": 18,
   "metadata": {},
   "outputs": [
    {
     "name": "stdout",
     "output_type": "stream",
     "text": [
      "<class 'int'>\n",
      "0\n",
      "<class 'int'>\n",
      "1\n",
      "<class 'int'>\n",
      "2\n",
      "<class 'int'>\n",
      "3\n",
      "<class 'int'>\n",
      "4\n",
      "<class 'int'>\n",
      "5\n",
      "<class 'int'>\n",
      "6\n",
      "<class 'int'>\n",
      "7\n",
      "<class 'int'>\n",
      "8\n",
      "<class 'int'>\n",
      "9\n"
     ]
    }
   ],
   "source": [
    "for node in latt.graph.nodes():\n",
    "    print(type(node))\n",
    "    print(node)"
   ]
  },
  {
   "cell_type": "code",
   "execution_count": 33,
   "metadata": {},
   "outputs": [],
   "source": [
    "latt.setRandomField()"
   ]
  },
  {
   "cell_type": "code",
   "execution_count": 34,
   "metadata": {},
   "outputs": [
    {
     "name": "stdout",
     "output_type": "stream",
     "text": [
      "J 1\n",
      "mu 0.1\n",
      "dims 3\n"
     ]
    }
   ],
   "source": [
    "latt.hamiltonian.getHamiltonianVars()"
   ]
  },
  {
   "cell_type": "code",
   "execution_count": 35,
   "metadata": {},
   "outputs": [],
   "source": [
    "latt.setRandomState()"
   ]
  },
  {
   "cell_type": "markdown",
   "metadata": {},
   "source": [
    "## Simulated Annealing Algorithm\n",
    "\n",
    "For finding ground state."
   ]
  },
  {
   "cell_type": "code",
   "execution_count": 47,
   "metadata": {},
   "outputs": [
    {
     "name": "stdout",
     "output_type": "stream",
     "text": [
      "8 3 2.0 2.0 2.0\n",
      "14 8 -2.0 -2.0 0.0\n",
      "20 7 2.0 4.0 2.0\n",
      "22 4 -4.0 -6.0 -2.0\n",
      "26 2 -2.0 -8.0 -4.0\n",
      "27 3 4.0 8.0 0.0\n",
      "30 7 2.0 10.0 2.0\n",
      "32 5 4.0 14.0 6.0\n",
      "34 6 -8.0 -16.0 -2.0\n",
      "37 6 4.0 18.0 2.0\n",
      "38 4 -4.0 -20.0 -2.0\n",
      "43 5 4.0 22.0 2.0\n",
      "44 1 -2.0 -22.0 0.0\n",
      "53 1 4.0 26.0 4.0\n",
      "55 0 2.0 28.0 6.0\n",
      "56 2 -4.0 -26.0 2.0\n",
      "57 3 -4.0 -30.0 -2.0\n",
      "63 8 -2.0 -32.0 -4.0\n",
      "64 7 2.0 30.0 -2.0\n",
      "68 2 4.0 34.0 2.0\n",
      "70 5 -4.0 -36.0 -2.0\n",
      "71 9 -2.0 -38.0 -4.0\n",
      "73 6 -2.0 -40.0 -6.0\n",
      "76 3 2.0 36.0 -4.0\n",
      "77 8 2.0 38.0 -2.0\n",
      "79 2 2.0 40.0 0.0\n",
      "84 0 -2.0 -42.0 -2.0\n",
      "85 5 4.0 44.0 2.0\n",
      "88 0 2.0 46.0 4.0\n",
      "89 2 -4.0 -46.0 0.0\n",
      "92 7 2.0 48.0 2.0\n",
      "97 7 -4.0 -50.0 -2.0\n",
      "100 2 2.0 50.0 0.0\n",
      "102 3 2.0 52.0 2.0\n",
      "106 5 -4.0 -54.0 -2.0\n",
      "108 6 8.0 60.0 6.0\n",
      "111 7 -4.0 -58.0 2.0\n",
      "112 3 -4.0 -62.0 -2.0\n",
      "114 1 -4.0 -66.0 -6.0\n",
      "117 0 4.0 64.0 -2.0\n",
      "126 0 -4.0 -70.0 -6.0\n",
      "129 4 4.0 68.0 -2.0\n",
      "134 1 4.0 72.0 2.0\n",
      "135 7 4.0 76.0 6.0\n",
      "136 8 -4.0 -74.0 2.0\n",
      "137 5 -4.0 -78.0 -2.0\n",
      "139 8 4.0 80.0 2.0\n",
      "141 0 -2.0 -80.0 0.0\n",
      "147 5 4.0 84.0 4.0\n",
      "148 2 4.0 88.0 8.0\n",
      "149 3 -4.0 -84.0 4.0\n",
      "154 5 -2.0 -86.0 2.0\n",
      "156 0 -2.0 -88.0 0.0\n",
      "157 4 2.0 90.0 2.0\n",
      "161 0 4.0 94.0 6.0\n",
      "162 6 -4.0 -92.0 2.0\n",
      "163 1 -4.0 -96.0 -2.0\n",
      "164 7 2.0 96.0 0.0\n",
      "168 1 -4.0 -100.0 -4.0\n",
      "174 8 2.0 98.0 -2.0\n",
      "177 1 4.0 102.0 2.0\n",
      "178 2 4.0 106.0 6.0\n",
      "183 9 -4.0 -104.0 2.0\n",
      "185 5 -4.0 -108.0 -2.0\n",
      "186 6 4.0 110.0 2.0\n",
      "190 3 -8.0 -116.0 -6.0\n",
      "192 2 4.0 114.0 -2.0\n",
      "193 1 -4.0 -120.0 -6.0\n",
      "194 9 2.0 116.0 -4.0\n",
      "196 4 8.0 124.0 4.0\n",
      "200 0 2.0 126.0 6.0\n",
      "201 7 -4.0 -124.0 2.0\n",
      "209 7 8.0 134.0 10.0\n",
      "211 8 -4.0 -128.0 6.0\n",
      "213 9 2.0 136.0 8.0\n",
      "214 0 2.0 138.0 10.0\n",
      "215 4 -4.0 -132.0 6.0\n",
      "217 6 -4.0 -136.0 2.0\n",
      "220 6 4.0 142.0 6.0\n",
      "226 5 -4.0 -140.0 2.0\n",
      "227 3 -4.0 -144.0 -2.0\n",
      "232 2 8.0 150.0 6.0\n",
      "234 3 -4.0 -148.0 2.0\n",
      "241 1 -4.0 -152.0 -2.0\n",
      "250 1 -4.0 -156.0 -6.0\n",
      "251 9 -2.0 -158.0 -8.0\n",
      "258 1 4.0 154.0 -4.0\n",
      "259 5 2.0 156.0 -2.0\n",
      "262 4 -2.0 -160.0 -4.0\n",
      "264 8 4.0 160.0 0.0\n",
      "265 9 -2.0 -162.0 -2.0\n",
      "266 6 -4.0 -166.0 -6.0\n",
      "267 3 8.0 168.0 2.0\n",
      "268 5 4.0 172.0 6.0\n",
      "271 2 -4.0 -170.0 2.0\n",
      "278 9 2.0 174.0 4.0\n",
      "279 2 4.0 178.0 8.0\n",
      "281 1 -4.0 -174.0 4.0\n",
      "283 3 -4.0 -178.0 0.0\n",
      "284 4 -4.0 -182.0 -4.0\n",
      "285 8 -2.0 -184.0 -6.0\n",
      "293 0 4.0 182.0 -2.0\n",
      "294 7 2.0 184.0 0.0\n",
      "299 0 -2.0 -186.0 -2.0\n",
      "300 6 -4.0 -190.0 -6.0\n",
      "301 1 4.0 188.0 -2.0\n",
      "304 5 8.0 196.0 6.0\n",
      "308 2 -2.0 -192.0 4.0\n",
      "315 0 2.0 198.0 6.0\n",
      "316 1 -2.0 -194.0 4.0\n",
      "318 4 -2.0 -196.0 2.0\n",
      "325 6 -4.0 -200.0 -2.0\n",
      "332 7 2.0 200.0 0.0\n",
      "336 8 2.0 202.0 2.0\n",
      "338 1 -2.0 -202.0 0.0\n",
      "343 8 -4.0 -206.0 -4.0\n",
      "346 8 2.0 204.0 -2.0\n",
      "347 5 2.0 206.0 0.0\n",
      "348 7 -2.0 -208.0 -2.0\n",
      "351 0 2.0 208.0 0.0\n",
      "353 2 2.0 210.0 2.0\n",
      "356 5 -2.0 -210.0 0.0\n",
      "357 6 4.0 214.0 4.0\n",
      "358 0 -2.0 -212.0 2.0\n",
      "362 7 -2.0 -214.0 0.0\n",
      "363 8 -2.0 -216.0 -2.0\n",
      "367 4 -2.0 -218.0 -4.0\n",
      "375 0 2.0 216.0 -2.0\n",
      "379 2 -2.0 -220.0 -4.0\n",
      "380 4 2.0 218.0 -2.0\n",
      "381 9 2.0 220.0 0.0\n",
      "384 9 -2.0 -222.0 -2.0\n",
      "385 5 -4.0 -226.0 -6.0\n",
      "388 7 4.0 224.0 -2.0\n",
      "390 5 2.0 226.0 0.0\n",
      "393 2 2.0 228.0 2.0\n",
      "396 9 -2.0 -228.0 0.0\n",
      "397 3 -2.0 -230.0 -2.0\n",
      "398 1 -2.0 -232.0 -4.0\n",
      "401 8 4.0 232.0 0.0\n",
      "403 2 2.0 234.0 2.0\n",
      "408 2 2.0 236.0 4.0\n",
      "413 5 2.0 238.0 6.0\n",
      "416 9 -4.0 -236.0 2.0\n",
      "421 6 -2.0 -238.0 0.0\n",
      "424 1 2.0 240.0 2.0\n",
      "425 6 2.0 242.0 4.0\n",
      "426 5 -4.0 -242.0 0.0\n",
      "428 4 4.0 246.0 4.0\n",
      "432 9 4.0 250.0 8.0\n",
      "434 8 -2.0 -244.0 6.0\n",
      "435 6 4.0 254.0 10.0\n",
      "437 0 2.0 256.0 12.0\n",
      "439 6 -2.0 -246.0 10.0\n",
      "441 2 -4.0 -250.0 6.0\n",
      "442 6 -2.0 -252.0 4.0\n",
      "449 4 -4.0 -256.0 0.0\n",
      "450 6 2.0 258.0 2.0\n",
      "451 8 2.0 260.0 4.0\n",
      "452 2 4.0 264.0 8.0\n",
      "458 2 -8.0 -264.0 0.0\n",
      "460 8 -4.0 -268.0 -4.0\n",
      "461 9 4.0 268.0 0.0\n",
      "464 6 2.0 270.0 2.0\n",
      "465 5 -4.0 -272.0 -2.0\n",
      "468 3 4.0 274.0 2.0\n",
      "471 9 -2.0 -274.0 0.0\n",
      "480 4 4.0 278.0 4.0\n",
      "485 0 -4.0 -278.0 0.0\n",
      "486 6 2.0 280.0 2.0\n",
      "488 0 4.0 284.0 6.0\n",
      "489 5 -2.0 -280.0 4.0\n",
      "490 3 -4.0 -284.0 0.0\n",
      "491 9 2.0 286.0 2.0\n",
      "494 8 -4.0 -288.0 -2.0\n",
      "496 7 -2.0 -290.0 -4.0\n",
      "497 2 4.0 290.0 0.0\n",
      "500 6 -2.0 -292.0 -2.0\n",
      "502 1 -8.0 -300.0 -10.0\n",
      "507 9 4.0 294.0 -6.0\n",
      "513 0 2.0 296.0 -4.0\n",
      "517 9 -2.0 -302.0 -6.0\n",
      "523 0 2.0 298.0 -4.0\n",
      "527 7 4.0 302.0 0.0\n",
      "531 9 2.0 304.0 2.0\n",
      "533 0 -2.0 -304.0 0.0\n",
      "540 7 4.0 308.0 4.0\n",
      "541 9 -2.0 -306.0 2.0\n",
      "542 8 -2.0 -308.0 0.0\n",
      "545 0 -2.0 -310.0 -2.0\n",
      "547 6 -2.0 -312.0 -4.0\n",
      "550 8 -2.0 -314.0 -6.0\n",
      "552 1 4.0 312.0 -2.0\n",
      "553 7 2.0 314.0 0.0\n",
      "557 5 2.0 316.0 2.0\n",
      "559 4 -4.0 -318.0 -2.0\n",
      "562 6 -2.0 -320.0 -4.0\n",
      "563 4 2.0 318.0 -2.0\n",
      "568 3 2.0 320.0 0.0\n",
      "569 9 2.0 322.0 2.0\n",
      "572 6 2.0 324.0 4.0\n",
      "574 2 -2.0 -322.0 2.0\n",
      "581 6 -2.0 -324.0 0.0\n",
      "582 8 -4.0 -328.0 -4.0\n",
      "587 7 4.0 328.0 0.0\n",
      "590 5 2.0 330.0 2.0\n",
      "592 9 4.0 334.0 6.0\n",
      "595 5 -2.0 -330.0 4.0\n",
      "601 8 -4.0 -334.0 0.0\n",
      "604 1 2.0 336.0 2.0\n",
      "609 0 -4.0 -338.0 -2.0\n",
      "610 2 -4.0 -342.0 -6.0\n",
      "613 2 8.0 344.0 2.0\n",
      "615 5 4.0 348.0 6.0\n",
      "617 8 4.0 352.0 10.0\n",
      "619 8 -8.0 -350.0 2.0\n",
      "622 6 -8.0 -358.0 -6.0\n",
      "623 2 -4.0 -362.0 -10.0\n",
      "624 7 8.0 360.0 -2.0\n",
      "625 9 4.0 364.0 2.0\n",
      "628 8 -4.0 -366.0 -2.0\n",
      "629 0 2.0 366.0 0.0\n",
      "634 0 2.0 368.0 2.0\n",
      "636 2 -4.0 -370.0 -2.0\n",
      "637 3 4.0 372.0 2.0\n",
      "639 0 -4.0 -374.0 -2.0\n",
      "641 5 4.0 376.0 2.0\n",
      "646 6 -8.0 -382.0 -6.0\n",
      "647 1 4.0 380.0 -2.0\n",
      "649 8 -4.0 -386.0 -6.0\n",
      "651 3 -2.0 -388.0 -8.0\n",
      "652 7 4.0 384.0 -4.0\n",
      "655 6 2.0 386.0 -2.0\n",
      "656 1 4.0 390.0 2.0\n",
      "659 1 -4.0 -392.0 -2.0\n",
      "663 9 2.0 392.0 0.0\n",
      "664 3 2.0 394.0 2.0\n",
      "665 7 -2.0 -394.0 0.0\n",
      "667 1 4.0 398.0 4.0\n",
      "672 8 2.0 400.0 6.0\n",
      "673 3 -2.0 -396.0 4.0\n",
      "676 0 -2.0 -398.0 2.0\n",
      "677 1 -4.0 -402.0 -2.0\n",
      "678 4 -2.0 -404.0 -4.0\n",
      "679 2 2.0 402.0 -2.0\n",
      "682 8 2.0 404.0 0.0\n",
      "683 9 2.0 406.0 2.0\n",
      "686 2 -2.0 -406.0 0.0\n",
      "688 1 4.0 410.0 4.0\n",
      "689 6 4.0 414.0 8.0\n",
      "692 1 -2.0 -408.0 6.0\n",
      "694 7 -8.0 -416.0 -2.0\n",
      "702 9 -2.0 -418.0 -4.0\n",
      "709 9 -2.0 -420.0 -6.0\n",
      "710 7 8.0 422.0 2.0\n",
      "715 6 -4.0 -424.0 -2.0\n",
      "717 5 2.0 424.0 0.0\n",
      "721 9 4.0 428.0 4.0\n",
      "728 1 -2.0 -426.0 2.0\n",
      "730 5 -2.0 -428.0 0.0\n",
      "732 2 2.0 430.0 2.0\n",
      "736 2 2.0 432.0 4.0\n",
      "737 4 4.0 436.0 8.0\n",
      "739 7 -2.0 -430.0 6.0\n",
      "740 5 -4.0 -434.0 2.0\n",
      "746 8 -4.0 -438.0 -2.0\n",
      "747 0 -2.0 -440.0 -4.0\n",
      "748 5 4.0 440.0 0.0\n",
      "755 7 2.0 442.0 2.0\n",
      "761 2 -4.0 -444.0 -2.0\n",
      "762 0 4.0 446.0 2.0\n",
      "764 5 -4.0 -448.0 -2.0\n",
      "765 3 4.0 450.0 2.0\n",
      "771 9 2.0 452.0 4.0\n",
      "772 5 4.0 456.0 8.0\n",
      "774 8 -4.0 -452.0 4.0\n",
      "776 9 -2.0 -454.0 2.0\n",
      "778 0 -4.0 -458.0 -2.0\n",
      "780 5 -2.0 -460.0 -4.0\n",
      "781 6 -2.0 -462.0 -6.0\n",
      "784 5 4.0 460.0 -2.0\n",
      "787 1 8.0 468.0 6.0\n",
      "790 5 -4.0 -466.0 2.0\n",
      "791 0 -4.0 -470.0 -2.0\n",
      "795 3 -4.0 -474.0 -6.0\n",
      "798 8 4.0 472.0 -2.0\n",
      "801 2 -4.0 -478.0 -6.0\n",
      "803 5 4.0 476.0 -2.0\n",
      "808 1 4.0 480.0 2.0\n",
      "816 4 -4.0 -482.0 -2.0\n",
      "817 1 4.0 484.0 2.0\n",
      "818 0 -4.0 -486.0 -2.0\n",
      "823 7 4.0 488.0 2.0\n",
      "827 2 -2.0 -488.0 0.0\n",
      "833 1 4.0 492.0 4.0\n",
      "834 7 -4.0 -492.0 0.0\n",
      "835 2 2.0 494.0 2.0\n",
      "837 7 4.0 498.0 6.0\n",
      "838 6 -8.0 -500.0 -2.0\n",
      "841 0 -2.0 -502.0 -4.0\n",
      "842 2 -2.0 -504.0 -6.0\n",
      "843 4 2.0 500.0 -4.0\n",
      "847 5 4.0 504.0 0.0\n",
      "851 0 -2.0 -506.0 -2.0\n",
      "856 2 2.0 506.0 0.0\n",
      "860 5 -2.0 -508.0 -2.0\n",
      "864 2 -2.0 -510.0 -4.0\n",
      "865 0 2.0 508.0 -2.0\n",
      "866 6 4.0 512.0 2.0\n",
      "873 2 2.0 514.0 4.0\n",
      "874 1 -4.0 -514.0 0.0\n",
      "876 3 -2.0 -516.0 -2.0\n",
      "881 7 -2.0 -518.0 -4.0\n",
      "882 4 2.0 516.0 -2.0\n",
      "887 0 -2.0 -520.0 -4.0\n",
      "888 8 2.0 518.0 -2.0\n",
      "892 0 4.0 522.0 2.0\n",
      "893 2 4.0 526.0 6.0\n",
      "896 1 -4.0 -524.0 2.0\n",
      "897 3 -2.0 -526.0 0.0\n",
      "899 9 -4.0 -530.0 -4.0\n",
      "910 8 2.0 528.0 -2.0\n",
      "911 1 4.0 532.0 2.0\n",
      "912 7 2.0 534.0 4.0\n",
      "919 2 -2.0 -532.0 2.0\n",
      "920 8 -4.0 -536.0 -2.0\n",
      "921 0 -4.0 -540.0 -6.0\n",
      "926 0 2.0 536.0 -4.0\n",
      "927 2 2.0 538.0 -2.0\n",
      "930 9 2.0 540.0 0.0\n",
      "935 9 -2.0 -542.0 -2.0\n",
      "939 6 -4.0 -546.0 -6.0\n",
      "941 3 2.0 542.0 -4.0\n",
      "943 4 -2.0 -548.0 -6.0\n",
      "946 5 2.0 544.0 -4.0\n",
      "948 9 4.0 548.0 0.0\n",
      "950 0 -2.0 -550.0 -2.0\n",
      "951 7 4.0 552.0 2.0\n",
      "955 8 -4.0 -554.0 -2.0\n",
      "956 9 2.0 554.0 0.0\n",
      "959 5 -2.0 -556.0 -2.0\n",
      "964 2 -4.0 -560.0 -6.0\n",
      "970 2 4.0 558.0 -2.0\n",
      "971 1 4.0 562.0 2.0\n",
      "974 4 -2.0 -562.0 0.0\n",
      "977 3 2.0 564.0 2.0\n",
      "978 2 2.0 566.0 4.0\n",
      "979 1 -8.0 -570.0 -4.0\n",
      "983 1 4.0 570.0 0.0\n",
      "984 9 2.0 572.0 2.0\n",
      "985 8 -2.0 -572.0 0.0\n",
      "988 7 -2.0 -574.0 -2.0\n",
      "989 6 2.0 574.0 0.0\n",
      "994 5 2.0 576.0 2.0\n",
      "995 4 -2.0 -576.0 0.0\n",
      "1000 3 -2.0 -578.0 -2.0\n",
      "1006 2 2.0 578.0 0.0\n",
      "1012 6 -4.0 -582.0 -4.0\n",
      "1014 8 -4.0 -586.0 -8.0\n",
      "1016 5 2.0 580.0 -6.0\n",
      "1017 7 4.0 584.0 -2.0\n",
      "1020 1 2.0 586.0 0.0\n",
      "1022 4 -2.0 -588.0 -2.0\n",
      "1023 9 4.0 590.0 2.0\n",
      "1027 0 -2.0 -590.0 0.0\n",
      "1029 8 -4.0 -594.0 -4.0\n",
      "1033 9 4.0 594.0 0.0\n",
      "1037 4 4.0 598.0 4.0\n",
      "1043 8 -2.0 -596.0 2.0\n",
      "1045 3 -4.0 -600.0 -2.0\n",
      "1051 4 2.0 600.0 0.0\n",
      "1054 7 2.0 602.0 2.0\n",
      "1057 5 2.0 604.0 4.0\n",
      "1062 7 -2.0 -602.0 2.0\n",
      "1064 8 -2.0 -604.0 0.0\n",
      "1065 9 2.0 606.0 2.0\n",
      "1066 0 2.0 608.0 4.0\n",
      "1067 2 4.0 612.0 8.0\n",
      "1073 2 -4.0 -608.0 4.0\n",
      "1074 6 -2.0 -610.0 2.0\n",
      "1075 1 -2.0 -612.0 0.0\n",
      "1085 1 2.0 614.0 2.0\n",
      "1086 9 2.0 616.0 4.0\n",
      "1087 2 4.0 620.0 8.0\n",
      "1091 8 -4.0 -616.0 4.0\n",
      "1092 7 2.0 622.0 6.0\n",
      "1093 3 -2.0 -618.0 4.0\n",
      "1095 4 2.0 624.0 6.0\n",
      "1097 1 -4.0 -622.0 2.0\n",
      "1101 5 -4.0 -626.0 -2.0\n",
      "1104 6 -4.0 -630.0 -6.0\n",
      "1107 6 4.0 628.0 -2.0\n",
      "1109 7 -4.0 -634.0 -6.0\n",
      "1112 9 4.0 632.0 -2.0\n"
     ]
    },
    {
     "name": "stdout",
     "output_type": "stream",
     "text": [
      "1114 5 2.0 634.0 0.0\n",
      "1115 1 4.0 638.0 4.0\n",
      "1117 0 -4.0 -638.0 0.0\n",
      "1118 9 -2.0 -640.0 -2.0\n",
      "1120 6 2.0 640.0 0.0\n",
      "1124 6 -2.0 -642.0 -2.0\n",
      "1126 0 2.0 642.0 0.0\n",
      "1129 1 -4.0 -646.0 -4.0\n",
      "1131 9 2.0 644.0 -2.0\n",
      "1135 1 4.0 648.0 2.0\n",
      "1137 6 2.0 650.0 4.0\n",
      "1141 5 4.0 654.0 8.0\n",
      "1142 4 -2.0 -648.0 6.0\n",
      "1144 3 -2.0 -650.0 4.0\n",
      "1148 4 4.0 658.0 8.0\n",
      "1150 1 -4.0 -654.0 4.0\n",
      "1159 1 4.0 662.0 8.0\n",
      "1160 6 -8.0 -662.0 0.0\n",
      "1161 4 -4.0 -666.0 -4.0\n",
      "1162 9 -4.0 -670.0 -8.0\n",
      "1163 3 2.0 664.0 -6.0\n",
      "1168 6 8.0 672.0 2.0\n",
      "1169 8 8.0 680.0 10.0\n",
      "1171 9 -2.0 -672.0 8.0\n",
      "1174 5 -2.0 -674.0 6.0\n",
      "1177 6 -4.0 -678.0 2.0\n",
      "1178 8 -4.0 -682.0 -2.0\n",
      "1179 0 2.0 682.0 0.0\n",
      "1182 1 -8.0 -690.0 -8.0\n",
      "1183 9 2.0 684.0 -6.0\n",
      "1184 5 -2.0 -692.0 -8.0\n",
      "1187 6 4.0 688.0 -4.0\n",
      "1190 7 2.0 690.0 -2.0\n",
      "1191 1 8.0 698.0 6.0\n",
      "1193 0 -4.0 -696.0 2.0\n",
      "1197 3 2.0 700.0 4.0\n",
      "1198 6 -2.0 -698.0 2.0\n",
      "1200 9 -4.0 -702.0 -2.0\n",
      "1201 8 2.0 702.0 0.0\n",
      "1204 0 2.0 704.0 2.0\n",
      "1205 5 2.0 706.0 4.0\n",
      "1209 2 -4.0 -706.0 0.0\n",
      "1211 5 -2.0 -708.0 -2.0\n",
      "1220 6 2.0 708.0 0.0\n",
      "1224 2 4.0 712.0 4.0\n",
      "1228 3 -4.0 -712.0 0.0\n",
      "1230 0 2.0 714.0 2.0\n",
      "1234 4 -4.0 -716.0 -2.0\n",
      "1238 3 4.0 718.0 2.0\n",
      "1240 5 2.0 720.0 4.0\n",
      "1244 1 -4.0 -720.0 0.0\n",
      "1250 3 4.0 724.0 4.0\n",
      "1253 5 -2.0 -722.0 2.0\n",
      "1255 1 4.0 728.0 6.0\n",
      "1256 6 -2.0 -724.0 4.0\n",
      "1258 0 -4.0 -728.0 0.0\n",
      "1262 3 -4.0 -732.0 -4.0\n",
      "1264 6 2.0 730.0 -2.0\n",
      "1267 0 4.0 734.0 2.0\n",
      "1268 8 -2.0 -734.0 0.0\n",
      "1270 4 2.0 736.0 2.0\n",
      "1275 7 -2.0 -736.0 0.0\n",
      "1276 1 -4.0 -740.0 -4.0\n",
      "1277 3 -2.0 -742.0 -6.0\n",
      "1278 2 2.0 738.0 -4.0\n",
      "1280 9 2.0 740.0 -2.0\n",
      "1284 2 2.0 742.0 0.0\n",
      "1286 4 4.0 746.0 4.0\n",
      "1287 8 4.0 750.0 8.0\n",
      "1293 9 -2.0 -744.0 6.0\n",
      "1294 2 -2.0 -746.0 4.0\n",
      "1296 6 -4.0 -750.0 0.0\n",
      "1297 3 -4.0 -754.0 -4.0\n",
      "1302 9 2.0 752.0 -2.0\n",
      "1304 2 2.0 754.0 0.0\n",
      "1312 8 -2.0 -756.0 -2.0\n",
      "1319 6 8.0 762.0 6.0\n",
      "1320 1 4.0 766.0 10.0\n",
      "1321 0 -4.0 -760.0 6.0\n",
      "1324 7 -2.0 -762.0 4.0\n",
      "1329 7 -2.0 -764.0 2.0\n",
      "1331 5 -4.0 -768.0 -2.0\n",
      "1333 4 2.0 768.0 0.0\n",
      "1335 0 2.0 770.0 2.0\n",
      "1337 1 -4.0 -772.0 -2.0\n",
      "1338 7 2.0 772.0 0.0\n",
      "1346 7 -2.0 -774.0 -2.0\n",
      "1353 3 -2.0 -776.0 -4.0\n",
      "1354 8 -2.0 -778.0 -6.0\n",
      "1358 8 2.0 774.0 -4.0\n",
      "1361 2 4.0 778.0 0.0\n",
      "1362 3 -2.0 -780.0 -2.0\n",
      "1363 4 -2.0 -782.0 -4.0\n",
      "1368 8 2.0 780.0 -2.0\n",
      "1369 1 -4.0 -786.0 -6.0\n",
      "1371 2 8.0 788.0 2.0\n",
      "1373 2 -4.0 -790.0 -2.0\n",
      "1374 0 -2.0 -792.0 -4.0\n",
      "1375 3 4.0 792.0 0.0\n",
      "1376 6 2.0 794.0 2.0\n",
      "1379 7 -4.0 -796.0 -2.0\n",
      "1381 0 4.0 798.0 2.0\n",
      "1382 8 2.0 800.0 4.0\n",
      "1385 5 -2.0 -798.0 2.0\n",
      "1389 0 -4.0 -802.0 -2.0\n",
      "1399 0 4.0 804.0 2.0\n",
      "1400 1 -4.0 -806.0 -2.0\n",
      "1402 0 4.0 808.0 2.0\n",
      "1407 2 -4.0 -810.0 -2.0\n",
      "1411 5 2.0 810.0 0.0\n",
      "1412 6 -2.0 -812.0 -2.0\n",
      "1416 0 -2.0 -814.0 -4.0\n",
      "1418 8 2.0 812.0 -2.0\n",
      "1424 6 2.0 814.0 0.0\n",
      "1426 7 -2.0 -816.0 -2.0\n",
      "1429 9 -2.0 -818.0 -4.0\n",
      "1430 4 -2.0 -820.0 -6.0\n",
      "1433 9 2.0 816.0 -4.0\n",
      "1437 4 2.0 818.0 -2.0\n",
      "1439 0 -2.0 -822.0 -4.0\n",
      "1441 9 -2.0 -824.0 -6.0\n",
      "1444 9 4.0 822.0 -2.0\n",
      "1445 5 -2.0 -826.0 -4.0\n",
      "1446 7 -2.0 -828.0 -6.0\n",
      "1450 5 4.0 826.0 -2.0\n",
      "1452 4 -8.0 -836.0 -10.0\n",
      "1453 2 4.0 830.0 -6.0\n",
      "1457 7 4.0 834.0 -2.0\n",
      "1458 2 -4.0 -840.0 -6.0\n",
      "1460 8 -8.0 -848.0 -14.0\n",
      "1461 4 4.0 838.0 -10.0\n",
      "1463 0 4.0 842.0 -6.0\n",
      "1468 2 4.0 846.0 -2.0\n",
      "1469 7 4.0 850.0 2.0\n",
      "1470 9 4.0 854.0 6.0\n",
      "1473 8 -8.0 -856.0 -2.0\n",
      "1474 7 2.0 856.0 0.0\n",
      "1478 1 -4.0 -860.0 -4.0\n",
      "1479 6 -2.0 -862.0 -6.0\n",
      "1482 8 4.0 860.0 -2.0\n",
      "1483 5 2.0 862.0 0.0\n",
      "1484 4 -2.0 -864.0 -2.0\n",
      "1485 3 4.0 866.0 2.0\n",
      "1488 9 -2.0 -866.0 0.0\n",
      "1489 5 -4.0 -870.0 -4.0\n",
      "1492 7 -4.0 -874.0 -8.0\n",
      "1495 2 -4.0 -878.0 -12.0\n",
      "1497 8 4.0 870.0 -8.0\n",
      "1499 1 4.0 874.0 -4.0\n",
      "1502 6 4.0 878.0 0.0\n",
      "1506 5 2.0 880.0 2.0\n",
      "1507 9 2.0 882.0 4.0\n",
      "1509 8 -4.0 -882.0 0.0\n",
      "1511 4 -4.0 -886.0 -4.0\n",
      "1513 2 2.0 884.0 -2.0\n",
      "1521 5 -2.0 -888.0 -4.0\n",
      "1523 8 4.0 888.0 0.0\n",
      "1524 9 -4.0 -892.0 -4.0\n",
      "1527 1 -2.0 -894.0 -6.0\n",
      "1532 4 4.0 892.0 -2.0\n",
      "1534 7 -4.0 -898.0 -6.0\n",
      "1536 6 -4.0 -902.0 -10.0\n",
      "1537 4 4.0 896.0 -6.0\n",
      "1538 8 4.0 900.0 -2.0\n",
      "1539 3 -2.0 -904.0 -4.0\n",
      "1542 0 2.0 902.0 -2.0\n",
      "1543 6 8.0 910.0 6.0\n",
      "1546 5 -8.0 -912.0 -2.0\n",
      "1548 5 4.0 914.0 2.0\n",
      "1550 3 -2.0 -914.0 0.0\n",
      "1555 8 -4.0 -918.0 -4.0\n",
      "1557 9 2.0 916.0 -2.0\n",
      "1558 0 -2.0 -920.0 -4.0\n",
      "1562 6 -2.0 -922.0 -6.0\n",
      "1565 5 -2.0 -924.0 -8.0\n",
      "1568 3 2.0 918.0 -6.0\n",
      "1569 0 2.0 920.0 -4.0\n",
      "1571 9 2.0 922.0 -2.0\n",
      "1577 9 -4.0 -928.0 -6.0\n",
      "1578 8 4.0 926.0 -2.0\n",
      "1581 0 -2.0 -930.0 -4.0\n",
      "1582 5 4.0 930.0 0.0\n",
      "1583 3 -2.0 -932.0 -2.0\n",
      "1586 6 4.0 934.0 2.0\n",
      "1590 3 4.0 938.0 6.0\n",
      "1591 2 4.0 942.0 10.0\n",
      "1592 8 4.0 946.0 14.0\n",
      "1597 9 -4.0 -936.0 10.0\n",
      "1601 5 -4.0 -940.0 6.0\n",
      "1605 5 -4.0 -944.0 2.0\n",
      "1607 0 2.0 948.0 4.0\n",
      "1610 2 -8.0 -952.0 -4.0\n",
      "1611 1 4.0 952.0 0.0\n",
      "1613 5 4.0 956.0 4.0\n",
      "1615 4 -4.0 -956.0 0.0\n",
      "1619 7 -8.0 -964.0 -8.0\n",
      "1621 6 4.0 960.0 -4.0\n",
      "1623 3 4.0 964.0 0.0\n",
      "1624 0 -2.0 -966.0 -2.0\n",
      "1626 8 4.0 968.0 2.0\n",
      "1628 5 4.0 972.0 6.0\n",
      "1629 7 -4.0 -970.0 2.0\n",
      "1632 2 -2.0 -972.0 0.0\n",
      "1634 2 2.0 974.0 2.0\n",
      "1638 4 -2.0 -974.0 0.0\n",
      "1639 3 2.0 976.0 2.0\n",
      "1644 4 -4.0 -978.0 -2.0\n",
      "1648 7 4.0 980.0 2.0\n",
      "1651 8 4.0 984.0 6.0\n",
      "1655 4 4.0 988.0 10.0\n",
      "1657 8 -8.0 -986.0 2.0\n",
      "1658 9 4.0 992.0 6.0\n",
      "1660 4 4.0 996.0 10.0\n",
      "1661 0 2.0 998.0 12.0\n",
      "1662 6 -8.0 -994.0 4.0\n",
      "1663 1 -4.0 -998.0 0.0\n",
      "1668 0 -2.0 -1000.0 -2.0\n",
      "1670 7 4.0 1002.0 2.0\n",
      "1673 3 -8.0 -1008.0 -6.0\n",
      "1675 9 -4.0 -1012.0 -10.0\n",
      "1678 7 4.0 1006.0 -6.0\n",
      "1683 0 4.0 1010.0 -2.0\n",
      "1688 9 4.0 1014.0 2.0\n",
      "1692 2 8.0 1022.0 10.0\n",
      "1693 7 -4.0 -1016.0 6.0\n",
      "1696 1 -4.0 -1020.0 2.0\n",
      "1702 8 -4.0 -1024.0 -2.0\n",
      "1707 1 4.0 1026.0 2.0\n",
      "1709 6 4.0 1030.0 6.0\n",
      "1710 5 -4.0 -1028.0 2.0\n",
      "1712 7 -4.0 -1032.0 -2.0\n",
      "1714 5 4.0 1034.0 2.0\n",
      "1715 2 -8.0 -1040.0 -6.0\n",
      "1719 9 2.0 1036.0 -4.0\n",
      "1721 8 4.0 1040.0 0.0\n",
      "1723 0 -2.0 -1042.0 -2.0\n",
      "1727 8 -4.0 -1046.0 -6.0\n",
      "1730 9 2.0 1042.0 -4.0\n",
      "1731 1 2.0 1044.0 -2.0\n",
      "1735 2 4.0 1048.0 2.0\n",
      "1738 5 -4.0 -1050.0 -2.0\n",
      "1743 4 2.0 1050.0 0.0\n",
      "1745 6 2.0 1052.0 2.0\n",
      "1746 1 2.0 1054.0 4.0\n",
      "1748 4 -2.0 -1052.0 2.0\n",
      "1750 7 2.0 1056.0 4.0\n",
      "1753 2 -8.0 -1060.0 -4.0\n",
      "1755 7 2.0 1058.0 -2.0\n",
      "1756 8 -4.0 -1064.0 -6.0\n",
      "1759 3 4.0 1062.0 -2.0\n",
      "1762 8 -4.0 -1068.0 -6.0\n",
      "1766 1 2.0 1064.0 -4.0\n",
      "1767 9 4.0 1068.0 0.0\n",
      "1773 6 2.0 1070.0 2.0\n",
      "1777 5 4.0 1074.0 6.0\n",
      "1779 9 -4.0 -1072.0 2.0\n",
      "1780 3 -4.0 -1076.0 -2.0\n",
      "1783 9 2.0 1076.0 0.0\n",
      "1785 6 -4.0 -1080.0 -4.0\n",
      "1789 8 2.0 1078.0 -2.0\n",
      "1792 6 -4.0 -1084.0 -6.0\n",
      "1795 8 2.0 1080.0 -4.0\n",
      "1797 1 2.0 1082.0 -2.0\n",
      "1802 0 -2.0 -1086.0 -4.0\n",
      "1805 6 8.0 1090.0 4.0\n",
      "1806 9 -2.0 -1088.0 2.0\n",
      "1809 5 -4.0 -1092.0 -2.0\n",
      "1811 0 2.0 1092.0 0.0\n",
      "1813 4 2.0 1094.0 2.0\n",
      "1815 1 -4.0 -1096.0 -2.0\n",
      "1816 4 -2.0 -1098.0 -4.0\n",
      "1819 5 -4.0 -1102.0 -8.0\n",
      "1821 1 4.0 1098.0 -4.0\n",
      "1826 1 -2.0 -1104.0 -6.0\n",
      "1827 2 4.0 1102.0 -2.0\n",
      "1829 9 4.0 1106.0 2.0\n",
      "1830 4 8.0 1114.0 10.0\n",
      "1831 8 -4.0 -1108.0 6.0\n",
      "1836 4 -4.0 -1112.0 2.0\n",
      "1837 3 -4.0 -1116.0 -2.0\n",
      "1840 5 2.0 1116.0 0.0\n",
      "1842 8 4.0 1120.0 4.0\n",
      "1843 7 -8.0 -1124.0 -4.0\n",
      "1847 9 -4.0 -1128.0 -8.0\n",
      "1849 8 4.0 1124.0 -4.0\n",
      "1850 5 2.0 1126.0 -2.0\n",
      "1851 3 4.0 1130.0 2.0\n",
      "1856 1 -2.0 -1130.0 0.0\n",
      "1857 0 2.0 1132.0 2.0\n",
      "1864 3 -2.0 -1132.0 0.0\n",
      "1868 4 2.0 1134.0 2.0\n",
      "1869 5 -4.0 -1136.0 -2.0\n",
      "1873 6 4.0 1138.0 2.0\n",
      "1875 2 4.0 1142.0 6.0\n",
      "1876 7 -2.0 -1138.0 4.0\n",
      "1877 0 -2.0 -1140.0 2.0\n",
      "1880 8 -2.0 -1142.0 0.0\n",
      "1887 1 -4.0 -1146.0 -4.0\n",
      "1889 8 4.0 1146.0 0.0\n",
      "1892 9 -4.0 -1150.0 -4.0\n",
      "1894 0 2.0 1148.0 -2.0\n",
      "1899 3 -4.0 -1154.0 -6.0\n",
      "1900 8 2.0 1150.0 -4.0\n",
      "1907 4 4.0 1154.0 0.0\n",
      "1908 2 4.0 1158.0 4.0\n",
      "1909 5 4.0 1162.0 8.0\n",
      "1911 7 -2.0 -1156.0 6.0\n",
      "1913 8 -4.0 -1160.0 2.0\n",
      "1914 0 -4.0 -1164.0 -2.0\n",
      "1915 5 -4.0 -1168.0 -6.0\n",
      "1917 6 2.0 1164.0 -4.0\n",
      "1919 4 -4.0 -1172.0 -8.0\n",
      "1922 0 2.0 1166.0 -6.0\n",
      "1925 9 4.0 1170.0 -2.0\n",
      "1926 5 2.0 1172.0 0.0\n",
      "1931 9 -4.0 -1176.0 -4.0\n",
      "1932 5 -4.0 -1180.0 -8.0\n",
      "1933 0 2.0 1174.0 -6.0\n",
      "1935 7 4.0 1178.0 -2.0\n",
      "1937 3 2.0 1180.0 0.0\n",
      "1938 6 4.0 1184.0 4.0\n",
      "1941 2 2.0 1186.0 6.0\n",
      "1944 1 -4.0 -1184.0 2.0\n",
      "1951 4 4.0 1190.0 6.0\n",
      "1952 6 -4.0 -1188.0 2.0\n",
      "1953 5 -2.0 -1190.0 0.0\n",
      "1954 7 -4.0 -1194.0 -4.0\n",
      "1955 3 4.0 1194.0 0.0\n",
      "1956 9 2.0 1196.0 2.0\n",
      "1960 1 -4.0 -1198.0 -2.0\n",
      "1961 5 2.0 1198.0 0.0\n",
      "1964 3 -4.0 -1202.0 -4.0\n",
      "1966 9 2.0 1200.0 -2.0\n",
      "1969 0 2.0 1202.0 0.0\n",
      "1970 7 4.0 1206.0 4.0\n",
      "1971 3 4.0 1210.0 8.0\n",
      "1975 5 -2.0 -1204.0 6.0\n",
      "1978 9 -4.0 -1208.0 2.0\n",
      "1982 3 -8.0 -1216.0 -6.0\n",
      "1986 3 8.0 1218.0 2.0\n",
      "1987 1 4.0 1222.0 6.0\n",
      "1988 6 2.0 1224.0 8.0\n",
      "1990 1 -2.0 -1218.0 6.0\n",
      "1994 2 -2.0 -1220.0 4.0\n",
      "1996 4 -2.0 -1222.0 2.0\n",
      "1997 5 2.0 1226.0 4.0\n",
      "Net positive change:  1226.0\n",
      "Net negative change:  -1222.0\n",
      "Net change:  4.0\n"
     ]
    }
   ],
   "source": [
    "pos_delta_e = 0.\n",
    "neg_delta_e = 0.\n",
    "net_delta_e = 0.\n",
    "temp = 100\n",
    "for i in range(2000):\n",
    "    node = latt.getRandomNode()\n",
    "    if latt.graph.node[node]['flipped']==False:\n",
    "        state_f = latt.getNodeRandomState(node)\n",
    "        delta_e = latt.getDeltaEnergy(node,state_f)\n",
    "#         delta_e = latt.getDeltaEnergySimple(node,state_f)\n",
    "#         print(delta_e)\n",
    "        if delta_e < 0:\n",
    "            latt.setNodeState(node,state_f)\n",
    "            latt.graph.node[node]['flipped'] = True\n",
    "            neg_delta_e += delta_e\n",
    "            net_delta_e += delta_e\n",
    "            print(i,node,delta_e,neg_delta_e,net_delta_e)\n",
    "        elif delta_e > 0 and np.exp(-delta_e/temp) > np.random.random_sample():\n",
    "# #         elif delta_e > 0 and np.exp(-delta_e/temp) > 0.5:\n",
    "            latt.setNodeState(node,state_f)\n",
    "            latt.graph.node[node]['flipped'] = True\n",
    "            pos_delta_e += delta_e\n",
    "            net_delta_e += delta_e\n",
    "            print(i,node,delta_e,pos_delta_e, net_delta_e)\n",
    "    elif latt.graph.node[node]['flipped']==True:\n",
    "#         latt.setNodeRandomState(node)\n",
    "        latt.graph.node[node]['flipped'] = False\n",
    "print('Net positive change: ',pos_delta_e)\n",
    "print('Net negative change: ',neg_delta_e)\n",
    "print('Net change: ',net_delta_e)"
   ]
  },
  {
   "cell_type": "code",
   "execution_count": 41,
   "metadata": {},
   "outputs": [
    {
     "name": "stdout",
     "output_type": "stream",
     "text": [
      "1999 \t        5 \t  4.0 \t  0.0\n"
     ]
    }
   ],
   "source": [
    "print(\"%3s \\t %8s \\t %4s \\t %4s\" % (i,node,delta_e,neg_delta_e))"
   ]
  },
  {
   "cell_type": "code",
   "execution_count": 48,
   "metadata": {},
   "outputs": [
    {
     "name": "stderr",
     "output_type": "stream",
     "text": [
      "/Users/deepak/miniconda3/envs/python3/lib/python3.6/site-packages/networkx/drawing/nx_pylab.py:611: MatplotlibDeprecationWarning: isinstance(..., numbers.Number)\n",
      "  if cb.is_numlike(alpha):\n"
     ]
    },
    {
     "data": {
      "image/png": "[encoded data removed]",
      "text/plain": [
       "<Figure size 432x288 with 1 Axes>"
      ]
     },
     "metadata": {},
     "output_type": "display_data"
    }
   ],
   "source": [
    "latt.draw()"
   ]
  },
  {
   "cell_type": "code",
   "execution_count": 47,
   "metadata": {},
   "outputs": [
    {
     "data": {
      "text/plain": [
       "-10.0"
      ]
     },
     "execution_count": 47,
     "metadata": {},
     "output_type": "execute_result"
    }
   ],
   "source": [
    "latt.latticeEnergy()"
   ]
  },
  {
   "cell_type": "code",
   "execution_count": 48,
   "metadata": {},
   "outputs": [
    {
     "data": {
      "text/latex": [
       "Quantum object: dims = [[3], [1]], shape = (3, 1), type = ket\\begin{equation*}\\left(\\begin{array}{*{11}c}1.0\\\\0.0\\\\0.0\\\\\\end{array}\\right)\\end{equation*}"
      ],
      "text/plain": [
       "Quantum object: dims = [[3], [1]], shape = (3, 1), type = ket\n",
       "Qobj data =\n",
       "[[1.]\n",
       " [0.]\n",
       " [0.]]"
      ]
     },
     "execution_count": 48,
     "metadata": {},
     "output_type": "execute_result"
    }
   ],
   "source": [
    "latt.getRandomState()"
   ]
  },
  {
   "cell_type": "code",
   "execution_count": 26,
   "metadata": {
    "collapsed": true
   },
   "outputs": [],
   "source": [
    "import random"
   ]
  },
  {
   "cell_type": "code",
   "execution_count": 49,
   "metadata": {},
   "outputs": [
    {
     "data": {
      "text/plain": [
       "6"
      ]
     },
     "execution_count": 49,
     "metadata": {},
     "output_type": "execute_result"
    }
   ],
   "source": [
    "latt.getRandomNode()"
   ]
  },
  {
   "cell_type": "code",
   "execution_count": 50,
   "metadata": {},
   "outputs": [
    {
     "data": {
      "text/plain": [
       "4.0"
      ]
     },
     "execution_count": 50,
     "metadata": {},
     "output_type": "execute_result"
    }
   ],
   "source": [
    "latt.getDeltaEnergy(latt.getRandomNode(),latt.getRandomState())"
   ]
  },
  {
   "cell_type": "code",
   "execution_count": 51,
   "metadata": {},
   "outputs": [],
   "source": [
    "latt.setRandomState()"
   ]
  },
  {
   "cell_type": "code",
   "execution_count": 52,
   "metadata": {},
   "outputs": [
    {
     "data": {
      "image/png": "[encoded data removed]",
      "text/plain": [
       "<Figure size 432x288 with 1 Axes>"
      ]
     },
     "metadata": {},
     "output_type": "display_data"
    }
   ],
   "source": [
    "latt.draw()"
   ]
  },
  {
   "cell_type": "code",
   "execution_count": 57,
   "metadata": {},
   "outputs": [
    {
     "name": "stdout",
     "output_type": "stream",
     "text": [
      "2.38 ms ± 139 µs per loop (mean ± std. dev. of 7 runs, 100 loops each)\n"
     ]
    }
   ],
   "source": [
    "%timeit latt.latticeEnergy()"
   ]
  },
  {
   "cell_type": "code",
   "execution_count": 58,
   "metadata": {},
   "outputs": [],
   "source": [
    "%timeit?"
   ]
  },
  {
   "cell_type": "code",
   "execution_count": 59,
   "metadata": {},
   "outputs": [],
   "source": [
    "latt.setRandomField()"
   ]
  },
  {
   "cell_type": "code",
   "execution_count": 60,
   "metadata": {},
   "outputs": [
    {
     "data": {
      "text/plain": [
       "0.41265662602202313"
      ]
     },
     "execution_count": 60,
     "metadata": {},
     "output_type": "execute_result"
    }
   ],
   "source": [
    "latt.latticeEnergy()"
   ]
  },
  {
   "cell_type": "code",
   "execution_count": 61,
   "metadata": {},
   "outputs": [
    {
     "name": "stdout",
     "output_type": "stream",
     "text": [
      "0.7376573171989835\n",
      "-0.3726314609727486\n",
      "-0.18840256318688553\n",
      "-0.17061375129451362\n",
      "0.3909909806732337\n",
      "-0.7559768572181151\n",
      "-0.32944091510506146\n",
      "0.8116072659159008\n",
      "-0.34277476250651073\n",
      "0.2617973101661064\n"
     ]
    }
   ],
   "source": [
    "for node in latt.graph:\n",
    "    print(latt.graph.node[node]['field'])"
   ]
  },
  {
   "cell_type": "code",
   "execution_count": 62,
   "metadata": {},
   "outputs": [
    {
     "data": {
      "text/latex": [
       "Quantum object: dims = [[3, 3], [3, 3]], shape = (9, 9), type = oper, isherm = True\\begin{equation*}\\left(\\begin{array}{*{11}c}-1.0 & 0.0 & 0.0 & 0.0 & 0.0 & 0.0 & 0.0 & 0.0 & 0.0\\\\0.0 & 0.0 & 0.0 & -1.0 & 0.0 & 0.0 & 0.0 & 0.0 & 0.0\\\\0.0 & 0.0 & 1.0 & 0.0 & -1.0 & 0.0 & 0.0 & 0.0 & 0.0\\\\0.0 & -1.0 & 0.0 & 0.0 & 0.0 & 0.0 & 0.0 & 0.0 & 0.0\\\\0.0 & 0.0 & -1.0 & 0.0 & 0.0 & 0.0 & -1.0 & 0.0 & 0.0\\\\0.0 & 0.0 & 0.0 & 0.0 & 0.0 & 0.0 & 0.0 & -1.0 & 0.0\\\\0.0 & 0.0 & 0.0 & 0.0 & -1.0 & 0.0 & 1.0 & 0.0 & 0.0\\\\0.0 & 0.0 & 0.0 & 0.0 & 0.0 & -1.0 & 0.0 & 0.0 & 0.0\\\\0.0 & 0.0 & 0.0 & 0.0 & 0.0 & 0.0 & 0.0 & 0.0 & -1.0\\\\\\end{array}\\right)\\end{equation*}"
      ],
      "text/plain": [
       "Quantum object: dims = [[3, 3], [3, 3]], shape = (9, 9), type = oper, isherm = True\n",
       "Qobj data =\n",
       "[[-1.  0.  0.  0.  0.  0.  0.  0.  0.]\n",
       " [ 0.  0.  0. -1.  0.  0.  0.  0.  0.]\n",
       " [ 0.  0.  1.  0. -1.  0.  0.  0.  0.]\n",
       " [ 0. -1.  0.  0.  0.  0.  0.  0.  0.]\n",
       " [ 0.  0. -1.  0.  0.  0. -1.  0.  0.]\n",
       " [ 0.  0.  0.  0.  0.  0.  0. -1.  0.]\n",
       " [ 0.  0.  0.  0. -1.  0.  1.  0.  0.]\n",
       " [ 0.  0.  0.  0.  0. -1.  0.  0.  0.]\n",
       " [ 0.  0.  0.  0.  0.  0.  0.  0. -1.]]"
      ]
     },
     "execution_count": 62,
     "metadata": {},
     "output_type": "execute_result"
    }
   ],
   "source": [
    "latt.hamiltonian.hamOp"
   ]
  },
  {
   "cell_type": "code",
   "execution_count": 63,
   "metadata": {},
   "outputs": [],
   "source": [
    "energies = []\n",
    "for i in range(100):\n",
    "    latt.setRandomState()\n",
    "    energies.append(latt.latticeEnergy())"
   ]
  },
  {
   "cell_type": "code",
   "execution_count": 64,
   "metadata": {},
   "outputs": [
    {
     "data": {
      "text/plain": [
       "(array([ 5.,  2., 14., 14., 19., 19., 11.,  7.,  5.,  4.]),\n",
       " array([-9.29394957, -7.40416595, -5.51438232, -3.62459869, -1.73481506,\n",
       "         0.15496857,  2.0447522 ,  3.93453582,  5.82431945,  7.71410308,\n",
       "         9.60388671]),\n",
       " <a list of 10 Patch objects>)"
      ]
     },
     "execution_count": 64,
     "metadata": {},
     "output_type": "execute_result"
    },
    {
     "data": {
      "image/png": "[encoded data removed]",
      "text/plain": [
       "<Figure size 432x288 with 1 Axes>"
      ]
     },
     "metadata": {
      "needs_background": "light"
     },
     "output_type": "display_data"
    }
   ],
   "source": [
    "plt.hist(energies,bins=10)"
   ]
  },
  {
   "cell_type": "code",
   "execution_count": 65,
   "metadata": {},
   "outputs": [
    {
     "data": {
      "text/plain": [
       "(<Figure size 576x864 with 1 Axes>,\n",
       " <matplotlib.axes._subplots.AxesSubplot at 0x12071df98>)"
      ]
     },
     "execution_count": 65,
     "metadata": {},
     "output_type": "execute_result"
    },
    {
     "data": {
      "image/png": "[encoded data removed]",
      "text/plain": [
       "<Figure size 576x864 with 1 Axes>"
      ]
     },
     "metadata": {
      "needs_background": "light"
     },
     "output_type": "display_data"
    }
   ],
   "source": [
    "plot_energy_levels([latt.hamOp])"
   ]
  },
  {
   "cell_type": "code",
   "execution_count": 66,
   "metadata": {},
   "outputs": [
    {
     "name": "stdout",
     "output_type": "stream",
     "text": [
      "[-9.29394957401869, -8.738101762025645, -7.9530772543368355, -7.716025846299234, -7.52465493204476, -6.250580274662472, -5.755158784053832, -5.3533815153109, -5.171532243003547, -4.960876045064875, -4.76049357620023, -4.6537925031443494, -4.634095261076362, -4.601595742325053, -4.261730187287797, -3.9906533281861494, -3.9294282078517697, -3.9095432294460624, -3.8332562734884545, -3.7339522888315035, -3.6473400207258178, -3.5584690280029276, -3.199325912700104, -3.1869413819079453, -3.1858647323143057, -3.102455453103235, -2.957038843715379, -2.852000456374897, -2.617415096850486, -2.204076788481854, -2.128203410003034, -2.1091220588082535, -2.004938999553349, -2.0013299536896048, -1.986423413128341, -1.7214557204888434, -1.677359104098229, -1.5549778212061844, -1.4225100891841016, -1.4099442265226143, -1.3267117692378754, -1.2563688427485016, -1.2005397497307417, -1.121117181232852, -0.7914435321450126, -0.7742012267043028, -0.6802394099023565, -0.6530267393248403, -0.5187292793989112, -0.35118735653271493, -0.23328758722246523, -0.23170546911929868, -0.1497386385109507, -0.13302629289741685, 0.19241884310620594, 0.2445178075719251, 0.26161234822079515, 0.45462956560562967, 0.6557243750070975, 0.7759187268666573, 0.8224647338595663, 0.8341201091930944, 1.0471014946563717, 1.1873838261243121, 1.291114040726328, 1.4046753248736887, 1.4833763008178633, 1.5549778212061842, 1.7139491270187157, 1.8285767698190392, 1.8780396844566003, 1.9741156260045785, 2.001180140242503, 2.178815509254078, 2.5533409290164952, 2.5590778150397546, 2.58424791921122, 2.966083198175923, 3.0100091171060597, 3.1813667731946422, 3.2390544673440305, 3.569091898175144, 3.6923466683580575, 3.7644201821142174, 4.097264688705658, 4.2409990485673426, 4.628440736186675, 4.631934405318299, 5.091305339271675, 5.673563748044299, 5.707803950415499, 5.917376548952866, 6.103053461578988, 6.408567718414009, 7.0739071402136915, 7.127481873966316, 8.270718238538791, 8.848522266603203, 8.894243651160975, 9.603886709648867]\n"
     ]
    }
   ],
   "source": [
    "uniq_energies = set(energies)\n",
    "print(sorted(uniq_energies))"
   ]
  },
  {
   "cell_type": "code",
   "execution_count": 67,
   "metadata": {},
   "outputs": [
    {
     "name": "stdout",
     "output_type": "stream",
     "text": [
      "{-0.1497386385109507: 1, -0.6802394099023565: 1, -0.13302629289741685: 1, 1.5549778212061842: 1, 4.631934405318299: 1, -0.7742012267043028: 1, 4.2409990485673426: 1, 1.291114040726328: 1, 3.2390544673440305: 1, 2.5533409290164952: 1, 3.569091898175144: 1, 7.127481873966316: 1, 5.917376548952866: 1, 6.408567718414009: 1, 9.603886709648867: 1, 2.966083198175923: 1, 8.270718238538791: 1, 8.848522266603203: 1, 7.0739071402136915: 1, -1.677359104098229: 1, 1.7139491270187157: 1, -2.0013299536896048: 1, -3.9294282078517697: 1, 4.097264688705658: 1, 6.103053461578988: 1, 1.1873838261243121: 1, -1.986423413128341: 1, 3.0100091171060597: 1, -3.1858647323143057: 1, -2.957038843715379: 1, 0.45462956560562967: 1, 3.6923466683580575: 1, 1.8285767698190392: 1, -1.121117181232852: 1, -4.76049357620023: 1, -1.2005397497307417: 1, -4.6537925031443494: 1, -3.9095432294460624: 1, 0.19241884310620594: 1, 1.4046753248736887: 1, 3.7644201821142174: 1, -3.6473400207258178: 1, 3.1813667731946422: 1, 1.9741156260045785: 1, -4.960876045064875: 1, -0.6530267393248403: 1, 0.2445178075719251: 1, -0.23170546911929868: 1, -0.5187292793989112: 1, 0.8341201091930944: 1, -0.23328758722246523: 1, 0.7759187268666573: 1, -0.35118735653271493: 1, 0.26161234822079515: 1, 0.6557243750070975: 1, -2.004938999553349: 1, 5.707803950415499: 1, -7.9530772543368355: 1, -7.716025846299234: 1, 1.4833763008178633: 1, -3.8332562734884545: 1, -3.5584690280029276: 1, -3.102455453103235: 1, -1.4099442265226143: 1, -1.7214557204888434: 1, -0.7914435321450126: 1, 0.8224647338595663: 1, -2.128203410003034: 1, 1.8780396844566003: 1, 1.0471014946563717: 1, -8.738101762025645: 1, 5.091305339271675: 1, 5.673563748044299: 1, 2.5590778150397546: 1, 2.58424791921122: 1, -2.852000456374897: 1, 8.894243651160975: 1, -1.2563688427485016: 1, -4.261730187287797: 1, -3.9906533281861494: 1, -1.3267117692378754: 1, 2.178815509254078: 1, -1.4225100891841016: 1, -3.7339522888315035: 1, 4.628440736186675: 1, -5.3533815153109: 1, -5.171532243003547: 1, 2.001180140242503: 1, -4.601595742325053: 1, -3.199325912700104: 1, -2.1091220588082535: 1, -9.29394957401869: 1, -2.617415096850486: 1, -7.52465493204476: 1, -6.250580274662472: 1, -5.755158784053832: 1, -4.634095261076362: 1, -3.1869413819079453: 1, -2.204076788481854: 1, -1.5549778212061844: 1}\n"
     ]
    }
   ],
   "source": [
    "energy_count = {}\n",
    "for uniq in uniq_energies:\n",
    "    energy_count[uniq] = energies.count(uniq)\n",
    "print(energy_count)"
   ]
  },
  {
   "cell_type": "code",
   "execution_count": 68,
   "metadata": {},
   "outputs": [
    {
     "data": {
      "text/plain": [
       "<matplotlib.collections.PathCollection at 0x120a2fb00>"
      ]
     },
     "execution_count": 68,
     "metadata": {},
     "output_type": "execute_result"
    },
    {
     "data": {
      "image/png": "[encoded data removed]",
      "text/plain": [
       "<Figure size 432x288 with 1 Axes>"
      ]
     },
     "metadata": {
      "needs_background": "light"
     },
     "output_type": "display_data"
    }
   ],
   "source": [
    "plt.scatter(list(energy_count.keys()),list(energy_count.values()))"
   ]
  },
  {
   "cell_type": "code",
   "execution_count": 69,
   "metadata": {},
   "outputs": [
    {
     "name": "stderr",
     "output_type": "stream",
     "text": [
      "/Users/deepak/miniconda3/lib/python3.6/site-packages/networkx/drawing/nx_pylab.py:565: MatplotlibDeprecationWarning: isinstance(..., numbers.Number)\n",
      "  if cb.is_numlike(alpha):\n"
     ]
    },
    {
     "data": {
      "image/png": "[encoded data removed]",
      "text/plain": [
       "<Figure size 432x288 with 1 Axes>"
      ]
     },
     "metadata": {},
     "output_type": "display_data"
    }
   ],
   "source": [
    "latt.draw()"
   ]
  },
  {
   "cell_type": "code",
   "execution_count": 70,
   "metadata": {},
   "outputs": [],
   "source": [
    "plt.scatter?"
   ]
  },
  {
   "cell_type": "code",
   "execution_count": null,
   "metadata": {
    "collapsed": true
   },
   "outputs": [],
   "source": [
    "set.issubset?"
   ]
  },
  {
   "cell_type": "code",
   "execution_count": null,
   "metadata": {
    "collapsed": true
   },
   "outputs": [],
   "source": [
    "create?"
   ]
  },
  {
   "cell_type": "code",
   "execution_count": null,
   "metadata": {
    "collapsed": true
   },
   "outputs": [],
   "source": [
    "x = hashQobj"
   ]
  },
  {
   "cell_type": "code",
   "execution_count": null,
   "metadata": {
    "collapsed": true
   },
   "outputs": [],
   "source": [
    "hash(x)"
   ]
  },
  {
   "cell_type": "code",
   "execution_count": null,
   "metadata": {
    "collapsed": true
   },
   "outputs": [],
   "source": [
    "x = hashQobj(basis(2,0))"
   ]
  },
  {
   "cell_type": "code",
   "execution_count": null,
   "metadata": {
    "collapsed": true
   },
   "outputs": [],
   "source": [
    "hash(x)"
   ]
  },
  {
   "cell_type": "code",
   "execution_count": null,
   "metadata": {
    "collapsed": true
   },
   "outputs": [],
   "source": [
    "x"
   ]
  },
  {
   "cell_type": "code",
   "execution_count": null,
   "metadata": {
    "collapsed": true
   },
   "outputs": [],
   "source": [
    "x = {}"
   ]
  },
  {
   "cell_type": "code",
   "execution_count": null,
   "metadata": {
    "collapsed": true
   },
   "outputs": [],
   "source": [
    "len(x)"
   ]
  },
  {
   "cell_type": "code",
   "execution_count": null,
   "metadata": {
    "collapsed": true
   },
   "outputs": [],
   "source": [
    "basis(3,2)"
   ]
  },
  {
   "cell_type": "code",
   "execution_count": null,
   "metadata": {
    "collapsed": true
   },
   "outputs": [],
   "source": [
    "basis(2,1)"
   ]
  },
  {
   "cell_type": "code",
   "execution_count": null,
   "metadata": {
    "collapsed": true
   },
   "outputs": [],
   "source": [
    "np.ndarray?"
   ]
  },
  {
   "cell_type": "code",
   "execution_count": null,
   "metadata": {
    "collapsed": true
   },
   "outputs": [],
   "source": [
    "size = 4\n",
    "arr = np.ndarray([size,size],dtype=Qobj)\n",
    "arr"
   ]
  },
  {
   "cell_type": "code",
   "execution_count": null,
   "metadata": {
    "collapsed": true
   },
   "outputs": [],
   "source": [
    "type(arr[0][1])"
   ]
  },
  {
   "cell_type": "code",
   "execution_count": 46,
   "metadata": {},
   "outputs": [
    {
     "ename": "NameError",
     "evalue": "name 'SquareLattice' is not defined",
     "output_type": "error",
     "traceback": [
      "\u001b[0;31m---------------------------------------------------------------------------\u001b[0m",
      "\u001b[0;31mNameError\u001b[0m                                 Traceback (most recent call last)",
      "\u001b[0;32m<ipython-input-46-bb65d75ced52>\u001b[0m in \u001b[0;36m<module>\u001b[0;34m()\u001b[0m\n\u001b[0;32m----> 1\u001b[0;31m \u001b[0mlatt\u001b[0m \u001b[0;34m=\u001b[0m \u001b[0mSquareLattice\u001b[0m\u001b[0;34m(\u001b[0m\u001b[0msize\u001b[0m\u001b[0;34m=\u001b[0m\u001b[0;36m50\u001b[0m\u001b[0;34m,\u001b[0m\u001b[0mperiodic\u001b[0m\u001b[0;34m=\u001b[0m\u001b[0;32mTrue\u001b[0m\u001b[0;34m,\u001b[0m\u001b[0mhamiltonian\u001b[0m\u001b[0;34m=\u001b[0m\u001b[0;34m'SpinGlass'\u001b[0m\u001b[0;34m,\u001b[0m\u001b[0mham_vars\u001b[0m\u001b[0;34m=\u001b[0m\u001b[0;34m{\u001b[0m\u001b[0;34m'mu'\u001b[0m\u001b[0;34m:\u001b[0m \u001b[0;36m0\u001b[0m\u001b[0;34m,\u001b[0m \u001b[0;34m'J_ij'\u001b[0m\u001b[0;34m:\u001b[0m \u001b[0;36m1\u001b[0m\u001b[0;34m}\u001b[0m\u001b[0;34m)\u001b[0m\u001b[0;34m\u001b[0m\u001b[0m\n\u001b[0m",
      "\u001b[0;31mNameError\u001b[0m: name 'SquareLattice' is not defined"
     ]
    }
   ],
   "source": [
    "latt = SquareLattice(size=50,periodic=True,hamiltonian='SpinGlass',ham_vars={'mu': 0, 'J_ij': 1})"
   ]
  },
  {
   "cell_type": "code",
   "execution_count": 71,
   "metadata": {},
   "outputs": [
    {
     "name": "stdout",
     "output_type": "stream",
     "text": [
      "-1.9632633745879713\n"
     ]
    },
    {
     "data": {
      "image/png": "[encoded data removed]",
      "text/plain": [
       "<Figure size 432x288 with 1 Axes>"
      ]
     },
     "metadata": {},
     "output_type": "display_data"
    }
   ],
   "source": [
    "latt.setRandomState()\n",
    "\n",
    "print(latt.latticeEnergy())\n",
    "\n",
    "latt.draw()"
   ]
  },
  {
   "cell_type": "code",
   "execution_count": 80,
   "metadata": {},
   "outputs": [],
   "source": [
    "energies = []\n",
    "for i in range(5000):\n",
    "    latt.setRandomState()\n",
    "    energies.append(latt.latticeEnergy())"
   ]
  },
  {
   "cell_type": "code",
   "execution_count": 82,
   "metadata": {},
   "outputs": [
    {
     "data": {
      "text/plain": [
       "(array([  1.,   1.,   0.,   2.,   0.,   8.,  18.,  13.,  33.,  24.,  62.,\n",
       "         73.,  95., 136., 204., 225., 268., 356., 375., 361., 425., 370.,\n",
       "        385., 382., 251., 235., 188., 135., 122.,  86.,  54.,  43.,  26.,\n",
       "         16.,  14.,   4.,   5.,   2.,   1.,   1.]),\n",
       " array([-16.30774756, -15.51361394, -14.71948032, -13.9253467 ,\n",
       "        -13.13121308, -12.33707946, -11.54294584, -10.74881222,\n",
       "         -9.9546786 ,  -9.16054498,  -8.36641136,  -7.57227774,\n",
       "         -6.77814412,  -5.9840105 ,  -5.18987688,  -4.39574326,\n",
       "         -3.60160964,  -2.80747602,  -2.0133424 ,  -1.21920878,\n",
       "         -0.42507516,   0.36905846,   1.16319208,   1.9573257 ,\n",
       "          2.75145932,   3.54559294,   4.33972656,   5.13386018,\n",
       "          5.9279938 ,   6.72212742,   7.51626104,   8.31039466,\n",
       "          9.10452828,   9.8986619 ,  10.69279552,  11.48692914,\n",
       "         12.28106276,  13.07519638,  13.86933   ,  14.66346362,\n",
       "         15.45759724]),\n",
       " <a list of 40 Patch objects>)"
      ]
     },
     "execution_count": 82,
     "metadata": {},
     "output_type": "execute_result"
    },
    {
     "data": {
      "image/png": "[encoded data removed]",
      "text/plain": [
       "<Figure size 432x288 with 1 Axes>"
      ]
     },
     "metadata": {
      "needs_background": "light"
     },
     "output_type": "display_data"
    }
   ],
   "source": [
    "plt.hist(energies,bins=40)"
   ]
  },
  {
   "cell_type": "code",
   "execution_count": 74,
   "metadata": {},
   "outputs": [
    {
     "name": "stdout",
     "output_type": "stream",
     "text": [
      "-13.511965541822308 \t 1\n",
      "-12.031817690203106 \t 1\n",
      "-10.124270156339001 \t 1\n",
      "-9.634516202279626 \t 1\n",
      "-9.505130479341044 \t 1\n",
      "-9.37953036931244 \t 1\n",
      "-8.974745824608606 \t 1\n",
      "-8.455159754604173 \t 1\n",
      "-8.033031527233746 \t 1\n",
      "-7.946014036369817 \t 1\n",
      "-7.662066739145366 \t 1\n",
      "-7.653715834085803 \t 1\n",
      "-7.650282304639367 \t 1\n",
      "-7.527581433385873 \t 1\n",
      "-7.408742305328972 \t 1\n",
      "-7.379148056040646 \t 1\n",
      "-7.176571152866261 \t 1\n",
      "-6.912094899476316 \t 1\n",
      "-6.83966042256295 \t 1\n",
      "-6.814331899076355 \t 1\n",
      "-6.742659018897376 \t 1\n",
      "-6.589647174319454 \t 1\n",
      "-6.544288131064304 \t 1\n",
      "-6.527133229616608 \t 1\n",
      "-6.504859351584881 \t 1\n",
      "-6.418601913071347 \t 1\n",
      "-6.380645756333392 \t 1\n",
      "-6.249158739826868 \t 1\n",
      "-6.218451580448777 \t 1\n",
      "-6.12564844337264 \t 1\n",
      "-6.117287453103677 \t 1\n",
      "-5.882760880240357 \t 1\n",
      "-5.793794943237432 \t 1\n",
      "-5.740782026401423 \t 1\n",
      "-5.698660695505533 \t 1\n",
      "-5.68517265864342 \t 1\n",
      "-5.665116197457267 \t 1\n",
      "-5.617239998844547 \t 1\n",
      "-5.6133780770060335 \t 1\n",
      "-5.597817499758214 \t 1\n",
      "-5.561136139405036 \t 1\n",
      "-5.51876802556684 \t 1\n",
      "-5.514861628379117 \t 1\n",
      "-5.494539127591053 \t 1\n",
      "-5.482777898574099 \t 1\n",
      "-5.471764972179539 \t 1\n",
      "-5.4692799028198635 \t 1\n",
      "-5.467501360333595 \t 1\n",
      "-5.451826226022606 \t 1\n",
      "-5.407394741507084 \t 1\n",
      "-5.352167678280262 \t 1\n",
      "-5.2667527911654215 \t 1\n",
      "-5.00632058318713 \t 1\n",
      "-5.0005728686061515 \t 1\n",
      "-4.9863445272368265 \t 1\n",
      "-4.879111380342588 \t 1\n",
      "-4.82342884713374 \t 1\n",
      "-4.815985119433168 \t 1\n",
      "-4.601026098805228 \t 1\n",
      "-4.586085058017065 \t 1\n",
      "-4.580048338092042 \t 1\n",
      "-4.47722861649085 \t 1\n",
      "-4.473620183724354 \t 1\n",
      "-4.467096116513063 \t 1\n",
      "-4.4523783403541275 \t 1\n",
      "-4.448839315798883 \t 1\n",
      "-4.416853844106639 \t 1\n",
      "-4.390109157903457 \t 1\n",
      "-4.356982681864635 \t 1\n",
      "-4.286930418390334 \t 1\n",
      "-4.260368096405853 \t 1\n",
      "-4.258425103916584 \t 1\n",
      "-4.257471612499967 \t 1\n",
      "-4.223274256335601 \t 1\n",
      "-4.144916015504664 \t 1\n",
      "-4.1332018535100445 \t 1\n",
      "-4.120629846268261 \t 1\n",
      "-4.042479264467833 \t 1\n",
      "-4.0269162161913 \t 1\n",
      "-4.009346671813851 \t 1\n",
      "-3.816431629160039 \t 1\n",
      "-3.7425279901509563 \t 1\n",
      "-3.6744954200427173 \t 1\n",
      "-3.6345878219583785 \t 1\n",
      "-3.6205680806972462 \t 1\n",
      "-3.600804554363775 \t 1\n",
      "-3.589298992477348 \t 1\n",
      "-3.4955140026097307 \t 1\n",
      "-3.4867439520885064 \t 1\n",
      "-3.464131704603009 \t 1\n",
      "-3.4252923231030983 \t 1\n",
      "-3.3005019558822 \t 1\n",
      "-3.28226693611916 \t 1\n",
      "-3.2539156227279333 \t 1\n",
      "-3.2509545074180206 \t 1\n",
      "-3.2496566256202306 \t 1\n",
      "-3.205399638335079 \t 1\n",
      "-3.1537381520563974 \t 1\n",
      "-3.1257258138636788 \t 1\n",
      "-3.0627493664013596 \t 1\n",
      "-3.0511845617675077 \t 1\n",
      "-3.0087738032076983 \t 1\n",
      "-3.0037762768813527 \t 1\n",
      "-2.999427131393848 \t 1\n",
      "-2.9957220419561787 \t 1\n",
      "-2.9861478958461656 \t 1\n",
      "-2.9509938873062693 \t 1\n",
      "-2.9226883651820934 \t 1\n",
      "-2.920759852237809 \t 1\n",
      "-2.898160801352589 \t 1\n",
      "-2.872933453885643 \t 1\n",
      "-2.8711870927870344 \t 1\n",
      "-2.862968418360781 \t 1\n",
      "-2.814622208882275 \t 1\n",
      "-2.8116964177142667 \t 1\n",
      "-2.789247577625224 \t 1\n",
      "-2.765743266940138 \t 1\n",
      "-2.7603437627531284 \t 1\n",
      "-2.7134905228129296 \t 1\n",
      "-2.7014636127686824 \t 1\n",
      "-2.681039077517559 \t 1\n",
      "-2.6753028429301478 \t 1\n",
      "-2.669808650160541 \t 1\n",
      "-2.6430584823424956 \t 1\n",
      "-2.6388250032289484 \t 1\n",
      "-2.6348716852204865 \t 1\n",
      "-2.587011692957367 \t 1\n",
      "-2.5519482551171464 \t 1\n",
      "-2.5222537856347125 \t 1\n",
      "-2.4247602312701977 \t 1\n",
      "-2.378781570709719 \t 1\n",
      "-2.368547486498488 \t 1\n",
      "-2.329351946770604 \t 1\n",
      "-2.3075211115105563 \t 1\n",
      "-2.3013396085778846 \t 1\n",
      "-2.2856456414824304 \t 1\n",
      "-2.2777030865020245 \t 1\n",
      "-2.248774469610202 \t 1\n",
      "-2.221156360526272 \t 1\n",
      "-2.181982999098603 \t 1\n",
      "-2.1569233172908167 \t 1\n",
      "-2.1244740888284155 \t 1\n",
      "-2.0904622049611286 \t 1\n",
      "-2.0822078191117592 \t 1\n",
      "-2.0410575085185894 \t 1\n",
      "-2.0395197475281734 \t 1\n",
      "-2.015823432357615 \t 1\n",
      "-2.007957931463153 \t 1\n",
      "-2.002463998581642 \t 1\n",
      "-1.993358108263645 \t 1\n",
      "-1.9816005302339574 \t 1\n",
      "-1.9674646723138594 \t 1\n",
      "-1.9337083037026426 \t 1\n",
      "-1.9096608615055055 \t 1\n",
      "-1.8988358726549 \t 1\n",
      "-1.8894813338527177 \t 1\n",
      "-1.8797538641675506 \t 1\n",
      "-1.8729491635900526 \t 1\n",
      "-1.8695497445110103 \t 1\n",
      "-1.8570960266212386 \t 1\n",
      "-1.8483398900628214 \t 1\n",
      "-1.845022586771196 \t 1\n",
      "-1.8240200240382833 \t 1\n",
      "-1.761833117065942 \t 1\n",
      "-1.747024232663909 \t 1\n",
      "-1.722738063427506 \t 1\n",
      "-1.7196615416317325 \t 1\n",
      "-1.7124121856972487 \t 1\n",
      "-1.7109804853978192 \t 1\n",
      "-1.7081883181438793 \t 1\n",
      "-1.707946923550779 \t 1\n",
      "-1.679253763243463 \t 1\n",
      "-1.6122856815457076 \t 1\n",
      "-1.5618753420910345 \t 1\n",
      "-1.548894940630172 \t 1\n",
      "-1.5399317193640376 \t 1\n",
      "-1.5038400081378522 \t 1\n",
      "-1.4922139400664471 \t 1\n",
      "-1.4756771550655399 \t 1\n",
      "-1.45003376957353 \t 1\n",
      "-1.4125830755437785 \t 1\n",
      "-1.4006094705457603 \t 1\n",
      "-1.4004848057088741 \t 1\n",
      "-1.3916392994719593 \t 1\n",
      "-1.3785104429535566 \t 1\n",
      "-1.3381801184067885 \t 1\n",
      "-1.3372101814523047 \t 1\n",
      "-1.3335715242430224 \t 1\n",
      "-1.3291896817823257 \t 1\n",
      "-1.3164167344131206 \t 1\n",
      "-1.304051758998518 \t 1\n",
      "-1.2892950318843552 \t 1\n",
      "-1.250831440951388 \t 1\n",
      "-1.237585212261639 \t 1\n",
      "-1.2350672513411995 \t 1\n",
      "-1.2195104063822197 \t 1\n",
      "-1.1793671080000667 \t 1\n",
      "-1.1346673724151326 \t 1\n",
      "-1.1163569637496134 \t 1\n",
      "-1.1056229429477586 \t 1\n",
      "-1.1027858112851445 \t 1\n",
      "-1.0459782283254084 \t 1\n",
      "-1.023623930951753 \t 1\n",
      "-1.0135966861020813 \t 1\n",
      "-0.9711499811464608 \t 1\n",
      "-0.9047082643944425 \t 1\n",
      "-0.8882939273974536 \t 1\n",
      "-0.8707499839839359 \t 1\n",
      "-0.8000245583758113 \t 1\n",
      "-0.7823269815023982 \t 1\n",
      "-0.7712977012803608 \t 1\n",
      "-0.7653433155709259 \t 1\n",
      "-0.7589676484125321 \t 1\n",
      "-0.7514966581459602 \t 1\n",
      "-0.73665599576049 \t 1\n",
      "-0.6583011225886295 \t 1\n",
      "-0.6569850828618317 \t 1\n",
      "-0.6380016582640827 \t 1\n",
      "-0.6217415731897039 \t 1\n",
      "-0.6179146640571677 \t 1\n",
      "-0.613506535710333 \t 1\n",
      "-0.6121175883520762 \t 1\n",
      "-0.6098657645452638 \t 1\n",
      "-0.6091573902228281 \t 1\n",
      "-0.5638698550286355 \t 1\n",
      "-0.5488450838526185 \t 1\n",
      "-0.5461256672192231 \t 1\n",
      "-0.5401140959044168 \t 1\n",
      "-0.49152484530548435 \t 1\n",
      "-0.3930693560327053 \t 1\n",
      "-0.3681583416554851 \t 1\n",
      "-0.366867409665362 \t 1\n",
      "-0.35408172648281344 \t 1\n",
      "-0.30740328698549235 \t 1\n",
      "-0.2985879076796487 \t 1\n",
      "-0.2691883445367086 \t 1\n",
      "-0.25291480798195354 \t 1\n",
      "-0.2525918556940442 \t 1\n",
      "-0.22839665450639235 \t 1\n",
      "-0.21691463912731132 \t 1\n",
      "-0.20656165083397116 \t 1\n",
      "-0.18433088102127893 \t 1\n",
      "-0.15725367547272756 \t 1\n",
      "-0.14961708744479407 \t 1\n",
      "-0.14816718073240065 \t 1\n",
      "-0.1464874732832148 \t 1\n",
      "-0.14402684236064872 \t 1\n",
      "-0.13601012423640316 \t 1\n",
      "-0.13429957388171598 \t 1\n",
      "-0.133568820052832 \t 1\n",
      "-0.09414004057340931 \t 1\n",
      "-0.09285126341261384 \t 1\n",
      "-0.08315597511510532 \t 1\n",
      "-0.07738493621737683 \t 1\n",
      "-0.06230117137270773 \t 1\n",
      "-0.04401770664783679 \t 1\n",
      "-0.00784035228424719 \t 1\n",
      "0.0034339355361263785 \t 1\n",
      "0.03375682469755094 \t 1\n",
      "0.04223916416156891 \t 1\n",
      "0.07477449184770933 \t 1\n",
      "0.07791594488487154 \t 1\n",
      "0.1381989295513809 \t 1\n",
      "0.16080000112672654 \t 1\n",
      "0.17423361486310718 \t 1\n",
      "0.19174416557190535 \t 1\n",
      "0.20621038167391353 \t 1\n",
      "0.21478637084659813 \t 1\n",
      "0.2150253048934233 \t 1\n",
      "0.22602585435665515 \t 1\n",
      "0.2459072052151906 \t 1\n",
      "0.25094724120526024 \t 1\n",
      "0.28545779564886603 \t 1\n",
      "0.3594948955538552 \t 1\n",
      "0.41605031410002913 \t 1\n",
      "0.4169394872440446 \t 1\n",
      "0.43891715996832936 \t 1\n",
      "0.47054396601199555 \t 1\n",
      "0.49698741646828526 \t 1\n",
      "0.5213304654175538 \t 1\n",
      "0.5484537663165712 \t 1\n",
      "0.5542248052142996 \t 1\n",
      "0.560943353687523 \t 1\n",
      "0.5794840299854884 \t 1\n",
      "0.5944049189648904 \t 1\n",
      "0.596294612080795 \t 1\n",
      "0.6676961277465155 \t 1\n",
      "0.7087270838722074 \t 1\n",
      "0.7117833401173187 \t 1\n",
      "0.7233377885099708 \t 1\n",
      "0.7249392637237492 \t 1\n",
      "0.7412374840617717 \t 1\n",
      "0.7418121484095258 \t 1\n",
      "0.7638037350966179 \t 1\n",
      "0.7790112765810252 \t 1\n",
      "0.7856160696207527 \t 1\n",
      "0.7857226740403471 \t 1\n",
      "0.7867943576046562 \t 1\n",
      "0.8028671244456165 \t 1\n",
      "0.8032401745568123 \t 1\n",
      "0.8096967525196913 \t 1\n",
      "0.89426124447669 \t 1\n",
      "0.8953612231966516 \t 1\n",
      "0.9040922111448538 \t 1\n",
      "0.933317379934606 \t 1\n",
      "0.9930990749863973 \t 1\n",
      "1.0096038856072054 \t 1\n",
      "1.0098274263547151 \t 1\n",
      "1.0169284189420484 \t 1\n",
      "1.0420504562762372 \t 1\n",
      "1.0499707247368686 \t 1\n",
      "1.0513704786213351 \t 1\n",
      "1.1091401035820883 \t 1\n",
      "1.1336679714950082 \t 1\n",
      "1.1344229567534432 \t 1\n",
      "1.1400544451796109 \t 1\n",
      "1.1559577349763517 \t 1\n",
      "1.1569627648912373 \t 1\n",
      "1.157644853327535 \t 1\n",
      "1.1750985301247927 \t 1\n",
      "1.2040248119471888 \t 1\n",
      "1.219114122816843 \t 1\n",
      "1.252865401489409 \t 1\n",
      "1.3133131570589043 \t 1\n",
      "1.3699884045900845 \t 1\n",
      "1.3733041095114578 \t 1\n",
      "1.4448611329195662 \t 1\n",
      "1.4747251703087876 \t 1\n",
      "1.4826336311519819 \t 1\n",
      "1.4870668493717747 \t 1\n",
      "1.4876628885809782 \t 1\n",
      "1.4974511993838242 \t 1\n",
      "1.4978564308826787 \t 1\n",
      "1.5390745314094432 \t 1\n",
      "1.5430921176938608 \t 1\n",
      "1.5435077496292353 \t 1\n",
      "1.5525286702771843 \t 1\n",
      "1.5719672728359362 \t 1\n",
      "1.6254157935764906 \t 1\n",
      "1.6688430678460755 \t 1\n",
      "1.6863260519054564 \t 1\n",
      "1.692481002445231 \t 1\n",
      "1.6932735045045944 \t 1\n",
      "1.7801274978128667 \t 1\n",
      "1.789063456512999 \t 1\n",
      "1.798292902357096 \t 1\n",
      "1.8312438340134758 \t 1\n",
      "1.841414256881881 \t 1\n",
      "1.8755435044872995 \t 1\n",
      "1.8780396844566003 \t 1\n",
      "1.9143339309527867 \t 1\n",
      "1.9177336541152439 \t 1\n",
      "1.9591761285820255 \t 1\n",
      "1.9712731429045496 \t 1\n",
      "1.983521741772089 \t 1\n",
      "2.0060939911856375 \t 1\n",
      "2.0198476540704 \t 1\n",
      "2.0617349505166014 \t 1\n",
      "2.096581344756981 \t 1\n",
      "2.152957476149435 \t 1\n",
      "2.1663384950126914 \t 1\n",
      "2.1791133716690303 \t 1\n",
      "2.1871300897932753 \t 1\n",
      "2.1938995781821626 \t 1\n",
      "2.2282149637550477 \t 1\n",
      "2.279097358771627 \t 1\n",
      "2.3211296873042526 \t 1\n",
      "2.399638193936009 \t 1\n",
      "2.4531767945281655 \t 1\n",
      "2.514736782987451 \t 1\n",
      "2.5259782379843183 \t 1\n",
      "2.5651145349647764 \t 1\n",
      "2.5692548733365275 \t 1\n",
      "2.6019421284255566 \t 1\n",
      "2.607030231252902 \t 1\n",
      "2.66222359769159 \t 1\n",
      "2.6703725359472212 \t 1\n",
      "2.68476492122986 \t 1\n",
      "2.7295812890592948 \t 1\n",
      "2.757883131830562 \t 1\n",
      "2.7672949418933603 \t 1\n",
      "2.8097753156719802 \t 1\n",
      "2.857110731701133 \t 1\n",
      "2.9026319039959394 \t 1\n",
      "2.950429181850639 \t 1\n",
      "2.986596484642829 \t 1\n",
      "2.9940721305211833 \t 1\n",
      "3.015315681757508 \t 1\n",
      "3.0159802629387022 \t 1\n",
      "3.0453229521701033 \t 1\n",
      "3.048474104211294 \t 1\n",
      "3.0622180680920286 \t 1\n",
      "3.0678964570960323 \t 1\n",
      "3.0857159911252916 \t 1\n",
      "3.1020627393949205 \t 1\n",
      "3.113495393649888 \t 1\n",
      "3.1213869313517137 \t 1\n",
      "3.1395865482696124 \t 1\n",
      "3.1502044524125 \t 1\n",
      "3.1885379295594523 \t 1\n",
      "3.3358709646021025 \t 1\n",
      "3.3755662727429026 \t 1\n",
      "3.3830334919461778 \t 1\n",
      "3.451687440215352 \t 1\n",
      "3.465001269488931 \t 1\n",
      "3.5017896845467127 \t 1\n",
      "3.5061487116575294 \t 1\n",
      "3.5679117579326403 \t 1\n",
      "3.5798928767098372 \t 1\n",
      "3.5858708974381024 \t 1\n",
      "3.60098624511512 \t 1\n",
      "3.6202361154044698 \t 1\n",
      "3.6435564776317038 \t 1\n",
      "3.7456509216764955 \t 1\n",
      "3.7644201821142174 \t 1\n",
      "3.7774809888109298 \t 1\n",
      "3.8681932384285083 \t 1\n",
      "3.887226142386829 \t 1\n",
      "3.9447392399850436 \t 1\n",
      "3.967229215729353 \t 1\n",
      "3.989298077616027 \t 1\n",
      "4.076911654896832 \t 1\n",
      "4.1065261697358215 \t 1\n",
      "4.128529153446703 \t 1\n",
      "4.132609885488412 \t 1\n",
      "4.186266006522218 \t 1\n",
      "4.188160665667453 \t 1\n",
      "4.19777384397887 \t 1\n",
      "4.219730348720804 \t 1\n",
      "4.2337426511148015 \t 1\n",
      "4.259516233362604 \t 1\n",
      "4.268629783661374 \t 1\n",
      "4.284670369114677 \t 1\n",
      "4.493442910298177 \t 1\n",
      "4.556527814438692 \t 1\n",
      "4.562511234990347 \t 1\n",
      "4.5806405957555105 \t 1\n",
      "4.642824135068776 \t 1\n",
      "4.833886472092481 \t 1\n",
      "4.840098204833404 \t 1\n",
      "4.853916186298165 \t 1\n",
      "4.926350097321954 \t 1\n",
      "4.983105277846087 \t 1\n",
      "5.038048903711739 \t 1\n",
      "5.1193490391831045 \t 1\n",
      "5.121676046191602 \t 1\n",
      "5.240798714486853 \t 1\n",
      "5.2712663866559275 \t 1\n",
      "5.328813181042275 \t 1\n",
      "5.441511980288833 \t 1\n",
      "5.448086261339939 \t 1\n",
      "5.463253961455916 \t 1\n",
      "5.52637951219223 \t 1\n",
      "5.547105988966769 \t 1\n",
      "5.6255067616252425 \t 1\n",
      "5.6438740500036255 \t 1\n",
      "5.690768338134756 \t 1\n",
      "5.694460913180119 \t 1\n",
      "5.764950675196179 \t 1\n",
      "5.839701592571407 \t 1\n",
      "5.840473279857573 \t 1\n",
      "5.941990702854181 \t 2\n",
      "5.951868383335526 \t 1\n",
      "5.987519535129759 \t 1\n",
      "6.001712664310474 \t 1\n",
      "6.046385255565865 \t 1\n",
      "6.137934449545265 \t 1\n",
      "6.229510916573101 \t 1\n",
      "6.252767270105077 \t 1\n",
      "6.343702756386751 \t 1\n",
      "6.369006484472284 \t 1\n",
      "6.393334140122238 \t 1\n",
      "6.460043190763005 \t 1\n",
      "6.505064588843571 \t 1\n",
      "6.588623617091621 \t 1\n",
      "6.59395206557139 \t 1\n",
      "6.632620524379107 \t 1\n",
      "6.659264914962817 \t 1\n",
      "7.035295707320431 \t 1\n",
      "7.160988709012058 \t 1\n",
      "7.183827404117207 \t 1\n",
      "7.190097761142844 \t 2\n",
      "7.2168426320146795 \t 1\n",
      "7.218659058924506 \t 1\n",
      "7.2241867462842615 \t 1\n",
      "7.320588950089115 \t 1\n",
      "7.449575221884742 \t 1\n",
      "7.479898111046167 \t 1\n",
      "7.513697591609035 \t 1\n",
      "8.115487792631702 \t 1\n",
      "8.52838302178367 \t 1\n",
      "8.578725528797674 \t 1\n",
      "8.598306654206699 \t 1\n",
      "8.895908977545778 \t 1\n",
      "8.918163963165377 \t 1\n",
      "9.232214107916553 \t 1\n",
      "10.778543292206692 \t 1\n",
      "10.896804295270087 \t 1\n"
     ]
    }
   ],
   "source": [
    "energy_set = set(energies)\n",
    "for e in sorted(energy_set):\n",
    "    print(e,'\\t',energies.count(e))"
   ]
  },
  {
   "cell_type": "markdown",
   "metadata": {},
   "source": [
    "## 2D Spin-Glass Lattice"
   ]
  },
  {
   "cell_type": "code",
   "execution_count": 19,
   "metadata": {},
   "outputs": [
    {
     "name": "stdout",
     "output_type": "stream",
     "text": [
      "Dimension of Lattice:  2\n",
      "False\n",
      "False\n",
      "False\n",
      "False\n",
      "False\n",
      "False\n",
      "False\n",
      "False\n",
      "False\n",
      "False\n",
      "False\n",
      "False\n",
      "False\n",
      "False\n",
      "False\n",
      "False\n",
      "{'J_ij': [[]], 'mu': 0}\n"
     ]
    },
    {
     "ename": "ValueError",
     "evalue": "('Hamiltonian variables for', 'SpinGlass', 'model, should subset of:', {'J_ij': [[]], 'mu': 0})",
     "output_type": "error",
     "traceback": [
      "\u001b[0;31m---------------------------------------------------------------------------\u001b[0m",
      "\u001b[0;31mValueError\u001b[0m                                Traceback (most recent call last)",
      "\u001b[0;32m<ipython-input-19-518050ddff2a>\u001b[0m in \u001b[0;36m<module>\u001b[0;34m\u001b[0m\n\u001b[0;32m----> 1\u001b[0;31m \u001b[0mlatt2\u001b[0m \u001b[0;34m=\u001b[0m \u001b[0mqutipLattice\u001b[0m\u001b[0;34m(\u001b[0m\u001b[0mlattice_dims\u001b[0m\u001b[0;34m=\u001b[0m\u001b[0;34m[\u001b[0m\u001b[0;36m4\u001b[0m\u001b[0;34m,\u001b[0m\u001b[0;36m4\u001b[0m\u001b[0;34m]\u001b[0m\u001b[0;34m,\u001b[0m\u001b[0mperiodic\u001b[0m\u001b[0;34m=\u001b[0m\u001b[0;32mTrue\u001b[0m\u001b[0;34m,\u001b[0m\u001b[0mhamType\u001b[0m\u001b[0;34m=\u001b[0m\u001b[0;34m'SpinGlass'\u001b[0m\u001b[0;34m,\u001b[0m\u001b[0mhamVars\u001b[0m\u001b[0;34m=\u001b[0m\u001b[0;34m{\u001b[0m\u001b[0;34m'mu'\u001b[0m\u001b[0;34m:\u001b[0m \u001b[0;36m0\u001b[0m\u001b[0;34m,\u001b[0m \u001b[0;34m'extfield'\u001b[0m\u001b[0;34m:\u001b[0m \u001b[0;36m0\u001b[0m\u001b[0;34m,\u001b[0m \u001b[0;34m'J_ij'\u001b[0m\u001b[0;34m:\u001b[0m \u001b[0;36m1\u001b[0m\u001b[0;34m}\u001b[0m\u001b[0;34m)\u001b[0m\u001b[0;34m\u001b[0m\u001b[0m\n\u001b[0m",
      "\u001b[0;32m<ipython-input-7-8d091ab19b98>\u001b[0m in \u001b[0;36m__init__\u001b[0;34m(self, lattice_dims, periodic, hamType, hamVars)\u001b[0m\n\u001b[1;32m     83\u001b[0m \u001b[0;34m\u001b[0m\u001b[0m\n\u001b[1;32m     84\u001b[0m         \u001b[0;32mif\u001b[0m \u001b[0mhamType\u001b[0m\u001b[0;34m:\u001b[0m\u001b[0;34m\u001b[0m\u001b[0m\n\u001b[0;32m---> 85\u001b[0;31m             \u001b[0mself\u001b[0m\u001b[0;34m.\u001b[0m\u001b[0mhamiltonian\u001b[0m \u001b[0;34m=\u001b[0m \u001b[0mqutipHamiltonian\u001b[0m\u001b[0;34m(\u001b[0m\u001b[0mhamType\u001b[0m\u001b[0;34m,\u001b[0m\u001b[0mself\u001b[0m\u001b[0;34m.\u001b[0m\u001b[0mgraph\u001b[0m\u001b[0;34m,\u001b[0m\u001b[0mhamVars\u001b[0m\u001b[0;34m)\u001b[0m\u001b[0;34m\u001b[0m\u001b[0m\n\u001b[0m\u001b[1;32m     86\u001b[0m             \u001b[0mself\u001b[0m\u001b[0;34m.\u001b[0m\u001b[0mhamOp\u001b[0m \u001b[0;34m=\u001b[0m \u001b[0mself\u001b[0m\u001b[0;34m.\u001b[0m\u001b[0mhamiltonian\u001b[0m\u001b[0;34m.\u001b[0m\u001b[0mhamOp\u001b[0m\u001b[0;34m\u001b[0m\u001b[0m\n\u001b[1;32m     87\u001b[0m             \u001b[0mself\u001b[0m\u001b[0;34m.\u001b[0m\u001b[0mfieldOp\u001b[0m \u001b[0;34m=\u001b[0m \u001b[0mself\u001b[0m\u001b[0;34m.\u001b[0m\u001b[0mhamiltonian\u001b[0m\u001b[0;34m.\u001b[0m\u001b[0mfieldOp\u001b[0m\u001b[0;34m\u001b[0m\u001b[0m\n",
      "\u001b[0;32m<ipython-input-9-0a56ccc942f5>\u001b[0m in \u001b[0;36m__init__\u001b[0;34m(self, hamType, graph, hamVars)\u001b[0m\n\u001b[1;32m     36\u001b[0m             \u001b[0;32melse\u001b[0m\u001b[0;34m:\u001b[0m\u001b[0;34m\u001b[0m\u001b[0m\n\u001b[1;32m     37\u001b[0m                 \u001b[0mself\u001b[0m\u001b[0;34m.\u001b[0m\u001b[0mhamType\u001b[0m \u001b[0;34m=\u001b[0m \u001b[0mhamType\u001b[0m\u001b[0;34m\u001b[0m\u001b[0m\n\u001b[0;32m---> 38\u001b[0;31m                 \u001b[0mself\u001b[0m\u001b[0;34m.\u001b[0m\u001b[0minitHamiltonian\u001b[0m\u001b[0;34m(\u001b[0m\u001b[0mgraph\u001b[0m\u001b[0;34m,\u001b[0m\u001b[0mhamType\u001b[0m\u001b[0;34m,\u001b[0m\u001b[0mhamVars\u001b[0m\u001b[0;34m)\u001b[0m\u001b[0;34m\u001b[0m\u001b[0m\n\u001b[0m\u001b[1;32m     39\u001b[0m \u001b[0;34m\u001b[0m\u001b[0m\n\u001b[1;32m     40\u001b[0m     \u001b[0;32mdef\u001b[0m \u001b[0minitHamiltonian\u001b[0m\u001b[0;34m(\u001b[0m\u001b[0mself\u001b[0m\u001b[0;34m,\u001b[0m\u001b[0mgraph\u001b[0m\u001b[0;34m,\u001b[0m\u001b[0mhamType\u001b[0m\u001b[0;34m,\u001b[0m\u001b[0mhamVars\u001b[0m\u001b[0;34m)\u001b[0m\u001b[0;34m:\u001b[0m\u001b[0;34m\u001b[0m\u001b[0m\n",
      "\u001b[0;32m<ipython-input-9-0a56ccc942f5>\u001b[0m in \u001b[0;36minitHamiltonian\u001b[0;34m(self, graph, hamType, hamVars)\u001b[0m\n\u001b[1;32m     56\u001b[0m             \u001b[0;32melse\u001b[0m\u001b[0;34m:\u001b[0m\u001b[0;34m\u001b[0m\u001b[0m\n\u001b[1;32m     57\u001b[0m                 raise ValueError('Hamiltonian variables for', self.hamType, 'model, should subset of:'\\\n\u001b[0;32m---> 58\u001b[0;31m                                             ,defVars)\n\u001b[0m\u001b[1;32m     59\u001b[0m         \u001b[0;32melse\u001b[0m\u001b[0;34m:\u001b[0m\u001b[0;34m\u001b[0m\u001b[0m\n\u001b[1;32m     60\u001b[0m             \u001b[0mprint\u001b[0m\u001b[0;34m(\u001b[0m\u001b[0;34m'Hamiltonian parameters not specified. Using default values'\u001b[0m\u001b[0;34m)\u001b[0m\u001b[0;34m\u001b[0m\u001b[0m\n",
      "\u001b[0;31mValueError\u001b[0m: ('Hamiltonian variables for', 'SpinGlass', 'model, should subset of:', {'J_ij': [[]], 'mu': 0})"
     ]
    }
   ],
   "source": [
    "latt2 = qutipLattice(lattice_dims=[4,4],periodic=True,hamType='SpinGlass',hamVars={'mu': 0, 'extfield': 0, 'J_ij': 1})"
   ]
  },
  {
   "cell_type": "code",
   "execution_count": 70,
   "metadata": {},
   "outputs": [
    {
     "ename": "TypeError",
     "evalue": "Invalid operand types",
     "output_type": "error",
     "traceback": [
      "\u001b[0;31m---------------------------------------------------------------------------\u001b[0m",
      "\u001b[0;31mTypeError\u001b[0m                                 Traceback (most recent call last)",
      "\u001b[0;32m<ipython-input-70-9bb48de04ccd>\u001b[0m in \u001b[0;36m<module>\u001b[0;34m()\u001b[0m\n\u001b[1;32m      1\u001b[0m \u001b[0mlatt2\u001b[0m\u001b[0;34m.\u001b[0m\u001b[0msetRandomState\u001b[0m\u001b[0;34m(\u001b[0m\u001b[0;34m)\u001b[0m\u001b[0;34m\u001b[0m\u001b[0m\n\u001b[1;32m      2\u001b[0m \u001b[0;34m\u001b[0m\u001b[0m\n\u001b[0;32m----> 3\u001b[0;31m \u001b[0mprint\u001b[0m\u001b[0;34m(\u001b[0m\u001b[0mlatt2\u001b[0m\u001b[0;34m.\u001b[0m\u001b[0mlatticeEnergy\u001b[0m\u001b[0;34m(\u001b[0m\u001b[0;34m)\u001b[0m\u001b[0;34m)\u001b[0m\u001b[0;34m\u001b[0m\u001b[0m\n\u001b[0m\u001b[1;32m      4\u001b[0m \u001b[0;34m\u001b[0m\u001b[0m\n\u001b[1;32m      5\u001b[0m \u001b[0mlatt2\u001b[0m\u001b[0;34m.\u001b[0m\u001b[0mdraw\u001b[0m\u001b[0;34m(\u001b[0m\u001b[0;34m)\u001b[0m\u001b[0;34m\u001b[0m\u001b[0m\n",
      "\u001b[0;32m<ipython-input-22-1ab111c81275>\u001b[0m in \u001b[0;36mlatticeEnergy\u001b[0;34m(self)\u001b[0m\n\u001b[1;32m     98\u001b[0m         \u001b[0menergy\u001b[0m \u001b[0;34m=\u001b[0m \u001b[0;36m0\u001b[0m\u001b[0;34m\u001b[0m\u001b[0m\n\u001b[1;32m     99\u001b[0m         \u001b[0;32mfor\u001b[0m \u001b[0mnode\u001b[0m \u001b[0;32min\u001b[0m \u001b[0mself\u001b[0m\u001b[0;34m.\u001b[0m\u001b[0mgraph\u001b[0m\u001b[0;34m:\u001b[0m\u001b[0;34m\u001b[0m\u001b[0m\n\u001b[0;32m--> 100\u001b[0;31m             \u001b[0menergy\u001b[0m \u001b[0;34m=\u001b[0m \u001b[0menergy\u001b[0m \u001b[0;34m+\u001b[0m \u001b[0mself\u001b[0m\u001b[0;34m.\u001b[0m\u001b[0mnearestEnergy\u001b[0m\u001b[0;34m(\u001b[0m\u001b[0mnode\u001b[0m\u001b[0;34m)\u001b[0m\u001b[0;34m\u001b[0m\u001b[0m\n\u001b[0m\u001b[1;32m    101\u001b[0m         \u001b[0;32mreturn\u001b[0m \u001b[0menergy\u001b[0m\u001b[0;34m\u001b[0m\u001b[0m\n\u001b[1;32m    102\u001b[0m \u001b[0;34m\u001b[0m\u001b[0m\n",
      "\u001b[0;32m<ipython-input-22-1ab111c81275>\u001b[0m in \u001b[0;36mnearestEnergy\u001b[0;34m(self, node)\u001b[0m\n\u001b[1;32m     83\u001b[0m         \u001b[0;32mfor\u001b[0m \u001b[0mneighbor\u001b[0m \u001b[0;32min\u001b[0m \u001b[0mself\u001b[0m\u001b[0;34m.\u001b[0m\u001b[0mgraph\u001b[0m\u001b[0;34m[\u001b[0m\u001b[0mnode\u001b[0m\u001b[0;34m]\u001b[0m\u001b[0;34m:\u001b[0m\u001b[0;34m\u001b[0m\u001b[0m\n\u001b[1;32m     84\u001b[0m             \u001b[0mtempstate\u001b[0m \u001b[0;34m=\u001b[0m \u001b[0mtensor\u001b[0m\u001b[0;34m(\u001b[0m\u001b[0mself\u001b[0m\u001b[0;34m.\u001b[0m\u001b[0mgraph\u001b[0m\u001b[0;34m.\u001b[0m\u001b[0mnode\u001b[0m\u001b[0;34m[\u001b[0m\u001b[0mnode\u001b[0m\u001b[0;34m]\u001b[0m\u001b[0;34m[\u001b[0m\u001b[0;34m'state'\u001b[0m\u001b[0;34m]\u001b[0m\u001b[0;34m,\u001b[0m\u001b[0mself\u001b[0m\u001b[0;34m.\u001b[0m\u001b[0mgraph\u001b[0m\u001b[0;34m.\u001b[0m\u001b[0mnode\u001b[0m\u001b[0;34m[\u001b[0m\u001b[0mneighbor\u001b[0m\u001b[0;34m]\u001b[0m\u001b[0;34m[\u001b[0m\u001b[0;34m'state'\u001b[0m\u001b[0;34m]\u001b[0m\u001b[0;34m)\u001b[0m\u001b[0;34m\u001b[0m\u001b[0m\n\u001b[0;32m---> 85\u001b[0;31m             \u001b[0menergy\u001b[0m \u001b[0;34m+=\u001b[0m \u001b[0mexpect\u001b[0m\u001b[0;34m(\u001b[0m\u001b[0mself\u001b[0m\u001b[0;34m.\u001b[0m\u001b[0mhamOp\u001b[0m\u001b[0;34m,\u001b[0m\u001b[0mtempstate\u001b[0m\u001b[0;34m)\u001b[0m\u001b[0;34m\u001b[0m\u001b[0m\n\u001b[0m\u001b[1;32m     86\u001b[0m         \u001b[0;32mreturn\u001b[0m \u001b[0menergy\u001b[0m\u001b[0;34m\u001b[0m\u001b[0m\n\u001b[1;32m     87\u001b[0m \u001b[0;34m\u001b[0m\u001b[0m\n",
      "\u001b[0;32m~/miniconda3/lib/python3.6/site-packages/qutip/expect.py\u001b[0m in \u001b[0;36mexpect\u001b[0;34m(oper, state)\u001b[0m\n\u001b[1;32m     71\u001b[0m     '''\n\u001b[1;32m     72\u001b[0m     \u001b[0;32mif\u001b[0m \u001b[0misinstance\u001b[0m\u001b[0;34m(\u001b[0m\u001b[0mstate\u001b[0m\u001b[0;34m,\u001b[0m \u001b[0mQobj\u001b[0m\u001b[0;34m)\u001b[0m \u001b[0;32mand\u001b[0m \u001b[0misinstance\u001b[0m\u001b[0;34m(\u001b[0m\u001b[0moper\u001b[0m\u001b[0;34m,\u001b[0m \u001b[0mQobj\u001b[0m\u001b[0;34m)\u001b[0m\u001b[0;34m:\u001b[0m\u001b[0;34m\u001b[0m\u001b[0m\n\u001b[0;32m---> 73\u001b[0;31m         \u001b[0;32mreturn\u001b[0m \u001b[0m_single_qobj_expect\u001b[0m\u001b[0;34m(\u001b[0m\u001b[0moper\u001b[0m\u001b[0;34m,\u001b[0m \u001b[0mstate\u001b[0m\u001b[0;34m)\u001b[0m\u001b[0;34m\u001b[0m\u001b[0m\n\u001b[0m\u001b[1;32m     74\u001b[0m \u001b[0;34m\u001b[0m\u001b[0m\n\u001b[1;32m     75\u001b[0m     \u001b[0;32melif\u001b[0m \u001b[0misinstance\u001b[0m\u001b[0;34m(\u001b[0m\u001b[0moper\u001b[0m\u001b[0;34m,\u001b[0m \u001b[0mQobj\u001b[0m\u001b[0;34m)\u001b[0m \u001b[0;32mand\u001b[0m \u001b[0misinstance\u001b[0m\u001b[0;34m(\u001b[0m\u001b[0mstate\u001b[0m\u001b[0;34m,\u001b[0m \u001b[0meseries\u001b[0m\u001b[0;34m)\u001b[0m\u001b[0;34m:\u001b[0m\u001b[0;34m\u001b[0m\u001b[0m\n",
      "\u001b[0;32m~/miniconda3/lib/python3.6/site-packages/qutip/expect.py\u001b[0m in \u001b[0;36m_single_qobj_expect\u001b[0;34m(oper, state)\u001b[0m\n\u001b[1;32m    118\u001b[0m                                  oper.isherm)\n\u001b[1;32m    119\u001b[0m     \u001b[0;32melse\u001b[0m\u001b[0;34m:\u001b[0m\u001b[0;34m\u001b[0m\u001b[0m\n\u001b[0;32m--> 120\u001b[0;31m         \u001b[0;32mraise\u001b[0m \u001b[0mTypeError\u001b[0m\u001b[0;34m(\u001b[0m\u001b[0;34m'Invalid operand types'\u001b[0m\u001b[0;34m)\u001b[0m\u001b[0;34m\u001b[0m\u001b[0m\n\u001b[0m\u001b[1;32m    121\u001b[0m \u001b[0;34m\u001b[0m\u001b[0m\n\u001b[1;32m    122\u001b[0m \u001b[0;34m\u001b[0m\u001b[0m\n",
      "\u001b[0;31mTypeError\u001b[0m: Invalid operand types"
     ]
    }
   ],
   "source": [
    "latt2.setRandomState()\n",
    "\n",
    "print(latt2.latticeEnergy())\n",
    "\n",
    "latt2.draw()"
   ]
  },
  {
   "cell_type": "code",
   "execution_count": null,
   "metadata": {
    "collapsed": true
   },
   "outputs": [],
   "source": [
    "energies = []\n",
    "for i in range(500):\n",
    "    latt.setRandomState()\n",
    "    energies.append(latt.latticeEnergy())"
   ]
  },
  {
   "cell_type": "code",
   "execution_count": null,
   "metadata": {
    "collapsed": true
   },
   "outputs": [],
   "source": [
    "plt.hist(energies,bins=40)"
   ]
  },
  {
   "cell_type": "code",
   "execution_count": null,
   "metadata": {
    "collapsed": true
   },
   "outputs": [],
   "source": [
    "energy_set = set(energies)\n",
    "for e in sorted(energy_set):\n",
    "    print(e,'\\t',energies.count(e))"
   ]
  },
  {
   "cell_type": "code",
   "execution_count": null,
   "metadata": {},
   "outputs": [],
   "source": []
  },
  {
   "cell_type": "code",
   "execution_count": null,
   "metadata": {
    "collapsed": true
   },
   "outputs": [],
   "source": [
    "print?"
   ]
  },
  {
   "cell_type": "code",
   "execution_count": null,
   "metadata": {
    "collapsed": true
   },
   "outputs": [],
   "source": [
    "latt.hamiltonianVars"
   ]
  },
  {
   "cell_type": "code",
   "execution_count": null,
   "metadata": {
    "collapsed": true
   },
   "outputs": [],
   "source": [
    "x = {'i':1,'j':2}\n",
    "x"
   ]
  },
  {
   "cell_type": "code",
   "execution_count": null,
   "metadata": {
    "collapsed": true
   },
   "outputs": [],
   "source": [
    "x.values()"
   ]
  },
  {
   "cell_type": "code",
   "execution_count": null,
   "metadata": {
    "collapsed": true
   },
   "outputs": [],
   "source": [
    "x.get?"
   ]
  },
  {
   "cell_type": "code",
   "execution_count": null,
   "metadata": {
    "collapsed": true
   },
   "outputs": [],
   "source": [
    "x.get('k')"
   ]
  },
  {
   "cell_type": "code",
   "execution_count": null,
   "metadata": {
    "collapsed": true
   },
   "outputs": [],
   "source": [
    "set(x.keys())"
   ]
  },
  {
   "cell_type": "code",
   "execution_count": null,
   "metadata": {
    "collapsed": true
   },
   "outputs": [],
   "source": [
    "y = {'j':1,'i':2}\n",
    "y"
   ]
  },
  {
   "cell_type": "code",
   "execution_count": null,
   "metadata": {
    "collapsed": true
   },
   "outputs": [],
   "source": [
    "set(x.keys()) ^ set(y.keys())"
   ]
  },
  {
   "cell_type": "code",
   "execution_count": null,
   "metadata": {
    "collapsed": true
   },
   "outputs": [],
   "source": [
    "x.keys() == y.keys()"
   ]
  },
  {
   "cell_type": "code",
   "execution_count": null,
   "metadata": {
    "collapsed": true
   },
   "outputs": [],
   "source": [
    "nx.grid_2d_graph?"
   ]
  },
  {
   "cell_type": "code",
   "execution_count": null,
   "metadata": {
    "collapsed": true
   },
   "outputs": [],
   "source": [
    "# Dead code\n",
    "\n",
    "#     def hamiltonianIsing(self,node):\n",
    "#         energy = 0.\n",
    "#         for neighbor in self.graph[node]:\n",
    "#             tempstate = tensor(self.graph.node[node]['state'],self.graph.node[neighbor]['state'])\n",
    "#             energy += expect(self.hamOp)\n",
    "# #             energy += -self.J*self.graph.node[node]['state']*self.graph.node[neighbor]['state']\n",
    "# #             energy += -self.mu*self.h*self.graph.node[node]['state']\n",
    "#         return energy\n",
    "    \n",
    "# #     def hamiltonianSpinGlass(self,node):\n",
    "# #         energy = 0.\n",
    "# #         for neighbor in self.graph[node]:\n",
    "# #             energy += 0\n",
    "    \n",
    "#     def hamiltonianHubbard(self,node):\n",
    "#         energy = 0.\n",
    "# #         for neighbor in self.graph[node]:\n",
    "# #             energy += -self.J*\n",
    "#         return 0\n",
    "    \n",
    "#     def hamiltonianHeisenberg(self,node):\n",
    "#         energy = 0.\n",
    "#         for neighbor in graph[node]:\n",
    "#             energy += -self.J*self.graph.node[node]['state']*self.graph.node[neighbor]['state']\n",
    "#             energy += -self.mu*self.h*self.graph.node[node]['state']\n",
    "#         return 0\n",
    "    \n",
    "#     def hamiltonianNumberOp(self,node):\n",
    "#         return 0\n",
    "    "
   ]
  },
  {
   "cell_type": "code",
   "execution_count": 43,
   "metadata": {
    "collapsed": true
   },
   "outputs": [],
   "source": [
    "qutip.basis?"
   ]
  },
  {
   "cell_type": "code",
   "execution_count": 44,
   "metadata": {},
   "outputs": [
    {
     "data": {
      "text/latex": [
       "Quantum object: dims = [[2], [1]], shape = (2, 1), type = ket\\begin{equation*}\\left(\\begin{array}{*{11}c}1.0\\\\0.0\\\\\\end{array}\\right)\\end{equation*}"
      ],
      "text/plain": [
       "Quantum object: dims = [[2], [1]], shape = (2, 1), type = ket\n",
       "Qobj data =\n",
       "[[ 1.]\n",
       " [ 0.]]"
      ]
     },
     "execution_count": 44,
     "metadata": {},
     "output_type": "execute_result"
    }
   ],
   "source": [
    "basis(2)"
   ]
  },
  {
   "cell_type": "code",
   "execution_count": 45,
   "metadata": {},
   "outputs": [
    {
     "data": {
      "text/latex": [
       "Quantum object: dims = [[2], [1]], shape = (2, 1), type = ket\\begin{equation*}\\left(\\begin{array}{*{11}c}1.0\\\\0.0\\\\\\end{array}\\right)\\end{equation*}"
      ],
      "text/plain": [
       "Quantum object: dims = [[2], [1]], shape = (2, 1), type = ket\n",
       "Qobj data =\n",
       "[[ 1.]\n",
       " [ 0.]]"
      ]
     },
     "execution_count": 45,
     "metadata": {},
     "output_type": "execute_result"
    }
   ],
   "source": [
    "basis(2,0)"
   ]
  },
  {
   "cell_type": "code",
   "execution_count": 56,
   "metadata": {},
   "outputs": [
    {
     "data": {
      "text/plain": [
       "array([ 0.41139716,  0.27643556])"
      ]
     },
     "execution_count": 56,
     "metadata": {},
     "output_type": "execute_result"
    }
   ],
   "source": [
    "x = np.random.rand(2)\n",
    "x"
   ]
  },
  {
   "cell_type": "code",
   "execution_count": 57,
   "metadata": {},
   "outputs": [
    {
     "data": {
      "text/plain": [
       "(0.4113971596835897+0.27643555578673773j)"
      ]
     },
     "execution_count": 57,
     "metadata": {},
     "output_type": "execute_result"
    }
   ],
   "source": [
    "np.complex(*x)"
   ]
  },
  {
   "cell_type": "code",
   "execution_count": 61,
   "metadata": {},
   "outputs": [
    {
     "data": {
      "text/latex": [
       "Quantum object: dims = [[2], [1]], shape = (2, 1), type = ket\\begin{equation*}\\left(\\begin{array}{*{11}c}(-0.466-0.429j)\\\\(0.498-0.592j)\\\\\\end{array}\\right)\\end{equation*}"
      ],
      "text/plain": [
       "Quantum object: dims = [[2], [1]], shape = (2, 1), type = ket\n",
       "Qobj data =\n",
       "[[-0.46616392-0.42903079j]\n",
       " [ 0.49815588-0.59200043j]]"
      ]
     },
     "execution_count": 61,
     "metadata": {},
     "output_type": "execute_result"
    }
   ],
   "source": [
    "x = rand_ket(2)\n",
    "x"
   ]
  },
  {
   "cell_type": "code",
   "execution_count": 62,
   "metadata": {},
   "outputs": [
    {
     "data": {
      "text/plain": [
       "1.0"
      ]
     },
     "execution_count": 62,
     "metadata": {},
     "output_type": "execute_result"
    }
   ],
   "source": [
    "x.norm()"
   ]
  },
  {
   "cell_type": "code",
   "execution_count": 64,
   "metadata": {},
   "outputs": [
    {
     "data": {
      "text/plain": [
       "(Quantum object: dims = [[2], [1]], shape = (2, 1), type = ket\n",
       " Qobj data =\n",
       " [[-0.51678963-0.53045802j]\n",
       "  [-0.62540985+0.24577486j]],\n",
       " Quantum object: dims = [[2], [1]], shape = (2, 1), type = ket\n",
       " Qobj data =\n",
       " [[-0.03347514+0.72673211j]\n",
       "  [-0.58487564+0.35869254j]])"
      ]
     },
     "execution_count": 64,
     "metadata": {},
     "output_type": "execute_result"
    }
   ],
   "source": [
    "x = rand_ket(2)\n",
    "y = rand_ket(2)\n",
    "x,y"
   ]
  },
  {
   "cell_type": "code",
   "execution_count": 65,
   "metadata": {},
   "outputs": [
    {
     "data": {
      "text/plain": [
       "(0.9999999999999999, 1.0)"
      ]
     },
     "execution_count": 65,
     "metadata": {},
     "output_type": "execute_result"
    }
   ],
   "source": [
    "x.norm(),y.norm()"
   ]
  },
  {
   "cell_type": "markdown",
   "metadata": {
    "collapsed": true
   },
   "source": [
    "# Sandbox"
   ]
  }
 ],
 "metadata": {
  "anaconda-cloud": {},
  "kernelspec": {
   "display_name": "Python 3",
   "language": "python",
   "name": "python3"
  },
  "language_info": {
   "codemirror_mode": {
    "name": "ipython",
    "version": 3
   },
   "file_extension": ".py",
   "mimetype": "text/x-python",
   "name": "python",
   "nbconvert_exporter": "python",
   "pygments_lexer": "ipython3",
   "version": "3.6.7"
  },
  "latex_envs": {
   "LaTeX_envs_menu_present": true,
   "autoclose": true,
   "autocomplete": true,
   "bibliofile": "biblio.bib",
   "cite_by": "apalike",
   "current_citInitial": 1,
   "eqLabelWithNumbers": true,
   "eqNumInitial": 0,
   "hotkeys": {
    "equation": "Ctrl-E",
    "itemize": "Ctrl-I"
   },
   "labels_anchors": false,
   "latex_user_defs": false,
   "report_style_numbering": true,
   "user_envs_cfg": false
  },
  "toc": {
   "base_numbering": 1,
   "nav_menu": {},
   "number_sections": true,
   "sideBar": false,
   "skip_h1_title": false,
   "title_cell": "Table of Contents",
   "title_sidebar": "Contents",
   "toc_cell": true,
   "toc_position": {
    "height": "284px",
    "left": "913.3px",
    "right": "57.7px",
    "top": "120px",
    "width": "314px"
   },
   "toc_section_display": true,
   "toc_window_display": true
  },
  "varInspector": {
   "cols": {
    "lenName": 16,
    "lenType": 16,
    "lenVar": 40
   },
   "kernels_config": {
    "python": {
     "delete_cmd_postfix": "",
     "delete_cmd_prefix": "del ",
     "library": "var_list.py",
     "varRefreshCmd": "print(var_dic_list())"
    },
    "r": {
     "delete_cmd_postfix": ") ",
     "delete_cmd_prefix": "rm(",
     "library": "var_list.r",
     "varRefreshCmd": "cat(var_dic_list()) "
    }
   },
   "types_to_exclude": [
    "module",
    "function",
    "builtin_function_or_method",
    "instance",
    "_Feature"
   ],
   "window_display": false
  }
 },
 "nbformat": 4,
 "nbformat_minor": 1
}
