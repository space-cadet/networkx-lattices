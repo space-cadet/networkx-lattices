{
 "cells": [
  {
   "cell_type": "markdown",
   "metadata": {
    "toc": "true"
   },
   "source": [
    "<h1>Table of Contents<span class=\"tocSkip\"></span></h1>\n",
    "<div class=\"toc\"><ul class=\"toc-item\"><li><span><a href=\"#QuTiP,-1D-&amp;-2D-Lattices\" data-toc-modified-id=\"QuTiP,-1D-&amp;-2D-Lattices-1\" data-vivaldi-spatnav-clickable=\"1\"><span class=\"toc-item-num\">1&nbsp;&nbsp;</span>QuTiP, 1D &amp; 2D Lattices</a></span><ul class=\"toc-item\"><li><span><a href=\"#Suppress-matplotlib-warnings\" data-toc-modified-id=\"Suppress-matplotlib-warnings-1.1\" data-vivaldi-spatnav-clickable=\"1\"><span class=\"toc-item-num\">1.1&nbsp;&nbsp;</span>Suppress matplotlib warnings</a></span></li></ul></li><li><span><a href=\"#Simplicial-Degrees-of-Freedom\" data-toc-modified-id=\"Simplicial-Degrees-of-Freedom-2\" data-vivaldi-spatnav-clickable=\"1\"><span class=\"toc-item-num\">2&nbsp;&nbsp;</span>Simplicial Degrees of Freedom</a></span><ul class=\"toc-item\"><li><span><a href=\"#Non-Simplicial-Degrees-of-Freedom\" data-toc-modified-id=\"Non-Simplicial-Degrees-of-Freedom-2.1\" data-vivaldi-spatnav-clickable=\"1\"><span class=\"toc-item-num\">2.1&nbsp;&nbsp;</span>Non-Simplicial Degrees of Freedom</a></span></li></ul></li><li><span><a href=\"#Utility-Classes\" data-toc-modified-id=\"Utility-Classes-3\" data-vivaldi-spatnav-clickable=\"1\"><span class=\"toc-item-num\">3&nbsp;&nbsp;</span>Utility Classes</a></span><ul class=\"toc-item\"><li><span><a href=\"#switch-Class-Definition\" data-toc-modified-id=\"switch-Class-Definition-3.1\" data-vivaldi-spatnav-clickable=\"1\"><span class=\"toc-item-num\">3.1&nbsp;&nbsp;</span><code>switch</code> Class Definition</a></span></li><li><span><a href=\"#hashQobj-class-definition\" data-toc-modified-id=\"hashQobj-class-definition-3.2\" data-vivaldi-spatnav-clickable=\"1\"><span class=\"toc-item-num\">3.2&nbsp;&nbsp;</span><code>hashQobj</code> class definition</a></span></li><li><span><a href=\"#Sandbox\" data-toc-modified-id=\"Sandbox-3.3\" data-vivaldi-spatnav-clickable=\"1\"><span class=\"toc-item-num\">3.3&nbsp;&nbsp;</span>Sandbox</a></span></li><li><span><a href=\"#qutipLattice-Class-Definition\" data-toc-modified-id=\"qutipLattice-Class-Definition-3.4\" data-vivaldi-spatnav-clickable=\"1\"><span class=\"toc-item-num\">3.4&nbsp;&nbsp;</span><code>qutipLattice</code> Class Definition</a></span></li><li><span><a href=\"#qutipHamiltonian-Class-Definition\" data-toc-modified-id=\"qutipHamiltonian-Class-Definition-3.5\" data-vivaldi-spatnav-clickable=\"1\"><span class=\"toc-item-num\">3.5&nbsp;&nbsp;</span><code>qutipHamiltonian</code> Class Definition</a></span></li><li><span><a href=\"#1D-AKLT-Lattice\" data-toc-modified-id=\"1D-AKLT-Lattice-3.6\" data-vivaldi-spatnav-clickable=\"1\"><span class=\"toc-item-num\">3.6&nbsp;&nbsp;</span>1D AKLT Lattice</a></span><ul class=\"toc-item\"><li><span><a href=\"#Single-site-AKLT-Hamiltonian\" data-toc-modified-id=\"Single-site-AKLT-Hamiltonian-3.6.1\" data-vivaldi-spatnav-clickable=\"1\"><span class=\"toc-item-num\">3.6.1&nbsp;&nbsp;</span>Single-site AKLT Hamiltonian</a></span></li><li><span><a href=\"#Initialize-to-Random-State\" data-toc-modified-id=\"Initialize-to-Random-State-3.6.2\" data-vivaldi-spatnav-clickable=\"1\"><span class=\"toc-item-num\">3.6.2&nbsp;&nbsp;</span>Initialize to Random State</a></span></li><li><span><a href=\"#Draw-the-Lattice\" data-toc-modified-id=\"Draw-the-Lattice-3.6.3\" data-vivaldi-spatnav-clickable=\"1\"><span class=\"toc-item-num\">3.6.3&nbsp;&nbsp;</span>Draw the Lattice</a></span></li><li><span><a href=\"#Profile-Lattice-Energy-Calculation\" data-toc-modified-id=\"Profile-Lattice-Energy-Calculation-3.6.4\" data-vivaldi-spatnav-clickable=\"1\"><span class=\"toc-item-num\">3.6.4&nbsp;&nbsp;</span>Profile Lattice Energy Calculation</a></span></li><li><span><a href=\"#Density-of-States\" data-toc-modified-id=\"Density-of-States-3.6.5\" data-vivaldi-spatnav-clickable=\"1\"><span class=\"toc-item-num\">3.6.5&nbsp;&nbsp;</span>Density of States</a></span></li></ul></li><li><span><a href=\"#2D-Spin-Glass-Lattice\" data-toc-modified-id=\"2D-Spin-Glass-Lattice-3.7\" data-vivaldi-spatnav-clickable=\"1\"><span class=\"toc-item-num\">3.7&nbsp;&nbsp;</span>2D Spin-Glass Lattice</a></span></li></ul></li><li><span><a href=\"#Graph-Simplices-via-simplices-Module\" data-toc-modified-id=\"Graph-Simplices-via-simplices-Module-4\" data-vivaldi-spatnav-clickable=\"1\"><span class=\"toc-item-num\">4&nbsp;&nbsp;</span>Graph Simplices via <code>simplices</code> Module</a></span></li><li><span><a href=\"#Graph-Simplices-via-Maximum-Cliques\" data-toc-modified-id=\"Graph-Simplices-via-Maximum-Cliques-5\" data-vivaldi-spatnav-clickable=\"1\"><span class=\"toc-item-num\">5&nbsp;&nbsp;</span>Graph Simplices via Maximum Cliques</a></span><ul class=\"toc-item\"><li><span><a href=\"#Maximum-Clique\" data-toc-modified-id=\"Maximum-Clique-5.1\" data-vivaldi-spatnav-clickable=\"1\"><span class=\"toc-item-num\">5.1&nbsp;&nbsp;</span>Maximum Clique</a></span><ul class=\"toc-item\"><li><span><a href=\"#Clique\" data-toc-modified-id=\"Clique-5.1.1\" data-vivaldi-spatnav-clickable=\"1\"><span class=\"toc-item-num\">5.1.1&nbsp;&nbsp;</span>Clique</a></span></li><li><span><a href=\"#Maximum-Clique\" data-toc-modified-id=\"Maximum-Clique-5.1.2\" data-vivaldi-spatnav-clickable=\"1\"><span class=\"toc-item-num\">5.1.2&nbsp;&nbsp;</span>Maximum Clique</a></span></li></ul></li><li><span><a href=\"#Cliques-of-a-square-lattice\" data-toc-modified-id=\"Cliques-of-a-square-lattice-5.2\" data-vivaldi-spatnav-clickable=\"1\"><span class=\"toc-item-num\">5.2&nbsp;&nbsp;</span>Cliques of a square lattice</a></span></li></ul></li><li><span><a href=\"#eval-Test\" data-toc-modified-id=\"eval-Test-6\" data-vivaldi-spatnav-clickable=\"1\"><span class=\"toc-item-num\">6&nbsp;&nbsp;</span><code>eval</code> Test</a></span></li></ul></div>"
   ]
  },
  {
   "cell_type": "markdown",
   "metadata": {
    "heading_collapsed": true
   },
   "source": [
    "# Mathjax custom macros <a class=\"tocSkip\">\n",
    "\n",
    "$ \\newcommand{\\opexpect}[3]{\\langle #1 \\vert #2 \\vert #3 \\rangle} $\n",
    "$ \\newcommand{\\rarrow}{\\rightarrow} $\n",
    "$ \\newcommand{\\bra}{\\langle} $\n",
    "$ \\newcommand{\\ket}{\\rangle} $\n",
    "\n",
    "$ \\newcommand{\\up}{\\uparrow} $\n",
    "$ \\newcommand{\\down}{\\downarrow} $\n",
    "\n",
    "$ \\newcommand{\\mb}[1]{\\mathbf{#1}} $\n",
    "$ \\newcommand{\\mc}[1]{\\mathcal{#1}} $\n",
    "$ \\newcommand{\\mbb}[1]{\\mathbb{#1}} $\n",
    "$ \\newcommand{\\mf}[1]{\\mathfrak{#1}} $\n",
    "\n",
    "$ \\newcommand{\\vect}[1]{\\boldsymbol{\\mathrm{#1}}} $\n",
    "$ \\newcommand{\\expect}[1]{\\langle #1\\rangle} $\n",
    "\n",
    "$ \\newcommand{\\innerp}[2]{\\langle #1 \\vert #2 \\rangle} $\n",
    "$ \\newcommand{\\fullbra}[1]{\\langle #1 \\vert} $\n",
    "$ \\newcommand{\\fullket}[1]{\\vert #1 \\rangle} $\n",
    "$ \\newcommand{\\supersc}[1]{^{\\text{#1}}} $\n",
    "$ \\newcommand{\\subsc}[1]{_{\\text{#1}}} $\n",
    "$ \\newcommand{\\sltwoc}{SL(2,\\mathbb{C})} $\n",
    "$ \\newcommand{\\sltwoz}{SL(2,\\mathbb{Z})} $\n",
    "\n",
    "$ \\newcommand{\\utilde}[1]{\\underset{\\sim}{#1}} $"
   ]
  },
  {
   "cell_type": "markdown",
   "metadata": {
    "heading_collapsed": true
   },
   "source": [
    "# QuTiP, 1D & 2D Lattices"
   ]
  },
  {
   "cell_type": "code",
   "execution_count": 5,
   "metadata": {
    "hidden": true
   },
   "outputs": [],
   "source": [
    "import networkx as nx\n",
    "import numpy as np\n",
    "import matplotlib as mp\n",
    "import matplotlib.pyplot as plt"
   ]
  },
  {
   "cell_type": "code",
   "execution_count": 6,
   "metadata": {
    "hidden": true
   },
   "outputs": [],
   "source": [
    "from qutip import *"
   ]
  },
  {
   "cell_type": "code",
   "execution_count": 7,
   "metadata": {
    "hidden": true
   },
   "outputs": [],
   "source": [
    "%matplotlib inline"
   ]
  },
  {
   "cell_type": "markdown",
   "metadata": {
    "heading_collapsed": true,
    "hidden": true
   },
   "source": [
    "## Suppress matplotlib warnings"
   ]
  },
  {
   "cell_type": "code",
   "execution_count": 8,
   "metadata": {
    "hidden": true
   },
   "outputs": [],
   "source": [
    "import warnings"
   ]
  },
  {
   "cell_type": "code",
   "execution_count": 9,
   "metadata": {
    "hidden": true
   },
   "outputs": [],
   "source": [
    "warnings.filterwarnings(\"ignore\")"
   ]
  },
  {
   "cell_type": "markdown",
   "metadata": {},
   "source": [
    "# Simplicial Degrees of Freedom"
   ]
  },
  {
   "cell_type": "markdown",
   "metadata": {},
   "source": [
    "We want to be able to study a situation where degrees of freedom live not only on the vertices of a graph, but also on its edges, faces, volumes etc. In general, given a graph $\\mc{G}$, we can construct the simplicial complex $ \\mc{K} $ associated with $ \\mc{G} $. $ \\mc{K} $ consists of the set of all vertices, edges, faces and other n-simplices which are elements of $ \\mc{G} $."
   ]
  },
  {
   "cell_type": "markdown",
   "metadata": {},
   "source": [
    "## Non-Simplicial Degrees of Freedom"
   ]
  },
  {
   "cell_type": "markdown",
   "metadata": {},
   "source": [
    "It has to be kept in mind though that not all lattices necessarily constitute simplicial complexes. For instance, one might want to introduce an interaction between neighboring plaquettes in a square lattice. Such plaquettes are clearly not simplices - because every vertex of a simplex must be connected to every other vertex, *i.e.* simplices are cliques.\n",
    "\n",
    "However, in the toric code itself, the degrees of freedom live on the edges and vertices. Each edge and each vertex would therefore constitute a clique or a simplex."
   ]
  },
  {
   "cell_type": "markdown",
   "metadata": {},
   "source": [
    "# Utility Classes"
   ]
  },
  {
   "cell_type": "markdown",
   "metadata": {
    "heading_collapsed": true
   },
   "source": [
    "## `switch` Class Definition"
   ]
  },
  {
   "cell_type": "markdown",
   "metadata": {
    "hidden": true
   },
   "source": [
    "Reference: [ActiveState Recipes](http://code.activestate.com/recipes/410692/)\n",
    "\n",
    "Example Usage:\n",
    "\n",
    "The following example is pretty much the exact use-case of a dictionary, but is included for its simplicity. Note that you can include statements in each suite.\n",
    "    \n",
    "```\n",
    "v = 'ten'\n",
    "for case in switch(v):\n",
    "    if case('one'):\n",
    "        print 1\n",
    "        break\n",
    "    if case('two'):\n",
    "        print 2\n",
    "        break\n",
    "    if case('ten'):\n",
    "        print 10\n",
    "        break\n",
    "    if case('eleven'):\n",
    "        print 11\n",
    "        break\n",
    "    if case(): # default, could also just omit condition or 'if True'\n",
    "        print \"something else!\"\n",
    "        # No need to break here, it'll stop anyway\n",
    "```"
   ]
  },
  {
   "cell_type": "code",
   "execution_count": 98,
   "metadata": {
    "hidden": true
   },
   "outputs": [],
   "source": [
    "# This class provides the functionality we want. You only need to look at\n",
    "# this if you want to know how this works. It only needs to be defined\n",
    "# once, no need to muck around with its internals.\n",
    "class switch(object):\n",
    "    def __init__(self, value):\n",
    "        self.value = value\n",
    "        self.fall = False\n",
    "\n",
    "    def __iter__(self):\n",
    "        \"\"\"Return the match method once, then stop\"\"\"\n",
    "        yield self.match\n",
    "        raise StopIteration\n",
    "    \n",
    "    def match(self, *args):\n",
    "        \"\"\"Indicate whether or not to enter a case suite\"\"\"\n",
    "        if self.fall or not args:\n",
    "            return True\n",
    "        elif self.value in args: # changed for v1.5, see below\n",
    "            self.fall = True\n",
    "            return True\n",
    "        else:\n",
    "            return False"
   ]
  },
  {
   "cell_type": "markdown",
   "metadata": {
    "heading_collapsed": true
   },
   "source": [
    "## `hashQobj` class definition"
   ]
  },
  {
   "cell_type": "code",
   "execution_count": 99,
   "metadata": {
    "hidden": true
   },
   "outputs": [],
   "source": [
    "class hashQobj(Qobj):\n",
    "    \n",
    "    def __hash__(self):\n",
    "        return hash(repr(self))"
   ]
  },
  {
   "cell_type": "markdown",
   "metadata": {
    "heading_collapsed": true
   },
   "source": [
    "## Sandbox"
   ]
  },
  {
   "cell_type": "code",
   "execution_count": 8,
   "metadata": {
    "hidden": true
   },
   "outputs": [
    {
     "data": {
      "image/png": "[encoded data removed]",
      "text/plain": [
       "<Figure size 432x288 with 1 Axes>"
      ]
     },
     "metadata": {},
     "output_type": "display_data"
    }
   ],
   "source": [
    "g = nx.grid_graph([2])\n",
    "nx.draw(g,scale=0.5)"
   ]
  },
  {
   "cell_type": "code",
   "execution_count": 9,
   "metadata": {
    "hidden": true
   },
   "outputs": [],
   "source": [
    "pos_dict = {}"
   ]
  },
  {
   "cell_type": "code",
   "execution_count": 10,
   "metadata": {
    "hidden": true
   },
   "outputs": [
    {
     "name": "stdout",
     "output_type": "stream",
     "text": [
      "0\n",
      "1\n"
     ]
    }
   ],
   "source": [
    "i = 0\n",
    "for node in g:\n",
    "    print(node)\n",
    "    pos_dict[node] = [i,0]\n",
    "    i += 1"
   ]
  },
  {
   "cell_type": "code",
   "execution_count": 11,
   "metadata": {
    "hidden": true
   },
   "outputs": [
    {
     "data": {
      "text/plain": [
       "{0: [0, 0], 1: [1, 0]}"
      ]
     },
     "execution_count": 11,
     "metadata": {},
     "output_type": "execute_result"
    }
   ],
   "source": [
    "pos_dict"
   ]
  },
  {
   "cell_type": "code",
   "execution_count": 12,
   "metadata": {
    "hidden": true
   },
   "outputs": [
    {
     "data": {
      "image/png": "[encoded data removed]",
      "text/plain": [
       "<Figure size 432x288 with 1 Axes>"
      ]
     },
     "metadata": {},
     "output_type": "display_data"
    }
   ],
   "source": [
    "nx.draw(g,pos_dict)"
   ]
  },
  {
   "cell_type": "code",
   "execution_count": 13,
   "metadata": {
    "hidden": true
   },
   "outputs": [],
   "source": [
    "dicteg = { \"X\": {\"a\": 1, \"b\": 2}, \"Y\": {\"c\": 3, \"d\": 4} }"
   ]
  },
  {
   "cell_type": "code",
   "execution_count": 14,
   "metadata": {
    "hidden": true
   },
   "outputs": [],
   "source": [
    "key = \"X\""
   ]
  },
  {
   "cell_type": "code",
   "execution_count": 15,
   "metadata": {
    "hidden": true
   },
   "outputs": [
    {
     "data": {
      "text/plain": [
       "{'a': 1, 'b': 2}"
      ]
     },
     "execution_count": 15,
     "metadata": {},
     "output_type": "execute_result"
    }
   ],
   "source": [
    "dicteg[key]"
   ]
  },
  {
   "cell_type": "markdown",
   "metadata": {},
   "source": [
    "## `qutipLattice` Class Definition"
   ]
  },
  {
   "cell_type": "markdown",
   "metadata": {},
   "source": [
    "**Nov 16, 2018**: The final conclusion I've come to is that the `qutipLattice` should be graph and simplex agnostic. The user should be able create a lattice for *any* graph and should be able to assign quantum states to *any* subgraph, be that a vertex, an edge, a face or any other simplicial or non-simplicial subgraph of the parent graph."
   ]
  },
  {
   "cell_type": "code",
   "execution_count": 90,
   "metadata": {},
   "outputs": [],
   "source": [
    "class qutipLattice():\n",
    "    \n",
    "    hamiltonian = None\n",
    "    \n",
    "    hamOp = Qobj()\n",
    "    \n",
    "    graph = nx.empty_graph(0)\n",
    "#     size = 10\n",
    "\n",
    "#     we will refer to arbitary subgraphs as `faces`. these could be nodes, edges, loops or any other subgraph.\n",
    "    face_state_dims = 2\n",
    "    \n",
    "#     it will be important to distinguish between different types of faces, however. For this we will use a\n",
    "#     variable called face_types\n",
    "    face_types = []\n",
    "    \n",
    "    face_state = np.empty([]) # create empty array\n",
    "    \n",
    "    face_colors = ['r','b','g','c','m','y','k','w']\n",
    "    \n",
    "    face_color_map = {}\n",
    "    \n",
    "    # elements are hashQobj objects which are all possible states of a face allowed for particular model\n",
    "    face_state_values = []\n",
    "    \n",
    "    face_color_dict = {} # dictionary whose keys are faces and values are colors for each node\n",
    "    face_colors = []\n",
    "        \n",
    "    pos_dict = {}\n",
    "    \n",
    "    lattice_dims = [10]      # by default lattice dimension is 1d with 10 sites,\n",
    "                             # in general will be list [x,y,z,...], indicating\n",
    "                             # size of lattice along each dimension\n",
    "    dimension = 1                 # dimensionality of lattice, by default 1d\n",
    "    \n",
    "    use_default_vars = True\n",
    "    \n",
    "    scale_mult = []\n",
    "    \n",
    "    def __init__(self,lattice_dims=[10],periodic=False,hamType=None,hamVars=None,graph=None):\n",
    "        \n",
    "        if isinstance(lattice_dims,list) and len(lattice_dims)>0 and all(isinstance(i,int) for i in lattice_dims):\n",
    "            self.lattice_dims = lattice_dims\n",
    "            self.dimension = len(lattice_dims)\n",
    "        else:\n",
    "            raise ValueError('lattice_dim should be non-empty list of positive integers')\n",
    "        \n",
    "#         self.size = size\n",
    "        \n",
    "#         self.graph = nx.grid_2d_graph(size,size,periodic=periodic)\n",
    "\n",
    "        self.graph = nx.grid_graph(self.lattice_dims,periodic=periodic)\n",
    "        \n",
    "        for i in self.lattice_dims:\n",
    "            self.scale_mult.append(10.0/i)\n",
    "        \n",
    "        if self.dimension == 1:\n",
    "            for node in self.graph:\n",
    "                self.pos_dict[node] = [self.scale_mult[0]*node,0]\n",
    "        else:\n",
    "            print(\"Dimension of Lattice: \", self.dimension)\n",
    "            for node in self.graph:\n",
    "                self.pos_dict[node] = [self.scale_mult[i]*node[i] for i in range(self.dimension)]\n",
    "                # set the node co-ordinates to be same as node indices\n",
    "\n",
    "        if hamType:\n",
    "            self.setHamiltonian(hamType,self.graph,hamVars)\n",
    "            \n",
    "    def setHamiltonian():\n",
    "            self.hamiltonian = qutipHamiltonian(hamType,self.graph,hamVars)\n",
    "            self.hamOp = self.hamiltonian.hamOp\n",
    "            self.state_dims = self.hamiltonian.state_dims\n",
    "            self.state_values = [hashQobj(basis(self.state_dims,i)) for i in range(self.state_dims)] # Possible states of a given site\n",
    "            print(self.state_values)\n",
    "            for i in range(self.state_dims):\n",
    "                self.color_map[self.state_values[i]] = self.colors[i]\n",
    "            self.setRandomState()\n",
    "    \n",
    "    def setRandomState(self):\n",
    "        '''Iterates over all nodes in the graph. For each node, creates an attribute\n",
    "        labeled 'state', and assigns to it at random QuTiP objects returned by basis(2,0) or basis(2,1)\n",
    "        corresponding to spin up or spin down.'''\n",
    "\n",
    "        for node in self.graph:\n",
    "            self.graph.node[node]['state'] = self.state_values[np.random.randint(self.state_dims)]\n",
    "            self.face_color_dict[node] = self.color_map[self.graph.node[node]['state']]\n",
    "\n",
    "        self.face_colors = list(self.face_color_dict.values())\n",
    "        \n",
    "        return\n",
    "\n",
    "    \n",
    "    def nearestEnergy(self,node):\n",
    "        energy = 0.\n",
    "        for neighbor in self.graph[node]:\n",
    "            tempstate = tensor(self.graph.node[node]['state'],self.graph.node[neighbor]['state'])\n",
    "            energy += expect(self.hamOp,tempstate)\n",
    "        return energy\n",
    "    \n",
    "    def nextNearestEnergy(self,node):\n",
    "        energy = 0.\n",
    "        for nearest in self.graph[node]:\n",
    "            for nextnearest in self.graph[nearest]:\n",
    "                if nextnearest!=node:\n",
    "                    tempstate = tensor(self.graph.node[node]['state'],self.graph.node[nextnearest]['state'])\n",
    "                    energy += expect(self.hamOp,tempstate)\n",
    "        return energy\n",
    "    \n",
    "    def latticeEnergy(self):\n",
    "        energy = 0\n",
    "        for node in self.graph:\n",
    "            energy = energy + self.nearestEnergy(node)\n",
    "        return energy\n",
    "    \n",
    "    def draw(self):\n",
    "        nx.draw(self.graph,pos=self.pos_dict,face_color=self.face_colors)\n",
    "                "
   ]
  },
  {
   "cell_type": "markdown",
   "metadata": {},
   "source": [
    "## `qutipHamiltonian` Class Definition"
   ]
  },
  {
   "cell_type": "code",
   "execution_count": 96,
   "metadata": {
    "code_folding": []
   },
   "outputs": [],
   "source": [
    "class qutipHamiltonian():\n",
    "    '''Class which defines the hamiltonian acting on a given lattice'''\n",
    "    \n",
    "    hamTypes = ['NumberOp', 'Ising', 'Heisenberg','Hubbard', 'AKLT', 'SpinGlass', 'ToricCode']\n",
    "    \n",
    "    defaultVars = {'NumberOp':   {'J':1, 'dims': 2},\n",
    "                   'Ising':      {'J': 1, 'mu': 0, 'extfield': 0, 'spin': 0.5},\n",
    "                   'Heisenberg': {'J': 1, 'mu': 0, 'extfield': 0, 'spin': 0.5, 'dims': 3},\n",
    "                   'Hubbard':    {'J': 1, 'U': 0, 'mu': 1, 'spin': 0.5, 'extfield': 0},\n",
    "                   'SpinGlass':  {'J': 1, 'mu': 0, 'spin': 0.5, 'extfield': 0 },\n",
    "                   'AKLT':       {'J': 1, 'spin': 1, 'dims': 3},\n",
    "                   'ToricCode':  {'J_e': 1, 'J_m': 1, 'spin_e': 0.5, 'spin_m': 0.5}\n",
    "                  }    \n",
    "    \n",
    "    hamType = None          # type of Hamiltonian: Ising, Heisenberg, Hubbard etc.\n",
    "    \n",
    "    hamOp = Qobj()          # single-site Hamiltonian operator\n",
    "    \n",
    "    hamVars = {}            # parameters necessary for defining Hamiltonian, coupling strengths, etc.\n",
    "    \n",
    "    graph = None            # graph on which Hamiltonian is defined.\n",
    "    \n",
    "    state_dims = 2                # dimension of single particle Hilbert space.\n",
    "    \n",
    "#     latticeDimension = 2    # dimension of lattice on which Hamiltonian is defined.\n",
    "\n",
    "#     latticeSize = (5,5)     # tuple containing number of sites in lattice, should match latticeDimension.\n",
    "    \n",
    "    def __init__(self, hamType, graph=None, hamVars=None):\n",
    "        \n",
    "        if hamType != None:\n",
    "            if hamType not in self.hamTypes:\n",
    "                raise ValueError('hamType must be one of ',self.hamTypes)\n",
    "            else:\n",
    "                self.hamType = hamType\n",
    "                self.initHamiltonian(graph,hamType,hamVars)\n",
    "                \n",
    "    def initHamiltonian(self,graph,hamType,self):\n",
    "        \n",
    "        if graph!=None:\n",
    "            self.graph = graph\n",
    "        else:\n",
    "            print('Lattice is not defined.')\n",
    "        \n",
    "        defVars = self.defaultVars[hamType]\n",
    "        \n",
    "        print(defVars)\n",
    "        \n",
    "        if hamVars:\n",
    "            if set(hamVars.keys()).issubset(set(defVars.keys())):\n",
    "                self.setHamiltonian(hamType = hamType, hamVars = hamVars)\n",
    "            else:\n",
    "                raise ValueError('Hamiltonian variables for', self.hamType, 'model, should subset of:'\\\n",
    "                                            ,defVars)\n",
    "        else:\n",
    "            print('Hamiltonian parameters not specified. Using default values')\n",
    "            self.setHamiltonian(hamType = hamType, hamVars = defVars)\n",
    "            \n",
    "        return\n",
    "    \n",
    "    def setHamiltonian(self, hamType, hamVars):\n",
    "\n",
    "        #     For the following function definition, I have referenced\n",
    "#     https://arithxu.com/2017/10/14/Python-Call-Functions-by-String/\n",
    "\n",
    "        if self.hamVars.get('dims'):\n",
    "            self.state_dims = self.hamVars['dims']\n",
    "        else:\n",
    "            self.state_dims = 2\n",
    "        \n",
    "        # define the usual set of operators\n",
    "        \n",
    "        dim = self.state_dims\n",
    "        self.j = (dim-1)/2.0\n",
    "        \n",
    "        self.sx = jmat(self.j,'x')\n",
    "        self.sy = jmat(self.j,'y')\n",
    "        self.sz = jmat(self.j,'z')\n",
    "        self.sp = jmat(self.j,'+')\n",
    "        self.sm = jmat(self.j,'-')\n",
    "        self.identity = qeye(dim)\n",
    "\n",
    "        for key in self.hamVars.keys():\n",
    "            self.key = self.hamVars[key]\n",
    "        \n",
    "        eval(hamType + '(hamVars = hamVars)')\n",
    "        \n",
    "    \n",
    "    def hamIsing(self):\n",
    "        self.hamOp = -self.J * tensor(self.sz,self.sz) \\\n",
    "                            - self.mu * self.h * tensor(self.sz,self.identity)\n",
    "\n",
    "        return\n",
    "\n",
    "\n",
    "#             if case('SpinGlass'):\n",
    "#                 if hamVars:\n",
    "#                     self.J_ij = hamVars['J_ij']\n",
    "#                     self.h = hamVars['extfield']\n",
    "#                     self.mu = hamVars['mu']\n",
    "#                 else:\n",
    "#                     self.J = 1\n",
    "#                     self.h = 0\n",
    "#                     self.mu = 0\n",
    "    \n",
    "    \n",
    "    def hamAKLT(self):\n",
    "        self.hamOp = self.J * (tensor(self.sx,self.sx) + tensor(self.sy,self.sy) + tensor(self.sz,self.sz))\n",
    "        self.hamOp += self.J/3.0 * (tensor(self.sx,self.sx) + tensor(self.sy,self.sy) + tensor(self.sz,self.sz))**2\n",
    "        return\n",
    "    \n",
    "    def hamHeisenberg(self):\n",
    "        self.hamOp = -0.5*self.J * (tensor(self.sp,self.sm) + tensor(self.sm,self.sp))\n",
    "        self.hamOp += -self.J * tensor(self.sz,self.sz)\n",
    "        return\n",
    "    \n",
    "    def hamHubbard(self):\n",
    "        return\n",
    "    \n",
    "    def hamNumOp(self):\n",
    "        return\n",
    "    \n",
    "    def hamToricCode(self):\n",
    "        return\n",
    "    \n",
    "    def hamSpinGlass(self):\n",
    "        return\n",
    "    \n",
    "    @property\n",
    "    def hermitian(self):\n",
    "        return self._isHermitian\n",
    "    \n",
    "    @hermitian.setter\n",
    "    def hermitian(self, value):\n",
    "        if isinstance(value, bool):\n",
    "            self._isHermitian = value\n",
    "        else:\n",
    "            raise ValueError('hermitian must be a boolean data type')"
   ]
  },
  {
   "cell_type": "markdown",
   "metadata": {},
   "source": [
    "## 1D AKLT Lattice"
   ]
  },
  {
   "cell_type": "code",
   "execution_count": 102,
   "metadata": {},
   "outputs": [
    {
     "name": "stdout",
     "output_type": "stream",
     "text": [
      "{'J': 1, 'spin': 1, 'dims': 3}\n",
      "Hamiltonian parameters not specified. Using default values\n",
      "AKLT\n",
      "[Quantum object: dims = [[3], [1]], shape = (3, 1), type = ket\n",
      "Qobj data =\n",
      "[[1.]\n",
      " [0.]\n",
      " [0.]], Quantum object: dims = [[3], [1]], shape = (3, 1), type = ket\n",
      "Qobj data =\n",
      "[[0.]\n",
      " [1.]\n",
      " [0.]], Quantum object: dims = [[3], [1]], shape = (3, 1), type = ket\n",
      "Qobj data =\n",
      "[[0.]\n",
      " [0.]\n",
      " [1.]]]\n"
     ]
    },
    {
     "ename": "AttributeError",
     "evalue": "'qutipLattice' object has no attribute 'colors'",
     "output_type": "error",
     "traceback": [
      "\u001b[0;31m---------------------------------------------------------------------------\u001b[0m",
      "\u001b[0;31mAttributeError\u001b[0m                            Traceback (most recent call last)",
      "\u001b[0;32m<ipython-input-102-71065352e3c2>\u001b[0m in \u001b[0;36m<module>\u001b[0;34m\u001b[0m\n\u001b[0;32m----> 1\u001b[0;31m \u001b[0mlatt\u001b[0m \u001b[0;34m=\u001b[0m \u001b[0mqutipLattice\u001b[0m\u001b[0;34m(\u001b[0m\u001b[0mlattice_dims\u001b[0m\u001b[0;34m=\u001b[0m\u001b[0;34m[\u001b[0m\u001b[0;36m10\u001b[0m\u001b[0;34m]\u001b[0m\u001b[0;34m,\u001b[0m\u001b[0mhamType\u001b[0m\u001b[0;34m=\u001b[0m\u001b[0;34m'AKLT'\u001b[0m\u001b[0;34m,\u001b[0m\u001b[0mperiodic\u001b[0m\u001b[0;34m=\u001b[0m\u001b[0;32mFalse\u001b[0m\u001b[0;34m)\u001b[0m\u001b[0;34m\u001b[0m\u001b[0m\n\u001b[0m",
      "\u001b[0;32m<ipython-input-100-a4b285052e48>\u001b[0m in \u001b[0;36m__init__\u001b[0;34m(self, lattice_dims, periodic, hamType, hamVars)\u001b[0m\n\u001b[1;32m     78\u001b[0m             \u001b[0mprint\u001b[0m\u001b[0;34m(\u001b[0m\u001b[0mself\u001b[0m\u001b[0;34m.\u001b[0m\u001b[0mstate_values\u001b[0m\u001b[0;34m)\u001b[0m\u001b[0;34m\u001b[0m\u001b[0m\n\u001b[1;32m     79\u001b[0m             \u001b[0;32mfor\u001b[0m \u001b[0mi\u001b[0m \u001b[0;32min\u001b[0m \u001b[0mrange\u001b[0m\u001b[0;34m(\u001b[0m\u001b[0mself\u001b[0m\u001b[0;34m.\u001b[0m\u001b[0mstate_dims\u001b[0m\u001b[0;34m)\u001b[0m\u001b[0;34m:\u001b[0m\u001b[0;34m\u001b[0m\u001b[0m\n\u001b[0;32m---> 80\u001b[0;31m                 \u001b[0mself\u001b[0m\u001b[0;34m.\u001b[0m\u001b[0mcolor_map\u001b[0m\u001b[0;34m[\u001b[0m\u001b[0mself\u001b[0m\u001b[0;34m.\u001b[0m\u001b[0mstate_values\u001b[0m\u001b[0;34m[\u001b[0m\u001b[0mi\u001b[0m\u001b[0;34m]\u001b[0m\u001b[0;34m]\u001b[0m \u001b[0;34m=\u001b[0m \u001b[0mself\u001b[0m\u001b[0;34m.\u001b[0m\u001b[0mcolors\u001b[0m\u001b[0;34m[\u001b[0m\u001b[0mi\u001b[0m\u001b[0;34m]\u001b[0m\u001b[0;34m\u001b[0m\u001b[0m\n\u001b[0m\u001b[1;32m     81\u001b[0m             \u001b[0mself\u001b[0m\u001b[0;34m.\u001b[0m\u001b[0msetRandomState\u001b[0m\u001b[0;34m(\u001b[0m\u001b[0;34m)\u001b[0m\u001b[0;34m\u001b[0m\u001b[0m\n\u001b[1;32m     82\u001b[0m \u001b[0;34m\u001b[0m\u001b[0m\n",
      "\u001b[0;31mAttributeError\u001b[0m: 'qutipLattice' object has no attribute 'colors'"
     ]
    }
   ],
   "source": [
    "latt = qutipLattice(lattice_dims=[10],hamType='AKLT',periodic=False)"
   ]
  },
  {
   "cell_type": "markdown",
   "metadata": {},
   "source": [
    "### Single-site AKLT Hamiltonian"
   ]
  },
  {
   "cell_type": "code",
   "execution_count": 57,
   "metadata": {},
   "outputs": [
    {
     "data": {
      "text/latex": [
       "Quantum object: dims = [[3, 3], [3, 3]], shape = (9, 9), type = oper, isherm = True\\begin{equation*}\\left(\\begin{array}{*{11}c}1.333 & 0.0 & 0.0 & 0.0 & 0.0 & 0.0 & 0.0 & 0.0 & 0.0\\\\0.0 & 0.333 & 0.0 & 1.0 & 0.0 & 0.0 & 0.0 & 0.0 & 0.0\\\\0.0 & 0.0 & -0.333 & 0.0 & 0.667 & 0.0 & 0.333 & 0.0 & 0.0\\\\0.0 & 1.0 & 0.0 & 0.333 & 0.0 & 0.0 & 0.0 & 0.0 & 0.0\\\\0.0 & 0.0 & 0.667 & 0.0 & 0.667 & 0.0 & 0.667 & 0.0 & 0.0\\\\0.0 & 0.0 & 0.0 & 0.0 & 0.0 & 0.333 & 0.0 & 1.0 & 0.0\\\\0.0 & 0.0 & 0.333 & 0.0 & 0.667 & 0.0 & -0.333 & 0.0 & 0.0\\\\0.0 & 0.0 & 0.0 & 0.0 & 0.0 & 1.0 & 0.0 & 0.333 & 0.0\\\\0.0 & 0.0 & 0.0 & 0.0 & 0.0 & 0.0 & 0.0 & 0.0 & 1.333\\\\\\end{array}\\right)\\end{equation*}"
      ],
      "text/plain": [
       "Quantum object: dims = [[3, 3], [3, 3]], shape = (9, 9), type = oper, isherm = True\n",
       "Qobj data =\n",
       "[[ 1.33333333  0.          0.          0.          0.          0.          0.\n",
       "   0.          0.        ]\n",
       " [ 0.          0.33333333  0.          1.          0.          0.          0.\n",
       "   0.          0.        ]\n",
       " [ 0.          0.         -0.33333333  0.          0.66666667  0.\n",
       "   0.33333333  0.          0.        ]\n",
       " [ 0.          1.          0.          0.33333333  0.          0.          0.\n",
       "   0.          0.        ]\n",
       " [ 0.          0.          0.66666667  0.          0.66666667  0.\n",
       "   0.66666667  0.          0.        ]\n",
       " [ 0.          0.          0.          0.          0.          0.33333333\n",
       "   0.          1.          0.        ]\n",
       " [ 0.          0.          0.33333333  0.          0.66666667  0.\n",
       "  -0.33333333  0.          0.        ]\n",
       " [ 0.          0.          0.          0.          0.          1.          0.\n",
       "   0.33333333  0.        ]\n",
       " [ 0.          0.          0.          0.          0.          0.          0.\n",
       "   0.          1.33333333]]"
      ]
     },
     "execution_count": 57,
     "metadata": {},
     "output_type": "execute_result"
    }
   ],
   "source": [
    "latt.hamOp"
   ]
  },
  {
   "cell_type": "markdown",
   "metadata": {},
   "source": [
    "### Initialize to Random State"
   ]
  },
  {
   "cell_type": "code",
   "execution_count": 58,
   "metadata": {
    "collapsed": true
   },
   "outputs": [],
   "source": [
    "latt.setRandomState()"
   ]
  },
  {
   "cell_type": "markdown",
   "metadata": {},
   "source": [
    "### Draw the Lattice"
   ]
  },
  {
   "cell_type": "code",
   "execution_count": 59,
   "metadata": {},
   "outputs": [
    {
     "data": {
      "image/png": "[encoded data removed]",
      "text/plain": [
       "<matplotlib.figure.Figure at 0x1a1ed9abe0>"
      ]
     },
     "metadata": {},
     "output_type": "display_data"
    }
   ],
   "source": [
    "latt.draw()"
   ]
  },
  {
   "cell_type": "markdown",
   "metadata": {},
   "source": [
    "### Profile Lattice Energy Calculation"
   ]
  },
  {
   "cell_type": "code",
   "execution_count": 60,
   "metadata": {},
   "outputs": [
    {
     "name": "stdout",
     "output_type": "stream",
     "text": [
      "4.11 ms ± 171 µs per loop (mean ± std. dev. of 7 runs, 100 loops each)\n"
     ]
    }
   ],
   "source": [
    "%timeit(latt.latticeEnergy())"
   ]
  },
  {
   "cell_type": "markdown",
   "metadata": {
    "heading_collapsed": true
   },
   "source": [
    "### Density of States"
   ]
  },
  {
   "cell_type": "code",
   "execution_count": 61,
   "metadata": {
    "collapsed": true,
    "hidden": true
   },
   "outputs": [],
   "source": [
    "energies = []\n",
    "for i in range(100):\n",
    "    latt.setRandomState()\n",
    "    energies.append(latt.latticeEnergy())"
   ]
  },
  {
   "cell_type": "code",
   "execution_count": 62,
   "metadata": {
    "hidden": true
   },
   "outputs": [
    {
     "data": {
      "text/plain": [
       "(array([  2.,   1.,   2.,   4.,   3.,   8.,   6.,   5.,  18.,   9.,   6.,\n",
       "         11.,   7.,   4.,   7.,   4.,   1.,   0.,   1.,   1.]),\n",
       " array([  1.11022302e-15,   9.00000000e-01,   1.80000000e+00,\n",
       "          2.70000000e+00,   3.60000000e+00,   4.50000000e+00,\n",
       "          5.40000000e+00,   6.30000000e+00,   7.20000000e+00,\n",
       "          8.10000000e+00,   9.00000000e+00,   9.90000000e+00,\n",
       "          1.08000000e+01,   1.17000000e+01,   1.26000000e+01,\n",
       "          1.35000000e+01,   1.44000000e+01,   1.53000000e+01,\n",
       "          1.62000000e+01,   1.71000000e+01,   1.80000000e+01]),\n",
       " <a list of 20 Patch objects>)"
      ]
     },
     "execution_count": 62,
     "metadata": {},
     "output_type": "execute_result"
    },
    {
     "data": {
      "image/png": "[encoded data removed]",
      "text/plain": [
       "<matplotlib.figure.Figure at 0x1a1e628278>"
      ]
     },
     "metadata": {},
     "output_type": "display_data"
    }
   ],
   "source": [
    "plt.hist(energies,bins=20)"
   ]
  },
  {
   "cell_type": "code",
   "execution_count": 63,
   "metadata": {
    "hidden": true
   },
   "outputs": [
    {
     "name": "stdout",
     "output_type": "stream",
     "text": [
      "{1.1102230246251565e-15, 1.3333333333333357, 2.6666666666666687, 3.333333333333334, 4.666666666666668, 5.333333333333337, 6.66666666666667, 7.333333333333336, 8.666666666666671, 9.333333333333336, 8.0, 11.333333333333334, 10.666666666666666, 11.333333333333337, 6.000000000000003, 8.66666666666667, 10.666666666666668, 8.000000000000002, 13.333333333333332, 12.0, 14.000000000000002, 4.0000000000000036, 13.999999999999998, 17.999999999999996, 16.666666666666664, 5.333333333333336, 6.0000000000000036, 7.3333333333333375, 8.000000000000004, 8.666666666666668, 9.333333333333334, 9.333333333333337, 10.000000000000002, 10.000000000000004, 10.0, 10.000000000000005, 11.333333333333336, 12.000000000000002, 12.66666666666667, 12.666666666666668, 13.333333333333336, 13.333333333333334, 14.66666666666667, 2.0000000000000027, 0.666666666666669, 4.000000000000003, 4.666666666666669, 6.666666666666669, 6.000000000000001, 6.6666666666666705, 7.333333333333333}\n"
     ]
    }
   ],
   "source": [
    "uniq_energies = set(energies)\n",
    "print(uniq_energies)"
   ]
  },
  {
   "cell_type": "code",
   "execution_count": 64,
   "metadata": {
    "hidden": true
   },
   "outputs": [
    {
     "name": "stdout",
     "output_type": "stream",
     "text": [
      "{1.1102230246251565e-15: 1, 1.3333333333333357: 1, 2.6666666666666687: 1, 3.333333333333334: 4, 4.666666666666668: 4, 5.333333333333337: 1, 6.66666666666667: 1, 7.333333333333336: 6, 8.666666666666671: 3, 9.333333333333336: 2, 8.0: 2, 11.333333333333334: 3, 10.666666666666666: 2, 11.333333333333337: 1, 6.000000000000003: 2, 8.66666666666667: 5, 10.666666666666668: 3, 8.000000000000002: 5, 13.333333333333332: 3, 12.0: 3, 14.000000000000002: 3, 4.0000000000000036: 2, 13.999999999999998: 1, 17.999999999999996: 1, 16.666666666666664: 1, 5.333333333333336: 2, 6.0000000000000036: 1, 7.3333333333333375: 2, 8.000000000000004: 2, 8.666666666666668: 1, 9.333333333333334: 2, 9.333333333333337: 2, 10.000000000000002: 2, 10.000000000000004: 1, 10.0: 2, 10.000000000000005: 1, 11.333333333333336: 3, 12.000000000000002: 1, 12.66666666666667: 1, 12.666666666666668: 1, 13.333333333333336: 1, 13.333333333333334: 1, 14.66666666666667: 1, 2.0000000000000027: 1, 0.666666666666669: 1, 4.000000000000003: 1, 4.666666666666669: 1, 6.666666666666669: 3, 6.000000000000001: 3, 6.6666666666666705: 1, 7.333333333333333: 1}\n"
     ]
    }
   ],
   "source": [
    "energy_count = {}\n",
    "for uniq in uniq_energies:\n",
    "    energy_count[uniq] = energies.count(uniq)\n",
    "print(energy_count)"
   ]
  },
  {
   "cell_type": "code",
   "execution_count": 65,
   "metadata": {
    "hidden": true
   },
   "outputs": [
    {
     "data": {
      "text/plain": [
       "<matplotlib.collections.PathCollection at 0x1a1ee912b0>"
      ]
     },
     "execution_count": 65,
     "metadata": {},
     "output_type": "execute_result"
    },
    {
     "data": {
      "image/png": "[encoded data removed]",
      "text/plain": [
       "<matplotlib.figure.Figure at 0x1a1ee20be0>"
      ]
     },
     "metadata": {},
     "output_type": "display_data"
    }
   ],
   "source": [
    "plt.scatter(list(energy_count.keys()),list(energy_count.values()))"
   ]
  },
  {
   "cell_type": "markdown",
   "metadata": {},
   "source": [
    "## 2D Spin-Glass Lattice"
   ]
  },
  {
   "cell_type": "code",
   "execution_count": 103,
   "metadata": {},
   "outputs": [
    {
     "name": "stdout",
     "output_type": "stream",
     "text": [
      "Dimension of Lattice:  2\n",
      "{'J': 1, 'mu': 0, 'spin': 0.5, 'extfield': 0}\n"
     ]
    },
    {
     "ename": "ValueError",
     "evalue": "('Hamiltonian variables for', 'SpinGlass', 'model, should subset of:', {'J': 1, 'mu': 0, 'spin': 0.5, 'extfield': 0})",
     "output_type": "error",
     "traceback": [
      "\u001b[0;31m---------------------------------------------------------------------------\u001b[0m",
      "\u001b[0;31mValueError\u001b[0m                                Traceback (most recent call last)",
      "\u001b[0;32m<ipython-input-103-518050ddff2a>\u001b[0m in \u001b[0;36m<module>\u001b[0;34m\u001b[0m\n\u001b[0;32m----> 1\u001b[0;31m \u001b[0mlatt2\u001b[0m \u001b[0;34m=\u001b[0m \u001b[0mqutipLattice\u001b[0m\u001b[0;34m(\u001b[0m\u001b[0mlattice_dims\u001b[0m\u001b[0;34m=\u001b[0m\u001b[0;34m[\u001b[0m\u001b[0;36m4\u001b[0m\u001b[0;34m,\u001b[0m\u001b[0;36m4\u001b[0m\u001b[0;34m]\u001b[0m\u001b[0;34m,\u001b[0m\u001b[0mperiodic\u001b[0m\u001b[0;34m=\u001b[0m\u001b[0;32mTrue\u001b[0m\u001b[0;34m,\u001b[0m\u001b[0mhamType\u001b[0m\u001b[0;34m=\u001b[0m\u001b[0;34m'SpinGlass'\u001b[0m\u001b[0;34m,\u001b[0m\u001b[0mhamVars\u001b[0m\u001b[0;34m=\u001b[0m\u001b[0;34m{\u001b[0m\u001b[0;34m'mu'\u001b[0m\u001b[0;34m:\u001b[0m \u001b[0;36m0\u001b[0m\u001b[0;34m,\u001b[0m \u001b[0;34m'extfield'\u001b[0m\u001b[0;34m:\u001b[0m \u001b[0;36m0\u001b[0m\u001b[0;34m,\u001b[0m \u001b[0;34m'J_ij'\u001b[0m\u001b[0;34m:\u001b[0m \u001b[0;36m1\u001b[0m\u001b[0;34m}\u001b[0m\u001b[0;34m)\u001b[0m\u001b[0;34m\u001b[0m\u001b[0m\n\u001b[0m",
      "\u001b[0;32m<ipython-input-100-a4b285052e48>\u001b[0m in \u001b[0;36m__init__\u001b[0;34m(self, lattice_dims, periodic, hamType, hamVars)\u001b[0m\n\u001b[1;32m     72\u001b[0m \u001b[0;34m\u001b[0m\u001b[0m\n\u001b[1;32m     73\u001b[0m         \u001b[0;32mif\u001b[0m \u001b[0mhamType\u001b[0m\u001b[0;34m:\u001b[0m\u001b[0;34m\u001b[0m\u001b[0m\n\u001b[0;32m---> 74\u001b[0;31m             \u001b[0mself\u001b[0m\u001b[0;34m.\u001b[0m\u001b[0mhamiltonian\u001b[0m \u001b[0;34m=\u001b[0m \u001b[0mqutipHamiltonian\u001b[0m\u001b[0;34m(\u001b[0m\u001b[0mhamType\u001b[0m\u001b[0;34m,\u001b[0m\u001b[0mself\u001b[0m\u001b[0;34m.\u001b[0m\u001b[0mgraph\u001b[0m\u001b[0;34m,\u001b[0m\u001b[0mhamVars\u001b[0m\u001b[0;34m)\u001b[0m\u001b[0;34m\u001b[0m\u001b[0m\n\u001b[0m\u001b[1;32m     75\u001b[0m             \u001b[0mself\u001b[0m\u001b[0;34m.\u001b[0m\u001b[0mhamOp\u001b[0m \u001b[0;34m=\u001b[0m \u001b[0mself\u001b[0m\u001b[0;34m.\u001b[0m\u001b[0mhamiltonian\u001b[0m\u001b[0;34m.\u001b[0m\u001b[0mhamOp\u001b[0m\u001b[0;34m\u001b[0m\u001b[0m\n\u001b[1;32m     76\u001b[0m             \u001b[0mself\u001b[0m\u001b[0;34m.\u001b[0m\u001b[0mstate_dims\u001b[0m \u001b[0;34m=\u001b[0m \u001b[0mself\u001b[0m\u001b[0;34m.\u001b[0m\u001b[0mhamiltonian\u001b[0m\u001b[0;34m.\u001b[0m\u001b[0mstate_dims\u001b[0m\u001b[0;34m\u001b[0m\u001b[0m\n",
      "\u001b[0;32m<ipython-input-101-ea3746de754f>\u001b[0m in \u001b[0;36m__init__\u001b[0;34m(self, hamType, graph, hamVars)\u001b[0m\n\u001b[1;32m     33\u001b[0m             \u001b[0;32melse\u001b[0m\u001b[0;34m:\u001b[0m\u001b[0;34m\u001b[0m\u001b[0m\n\u001b[1;32m     34\u001b[0m                 \u001b[0mself\u001b[0m\u001b[0;34m.\u001b[0m\u001b[0mhamType\u001b[0m \u001b[0;34m=\u001b[0m \u001b[0mhamType\u001b[0m\u001b[0;34m\u001b[0m\u001b[0m\n\u001b[0;32m---> 35\u001b[0;31m                 \u001b[0mself\u001b[0m\u001b[0;34m.\u001b[0m\u001b[0minitHamiltonian\u001b[0m\u001b[0;34m(\u001b[0m\u001b[0mgraph\u001b[0m\u001b[0;34m,\u001b[0m\u001b[0mhamType\u001b[0m\u001b[0;34m,\u001b[0m\u001b[0mhamVars\u001b[0m\u001b[0;34m)\u001b[0m\u001b[0;34m\u001b[0m\u001b[0m\n\u001b[0m\u001b[1;32m     36\u001b[0m \u001b[0;34m\u001b[0m\u001b[0m\n\u001b[1;32m     37\u001b[0m     \u001b[0;32mdef\u001b[0m \u001b[0minitHamiltonian\u001b[0m\u001b[0;34m(\u001b[0m\u001b[0mself\u001b[0m\u001b[0;34m,\u001b[0m\u001b[0mgraph\u001b[0m\u001b[0;34m,\u001b[0m\u001b[0mhamType\u001b[0m\u001b[0;34m,\u001b[0m\u001b[0mhamVars\u001b[0m\u001b[0;34m)\u001b[0m\u001b[0;34m:\u001b[0m\u001b[0;34m\u001b[0m\u001b[0m\n",
      "\u001b[0;32m<ipython-input-101-ea3746de754f>\u001b[0m in \u001b[0;36minitHamiltonian\u001b[0;34m(self, graph, hamType, hamVars)\u001b[0m\n\u001b[1;32m     52\u001b[0m             \u001b[0;32melse\u001b[0m\u001b[0;34m:\u001b[0m\u001b[0;34m\u001b[0m\u001b[0m\n\u001b[1;32m     53\u001b[0m                 raise ValueError('Hamiltonian variables for', self.hamType, 'model, should subset of:'\\\n\u001b[0;32m---> 54\u001b[0;31m                                             ,defVars)\n\u001b[0m\u001b[1;32m     55\u001b[0m         \u001b[0;32melse\u001b[0m\u001b[0;34m:\u001b[0m\u001b[0;34m\u001b[0m\u001b[0m\n\u001b[1;32m     56\u001b[0m             \u001b[0mprint\u001b[0m\u001b[0;34m(\u001b[0m\u001b[0;34m'Hamiltonian parameters not specified. Using default values'\u001b[0m\u001b[0;34m)\u001b[0m\u001b[0;34m\u001b[0m\u001b[0m\n",
      "\u001b[0;31mValueError\u001b[0m: ('Hamiltonian variables for', 'SpinGlass', 'model, should subset of:', {'J': 1, 'mu': 0, 'spin': 0.5, 'extfield': 0})"
     ]
    }
   ],
   "source": [
    "latt2 = qutipLattice(lattice_dims=[4,4],periodic=True,hamType='SpinGlass',hamVars={'mu': 0, 'extfield': 0, 'J_ij': 1})"
   ]
  },
  {
   "cell_type": "code",
   "execution_count": 70,
   "metadata": {},
   "outputs": [
    {
     "ename": "TypeError",
     "evalue": "Invalid operand types",
     "output_type": "error",
     "traceback": [
      "\u001b[0;31m---------------------------------------------------------------------------\u001b[0m",
      "\u001b[0;31mTypeError\u001b[0m                                 Traceback (most recent call last)",
      "\u001b[0;32m<ipython-input-70-9bb48de04ccd>\u001b[0m in \u001b[0;36m<module>\u001b[0;34m()\u001b[0m\n\u001b[1;32m      1\u001b[0m \u001b[0mlatt2\u001b[0m\u001b[0;34m.\u001b[0m\u001b[0msetRandomState\u001b[0m\u001b[0;34m(\u001b[0m\u001b[0;34m)\u001b[0m\u001b[0;34m\u001b[0m\u001b[0m\n\u001b[1;32m      2\u001b[0m \u001b[0;34m\u001b[0m\u001b[0m\n\u001b[0;32m----> 3\u001b[0;31m \u001b[0mprint\u001b[0m\u001b[0;34m(\u001b[0m\u001b[0mlatt2\u001b[0m\u001b[0;34m.\u001b[0m\u001b[0mlatticeEnergy\u001b[0m\u001b[0;34m(\u001b[0m\u001b[0;34m)\u001b[0m\u001b[0;34m)\u001b[0m\u001b[0;34m\u001b[0m\u001b[0m\n\u001b[0m\u001b[1;32m      4\u001b[0m \u001b[0;34m\u001b[0m\u001b[0m\n\u001b[1;32m      5\u001b[0m \u001b[0mlatt2\u001b[0m\u001b[0;34m.\u001b[0m\u001b[0mdraw\u001b[0m\u001b[0;34m(\u001b[0m\u001b[0;34m)\u001b[0m\u001b[0;34m\u001b[0m\u001b[0m\n",
      "\u001b[0;32m<ipython-input-22-1ab111c81275>\u001b[0m in \u001b[0;36mlatticeEnergy\u001b[0;34m(self)\u001b[0m\n\u001b[1;32m     98\u001b[0m         \u001b[0menergy\u001b[0m \u001b[0;34m=\u001b[0m \u001b[0;36m0\u001b[0m\u001b[0;34m\u001b[0m\u001b[0m\n\u001b[1;32m     99\u001b[0m         \u001b[0;32mfor\u001b[0m \u001b[0mnode\u001b[0m \u001b[0;32min\u001b[0m \u001b[0mself\u001b[0m\u001b[0;34m.\u001b[0m\u001b[0mgraph\u001b[0m\u001b[0;34m:\u001b[0m\u001b[0;34m\u001b[0m\u001b[0m\n\u001b[0;32m--> 100\u001b[0;31m             \u001b[0menergy\u001b[0m \u001b[0;34m=\u001b[0m \u001b[0menergy\u001b[0m \u001b[0;34m+\u001b[0m \u001b[0mself\u001b[0m\u001b[0;34m.\u001b[0m\u001b[0mnearestEnergy\u001b[0m\u001b[0;34m(\u001b[0m\u001b[0mnode\u001b[0m\u001b[0;34m)\u001b[0m\u001b[0;34m\u001b[0m\u001b[0m\n\u001b[0m\u001b[1;32m    101\u001b[0m         \u001b[0;32mreturn\u001b[0m \u001b[0menergy\u001b[0m\u001b[0;34m\u001b[0m\u001b[0m\n\u001b[1;32m    102\u001b[0m \u001b[0;34m\u001b[0m\u001b[0m\n",
      "\u001b[0;32m<ipython-input-22-1ab111c81275>\u001b[0m in \u001b[0;36mnearestEnergy\u001b[0;34m(self, node)\u001b[0m\n\u001b[1;32m     83\u001b[0m         \u001b[0;32mfor\u001b[0m \u001b[0mneighbor\u001b[0m \u001b[0;32min\u001b[0m \u001b[0mself\u001b[0m\u001b[0;34m.\u001b[0m\u001b[0mgraph\u001b[0m\u001b[0;34m[\u001b[0m\u001b[0mnode\u001b[0m\u001b[0;34m]\u001b[0m\u001b[0;34m:\u001b[0m\u001b[0;34m\u001b[0m\u001b[0m\n\u001b[1;32m     84\u001b[0m             \u001b[0mtempstate\u001b[0m \u001b[0;34m=\u001b[0m \u001b[0mtensor\u001b[0m\u001b[0;34m(\u001b[0m\u001b[0mself\u001b[0m\u001b[0;34m.\u001b[0m\u001b[0mgraph\u001b[0m\u001b[0;34m.\u001b[0m\u001b[0mnode\u001b[0m\u001b[0;34m[\u001b[0m\u001b[0mnode\u001b[0m\u001b[0;34m]\u001b[0m\u001b[0;34m[\u001b[0m\u001b[0;34m'state'\u001b[0m\u001b[0;34m]\u001b[0m\u001b[0;34m,\u001b[0m\u001b[0mself\u001b[0m\u001b[0;34m.\u001b[0m\u001b[0mgraph\u001b[0m\u001b[0;34m.\u001b[0m\u001b[0mnode\u001b[0m\u001b[0;34m[\u001b[0m\u001b[0mneighbor\u001b[0m\u001b[0;34m]\u001b[0m\u001b[0;34m[\u001b[0m\u001b[0;34m'state'\u001b[0m\u001b[0;34m]\u001b[0m\u001b[0;34m)\u001b[0m\u001b[0;34m\u001b[0m\u001b[0m\n\u001b[0;32m---> 85\u001b[0;31m             \u001b[0menergy\u001b[0m \u001b[0;34m+=\u001b[0m \u001b[0mexpect\u001b[0m\u001b[0;34m(\u001b[0m\u001b[0mself\u001b[0m\u001b[0;34m.\u001b[0m\u001b[0mhamOp\u001b[0m\u001b[0;34m,\u001b[0m\u001b[0mtempstate\u001b[0m\u001b[0;34m)\u001b[0m\u001b[0;34m\u001b[0m\u001b[0m\n\u001b[0m\u001b[1;32m     86\u001b[0m         \u001b[0;32mreturn\u001b[0m \u001b[0menergy\u001b[0m\u001b[0;34m\u001b[0m\u001b[0m\n\u001b[1;32m     87\u001b[0m \u001b[0;34m\u001b[0m\u001b[0m\n",
      "\u001b[0;32m~/miniconda3/lib/python3.6/site-packages/qutip/expect.py\u001b[0m in \u001b[0;36mexpect\u001b[0;34m(oper, state)\u001b[0m\n\u001b[1;32m     71\u001b[0m     '''\n\u001b[1;32m     72\u001b[0m     \u001b[0;32mif\u001b[0m \u001b[0misinstance\u001b[0m\u001b[0;34m(\u001b[0m\u001b[0mstate\u001b[0m\u001b[0;34m,\u001b[0m \u001b[0mQobj\u001b[0m\u001b[0;34m)\u001b[0m \u001b[0;32mand\u001b[0m \u001b[0misinstance\u001b[0m\u001b[0;34m(\u001b[0m\u001b[0moper\u001b[0m\u001b[0;34m,\u001b[0m \u001b[0mQobj\u001b[0m\u001b[0;34m)\u001b[0m\u001b[0;34m:\u001b[0m\u001b[0;34m\u001b[0m\u001b[0m\n\u001b[0;32m---> 73\u001b[0;31m         \u001b[0;32mreturn\u001b[0m \u001b[0m_single_qobj_expect\u001b[0m\u001b[0;34m(\u001b[0m\u001b[0moper\u001b[0m\u001b[0;34m,\u001b[0m \u001b[0mstate\u001b[0m\u001b[0;34m)\u001b[0m\u001b[0;34m\u001b[0m\u001b[0m\n\u001b[0m\u001b[1;32m     74\u001b[0m \u001b[0;34m\u001b[0m\u001b[0m\n\u001b[1;32m     75\u001b[0m     \u001b[0;32melif\u001b[0m \u001b[0misinstance\u001b[0m\u001b[0;34m(\u001b[0m\u001b[0moper\u001b[0m\u001b[0;34m,\u001b[0m \u001b[0mQobj\u001b[0m\u001b[0;34m)\u001b[0m \u001b[0;32mand\u001b[0m \u001b[0misinstance\u001b[0m\u001b[0;34m(\u001b[0m\u001b[0mstate\u001b[0m\u001b[0;34m,\u001b[0m \u001b[0meseries\u001b[0m\u001b[0;34m)\u001b[0m\u001b[0;34m:\u001b[0m\u001b[0;34m\u001b[0m\u001b[0m\n",
      "\u001b[0;32m~/miniconda3/lib/python3.6/site-packages/qutip/expect.py\u001b[0m in \u001b[0;36m_single_qobj_expect\u001b[0;34m(oper, state)\u001b[0m\n\u001b[1;32m    118\u001b[0m                                  oper.isherm)\n\u001b[1;32m    119\u001b[0m     \u001b[0;32melse\u001b[0m\u001b[0;34m:\u001b[0m\u001b[0;34m\u001b[0m\u001b[0m\n\u001b[0;32m--> 120\u001b[0;31m         \u001b[0;32mraise\u001b[0m \u001b[0mTypeError\u001b[0m\u001b[0;34m(\u001b[0m\u001b[0;34m'Invalid operand types'\u001b[0m\u001b[0;34m)\u001b[0m\u001b[0;34m\u001b[0m\u001b[0m\n\u001b[0m\u001b[1;32m    121\u001b[0m \u001b[0;34m\u001b[0m\u001b[0m\n\u001b[1;32m    122\u001b[0m \u001b[0;34m\u001b[0m\u001b[0m\n",
      "\u001b[0;31mTypeError\u001b[0m: Invalid operand types"
     ]
    }
   ],
   "source": [
    "latt2.setRandomState()\n",
    "\n",
    "print(latt2.latticeEnergy())\n",
    "\n",
    "latt2.draw()"
   ]
  },
  {
   "cell_type": "code",
   "execution_count": null,
   "metadata": {
    "collapsed": true
   },
   "outputs": [],
   "source": [
    "energies = []\n",
    "for i in range(500):\n",
    "    latt.setRandomState()\n",
    "    energies.append(latt.latticeEnergy())"
   ]
  },
  {
   "cell_type": "code",
   "execution_count": null,
   "metadata": {
    "collapsed": true
   },
   "outputs": [],
   "source": [
    "plt.hist(energies,bins=40)"
   ]
  },
  {
   "cell_type": "code",
   "execution_count": null,
   "metadata": {
    "collapsed": true
   },
   "outputs": [],
   "source": [
    "energy_set = set(energies)\n",
    "for e in sorted(energy_set):\n",
    "    print(e,'\\t',energies.count(e))"
   ]
  },
  {
   "cell_type": "code",
   "execution_count": null,
   "metadata": {
    "collapsed": true
   },
   "outputs": [],
   "source": [
    "print?"
   ]
  },
  {
   "cell_type": "code",
   "execution_count": null,
   "metadata": {
    "collapsed": true
   },
   "outputs": [],
   "source": [
    "latt.hamiltonianVars"
   ]
  },
  {
   "cell_type": "code",
   "execution_count": null,
   "metadata": {
    "collapsed": true
   },
   "outputs": [],
   "source": [
    "x = {'i':1,'j':2}\n",
    "x"
   ]
  },
  {
   "cell_type": "code",
   "execution_count": null,
   "metadata": {
    "collapsed": true
   },
   "outputs": [],
   "source": [
    "x.values()"
   ]
  },
  {
   "cell_type": "code",
   "execution_count": null,
   "metadata": {
    "collapsed": true
   },
   "outputs": [],
   "source": [
    "x.get?"
   ]
  },
  {
   "cell_type": "code",
   "execution_count": null,
   "metadata": {
    "collapsed": true
   },
   "outputs": [],
   "source": [
    "x.get('k')"
   ]
  },
  {
   "cell_type": "code",
   "execution_count": null,
   "metadata": {
    "collapsed": true
   },
   "outputs": [],
   "source": [
    "set(x.keys())"
   ]
  },
  {
   "cell_type": "code",
   "execution_count": null,
   "metadata": {
    "collapsed": true
   },
   "outputs": [],
   "source": [
    "y = {'j':1,'i':2}\n",
    "y"
   ]
  },
  {
   "cell_type": "code",
   "execution_count": null,
   "metadata": {
    "collapsed": true
   },
   "outputs": [],
   "source": [
    "set(x.keys()) ^ set(y.keys())"
   ]
  },
  {
   "cell_type": "code",
   "execution_count": null,
   "metadata": {
    "collapsed": true
   },
   "outputs": [],
   "source": [
    "x.keys() == y.keys()"
   ]
  },
  {
   "cell_type": "code",
   "execution_count": null,
   "metadata": {
    "collapsed": true
   },
   "outputs": [],
   "source": [
    "nx.grid_2d_graph?"
   ]
  },
  {
   "cell_type": "code",
   "execution_count": null,
   "metadata": {
    "collapsed": true
   },
   "outputs": [],
   "source": [
    "# Dead code\n",
    "\n",
    "#     def hamiltonianIsing(self,node):\n",
    "#         energy = 0.\n",
    "#         for neighbor in self.graph[node]:\n",
    "#             tempstate = tensor(self.graph.node[node]['state'],self.graph.node[neighbor]['state'])\n",
    "#             energy += expect(self.hamOp)\n",
    "# #             energy += -self.J*self.graph.node[node]['state']*self.graph.node[neighbor]['state']\n",
    "# #             energy += -self.mu*self.h*self.graph.node[node]['state']\n",
    "#         return energy\n",
    "    \n",
    "# #     def hamiltonianSpinGlass(self,node):\n",
    "# #         energy = 0.\n",
    "# #         for neighbor in self.graph[node]:\n",
    "# #             energy += 0\n",
    "    \n",
    "#     def hamiltonianHubbard(self,node):\n",
    "#         energy = 0.\n",
    "# #         for neighbor in self.graph[node]:\n",
    "# #             energy += -self.J*\n",
    "#         return 0\n",
    "    \n",
    "#     def hamiltonianHeisenberg(self,node):\n",
    "#         energy = 0.\n",
    "#         for neighbor in graph[node]:\n",
    "#             energy += -self.J*self.graph.node[node]['state']*self.graph.node[neighbor]['state']\n",
    "#             energy += -self.mu*self.h*self.graph.node[node]['state']\n",
    "#         return 0\n",
    "    \n",
    "#     def hamiltonianNumberOp(self,node):\n",
    "#         return 0\n",
    "    "
   ]
  },
  {
   "cell_type": "markdown",
   "metadata": {},
   "source": [
    "# Graph Simplices via `simplices` Module"
   ]
  },
  {
   "cell_type": "code",
   "execution_count": 1,
   "metadata": {},
   "outputs": [],
   "source": [
    "from simplices import *"
   ]
  },
  {
   "cell_type": "code",
   "execution_count": 2,
   "metadata": {},
   "outputs": [],
   "source": [
    "simplex = (1,2,3)"
   ]
  },
  {
   "cell_type": "code",
   "execution_count": 4,
   "metadata": {},
   "outputs": [
    {
     "data": {
      "text/plain": [
       "{(1,), (1, 2), (1, 2, 3), (1, 3), (2,), (2, 3), (3,)}"
      ]
     },
     "execution_count": 4,
     "metadata": {},
     "output_type": "execute_result"
    }
   ],
   "source": [
    "faces([simplex])"
   ]
  },
  {
   "cell_type": "code",
   "execution_count": null,
   "metadata": {},
   "outputs": [],
   "source": []
  },
  {
   "cell_type": "code",
   "execution_count": null,
   "metadata": {},
   "outputs": [],
   "source": []
  },
  {
   "cell_type": "markdown",
   "metadata": {},
   "source": [
    "# Graph Simplices via Maximum Cliques"
   ]
  },
  {
   "cell_type": "markdown",
   "metadata": {},
   "source": [
    "Nov 15, 2018\n",
    "\n",
    "Ok. This is is not clear. It is easier to simply use the `simplices` module written by Kwan-Yuet Ho. That is what I will do next."
   ]
  },
  {
   "cell_type": "code",
   "execution_count": 10,
   "metadata": {},
   "outputs": [],
   "source": [
    "g1 = nx.random_graphs.binomial_graph(15,0.24)"
   ]
  },
  {
   "cell_type": "code",
   "execution_count": 11,
   "metadata": {},
   "outputs": [
    {
     "data": {
      "image/png": "[encoded data removed]",
      "text/plain": [
       "<Figure size 432x288 with 1 Axes>"
      ]
     },
     "metadata": {},
     "output_type": "display_data"
    }
   ],
   "source": [
    "nx.draw(g1,with_labels=True)"
   ]
  },
  {
   "cell_type": "markdown",
   "metadata": {},
   "source": [
    "## Maximum Clique"
   ]
  },
  {
   "cell_type": "markdown",
   "metadata": {},
   "source": [
    "### Clique\n",
    "\n",
    "A clique is a subgraph of a graph $ \\mc{C} \\subset \\mc{G} $, which is a **complete** graph, *i.e.* every node of $ \\mc{C} $ is connected to every other node of $ \\mc{C} $ by an edge which is also in $ \\mc{C}$.\n",
    "\n",
    "### Maximum Clique\n",
    "\n",
    "A maximum clique is a clique which is not a subset of larger clique."
   ]
  },
  {
   "cell_type": "code",
   "execution_count": 133,
   "metadata": {},
   "outputs": [
    {
     "data": {
      "text/plain": [
       "[(0,),\n",
       " (3, 8),\n",
       " (1, 3, 4),\n",
       " (3, 4, 11),\n",
       " (4, 7),\n",
       " (1, 2, 6),\n",
       " (2, 6, 14),\n",
       " (5, 6),\n",
       " (6, 8, 14),\n",
       " (6, 11),\n",
       " (1, 6, 12),\n",
       " (6, 12, 13),\n",
       " (6, 12, 14),\n",
       " (7, 8),\n",
       " (7, 10),\n",
       " (1, 9),\n",
       " (5, 9),\n",
       " (10, 12),\n",
       " (5, 10)]"
      ]
     },
     "execution_count": 133,
     "metadata": {},
     "output_type": "execute_result"
    }
   ],
   "source": [
    "C = nx.find_cliques(g1)\n",
    "\n",
    "C = [tuple(sorted(c)) for c in C]\n",
    "\n",
    "C"
   ]
  },
  {
   "cell_type": "code",
   "execution_count": 111,
   "metadata": {},
   "outputs": [
    {
     "name": "stdout",
     "output_type": "stream",
     "text": [
      "[(0, 6), (1, 8), (1, 9), (1, 12), (1, 13), (2, 7), (2, 8), (2, 11), (2, 14), (3, 6), (3, 11), (3, 14), (4, 11), (4, 13), (5, 7), (5, 12), (6, 8), (6, 11), (8, 12), (8, 13), (9, 10), (10, 14), (12, 14)]\n"
     ]
    }
   ],
   "source": [
    "print(nx.edges(g1))"
   ]
  },
  {
   "cell_type": "code",
   "execution_count": 134,
   "metadata": {},
   "outputs": [
    {
     "name": "stdout",
     "output_type": "stream",
     "text": [
      "Maximum clique length:  3\n",
      "Set of clique lengths:  {1, 2, 3}\n",
      "Clique dictionary keyed by clique length:  {1: [], 2: [], 3: []}\n"
     ]
    }
   ],
   "source": [
    "k_max = max(len(c) for c in C)\n",
    "print(\"Maximum clique length: \",k_max)\n",
    "\n",
    "k_set = set(len(c) for c in C)\n",
    "print(\"Set of clique lengths: \",k_set)\n",
    "\n",
    "cliques = {k:[] for k in k_set}\n",
    "print(\"Clique dictionary keyed by clique length: \", cliques)"
   ]
  },
  {
   "cell_type": "code",
   "execution_count": 135,
   "metadata": {},
   "outputs": [
    {
     "name": "stdout",
     "output_type": "stream",
     "text": [
      "Clique Dictionary:\n",
      "{1: [(0,)],\n",
      " 2: [(3, 8),\n",
      "     (4, 7),\n",
      "     (5, 6),\n",
      "     (6, 11),\n",
      "     (7, 8),\n",
      "     (7, 10),\n",
      "     (1, 9),\n",
      "     (5, 9),\n",
      "     (10, 12),\n",
      "     (5, 10)],\n",
      " 3: [(1, 3, 4),\n",
      "     (3, 4, 11),\n",
      "     (1, 2, 6),\n",
      "     (2, 6, 14),\n",
      "     (6, 8, 14),\n",
      "     (1, 6, 12),\n",
      "     (6, 12, 13),\n",
      "     (6, 12, 14)]}\n"
     ]
    }
   ],
   "source": [
    "for c in C:\n",
    "    cliques[len(c)].append(c)\n",
    "\n",
    "print(\"Clique Dictionary:\")\n",
    "pprint.pprint(cliques)"
   ]
  },
  {
   "cell_type": "code",
   "execution_count": 136,
   "metadata": {},
   "outputs": [
    {
     "data": {
      "text/plain": [
       "{(1, 2, 6),\n",
       " (1, 3, 4),\n",
       " (1, 6, 12),\n",
       " (2, 6, 14),\n",
       " (3, 4, 11),\n",
       " (6, 8, 14),\n",
       " (6, 12, 13),\n",
       " (6, 12, 14)}"
      ]
     },
     "execution_count": 136,
     "metadata": {},
     "output_type": "execute_result"
    }
   ],
   "source": [
    "set(cliques[3])"
   ]
  },
  {
   "cell_type": "code",
   "execution_count": 125,
   "metadata": {},
   "outputs": [
    {
     "data": {
      "text/plain": [
       "{(0, 4),\n",
       " (0, 8),\n",
       " (0, 13),\n",
       " (0, 14),\n",
       " (1, 3),\n",
       " (1, 8),\n",
       " (1, 9),\n",
       " (1, 10),\n",
       " (1, 13),\n",
       " (2, 8),\n",
       " (2, 14),\n",
       " (4, 12),\n",
       " (4, 14),\n",
       " (5, 11),\n",
       " (5, 12),\n",
       " (6, 8),\n",
       " (6, 13),\n",
       " (7, 8),\n",
       " (7, 9),\n",
       " (7, 13),\n",
       " (8, 12),\n",
       " (8, 13),\n",
       " (8, 14),\n",
       " (10, 13)}"
      ]
     },
     "execution_count": 125,
     "metadata": {},
     "output_type": "execute_result"
    }
   ],
   "source": [
    "set(nx.edges(g1))"
   ]
  },
  {
   "cell_type": "code",
   "execution_count": 37,
   "metadata": {},
   "outputs": [
    {
     "name": "stdout",
     "output_type": "stream",
     "text": [
      "4\n"
     ]
    }
   ],
   "source": [
    "max_len = max(len(c) for c in C)\n",
    "print(max_len)"
   ]
  },
  {
   "cell_type": "code",
   "execution_count": 139,
   "metadata": {},
   "outputs": [],
   "source": [
    "nx.find_cliques??"
   ]
  },
  {
   "cell_type": "code",
   "execution_count": 142,
   "metadata": {},
   "outputs": [
    {
     "name": "stdout",
     "output_type": "stream",
     "text": [
      "The \"assert\" statement\n",
      "**********************\n",
      "\n",
      "Assert statements are a convenient way to insert debugging assertions\n",
      "into a program:\n",
      "\n",
      "   assert_stmt ::= \"assert\" expression [\",\" expression]\n",
      "\n",
      "The simple form, \"assert expression\", is equivalent to\n",
      "\n",
      "   if __debug__:\n",
      "       if not expression: raise AssertionError\n",
      "\n",
      "The extended form, \"assert expression1, expression2\", is equivalent to\n",
      "\n",
      "   if __debug__:\n",
      "       if not expression1: raise AssertionError(expression2)\n",
      "\n",
      "These equivalences assume that \"__debug__\" and \"AssertionError\" refer\n",
      "to the built-in variables with those names.  In the current\n",
      "implementation, the built-in variable \"__debug__\" is \"True\" under\n",
      "normal circumstances, \"False\" when optimization is requested (command\n",
      "line option -O).  The current code generator emits no code for an\n",
      "assert statement when optimization is requested at compile time.  Note\n",
      "that it is unnecessary to include the source code for the expression\n",
      "that failed in the error message; it will be displayed as part of the\n",
      "stack trace.\n",
      "\n",
      "Assignments to \"__debug__\" are illegal.  The value for the built-in\n",
      "variable is determined when the interpreter starts.\n",
      "\n"
     ]
    }
   ],
   "source": [
    "help(\"assert\")"
   ]
  },
  {
   "cell_type": "code",
   "execution_count": 39,
   "metadata": {},
   "outputs": [],
   "source": [
    "import itertools"
   ]
  },
  {
   "cell_type": "code",
   "execution_count": 40,
   "metadata": {},
   "outputs": [],
   "source": [
    "itertools.combinations?"
   ]
  },
  {
   "cell_type": "code",
   "execution_count": 151,
   "metadata": {},
   "outputs": [],
   "source": [
    "simplex3 = set(c for mc in C for c in itertools.combinations(mc,3))"
   ]
  },
  {
   "cell_type": "code",
   "execution_count": 155,
   "metadata": {},
   "outputs": [],
   "source": [
    "x = []\n",
    "for s in simplex3:\n",
    "    x.append(zip(sorted(s), range(0,len(s))))"
   ]
  },
  {
   "cell_type": "code",
   "execution_count": 158,
   "metadata": {},
   "outputs": [
    {
     "name": "stdout",
     "output_type": "stream",
     "text": [
      "(2, 0)\n",
      "(6, 1)\n",
      "(14, 2)\n",
      "(1, 0)\n",
      "(6, 1)\n",
      "(12, 2)\n",
      "(1, 0)\n",
      "(2, 1)\n",
      "(6, 2)\n",
      "(6, 0)\n",
      "(12, 1)\n",
      "(13, 2)\n",
      "(1, 0)\n",
      "(3, 1)\n",
      "(4, 2)\n",
      "(6, 0)\n",
      "(8, 1)\n",
      "(14, 2)\n",
      "(3, 0)\n",
      "(4, 1)\n",
      "(11, 2)\n",
      "(6, 0)\n",
      "(12, 1)\n",
      "(14, 2)\n"
     ]
    }
   ],
   "source": [
    "for y in x:\n",
    "    for z in y:\n",
    "        print(z)"
   ]
  },
  {
   "cell_type": "code",
   "execution_count": 172,
   "metadata": {},
   "outputs": [],
   "source": [
    "g2 = nx.lattice.grid_2d_graph(2,2)"
   ]
  },
  {
   "cell_type": "code",
   "execution_count": 176,
   "metadata": {},
   "outputs": [],
   "source": [
    "g2.add_edge((0,0),(1,1))"
   ]
  },
  {
   "cell_type": "code",
   "execution_count": 181,
   "metadata": {},
   "outputs": [],
   "source": [
    "g2.add_node((0,2))\n",
    "g2.add_edge((0,1), (0,2))"
   ]
  },
  {
   "cell_type": "code",
   "execution_count": 182,
   "metadata": {},
   "outputs": [
    {
     "data": {
      "image/png": "[encoded data removed]",
      "text/plain": [
       "<Figure size 432x288 with 1 Axes>"
      ]
     },
     "metadata": {},
     "output_type": "display_data"
    }
   ],
   "source": [
    "nx.draw(g2, with_labels=True)"
   ]
  },
  {
   "cell_type": "code",
   "execution_count": 183,
   "metadata": {},
   "outputs": [],
   "source": [
    "c2 = nx.find_cliques(g2)"
   ]
  },
  {
   "cell_type": "code",
   "execution_count": 184,
   "metadata": {},
   "outputs": [
    {
     "name": "stdout",
     "output_type": "stream",
     "text": [
      "[(0, 1), (0, 0), (1, 1)]\n",
      "[(0, 1), (0, 2)]\n",
      "[(1, 0), (0, 0), (1, 1)]\n"
     ]
    }
   ],
   "source": [
    "for c in c2:\n",
    "    print(c)"
   ]
  },
  {
   "cell_type": "code",
   "execution_count": null,
   "metadata": {},
   "outputs": [],
   "source": []
  },
  {
   "cell_type": "code",
   "execution_count": 153,
   "metadata": {},
   "outputs": [],
   "source": [
    "zip?"
   ]
  },
  {
   "cell_type": "code",
   "execution_count": 150,
   "metadata": {},
   "outputs": [],
   "source": [
    "dict?"
   ]
  },
  {
   "cell_type": "code",
   "execution_count": 38,
   "metadata": {},
   "outputs": [],
   "source": [
    "nx.subgraph?"
   ]
  },
  {
   "cell_type": "code",
   "execution_count": 27,
   "metadata": {},
   "outputs": [],
   "source": [
    "sorted?"
   ]
  },
  {
   "cell_type": "code",
   "execution_count": null,
   "metadata": {},
   "outputs": [],
   "source": [
    "g1 = nx.random_graphs.binomial_graph"
   ]
  },
  {
   "cell_type": "code",
   "execution_count": null,
   "metadata": {},
   "outputs": [],
   "source": [
    "g1 = nx.random_graphs"
   ]
  },
  {
   "cell_type": "markdown",
   "metadata": {},
   "source": [
    "## Cliques of a square lattice"
   ]
  },
  {
   "cell_type": "code",
   "execution_count": 16,
   "metadata": {},
   "outputs": [],
   "source": [
    "sq_lattice = nx.lattice.grid_graph([4,4])"
   ]
  },
  {
   "cell_type": "code",
   "execution_count": 20,
   "metadata": {},
   "outputs": [
    {
     "data": {
      "image/png": "[encoded data removed]",
      "text/plain": [
       "<Figure size 432x288 with 1 Axes>"
      ]
     },
     "metadata": {},
     "output_type": "display_data"
    }
   ],
   "source": [
    "nx.draw(sq_lattice, with_labels = True)"
   ]
  },
  {
   "cell_type": "code",
   "execution_count": 37,
   "metadata": {},
   "outputs": [],
   "source": [
    "C = nx.find_cliques(sq_lattice)\n",
    "\n",
    "C = [list(sorted(c)) for c in C]\n",
    "\n",
    "C = sorted(C)"
   ]
  },
  {
   "cell_type": "code",
   "execution_count": 38,
   "metadata": {},
   "outputs": [
    {
     "data": {
      "text/plain": [
       "[[(0, 0), (0, 1)],\n",
       " [(0, 0), (1, 0)],\n",
       " [(0, 1), (0, 2)],\n",
       " [(0, 1), (1, 1)],\n",
       " [(0, 2), (0, 3)],\n",
       " [(0, 2), (1, 2)],\n",
       " [(0, 3), (1, 3)],\n",
       " [(1, 0), (1, 1)],\n",
       " [(1, 0), (2, 0)],\n",
       " [(1, 1), (1, 2)],\n",
       " [(1, 1), (2, 1)],\n",
       " [(1, 2), (1, 3)],\n",
       " [(1, 2), (2, 2)],\n",
       " [(1, 3), (2, 3)],\n",
       " [(2, 0), (2, 1)],\n",
       " [(2, 0), (3, 0)],\n",
       " [(2, 1), (2, 2)],\n",
       " [(2, 1), (3, 1)],\n",
       " [(2, 2), (2, 3)],\n",
       " [(2, 2), (3, 2)],\n",
       " [(2, 3), (3, 3)],\n",
       " [(3, 0), (3, 1)],\n",
       " [(3, 1), (3, 2)],\n",
       " [(3, 2), (3, 3)]]"
      ]
     },
     "execution_count": 38,
     "metadata": {},
     "output_type": "execute_result"
    }
   ],
   "source": [
    "C"
   ]
  },
  {
   "cell_type": "code",
   "execution_count": 39,
   "metadata": {},
   "outputs": [],
   "source": [
    "facelist = []"
   ]
  },
  {
   "cell_type": "code",
   "execution_count": 40,
   "metadata": {},
   "outputs": [],
   "source": [
    "for c in C:\n",
    "    facelist.append(faces(c))\n",
    "facelist = sorted(facelist)"
   ]
  },
  {
   "cell_type": "code",
   "execution_count": 41,
   "metadata": {},
   "outputs": [
    {
     "data": {
      "text/plain": [
       "[{(0,), (0, 0), (0, 1), (1,)},\n",
       " {(0,), (0, 0), (0, 1), (1,)},\n",
       " {(0,), (0, 1), (0, 2), (1,), (2,)},\n",
       " {(0,), (0, 1), (1,), (1, 1)},\n",
       " {(0,), (0, 2), (0, 3), (2,), (3,)},\n",
       " {(0,), (0, 2), (1,), (1, 2), (2,)},\n",
       " {(0,), (0, 3), (1,), (1, 3), (3,)},\n",
       " {(0,), (0, 1), (1,), (1, 1)},\n",
       " {(0,), (0, 1), (0, 2), (1,), (2,)},\n",
       " {(1,), (1, 1), (1, 2), (2,)},\n",
       " {(1,), (1, 1), (1, 2), (2,)},\n",
       " {(1,), (1, 2), (1, 3), (2,), (3,)},\n",
       " {(1,), (1, 2), (2,), (2, 2)},\n",
       " {(1,), (1, 3), (2,), (2, 3), (3,)},\n",
       " {(0,), (0, 2), (1,), (1, 2), (2,)},\n",
       " {(0,), (0, 2), (0, 3), (2,), (3,)},\n",
       " {(1,), (1, 2), (2,), (2, 2)},\n",
       " {(1,), (1, 2), (1, 3), (2,), (3,)},\n",
       " {(2,), (2, 2), (2, 3), (3,)},\n",
       " {(2,), (2, 2), (2, 3), (3,)},\n",
       " {(2,), (2, 3), (3,), (3, 3)},\n",
       " {(0,), (0, 3), (1,), (1, 3), (3,)},\n",
       " {(1,), (1, 3), (2,), (2, 3), (3,)},\n",
       " {(2,), (2, 3), (3,), (3, 3)}]"
      ]
     },
     "execution_count": 41,
     "metadata": {},
     "output_type": "execute_result"
    }
   ],
   "source": [
    "facelist"
   ]
  },
  {
   "cell_type": "code",
   "execution_count": 42,
   "metadata": {},
   "outputs": [],
   "source": [
    "faceset = set()"
   ]
  },
  {
   "cell_type": "code",
   "execution_count": 43,
   "metadata": {},
   "outputs": [
    {
     "data": {
      "text/plain": [
       "{(0,),\n",
       " (0, 0),\n",
       " (0, 1),\n",
       " (0, 2),\n",
       " (0, 3),\n",
       " (1,),\n",
       " (1, 1),\n",
       " (1, 2),\n",
       " (1, 3),\n",
       " (2,),\n",
       " (2, 2),\n",
       " (2, 3),\n",
       " (3,),\n",
       " (3, 3)}"
      ]
     },
     "execution_count": 43,
     "metadata": {},
     "output_type": "execute_result"
    }
   ],
   "source": [
    "for face in facelist:\n",
    "    faceset = faceset.union(face)\n",
    "faceset"
   ]
  },
  {
   "cell_type": "code",
   "execution_count": 47,
   "metadata": {},
   "outputs": [],
   "source": [
    "sq2 = sq_lattice.subgraph([(0,0),(0,1),(1,0),(1,1)])"
   ]
  },
  {
   "cell_type": "code",
   "execution_count": 49,
   "metadata": {},
   "outputs": [
    {
     "data": {
      "image/png": "[encoded data removed]",
      "text/plain": [
       "<Figure size 432x288 with 1 Axes>"
      ]
     },
     "metadata": {},
     "output_type": "display_data"
    }
   ],
   "source": [
    "nx.draw(sq2, with_labels = True)"
   ]
  },
  {
   "cell_type": "code",
   "execution_count": 52,
   "metadata": {},
   "outputs": [
    {
     "data": {
      "text/plain": [
       "[((0, 1), (0, 0)), ((0, 0), (1, 0)), ((1, 0), (1, 1)), ((1, 1), (0, 1))]"
      ]
     },
     "execution_count": 52,
     "metadata": {},
     "output_type": "execute_result"
    }
   ],
   "source": [
    "nx.cycles.find_cycle(sq2)"
   ]
  },
  {
   "cell_type": "code",
   "execution_count": 57,
   "metadata": {},
   "outputs": [],
   "source": [
    "cyclebasis = nx.cycle_basis(sq_lattice)"
   ]
  },
  {
   "cell_type": "code",
   "execution_count": 59,
   "metadata": {},
   "outputs": [],
   "source": [
    "cycle_graphs = []\n",
    "for cycle in cyclebasis:\n",
    "    cycle_graphs.append(sq_lattice.subgraph(cycle))"
   ]
  },
  {
   "cell_type": "code",
   "execution_count": 68,
   "metadata": {},
   "outputs": [],
   "source": [
    "cycle_plots = []"
   ]
  },
  {
   "cell_type": "code",
   "execution_count": 69,
   "metadata": {},
   "outputs": [
    {
     "data": {
      "image/png": "[encoded data removed]",
      "text/plain": [
       "<Figure size 432x288 with 1 Axes>"
      ]
     },
     "metadata": {},
     "output_type": "display_data"
    }
   ],
   "source": [
    "for cycle in cycle_graphs:\n",
    "    cycle_plots.append(nx.draw(cycle))"
   ]
  },
  {
   "cell_type": "code",
   "execution_count": 73,
   "metadata": {},
   "outputs": [],
   "source": [
    "nx.draw??"
   ]
  },
  {
   "cell_type": "code",
   "execution_count": 56,
   "metadata": {},
   "outputs": [],
   "source": [
    "nx.cycle_basis?"
   ]
  },
  {
   "cell_type": "code",
   "execution_count": 79,
   "metadata": {},
   "outputs": [],
   "source": [
    "nx.draw_networkx??"
   ]
  },
  {
   "cell_type": "code",
   "execution_count": 77,
   "metadata": {},
   "outputs": [],
   "source": [
    "nx.draw_networkx_nodes??"
   ]
  },
  {
   "cell_type": "code",
   "execution_count": 78,
   "metadata": {},
   "outputs": [],
   "source": [
    "plt.axes?"
   ]
  },
  {
   "cell_type": "code",
   "execution_count": 86,
   "metadata": {},
   "outputs": [],
   "source": [
    "hyper_graph = nx.lattice.hypercube_graph(4)"
   ]
  },
  {
   "cell_type": "code",
   "execution_count": 87,
   "metadata": {},
   "outputs": [
    {
     "data": {
      "image/png": "[encoded data removed]",
      "text/plain": [
       "<Figure size 432x288 with 1 Axes>"
      ]
     },
     "metadata": {},
     "output_type": "display_data"
    }
   ],
   "source": [
    "nx.draw(hyper_graph)"
   ]
  },
  {
   "cell_type": "code",
   "execution_count": null,
   "metadata": {},
   "outputs": [],
   "source": []
  },
  {
   "cell_type": "markdown",
   "metadata": {},
   "source": [
    "# `eval` Test"
   ]
  },
  {
   "cell_type": "code",
   "execution_count": 144,
   "metadata": {},
   "outputs": [],
   "source": [
    "s = 'Ising'\n",
    "\n",
    "def Ising(*args):    \n",
    "#     for arg in args:\n",
    "#         print(arg)\n",
    "#         s.join(str(arg) + ', ')\n",
    "    \n",
    "    s=\"\"\n",
    "\n",
    "    if args:\n",
    "        s = s.join(map(str,args))\n",
    "        print('args: ' + s)\n",
    "\n",
    "    print(\"It works\" + s)"
   ]
  },
  {
   "cell_type": "code",
   "execution_count": 145,
   "metadata": {},
   "outputs": [
    {
     "name": "stdout",
     "output_type": "stream",
     "text": [
      "It works\n"
     ]
    }
   ],
   "source": [
    "eval('Ising' + '()')"
   ]
  },
  {
   "cell_type": "code",
   "execution_count": 146,
   "metadata": {},
   "outputs": [
    {
     "name": "stdout",
     "output_type": "stream",
     "text": [
      "args: 2\n",
      "It works2\n"
     ]
    }
   ],
   "source": [
    "eval(s + '(2)')"
   ]
  },
  {
   "cell_type": "code",
   "execution_count": 147,
   "metadata": {},
   "outputs": [
    {
     "name": "stdout",
     "output_type": "stream",
     "text": [
      "args: temp154\n",
      "It workstemp154\n"
     ]
    }
   ],
   "source": [
    "eval(s + '(\"temp\",1,54)')"
   ]
  },
  {
   "cell_type": "code",
   "execution_count": 148,
   "metadata": {},
   "outputs": [
    {
     "name": "stdout",
     "output_type": "stream",
     "text": [
      "args: Ising\n",
      "It worksIsing\n"
     ]
    }
   ],
   "source": [
    "eval(s + '(s)')"
   ]
  }
 ],
 "metadata": {
  "anaconda-cloud": {},
  "kernelspec": {
   "display_name": "Python 3",
   "language": "python",
   "name": "python3"
  },
  "language_info": {
   "codemirror_mode": {
    "name": "ipython",
    "version": 3
   },
   "file_extension": ".py",
   "mimetype": "text/x-python",
   "name": "python",
   "nbconvert_exporter": "python",
   "pygments_lexer": "ipython3",
   "version": "3.6.7"
  },
  "latex_envs": {
   "LaTeX_envs_menu_present": true,
   "autoclose": true,
   "autocomplete": true,
   "bibliofile": "biblio.bib",
   "cite_by": "apalike",
   "current_citInitial": 1,
   "eqLabelWithNumbers": true,
   "eqNumInitial": 0,
   "hotkeys": {
    "equation": "Ctrl-E",
    "itemize": "Ctrl-I"
   },
   "labels_anchors": false,
   "latex_user_defs": false,
   "report_style_numbering": true,
   "user_envs_cfg": false
  },
  "toc": {
   "base_numbering": 1,
   "nav_menu": {},
   "number_sections": true,
   "sideBar": false,
   "skip_h1_title": false,
   "title_cell": "Table of Contents",
   "title_sidebar": "Contents",
   "toc_cell": true,
   "toc_position": {
    "height": "233px",
    "left": "957.547px",
    "right": "47.45px",
    "top": "110px",
    "width": "295px"
   },
   "toc_section_display": false,
   "toc_window_display": true
  },
  "varInspector": {
   "cols": {
    "lenName": 16,
    "lenType": 16,
    "lenVar": 40
   },
   "kernels_config": {
    "python": {
     "delete_cmd_postfix": "",
     "delete_cmd_prefix": "del ",
     "library": "var_list.py",
     "varRefreshCmd": "print(var_dic_list())"
    },
    "r": {
     "delete_cmd_postfix": ") ",
     "delete_cmd_prefix": "rm(",
     "library": "var_list.r",
     "varRefreshCmd": "cat(var_dic_list()) "
    }
   },
   "types_to_exclude": [
    "module",
    "function",
    "builtin_function_or_method",
    "instance",
    "_Feature"
   ],
   "window_display": false
  }
 },
 "nbformat": 4,
 "nbformat_minor": 1
}
