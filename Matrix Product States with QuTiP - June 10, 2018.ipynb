{
 "cells": [
  {
   "cell_type": "markdown",
   "metadata": {
    "toc": true
   },
   "source": [
    "<h1>Table of Contents<span class=\"tocSkip\"></span></h1>\n",
    "<div class=\"toc\"><ul class=\"toc-item\"><li><span><a href=\"#Mathjax-custom-macros\" data-toc-modified-id=\"Mathjax-custom-macros-1\" data-vivaldi-spatnav-clickable=\"1\"><span class=\"toc-item-num\">1&nbsp;&nbsp;</span>Mathjax custom macros</a></span></li><li><span><a href=\"#References\" data-toc-modified-id=\"References-2\" data-vivaldi-spatnav-clickable=\"1\"><span class=\"toc-item-num\">2&nbsp;&nbsp;</span>References</a></span></li></ul></div>"
   ]
  },
  {
   "cell_type": "markdown",
   "metadata": {},
   "source": [
    "# Mathjax custom macros\n",
    "\n",
    "$ \\newcommand{\\opexpect}[3]{\\langle #1 \\vert #2 \\vert #3 \\rangle} $\n",
    "$ \\newcommand{\\rarrow}{\\rightarrow} $\n",
    "$ \\newcommand{\\bra}{\\langle} $\n",
    "$ \\newcommand{\\ket}{\\rangle} $\n",
    "\n",
    "$ \\newcommand{\\up}{\\uparrow} $\n",
    "$ \\newcommand{\\down}{\\downarrow} $\n",
    "\n",
    "$ \\newcommand{\\mb}[1]{\\mathbf{#1}} $\n",
    "$ \\newcommand{\\mc}[1]{\\mathcal{#1}} $\n",
    "$ \\newcommand{\\mbb}[1]{\\mathbb{#1}} $\n",
    "$ \\newcommand{\\mf}[1]{\\mathfrak{#1}} $\n",
    "\n",
    "$ \\newcommand{\\vect}[1]{\\boldsymbol{\\mathrm{#1}}} $\n",
    "$ \\newcommand{\\expect}[1]{\\langle #1\\rangle} $\n",
    "\n",
    "$ \\newcommand{\\innerp}[2]{\\langle #1 \\vert #2 \\rangle} $\n",
    "$ \\newcommand{\\fullbra}[1]{\\langle #1 \\vert} $\n",
    "$ \\newcommand{\\fullket}[1]{\\vert #1 \\rangle} $\n",
    "$ \\newcommand{\\supersc}[1]{^{\\text{#1}}} $\n",
    "$ \\newcommand{\\subsc}[1]{_{\\text{#1}}} $\n",
    "$ \\newcommand{\\sltwoc}{SL(2,\\mathbb{C})} $\n",
    "$ \\newcommand{\\sltwoz}{SL(2,\\mathbb{Z})} $\n",
    "\n",
    "$ \\newcommand{\\utilde}[1]{\\underset{\\sim}{#1}} $\n",
    "\n",
    "$ \\newcommand{\\Tr}{\\mathrm{Tr}}$"
   ]
  },
  {
   "cell_type": "markdown",
   "metadata": {},
   "source": [
    "A typical MPS is written as \\cite[Sec 3]{Bridgeman2016Hand-waving}:\n",
    "\n",
    "\\begin{equation}\\label{eq:}\n",
    "\\fullket{\\psi} = \\sum_{i_1, i_2, \\ldots, i_N} \\Tr\\left[ A^{(1)}_{i_1} A^{(2)}_{i_2} \\ldots A^{(N)}_{i_N} \\right] \\fullket{i_1, i_2, \\ldots, i_N}\n",
    "\\end{equation}\n",
    "\n",
    "where $ A^{(k)}_{i_k;\\alpha\\beta} $ is a set of matrices associated with the $ k^\\text{th} $ lattice site; with $ i_k \\in \\{1,2,\\ldots,D\\} $, where $ D $ is the dimension of the single site Hilbert space and $ \\alpha, \\beta \\in \\{ 1, 2, \\ldots, d\\} $, where $ d $ is known as the \"bond dimension\". As an example, for a chain of spin $ 1/2 $ particles, each site can be one of two states $ \\{\\fullket{\\uparrow}, \\fullket{\\downarrow} \\} $ and thus with each site we associate two matrices: $ A^{(k)}_{\\uparrow;\\alpha\\beta}  $ and $ A^{(k)}_{\\downarrow; \\alpha\\beta} $. From now on for ease of notation, instead of using the up/down notation $ \\{\\fullket{\\uparrow}, \\fullket{\\downarrow} \\} $ we will use $ \\{ \\fullket{1}, \\fullket{0} \\} $ to represent the two states of a spin $ 1/2 $ system. Typically, we will consider systems invariant under translations, which allows us to use a single set of matrices $ A_{i_k;\\alpha\\beta} $ for each site. We will do so in the following examples. It is important at this point to mention that it has been proven in \\cite{Vidal2003Efficient} that \\emph{any} many-body state can be written in the form \\eqref{eqn:mps-ansatz} as long as the bond dimension $ d $ is large enough.\n",
    "\n",
    "Working with the spin half chain, consider, for instance the matrices:\n",
    "\n",
    "\\begin{equation}\n",
    "\tA_0 = (1); \\quad A_1 = (0)\n",
    "\\end{equation}\n",
    "\n",
    "Inserting these into the MPS expression \\eqref{eqn:mps-ansatz}, we can see that whenever the state at a given site is $ \\fullket{1} $, the coefficient of that term will vanish. Thus we are left with the result that \\eqref{eqn:mps-state-1} represents the simple state: $ \\fullket{00\\ldots0} $. A less trivial example is that of the GHZ (Greenberger-Horne-Zeilinger) \\cite{Greenberger1990Bells} state:\n",
    "\n",
    "\\begin{equation}\\label{eqn:ghz-state}\n",
    "\t\\fullket{\\psi_{GHZ}} = \\fullket{00\\ldots0} + \\fullket{11\\ldots1}\n",
    "\\end{equation}\n",
    "\n",
    "for which the associated MPS matrices are:\n",
    "\n",
    "\\begin{equation}\\label{eqn:ghz-mps}\n",
    "\tA_0 = \\begin{pmatrix} 1 & 0 \\\\ 0 & 0 \\end{pmatrix}\\,\\, \\quad A_1 = \\begin{pmatrix} 0 & 0 \\\\ 0 & 1 \\end{pmatrix}\n",
    "\\end{equation}\n"
   ]
  },
  {
   "cell_type": "code",
   "execution_count": 1,
   "metadata": {},
   "outputs": [],
   "source": [
    "from qutip import *"
   ]
  },
  {
   "cell_type": "code",
   "execution_count": 1,
   "metadata": {},
   "outputs": [],
   "source": [
    "# Number of lattice sites\n",
    "n_sites = 8\n",
    "# Dimension of site Hilbert space\n",
    "d_hilbert = 2\n",
    "# Bond dimension\n",
    "d_bond = 2"
   ]
  },
  {
   "cell_type": "code",
   "execution_count": null,
   "metadata": {},
   "outputs": [],
   "source": []
  },
  {
   "cell_type": "code",
   "execution_count": null,
   "metadata": {},
   "outputs": [],
   "source": []
  },
  {
   "cell_type": "code",
   "execution_count": null,
   "metadata": {},
   "outputs": [],
   "source": []
  },
  {
   "cell_type": "markdown",
   "metadata": {},
   "source": [
    "# References\n",
    "\n",
    "<mark> <b>The bib file biblio.bib was not found\n",
    "\n",
    "</b> </mark>(<a id=\"cit-Bridgeman2016Hand-waving\" href=\"#call-Bridgeman2016Hand-waving\">?</a>) !! _This reference was not found in biblio.bib _ !!\n",
    "\n",
    "(<a id=\"cit-Vidal2003Efficient\" href=\"#call-Vidal2003Efficient\">?</a>) !! _This reference was not found in biblio.bib _ !!\n",
    "\n",
    "(<a id=\"cit-Greenberger1990Bells\" href=\"#call-Greenberger1990Bells\">?</a>) !! _This reference was not found in biblio.bib _ !!\n",
    "\n"
   ]
  }
 ],
 "metadata": {
  "kernelspec": {
   "display_name": "Python 3",
   "language": "python",
   "name": "python3"
  },
  "language_info": {
   "codemirror_mode": {
    "name": "ipython",
    "version": 3
   },
   "file_extension": ".py",
   "mimetype": "text/x-python",
   "name": "python",
   "nbconvert_exporter": "python",
   "pygments_lexer": "ipython3",
   "version": "3.6.7"
  },
  "latex_envs": {
   "LaTeX_envs_menu_present": true,
   "autoclose": true,
   "autocomplete": true,
   "bibliofile": "biblio.bib",
   "cite_by": "apalike",
   "current_citInitial": 1,
   "eqLabelWithNumbers": true,
   "eqNumInitial": 0,
   "hotkeys": {
    "equation": "Ctrl-E",
    "itemize": "Ctrl-I"
   },
   "labels_anchors": false,
   "latex_user_defs": false,
   "report_style_numbering": false,
   "user_envs_cfg": false
  },
  "toc": {
   "base_numbering": 1,
   "nav_menu": {
    "height": "83px",
    "width": "165px"
   },
   "number_sections": true,
   "sideBar": false,
   "skip_h1_title": false,
   "title_cell": "Table of Contents",
   "title_sidebar": "Contents",
   "toc_cell": true,
   "toc_position": {
    "height": "100px",
    "left": "864px",
    "top": "160.267px",
    "width": "230px"
   },
   "toc_section_display": true,
   "toc_window_display": true
  },
  "varInspector": {
   "cols": {
    "lenName": 16,
    "lenType": 16,
    "lenVar": 40
   },
   "kernels_config": {
    "python": {
     "delete_cmd_postfix": "",
     "delete_cmd_prefix": "del ",
     "library": "var_list.py",
     "varRefreshCmd": "print(var_dic_list())"
    },
    "r": {
     "delete_cmd_postfix": ") ",
     "delete_cmd_prefix": "rm(",
     "library": "var_list.r",
     "varRefreshCmd": "cat(var_dic_list()) "
    }
   },
   "types_to_exclude": [
    "module",
    "function",
    "builtin_function_or_method",
    "instance",
    "_Feature"
   ],
   "window_display": false
  }
 },
 "nbformat": 4,
 "nbformat_minor": 2
}
