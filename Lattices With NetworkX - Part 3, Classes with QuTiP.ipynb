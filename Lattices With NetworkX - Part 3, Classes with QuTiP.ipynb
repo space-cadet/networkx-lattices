{
 "cells": [
  {
   "cell_type": "markdown",
   "metadata": {
    "toc": "true"
   },
   "source": [
    " # Table of Contents\n",
    "<div class=\"toc\" style=\"margin-top: 1em;\"><ul class=\"toc-item\" id=\"toc-level0\"><li><span><a href=\"http://localhost:8888/notebooks/ipython-notebooks/research/NetworkX%20Lattices/Lattices%20With%20NetworkX%20-%20Part%203%2C%20Classes%20with%20QuTiP.ipynb#Classes-with-QuTiP\" data-toc-modified-id=\"Classes-with-QuTiP-1\"><span class=\"toc-item-num\">1&nbsp;&nbsp;</span>Classes with QuTiP</a></span><ul class=\"toc-item\"><li><span><a href=\"http://localhost:8888/notebooks/ipython-notebooks/research/NetworkX%20Lattices/Lattices%20With%20NetworkX%20-%20Part%203%2C%20Classes%20with%20QuTiP.ipynb#switch-Class-Definition\" data-toc-modified-id=\"switch-Class-Definition-1.1\"><span class=\"toc-item-num\">1.1&nbsp;&nbsp;</span><code>switch</code> Class Definition</a></span></li><li><span><a href=\"http://localhost:8888/notebooks/ipython-notebooks/research/NetworkX%20Lattices/Lattices%20With%20NetworkX%20-%20Part%203%2C%20Classes%20with%20QuTiP.ipynb#SquareLattice-Class-Definition\" data-toc-modified-id=\"SquareLattice-Class-Definition-1.2\"><span class=\"toc-item-num\">1.2&nbsp;&nbsp;</span><code>SquareLattice</code> Class Definition</a></span></li><li><span><a href=\"http://localhost:8888/notebooks/ipython-notebooks/research/NetworkX%20Lattices/Lattices%20With%20NetworkX%20-%20Part%203%2C%20Classes%20with%20QuTiP.ipynb#qutipHamiltonian-Class-Definition\" data-toc-modified-id=\"qutipHamiltonian-Class-Definition-1.3\"><span class=\"toc-item-num\">1.3&nbsp;&nbsp;</span><code>qutipHamiltonian</code> Class Definition</a></span></li></ul></li></ul></div>"
   ]
  },
  {
   "cell_type": "markdown",
   "metadata": {},
   "source": [
    "# Classes with QuTiP"
   ]
  },
  {
   "cell_type": "code",
   "execution_count": 1,
   "metadata": {
    "collapsed": true
   },
   "outputs": [],
   "source": [
    "import networkx as nx\n",
    "import numpy as np\n",
    "import matplotlib as matplotlib\n",
    "matplotlib.use('qt4agg')\n",
    "import matplotlib.pyplot as plt\n",
    "import random\n",
    "\n",
    "from qutip import *"
   ]
  },
  {
   "cell_type": "code",
   "execution_count": 2,
   "metadata": {
    "collapsed": true
   },
   "outputs": [],
   "source": [
    "%matplotlib inline"
   ]
  },
  {
   "cell_type": "markdown",
   "metadata": {},
   "source": [
    "## `switch` Class Definition\n",
    "\n",
    "Reference: [ActiveState Recipes](http://code.activestate.com/recipes/410692/)\n",
    "\n",
    "Example Usage:\n",
    "\n",
    "The following example is pretty much the exact use-case of a dictionary, but is included for its simplicity. Note that you can include statements in each suite.\n",
    "    \n",
    "```\n",
    "v = 'ten'\n",
    "for case in switch(v):\n",
    "    if case('one'):\n",
    "        print 1\n",
    "        break\n",
    "    if case('two'):\n",
    "        print 2\n",
    "        break\n",
    "    if case('ten'):\n",
    "        print 10\n",
    "        break\n",
    "    if case('eleven'):\n",
    "        print 11\n",
    "        break\n",
    "    if case(): # default, could also just omit condition or 'if True'\n",
    "        print \"something else!\"\n",
    "        # No need to break here, it'll stop anyway\n",
    "```"
   ]
  },
  {
   "cell_type": "code",
   "execution_count": 3,
   "metadata": {
    "collapsed": true
   },
   "outputs": [],
   "source": [
    "# This class provides the functionality we want. You only need to look at\n",
    "# this if you want to know how this works. It only needs to be defined\n",
    "# once, no need to muck around with its internals.\n",
    "class switch(object):\n",
    "    def __init__(self, value):\n",
    "        self.value = value\n",
    "        self.fall = False\n",
    "\n",
    "    def __iter__(self):\n",
    "        \"\"\"Return the match method once, then stop\"\"\"\n",
    "        yield self.match\n",
    "        raise StopIteration\n",
    "    \n",
    "    def match(self, *args):\n",
    "        \"\"\"Indicate whether or not to enter a case suite\"\"\"\n",
    "        if self.fall or not args:\n",
    "            return True\n",
    "        elif self.value in args: # changed for v1.5, see below\n",
    "            self.fall = True\n",
    "            return True\n",
    "        else:\n",
    "            return False"
   ]
  },
  {
   "cell_type": "markdown",
   "metadata": {},
   "source": [
    "## `SquareLattice` Class Definition"
   ]
  },
  {
   "cell_type": "code",
   "execution_count": 4,
   "metadata": {
    "collapsed": true
   },
   "outputs": [],
   "source": [
    "from qutip import *"
   ]
  },
  {
   "cell_type": "code",
   "execution_count": 5,
   "metadata": {
    "collapsed": true
   },
   "outputs": [],
   "source": [
    "class hashQobj(Qobj):\n",
    "    \n",
    "    def __hash__(self):\n",
    "        return hash(repr(self))"
   ]
  },
  {
   "cell_type": "code",
   "execution_count": 6,
   "metadata": {},
   "outputs": [],
   "source": [
    "class qutipSquareLattice():\n",
    "    \n",
    "    hamiltonian = None\n",
    "    \n",
    "    hamOp = Qobj()\n",
    "    \n",
    "    graph = nx.empty_graph(0)\n",
    "    size = 0\n",
    "    dims = 2\n",
    "    state = np.empty([]) # create empty array\n",
    "    colors = ['r','b','g','c','m','y','k','w']\n",
    "    color_map = {}\n",
    "#     upspin = hashQobj(basis(2,0))\n",
    "#     dnspin = hashQobj(basis(2,1))\n",
    "#     color_map = {upspin:'r', dnspin :'b'}\n",
    "    state_values = []\n",
    "    node_color_dict = {} # dictionary whose keys are nodes and values are colors for each node\n",
    "    node_colors = []\n",
    "    pos_dict = {}\n",
    "    \n",
    "    use_default_vars = True\n",
    "    \n",
    "    scale_mult = 0\n",
    "    \n",
    "    def __init__(self,size=10,periodic=False,hamType=None,hamVars=None):\n",
    "        self.size = size\n",
    "        self.graph = nx.grid_2d_graph(size,size,periodic=periodic)\n",
    "        \n",
    "        self.scale_mult = 10.0/self.size\n",
    "        \n",
    "        for node in self.graph:\n",
    "            self.pos_dict[node] = [self.scale_mult*node[0],self.scale_mult*node[1]] # set the node co-ordinates to be same as node indices\n",
    "        \n",
    "        if hamType:\n",
    "            self.hamiltonian = qutipHamiltonian(hamType,self.graph,hamVars)\n",
    "            self.hamOp = self.hamiltonian.hamOp\n",
    "            self.dims = self.hamiltonian.dims\n",
    "            self.state_values = [hashQobj(basis(self.dims,i)) for i in range(self.dims)] # Possible states of a given site\n",
    "            print(self.state_values)\n",
    "            for i in range(self.dims):\n",
    "                self.color_map[self.state_values[i]] = self.colors[i]\n",
    "            self.setRandomState()\n",
    "    \n",
    "    def setRandomState(self):\n",
    "        '''Iterates over all nodes in the graph. For each node, creates an attribute\n",
    "        labeled 'state', and assigns to it at random QuTiP objects returned by basis(2,0) or basis(2,1)\n",
    "        corresponding to spin up or spin down.'''\n",
    "\n",
    "        for node in self.graph:\n",
    "            self.graph.node[node]['state'] = self.state_values[np.random.randint(self.dims)]\n",
    "            self.node_color_dict[node] = self.color_map[self.graph.node[node]['state']]\n",
    "\n",
    "        self.node_colors = list(self.node_color_dict.values())\n",
    "        \n",
    "        return\n",
    "\n",
    "    \n",
    "    def nearestEnergy(self,node):\n",
    "        energy = 0.\n",
    "        for neighbor in self.graph[node]:\n",
    "            tempstate = tensor(self.graph.node[node]['state'],self.graph.node[neighbor]['state'])\n",
    "            energy += expect(self.hamOp,tempstate)\n",
    "        return energy\n",
    "    \n",
    "    def nextNearestEnergy(self,node):\n",
    "        energy = 0.\n",
    "        for nearest in self.graph[node]:\n",
    "            for nextnearest in self.graph[nearest]:\n",
    "                if nextnearest!=node:\n",
    "                    tempstate = tensor(self.graph.node[node]['state'],self.graph.node[nextnearest]['state'])\n",
    "                    energy += expect(self.hamOp,tempstate)\n",
    "        return energy\n",
    "    \n",
    "    def latticeEnergy(self):\n",
    "        energy = 0\n",
    "        for node in self.graph:\n",
    "            energy = energy + self.nearestEnergy(node)\n",
    "        return energy\n",
    "    \n",
    "    def draw(self):\n",
    "        nx.draw(self.graph,pos=self.pos_dict,node_color=self.node_colors,node_size=50*self.scale_mult)\n",
    "                "
   ]
  },
  {
   "cell_type": "markdown",
   "metadata": {},
   "source": [
    "## `qutipHamiltonian` Class Definition"
   ]
  },
  {
   "cell_type": "code",
   "execution_count": 7,
   "metadata": {},
   "outputs": [],
   "source": [
    "class qutipHamiltonian():\n",
    "    '''Class which defines the hamiltonian acting on a given site of a lattice'''\n",
    "    \n",
    "    hamTypes = ['NumberOp', 'Ising', 'Heisenberg','Hubbard', 'AKLT', 'SpinGlass']\n",
    "    \n",
    "    defaultVars = {'NumberOp':   {'J':1, 'dims': 2},\n",
    "                   'Ising':      {'J': 1, 'mu': 0, 'extfield': 0},\n",
    "                   'Heisenberg': {'J': 1, 'mu': 0, 'extfield': 0, 'dims': 3},\n",
    "                   'Hubbard':    {'J': 1, 'U': 0, 'mu': 1, 'extfield': 0},\n",
    "                   'SpinGlass':  {'J_ij': [[]], 'mu': 0, 'extfield': 0 },\n",
    "                   'AKLT':       {'J': 1}\n",
    "              }             # default values of Hamiltonian parameters\n",
    "    \n",
    "    hamType = None          # type of Hamiltonian: Ising, Heisenberg, Hubbard etc.\n",
    "    \n",
    "    hamOp = Qobj()          # single-site Hamiltonian operator\n",
    "    \n",
    "    hamVars = {}            # parameters necessary for defining Hamiltonian, coupling strengths, etc.\n",
    "    \n",
    "    graph = None            # graph on which Hamiltonian is defined.\n",
    "    \n",
    "    dims = 2                # dimension of single particle Hilbert space.\n",
    "    \n",
    "    latticeDimension = 2    # dimension of lattice on which Hamiltonian is defined.\n",
    "\n",
    "    latticeSize = (5,5)     # tuple containing number of sites in lattice, should match latticeDimension.\n",
    "    \n",
    "    def __init__(self, hamType, graph=None, hamVars=None):\n",
    "#         try:\n",
    "#             from qutip import *\n",
    "#         except:\n",
    "#             raise NameError('QuTiP is not installed')\n",
    "        \n",
    "        if hamType != None:\n",
    "            if hamType not in self.hamTypes:\n",
    "#                 from string import join\n",
    "                raise ValueError('hamType must be one of ',self.hamTypes)\n",
    "            else:\n",
    "                self.hamType = hamType\n",
    "                self.initHamiltonian(graph,hamType,hamVars)\n",
    "                \n",
    "    def initHamiltonian(self,graph,hamType,hamVars):\n",
    "        \n",
    "#         self.hamFunc = getattr(self,'hamiltonian'+hamType)\n",
    "        if graph!=None:\n",
    "            self.graph = graph\n",
    "        else:\n",
    "            print('Lattice is not defined.')\n",
    "        \n",
    "        defVars = self.defaultVars.get(hamType)\n",
    "        \n",
    "        print(defVars)\n",
    "        \n",
    "        if hamVars:\n",
    "            if set(hamVars.keys()).issubset(set(self.defVars.keys())):\n",
    "                self.setHamiltonianVars(hamType,hamVars)\n",
    "                self.setHamiltonianOp(hamType)\n",
    "            else:\n",
    "                raise ValueError('Hamiltonian variables for', self.hamType, 'model, should subset of:'\\\n",
    "                                            ,defVars)\n",
    "        else:\n",
    "            print('Hamiltonian parameters not specified. Using default values')\n",
    "            self.setHamiltonianVars(hamType,defVars)\n",
    "            self.setHamiltonianOp(hamType)\n",
    "            \n",
    "        return\n",
    "    \n",
    "    def setHamiltonianVars(self,hamType,hamVars):\n",
    "\n",
    "#         if hamVars==None:\n",
    "#             raise ValueError('Hamiltonian parameters not specified. Exiting')\n",
    "#         if hamType==None:\n",
    "#             raise ValueError('Hamiltonian type not specified. Exiting')\n",
    "        self.hamVars = self.defaultVars.get(hamType)\n",
    "        for k in hamVars.keys():\n",
    "            self.hamVars[k] = hamVars[k]    \n",
    "\n",
    "        for case in switch(hamType):\n",
    "            if case('Ising'):\n",
    "                print('Ising')\n",
    "                self.J = self.hamVars['J']\n",
    "                self.mu = self.hamVars['mu']\n",
    "                self.h = self.hamVars['extfield']\n",
    "                break\n",
    "\n",
    "            if case('Hubbard'):\n",
    "                print('Hubbard')\n",
    "                self.J = self.hamVars['J']\n",
    "                self.mu = self.hamVars['mu']\n",
    "                self.h = self.hamVars['extfield']\n",
    "                self.U = self.hamVars['U']\n",
    "                break\n",
    "                \n",
    "            if case('Heisenberg'):\n",
    "                print('Heisenberg')\n",
    "                self.J = self.hamVars['J']\n",
    "                self.h = self.hamVars['extfield']\n",
    "                self.mu = self.hamVars['mu']\n",
    "                self.dims = 3     # Heisenberg spin-chain has spin 1 particles\n",
    "                break\n",
    "            \n",
    "            if case('AKLT'):\n",
    "                print('AKLT')\n",
    "                self.J = self.hamVars['J']\n",
    "                \n",
    "#             if case('SpinGlass'):\n",
    "#                 if hamVars:\n",
    "#                     self.J_ij = hamVars['J_ij']\n",
    "#                     self.h = hamVars['extfield']\n",
    "#                     self.mu = hamVars['mu']\n",
    "#                 else:\n",
    "#                     self.J = 1\n",
    "#                     self.h = 0\n",
    "#                     self.mu = 0\n",
    "#                 break\n",
    "                \n",
    "            if case('NumberOp'):\n",
    "                break\n",
    "            \n",
    "            return\n",
    "                \n",
    "    def setHamiltonianOp(self,hamType):\n",
    "        if self.hamVars.get('dims'):\n",
    "            self.dims = self.hamVars['dims']\n",
    "        else:\n",
    "            self.dims = 2\n",
    "\n",
    "        dim = self.dims\n",
    "        j = (dim-1)/2.0\n",
    "        \n",
    "        sx = jmat(j,'x')\n",
    "        sy = jmat(j,'y')\n",
    "        sz = jmat(j,'z')\n",
    "        sp = jmat(j,'+')\n",
    "        sm = jmat(j,'-')\n",
    "        identity = qeye(dim)\n",
    "        \n",
    "        \n",
    "        for case in switch(hamType):\n",
    "            if case('Ising'):\n",
    "                self.hamOp = -self.J * tensor(sz,sz) \\\n",
    "                                            - self.mu * self.h * tensor(sz,identity)\n",
    "                break\n",
    "            \n",
    "            if case('AKLT'):\n",
    "                self.hamOp = self.J * (tensor(sx,sx) + tensor(sy,sy) + tensor(sz,sz))\n",
    "                self.hamOp += self.J/3.0 * (tensor(sx,sx) + tensor(sy,sy) + tensor(sz,sz))**2\n",
    "            \n",
    "            if case('Hubbard'):\n",
    "                break\n",
    "                \n",
    "            if case('Heisenberg'):\n",
    "                self.hamOp = -0.5*self.J * (tensor(sp,sm) + tensor(sm,sp))\n",
    "                self.hamOp += -self.J * tensor(sz,sz)\n",
    "                break\n",
    "                \n",
    "#             if case('SpinGlass'):\n",
    "#                 if hamVars:\n",
    "#                     self.J_ij = hamVars['J_ij']\n",
    "#                     self.h = hamVars['extfield']\n",
    "#                     self.mu = hamVars['mu']\n",
    "#                 else:\n",
    "#                     self.J = 1\n",
    "#                     self.h = 0\n",
    "#                     self.mu = 0\n",
    "#                 break\n",
    "                \n",
    "            if case('NumberOp'):\n",
    "                break        \n",
    "            \n",
    "            return\n",
    "    \n",
    "    @property\n",
    "    def hermitian(self):\n",
    "        return self._isHermitian\n",
    "    \n",
    "    @hermitian.setter\n",
    "    def hermitian(self, value):\n",
    "        if isinstance(value, bool):\n",
    "            self._isHermitian = value\n",
    "        else:\n",
    "            raise ValueError('hermitian must be a boolean data type')"
   ]
  },
  {
   "cell_type": "code",
   "execution_count": 56,
   "metadata": {},
   "outputs": [
    {
     "data": {
      "text/latex": [
       "Quantum object: dims = [[2], [2]], shape = [2, 2], type = oper, isherm = True\\begin{equation*}\\left(\\begin{array}{*{11}c}0.500 & 0.0\\\\0.0 & -0.500\\\\\\end{array}\\right)\\end{equation*}"
      ],
      "text/plain": [
       "Quantum object: dims = [[2], [2]], shape = [2, 2], type = oper, isherm = True\n",
       "Qobj data =\n",
       "[[ 0.5  0. ]\n",
       " [ 0.  -0.5]]"
      ]
     },
     "execution_count": 56,
     "metadata": {},
     "output_type": "execute_result"
    }
   ],
   "source": [
    "jmat(0.5,'z')"
   ]
  },
  {
   "cell_type": "code",
   "execution_count": 90,
   "metadata": {},
   "outputs": [
    {
     "name": "stdout",
     "output_type": "stream",
     "text": [
      "{'J': 1}\n",
      "Hamiltonian parameters not specified. Using default values\n",
      "AKLT\n",
      "[Quantum object: dims = [[2], [1]], shape = [2, 1], type = ket\n",
      "Qobj data =\n",
      "[[ 1.]\n",
      " [ 0.]], Quantum object: dims = [[2], [1]], shape = [2, 1], type = ket\n",
      "Qobj data =\n",
      "[[ 0.]\n",
      " [ 1.]]]\n"
     ]
    }
   ],
   "source": [
    "latt = qutipSquareLattice(size=5,hamType='AKLT')"
   ]
  },
  {
   "cell_type": "code",
   "execution_count": 91,
   "metadata": {},
   "outputs": [
    {
     "data": {
      "text/latex": [
       "Quantum object: dims = [[2, 2], [2, 2]], shape = [4, 4], type = oper, isherm = True\\begin{equation*}\\left(\\begin{array}{*{11}c}0.271 & 0.0 & 0.0 & 0.0\\\\0.0 & -0.146 & 0.417 & 0.0\\\\0.0 & 0.417 & -0.146 & 0.0\\\\0.0 & 0.0 & 0.0 & 0.271\\\\\\end{array}\\right)\\end{equation*}"
      ],
      "text/plain": [
       "Quantum object: dims = [[2, 2], [2, 2]], shape = [4, 4], type = oper, isherm = True\n",
       "Qobj data =\n",
       "[[ 0.27083333  0.          0.          0.        ]\n",
       " [ 0.         -0.14583333  0.41666667  0.        ]\n",
       " [ 0.          0.41666667 -0.14583333  0.        ]\n",
       " [ 0.          0.          0.          0.27083333]]"
      ]
     },
     "execution_count": 91,
     "metadata": {},
     "output_type": "execute_result"
    }
   ],
   "source": [
    "latt.hamiltonian.hamOp"
   ]
  },
  {
   "cell_type": "code",
   "execution_count": 92,
   "metadata": {},
   "outputs": [],
   "source": [
    "latt.setRandomState()"
   ]
  },
  {
   "cell_type": "code",
   "execution_count": 93,
   "metadata": {},
   "outputs": [
    {
     "data": {
      "image/png": "[encoded data removed]",
      "text/plain": [
       "<matplotlib.figure.Figure at 0x10d167908>"
      ]
     },
     "metadata": {},
     "output_type": "display_data"
    }
   ],
   "source": [
    "latt.draw()"
   ]
  },
  {
   "cell_type": "code",
   "execution_count": 94,
   "metadata": {},
   "outputs": [
    {
     "data": {
      "text/plain": [
       "8.33333333333333"
      ]
     },
     "execution_count": 94,
     "metadata": {},
     "output_type": "execute_result"
    }
   ],
   "source": [
    "latt.latticeEnergy()"
   ]
  },
  {
   "cell_type": "code",
   "execution_count": 95,
   "metadata": {
    "collapsed": true
   },
   "outputs": [],
   "source": [
    "energies = []\n",
    "for i in range(500):\n",
    "    latt.setRandomState()\n",
    "    energies.append(latt.latticeEnergy())"
   ]
  },
  {
   "cell_type": "code",
   "execution_count": 98,
   "metadata": {},
   "outputs": [
    {
     "data": {
      "text/plain": [
       "(array([  1.,   2.,   5.,  11.,  13.,  21.,  41.,  62.,  54.,  64.,  64.,\n",
       "         47.,  43.,  33.,  15.,   8.,   7.,   6.,   1.,   2.]),\n",
       " array([ -2.5       ,  -1.70833333,  -0.91666667,  -0.125     ,\n",
       "          0.66666667,   1.45833333,   2.25      ,   3.04166667,\n",
       "          3.83333333,   4.625     ,   5.41666667,   6.20833333,\n",
       "          7.        ,   7.79166667,   8.58333333,   9.375     ,\n",
       "         10.16666667,  10.95833333,  11.75      ,  12.54166667,  13.33333333]),\n",
       " <a list of 20 Patch objects>)"
      ]
     },
     "execution_count": 98,
     "metadata": {},
     "output_type": "execute_result"
    },
    {
     "data": {
      "image/png": "[encoded data removed]",
      "text/plain": [
       "<matplotlib.figure.Figure at 0x10caab080>"
      ]
     },
     "metadata": {},
     "output_type": "display_data"
    }
   ],
   "source": [
    "plt.hist(energies,bins=20)"
   ]
  },
  {
   "cell_type": "code",
   "execution_count": null,
   "metadata": {
    "collapsed": true
   },
   "outputs": [],
   "source": [
    "set.issubset?"
   ]
  },
  {
   "cell_type": "code",
   "execution_count": null,
   "metadata": {
    "collapsed": true
   },
   "outputs": [],
   "source": [
    "create?"
   ]
  },
  {
   "cell_type": "code",
   "execution_count": null,
   "metadata": {
    "collapsed": true
   },
   "outputs": [],
   "source": [
    "x = hashQobj"
   ]
  },
  {
   "cell_type": "code",
   "execution_count": null,
   "metadata": {},
   "outputs": [],
   "source": [
    "hash(x)"
   ]
  },
  {
   "cell_type": "code",
   "execution_count": null,
   "metadata": {
    "collapsed": true
   },
   "outputs": [],
   "source": [
    "x = hashQobj(basis(2,0))"
   ]
  },
  {
   "cell_type": "code",
   "execution_count": null,
   "metadata": {},
   "outputs": [],
   "source": [
    "hash(x)"
   ]
  },
  {
   "cell_type": "code",
   "execution_count": null,
   "metadata": {},
   "outputs": [],
   "source": [
    "x"
   ]
  },
  {
   "cell_type": "code",
   "execution_count": null,
   "metadata": {
    "collapsed": true
   },
   "outputs": [],
   "source": [
    "x = {}"
   ]
  },
  {
   "cell_type": "code",
   "execution_count": null,
   "metadata": {},
   "outputs": [],
   "source": [
    "len(x)"
   ]
  },
  {
   "cell_type": "code",
   "execution_count": null,
   "metadata": {},
   "outputs": [],
   "source": [
    "basis(3,2)"
   ]
  },
  {
   "cell_type": "code",
   "execution_count": null,
   "metadata": {},
   "outputs": [],
   "source": [
    "basis(2,1)"
   ]
  },
  {
   "cell_type": "code",
   "execution_count": null,
   "metadata": {
    "collapsed": true
   },
   "outputs": [],
   "source": [
    "np.ndarray?"
   ]
  },
  {
   "cell_type": "code",
   "execution_count": null,
   "metadata": {},
   "outputs": [],
   "source": [
    "size = 4\n",
    "arr = np.ndarray([size,size],dtype=Qobj)\n",
    "arr"
   ]
  },
  {
   "cell_type": "code",
   "execution_count": null,
   "metadata": {},
   "outputs": [],
   "source": [
    "type(arr[0][1])"
   ]
  },
  {
   "cell_type": "code",
   "execution_count": null,
   "metadata": {},
   "outputs": [],
   "source": [
    "latt = SquareLattice(size=50,periodic=True,hamiltonian='SpinGlass',ham_vars={'mu': 0, 'extfield': 0, 'J_ij': 1})"
   ]
  },
  {
   "cell_type": "code",
   "execution_count": null,
   "metadata": {},
   "outputs": [],
   "source": [
    "latt.setRandomState()\n",
    "\n",
    "print(latt.latticeEnergy())\n",
    "\n",
    "latt.draw()"
   ]
  },
  {
   "cell_type": "code",
   "execution_count": null,
   "metadata": {},
   "outputs": [],
   "source": [
    "energies = []\n",
    "for i in range(500):\n",
    "    latt.setRandomState()\n",
    "    energies.append(latt.latticeEnergy())"
   ]
  },
  {
   "cell_type": "code",
   "execution_count": null,
   "metadata": {},
   "outputs": [],
   "source": [
    "plt.hist(energies,bins=40)"
   ]
  },
  {
   "cell_type": "code",
   "execution_count": null,
   "metadata": {},
   "outputs": [],
   "source": [
    "energy_set = set(energies)\n",
    "for e in sorted(energy_set):\n",
    "    print(e,'\\t',energies.count(e))"
   ]
  },
  {
   "cell_type": "code",
   "execution_count": null,
   "metadata": {},
   "outputs": [],
   "source": [
    "print?"
   ]
  },
  {
   "cell_type": "code",
   "execution_count": null,
   "metadata": {},
   "outputs": [],
   "source": [
    "latt.hamiltonianVars"
   ]
  },
  {
   "cell_type": "code",
   "execution_count": null,
   "metadata": {},
   "outputs": [],
   "source": [
    "x = {'i':1,'j':2}\n",
    "x"
   ]
  },
  {
   "cell_type": "code",
   "execution_count": null,
   "metadata": {},
   "outputs": [],
   "source": [
    "x.values()"
   ]
  },
  {
   "cell_type": "code",
   "execution_count": null,
   "metadata": {
    "collapsed": true
   },
   "outputs": [],
   "source": [
    "x.get?"
   ]
  },
  {
   "cell_type": "code",
   "execution_count": null,
   "metadata": {},
   "outputs": [],
   "source": [
    "x.get('k')"
   ]
  },
  {
   "cell_type": "code",
   "execution_count": null,
   "metadata": {},
   "outputs": [],
   "source": [
    "set(x.keys())"
   ]
  },
  {
   "cell_type": "code",
   "execution_count": null,
   "metadata": {},
   "outputs": [],
   "source": [
    "y = {'j':1,'i':2}\n",
    "y"
   ]
  },
  {
   "cell_type": "code",
   "execution_count": null,
   "metadata": {},
   "outputs": [],
   "source": [
    "set(x.keys()) ^ set(y.keys())"
   ]
  },
  {
   "cell_type": "code",
   "execution_count": null,
   "metadata": {},
   "outputs": [],
   "source": [
    "x.keys() == y.keys()"
   ]
  },
  {
   "cell_type": "code",
   "execution_count": null,
   "metadata": {
    "collapsed": true
   },
   "outputs": [],
   "source": [
    "nx.grid_2d_graph?"
   ]
  },
  {
   "cell_type": "code",
   "execution_count": null,
   "metadata": {
    "collapsed": true
   },
   "outputs": [],
   "source": [
    "# Dead code\n",
    "\n",
    "#     def hamiltonianIsing(self,node):\n",
    "#         energy = 0.\n",
    "#         for neighbor in self.graph[node]:\n",
    "#             tempstate = tensor(self.graph.node[node]['state'],self.graph.node[neighbor]['state'])\n",
    "#             energy += expect(self.hamOp)\n",
    "# #             energy += -self.J*self.graph.node[node]['state']*self.graph.node[neighbor]['state']\n",
    "# #             energy += -self.mu*self.h*self.graph.node[node]['state']\n",
    "#         return energy\n",
    "    \n",
    "# #     def hamiltonianSpinGlass(self,node):\n",
    "# #         energy = 0.\n",
    "# #         for neighbor in self.graph[node]:\n",
    "# #             energy += 0\n",
    "    \n",
    "#     def hamiltonianHubbard(self,node):\n",
    "#         energy = 0.\n",
    "# #         for neighbor in self.graph[node]:\n",
    "# #             energy += -self.J*\n",
    "#         return 0\n",
    "    \n",
    "#     def hamiltonianHeisenberg(self,node):\n",
    "#         energy = 0.\n",
    "#         for neighbor in graph[node]:\n",
    "#             energy += -self.J*self.graph.node[node]['state']*self.graph.node[neighbor]['state']\n",
    "#             energy += -self.mu*self.h*self.graph.node[node]['state']\n",
    "#         return 0\n",
    "    \n",
    "#     def hamiltonianNumberOp(self,node):\n",
    "#         return 0\n",
    "    "
   ]
  },
  {
   "cell_type": "code",
   "execution_count": null,
   "metadata": {
    "collapsed": true
   },
   "outputs": [],
   "source": []
  }
 ],
 "metadata": {
  "anaconda-cloud": {},
  "kernelspec": {
   "display_name": "Python [default]",
   "language": "python",
   "name": "python3"
  },
  "language_info": {
   "codemirror_mode": {
    "name": "ipython",
    "version": 3
   },
   "file_extension": ".py",
   "mimetype": "text/x-python",
   "name": "python",
   "nbconvert_exporter": "python",
   "pygments_lexer": "ipython3",
   "version": "3.5.4"
  },
  "latex_envs": {
   "bibliofile": "biblio.bib",
   "cite_by": "apalike",
   "current_citInitial": 1,
   "eqLabelWithNumbers": true,
   "eqNumInitial": 0
  },
  "toc": {
   "nav_menu": {},
   "number_sections": true,
   "sideBar": false,
   "skip_h1_title": false,
   "toc_cell": true,
   "toc_position": {
    "height": "273px",
    "left": "955.967px",
    "right": "19.0333px",
    "top": "120px",
    "width": "301px"
   },
   "toc_section_display": "block",
   "toc_window_display": true
  }
 },
 "nbformat": 4,
 "nbformat_minor": 1
}
