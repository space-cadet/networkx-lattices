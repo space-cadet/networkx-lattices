{
 "cells": [
  {
   "cell_type": "markdown",
   "metadata": {
    "toc": "true"
   },
   "source": [
    "<h1>Table of Contents<span class=\"tocSkip\"></span></h1>\n",
    "<div class=\"toc\"><ul class=\"toc-item\"><li><span><a href=\"#QuTiP,-1D-&amp;-2D-Lattices\" data-toc-modified-id=\"QuTiP,-1D-&amp;-2D-Lattices-1\"><span class=\"toc-item-num\">1&nbsp;&nbsp;</span>QuTiP, 1D &amp; 2D Lattices</a></span><ul class=\"toc-item\"><li><span><a href=\"#Suppress-matplotlib-warnings\" data-toc-modified-id=\"Suppress-matplotlib-warnings-1.1\"><span class=\"toc-item-num\">1.1&nbsp;&nbsp;</span>Suppress matplotlib warnings</a></span></li><li><span><a href=\"#switch-Class-Definition\" data-toc-modified-id=\"switch-Class-Definition-1.2\"><span class=\"toc-item-num\">1.2&nbsp;&nbsp;</span><code>switch</code> Class Definition</a></span></li><li><span><a href=\"#hashQobj-class-definition\" data-toc-modified-id=\"hashQobj-class-definition-1.3\"><span class=\"toc-item-num\">1.3&nbsp;&nbsp;</span><code>hashQobj</code> class definition</a></span></li><li><span><a href=\"#Sandbox\" data-toc-modified-id=\"Sandbox-1.4\"><span class=\"toc-item-num\">1.4&nbsp;&nbsp;</span>Sandbox</a></span></li><li><span><a href=\"#qutipLattice-Class-Definition\" data-toc-modified-id=\"qutipLattice-Class-Definition-1.5\"><span class=\"toc-item-num\">1.5&nbsp;&nbsp;</span><code>qutipLattice</code> Class Definition</a></span></li><li><span><a href=\"#qutipHamiltonian-Class-Definition\" data-toc-modified-id=\"qutipHamiltonian-Class-Definition-1.6\"><span class=\"toc-item-num\">1.6&nbsp;&nbsp;</span><code>qutipHamiltonian</code> Class Definition</a></span></li><li><span><a href=\"#1D-AKLT-Lattice\" data-toc-modified-id=\"1D-AKLT-Lattice-1.7\"><span class=\"toc-item-num\">1.7&nbsp;&nbsp;</span>1D AKLT Lattice</a></span><ul class=\"toc-item\"><li><span><a href=\"#Single-site-AKLT-Hamiltonian\" data-toc-modified-id=\"Single-site-AKLT-Hamiltonian-1.7.1\"><span class=\"toc-item-num\">1.7.1&nbsp;&nbsp;</span>Single-site AKLT Hamiltonian</a></span></li><li><span><a href=\"#Initialize-to-Random-State\" data-toc-modified-id=\"Initialize-to-Random-State-1.7.2\"><span class=\"toc-item-num\">1.7.2&nbsp;&nbsp;</span>Initialize to Random State</a></span></li><li><span><a href=\"#Draw-the-Lattice\" data-toc-modified-id=\"Draw-the-Lattice-1.7.3\"><span class=\"toc-item-num\">1.7.3&nbsp;&nbsp;</span>Draw the Lattice</a></span></li><li><span><a href=\"#Profile-Lattice-Energy-Calculation\" data-toc-modified-id=\"Profile-Lattice-Energy-Calculation-1.7.4\"><span class=\"toc-item-num\">1.7.4&nbsp;&nbsp;</span>Profile Lattice Energy Calculation</a></span></li><li><span><a href=\"#Density-of-States\" data-toc-modified-id=\"Density-of-States-1.7.5\"><span class=\"toc-item-num\">1.7.5&nbsp;&nbsp;</span>Density of States</a></span></li></ul></li><li><span><a href=\"#2D-Spin-Glass-Lattice\" data-toc-modified-id=\"2D-Spin-Glass-Lattice-1.8\"><span class=\"toc-item-num\">1.8&nbsp;&nbsp;</span>2D Spin-Glass Lattice</a></span></li></ul></li></ul></div>"
   ]
  },
  {
   "cell_type": "markdown",
   "metadata": {},
   "source": [
    "# QuTiP, 1D & 2D Lattices"
   ]
  },
  {
   "cell_type": "code",
   "execution_count": 1,
   "metadata": {
    "collapsed": true
   },
   "outputs": [],
   "source": [
    "import networkx as nx\n",
    "import numpy as np\n",
    "import matplotlib as mp\n",
    "import matplotlib.pyplot as plt"
   ]
  },
  {
   "cell_type": "code",
   "execution_count": 4,
   "metadata": {
    "collapsed": true
   },
   "outputs": [],
   "source": [
    "from qutip import *"
   ]
  },
  {
   "cell_type": "code",
   "execution_count": 2,
   "metadata": {
    "collapsed": true
   },
   "outputs": [],
   "source": [
    "%matplotlib inline"
   ]
  },
  {
   "cell_type": "markdown",
   "metadata": {},
   "source": [
    "## Suppress matplotlib warnings"
   ]
  },
  {
   "cell_type": "code",
   "execution_count": 7,
   "metadata": {
    "collapsed": true
   },
   "outputs": [],
   "source": [
    "import warnings"
   ]
  },
  {
   "cell_type": "code",
   "execution_count": 9,
   "metadata": {
    "collapsed": true
   },
   "outputs": [],
   "source": [
    "warnings.filterwarnings(\"ignore\")"
   ]
  },
  {
   "cell_type": "markdown",
   "metadata": {
    "heading_collapsed": true
   },
   "source": [
    "## `switch` Class Definition"
   ]
  },
  {
   "cell_type": "markdown",
   "metadata": {
    "hidden": true
   },
   "source": [
    "Reference: [ActiveState Recipes](http://code.activestate.com/recipes/410692/)\n",
    "\n",
    "Example Usage:\n",
    "\n",
    "The following example is pretty much the exact use-case of a dictionary, but is included for its simplicity. Note that you can include statements in each suite.\n",
    "    \n",
    "```\n",
    "v = 'ten'\n",
    "for case in switch(v):\n",
    "    if case('one'):\n",
    "        print 1\n",
    "        break\n",
    "    if case('two'):\n",
    "        print 2\n",
    "        break\n",
    "    if case('ten'):\n",
    "        print 10\n",
    "        break\n",
    "    if case('eleven'):\n",
    "        print 11\n",
    "        break\n",
    "    if case(): # default, could also just omit condition or 'if True'\n",
    "        print \"something else!\"\n",
    "        # No need to break here, it'll stop anyway\n",
    "```"
   ]
  },
  {
   "cell_type": "code",
   "execution_count": 10,
   "metadata": {
    "collapsed": true,
    "hidden": true
   },
   "outputs": [],
   "source": [
    "# This class provides the functionality we want. You only need to look at\n",
    "# this if you want to know how this works. It only needs to be defined\n",
    "# once, no need to muck around with its internals.\n",
    "class switch(object):\n",
    "    def __init__(self, value):\n",
    "        self.value = value\n",
    "        self.fall = False\n",
    "\n",
    "    def __iter__(self):\n",
    "        \"\"\"Return the match method once, then stop\"\"\"\n",
    "        yield self.match\n",
    "        raise StopIteration\n",
    "    \n",
    "    def match(self, *args):\n",
    "        \"\"\"Indicate whether or not to enter a case suite\"\"\"\n",
    "        if self.fall or not args:\n",
    "            return True\n",
    "        elif self.value in args: # changed for v1.5, see below\n",
    "            self.fall = True\n",
    "            return True\n",
    "        else:\n",
    "            return False"
   ]
  },
  {
   "cell_type": "markdown",
   "metadata": {},
   "source": [
    "## `hashQobj` class definition"
   ]
  },
  {
   "cell_type": "code",
   "execution_count": 5,
   "metadata": {
    "collapsed": true
   },
   "outputs": [],
   "source": [
    "class hashQobj(Qobj):\n",
    "    \n",
    "    def __hash__(self):\n",
    "        return hash(repr(self))"
   ]
  },
  {
   "cell_type": "markdown",
   "metadata": {
    "heading_collapsed": true
   },
   "source": [
    "## Sandbox"
   ]
  },
  {
   "cell_type": "code",
   "execution_count": 17,
   "metadata": {
    "hidden": true
   },
   "outputs": [
    {
     "data": {
      "image/png": "[encoded data removed]",
      "text/plain": [
       "<matplotlib.figure.Figure at 0x1a1e515208>"
      ]
     },
     "metadata": {},
     "output_type": "display_data"
    }
   ],
   "source": [
    "g = nx.grid_graph([2])\n",
    "nx.draw(g,scale=0.5)"
   ]
  },
  {
   "cell_type": "code",
   "execution_count": 18,
   "metadata": {
    "collapsed": true,
    "hidden": true
   },
   "outputs": [],
   "source": [
    "pos_dict = {}"
   ]
  },
  {
   "cell_type": "code",
   "execution_count": 19,
   "metadata": {
    "hidden": true
   },
   "outputs": [
    {
     "name": "stdout",
     "output_type": "stream",
     "text": [
      "0\n",
      "1\n"
     ]
    }
   ],
   "source": [
    "i = 0\n",
    "for node in g:\n",
    "    print(node)\n",
    "    pos_dict[node] = [i,0]\n",
    "    i += 1"
   ]
  },
  {
   "cell_type": "code",
   "execution_count": 20,
   "metadata": {
    "hidden": true
   },
   "outputs": [
    {
     "data": {
      "text/plain": [
       "{0: [0, 0], 1: [1, 0]}"
      ]
     },
     "execution_count": 20,
     "metadata": {},
     "output_type": "execute_result"
    }
   ],
   "source": [
    "pos_dict"
   ]
  },
  {
   "cell_type": "code",
   "execution_count": 21,
   "metadata": {
    "hidden": true
   },
   "outputs": [
    {
     "data": {
      "image/png": "[encoded data removed]",
      "text/plain": [
       "<matplotlib.figure.Figure at 0x1a1e8ccd30>"
      ]
     },
     "metadata": {},
     "output_type": "display_data"
    }
   ],
   "source": [
    "nx.draw(g,pos_dict)"
   ]
  },
  {
   "cell_type": "code",
   "execution_count": 51,
   "metadata": {
    "collapsed": true,
    "hidden": true
   },
   "outputs": [],
   "source": [
    "dicteg = { \"X\": {\"a\": 1, \"b\": 2}, \"Y\": {\"c\": 3, \"d\": 4} }"
   ]
  },
  {
   "cell_type": "code",
   "execution_count": 53,
   "metadata": {
    "hidden": true
   },
   "outputs": [],
   "source": [
    "key = \"X\""
   ]
  },
  {
   "cell_type": "code",
   "execution_count": 54,
   "metadata": {
    "hidden": true
   },
   "outputs": [
    {
     "data": {
      "text/plain": [
       "{'a': 1, 'b': 2}"
      ]
     },
     "execution_count": 54,
     "metadata": {},
     "output_type": "execute_result"
    }
   ],
   "source": [
    "dicteg[key]"
   ]
  },
  {
   "cell_type": "markdown",
   "metadata": {},
   "source": [
    "## `qutipLattice` Class Definition"
   ]
  },
  {
   "cell_type": "code",
   "execution_count": 22,
   "metadata": {
    "collapsed": true
   },
   "outputs": [],
   "source": [
    "class qutipLattice():\n",
    "    \n",
    "    hamiltonian = None\n",
    "    \n",
    "    hamOp = Qobj()\n",
    "    \n",
    "    graph = nx.empty_graph(0)\n",
    "#     size = 10\n",
    "    state_dims = 2\n",
    "    state = np.empty([]) # create empty array\n",
    "    colors = ['r','b','g','c','m','y','k','w']\n",
    "    color_map = {}\n",
    "#     upspin = hashQobj(basis(2,0))\n",
    "#     dnspin = hashQobj(basis(2,1))\n",
    "#     color_map = {upspin:'r', dnspin :'b'}\n",
    "    state_values = []    # elements are hashQobj objects which are all possible states of a node allowed for particular model\n",
    "    node_color_dict = {} # dictionary whose keys are nodes and values are colors for each node\n",
    "    node_colors = []\n",
    "    pos_dict = {}\n",
    "    \n",
    "    lattice_dims = [10]      # by default lattice dimension is 1d with 10 sites,\n",
    "                             # in general will be list [x,y,z,...], indicating\n",
    "                             # size of lattice along each dimension\n",
    "    dimension = 1                 # dimensionality of lattice, by default 1d\n",
    "    \n",
    "    use_default_vars = True\n",
    "    \n",
    "    scale_mult = []\n",
    "    \n",
    "    def __init__(self,lattice_dims=[10],periodic=False,hamType=None,hamVars=None):\n",
    "        \n",
    "        if isinstance(lattice_dims,list) and len(lattice_dims)>0 and all(isinstance(i,int) for i in lattice_dims):\n",
    "            self.lattice_dims = lattice_dims\n",
    "            self.dimension = len(lattice_dims)\n",
    "        else:\n",
    "            raise ValueError('lattice_dim should be non-empty list of positive integers')\n",
    "        \n",
    "#         self.size = size\n",
    "        \n",
    "#         self.graph = nx.grid_2d_graph(size,size,periodic=periodic)\n",
    "\n",
    "        self.graph = nx.grid_graph(self.lattice_dims,periodic=periodic)\n",
    "        \n",
    "        for i in self.lattice_dims:\n",
    "            self.scale_mult.append(10.0/i)\n",
    "        \n",
    "        if self.dimension == 1:\n",
    "            for node in self.graph:\n",
    "                self.pos_dict[node] = [self.scale_mult[0]*node,0]\n",
    "        else:\n",
    "            print(\"Dimension of Lattice: \", self.dimension)\n",
    "            for node in self.graph:\n",
    "                self.pos_dict[node] = [self.scale_mult[i]*node[i] for i in range(self.dimension)]\n",
    "                # set the node co-ordinates to be same as node indices\n",
    "\n",
    "        \n",
    "        if hamType:\n",
    "            self.hamiltonian = qutipHamiltonian(hamType,self.graph,hamVars)\n",
    "            self.hamOp = self.hamiltonian.hamOp\n",
    "            self.state_dims = self.hamiltonian.state_dims\n",
    "            self.state_values = [hashQobj(basis(self.state_dims,i)) for i in range(self.state_dims)] # Possible states of a given site\n",
    "            print(self.state_values)\n",
    "            for i in range(self.state_dims):\n",
    "                self.color_map[self.state_values[i]] = self.colors[i]\n",
    "            self.setRandomState()\n",
    "    \n",
    "    def setRandomState(self):\n",
    "        '''Iterates over all nodes in the graph. For each node, creates an attribute\n",
    "        labeled 'state', and assigns to it at random QuTiP objects returned by basis(2,0) or basis(2,1)\n",
    "        corresponding to spin up or spin down.'''\n",
    "\n",
    "        for node in self.graph:\n",
    "            self.graph.node[node]['state'] = self.state_values[np.random.randint(self.state_dims)]\n",
    "            self.node_color_dict[node] = self.color_map[self.graph.node[node]['state']]\n",
    "\n",
    "        self.node_colors = list(self.node_color_dict.values())\n",
    "        \n",
    "        return\n",
    "\n",
    "    \n",
    "    def nearestEnergy(self,node):\n",
    "        energy = 0.\n",
    "        for neighbor in self.graph[node]:\n",
    "            tempstate = tensor(self.graph.node[node]['state'],self.graph.node[neighbor]['state'])\n",
    "            energy += expect(self.hamOp,tempstate)\n",
    "        return energy\n",
    "    \n",
    "    def nextNearestEnergy(self,node):\n",
    "        energy = 0.\n",
    "        for nearest in self.graph[node]:\n",
    "            for nextnearest in self.graph[nearest]:\n",
    "                if nextnearest!=node:\n",
    "                    tempstate = tensor(self.graph.node[node]['state'],self.graph.node[nextnearest]['state'])\n",
    "                    energy += expect(self.hamOp,tempstate)\n",
    "        return energy\n",
    "    \n",
    "    def latticeEnergy(self):\n",
    "        energy = 0\n",
    "        for node in self.graph:\n",
    "            energy = energy + self.nearestEnergy(node)\n",
    "        return energy\n",
    "    \n",
    "    def draw(self):\n",
    "        nx.draw(self.graph,pos=self.pos_dict,node_color=self.node_colors)\n",
    "                "
   ]
  },
  {
   "cell_type": "markdown",
   "metadata": {},
   "source": [
    "## `qutipHamiltonian` Class Definition"
   ]
  },
  {
   "cell_type": "code",
   "execution_count": 73,
   "metadata": {
    "code_folding": [
     157
    ]
   },
   "outputs": [],
   "source": [
    "class qutipHamiltonian():\n",
    "    '''Class which defines the hamiltonian acting on a given site of a lattice'''\n",
    "    \n",
    "    hamTypes = ['NumberOp', 'Ising', 'Heisenberg','Hubbard', 'AKLT', 'SpinGlass']\n",
    "    \n",
    "    defaultVars = {'NumberOp':   {'J':1, 'dims': 2},\n",
    "                   'Ising':      {'J': 1, 'mu': 0, 'extfield': 0, 'spin': 0.5},\n",
    "                   'Heisenberg': {'J': 1, 'mu': 0, 'extfield': 0, 'spin': 0.5, 'dims': 3},\n",
    "                   'Hubbard':    {'J': 1, 'U': 0, 'mu': 1, 'spin': 0.5, 'extfield': 0},\n",
    "                   'SpinGlass':  {'J': 1, 'mu': 0, 'spin': 0.5, 'extfield': 0 },\n",
    "                   'AKLT':       {'J': 1, 'spin': 1, 'dims': 3}\n",
    "              }             # default values of Hamiltonian parameters\n",
    "    \n",
    "    hamType = None          # type of Hamiltonian: Ising, Heisenberg, Hubbard etc.\n",
    "    \n",
    "    hamOp = Qobj()          # single-site Hamiltonian operator\n",
    "    \n",
    "    hamVars = {}            # parameters necessary for defining Hamiltonian, coupling strengths, etc.\n",
    "    \n",
    "    graph = None            # graph on which Hamiltonian is defined.\n",
    "    \n",
    "    state_dims = 2                # dimension of single particle Hilbert space.\n",
    "    \n",
    "    latticeDimension = 2    # dimension of lattice on which Hamiltonian is defined.\n",
    "\n",
    "    latticeSize = (5,5)     # tuple containing number of sites in lattice, should match latticeDimension.\n",
    "    \n",
    "    def __init__(self, hamType, graph=None, hamVars=None):\n",
    "        \n",
    "        if hamType != None:\n",
    "            if hamType not in self.hamTypes:\n",
    "                raise ValueError('hamType must be one of ',self.hamTypes)\n",
    "            else:\n",
    "                self.hamType = hamType\n",
    "                self.initHamiltonian(graph,hamType,hamVars)\n",
    "                \n",
    "    def initHamiltonian(self,graph,hamType,hamVars):\n",
    "        \n",
    "        if graph!=None:\n",
    "            self.graph = graph\n",
    "        else:\n",
    "            print('Lattice is not defined.')\n",
    "        \n",
    "        defVars = self.defaultVars[hamType]\n",
    "        \n",
    "        print(defVars)\n",
    "        \n",
    "        if hamVars:\n",
    "            if set(hamVars.keys()).issubset(set(defVars.keys())):\n",
    "                self.setHamiltonianVars(hamType,hamVars)\n",
    "                self.setHamiltonianOp(hamType)\n",
    "            else:\n",
    "                raise ValueError('Hamiltonian variables for', self.hamType, 'model, should subset of:'\\\n",
    "                                            ,defVars)\n",
    "        else:\n",
    "            print('Hamiltonian parameters not specified. Using default values')\n",
    "            self.setHamiltonianVars(hamType,defVars)\n",
    "            self.setHamiltonianOp(hamType)\n",
    "            \n",
    "        return\n",
    "    \n",
    "    def setHamiltonianVars(self,hamType,hamVars):\n",
    "\n",
    "        self.hamVars = self.defaultVars.get(hamType)\n",
    "        for k in hamVars.keys():\n",
    "            self.hamVars[k] = hamVars[k]    \n",
    "\n",
    "        for case in switch(hamType):\n",
    "            if case('Ising'):\n",
    "                print('Ising')\n",
    "                self.J = self.hamVars['J']\n",
    "                self.mu = self.hamVars['mu']\n",
    "                self.h = self.hamVars['extfield']\n",
    "                break\n",
    "\n",
    "            if case('Hubbard'):\n",
    "                print('Hubbard')\n",
    "                self.J = self.hamVars['J']\n",
    "                self.mu = self.hamVars['mu']\n",
    "                self.h = self.hamVars['extfield']\n",
    "                self.U = self.hamVars['U']\n",
    "                break\n",
    "                \n",
    "            if case('Heisenberg'):\n",
    "                print('Heisenberg')\n",
    "                self.J = self.hamVars['J']\n",
    "                self.h = self.hamVars['extfield']\n",
    "                self.mu = self.hamVars['mu']\n",
    "                self.state_dims = 3     # Heisenberg spin-chain has spin 1 particles\n",
    "                break\n",
    "            \n",
    "            if case('AKLT'):\n",
    "                print('AKLT')\n",
    "                self.J = self.hamVars['J']\n",
    "                \n",
    "#             if case('SpinGlass'):\n",
    "#                 if hamVars:\n",
    "#                     self.J_ij = hamVars['J_ij']\n",
    "#                     self.h = hamVars['extfield']\n",
    "#                     self.mu = hamVars['mu']\n",
    "#                 else:\n",
    "#                     self.J = 1\n",
    "#                     self.h = 0\n",
    "#                     self.mu = 0\n",
    "#                 break\n",
    "                \n",
    "            if case('NumberOp'):\n",
    "                break\n",
    "            \n",
    "            return\n",
    "                \n",
    "    def setHamiltonianOp(self,hamType):\n",
    "        if self.hamVars.get('dims'):\n",
    "            self.state_dims = self.hamVars['dims']\n",
    "        else:\n",
    "            self.state_dims = 2\n",
    "\n",
    "        dim = self.state_dims\n",
    "        j = (dim-1)/2.0\n",
    "        \n",
    "        sx = jmat(j,'x')\n",
    "        sy = jmat(j,'y')\n",
    "        sz = jmat(j,'z')\n",
    "        sp = jmat(j,'+')\n",
    "        sm = jmat(j,'-')\n",
    "        identity = qeye(dim)\n",
    "        \n",
    "        \n",
    "        for case in switch(hamType):\n",
    "            if case('Ising'):\n",
    "                self.hamOp = -self.J * tensor(sz,sz) \\\n",
    "                                            - self.mu * self.h * tensor(sz,identity)\n",
    "                break\n",
    "            \n",
    "            if case('AKLT'):\n",
    "                self.hamOp = self.J * (tensor(sx,sx) + tensor(sy,sy) + tensor(sz,sz))\n",
    "                self.hamOp += self.J/3.0 * (tensor(sx,sx) + tensor(sy,sy) + tensor(sz,sz))**2\n",
    "            \n",
    "            if case('Hubbard'):\n",
    "                break\n",
    "                \n",
    "            if case('Heisenberg'):\n",
    "                self.hamOp = -0.5*self.J * (tensor(sp,sm) + tensor(sm,sp))\n",
    "                self.hamOp += -self.J * tensor(sz,sz)\n",
    "                break\n",
    "                \n",
    "#             if case('SpinGlass'):\n",
    "#                 if hamVars:\n",
    "#                     self.J_ij = hamVars['J_ij']\n",
    "#                     self.h = hamVars['extfield']\n",
    "#                     self.mu = hamVars['mu']\n",
    "#                 else:\n",
    "#                     self.J = 1\n",
    "#                     self.h = 0\n",
    "#                     self.mu = 0\n",
    "#                 break\n",
    "                \n",
    "            if case('NumberOp'):\n",
    "                break        \n",
    "            \n",
    "            return\n",
    "    \n",
    "    @property\n",
    "    def hermitian(self):\n",
    "        return self._isHermitian\n",
    "    \n",
    "    @hermitian.setter\n",
    "    def hermitian(self, value):\n",
    "        if isinstance(value, bool):\n",
    "            self._isHermitian = value\n",
    "        else:\n",
    "            raise ValueError('hermitian must be a boolean data type')"
   ]
  },
  {
   "cell_type": "markdown",
   "metadata": {
    "heading_collapsed": true
   },
   "source": [
    "## 1D AKLT Lattice"
   ]
  },
  {
   "cell_type": "code",
   "execution_count": 74,
   "metadata": {
    "hidden": true
   },
   "outputs": [
    {
     "name": "stdout",
     "output_type": "stream",
     "text": [
      "{'J': 1, 'spin': 1, 'dims': 3}\n",
      "Hamiltonian parameters not specified. Using default values\n",
      "AKLT\n",
      "[Quantum object: dims = [[3], [1]], shape = (3, 1), type = ket\n",
      "Qobj data =\n",
      "[[ 1.]\n",
      " [ 0.]\n",
      " [ 0.]], Quantum object: dims = [[3], [1]], shape = (3, 1), type = ket\n",
      "Qobj data =\n",
      "[[ 0.]\n",
      " [ 1.]\n",
      " [ 0.]], Quantum object: dims = [[3], [1]], shape = (3, 1), type = ket\n",
      "Qobj data =\n",
      "[[ 0.]\n",
      " [ 0.]\n",
      " [ 1.]]]\n"
     ]
    }
   ],
   "source": [
    "latt = qutipLattice(lattice_dims=[10],hamType='AKLT',periodic=False)"
   ]
  },
  {
   "cell_type": "markdown",
   "metadata": {
    "hidden": true
   },
   "source": [
    "### Single-site AKLT Hamiltonian"
   ]
  },
  {
   "cell_type": "code",
   "execution_count": 57,
   "metadata": {
    "hidden": true
   },
   "outputs": [
    {
     "data": {
      "text/latex": [
       "Quantum object: dims = [[3, 3], [3, 3]], shape = (9, 9), type = oper, isherm = True\\begin{equation*}\\left(\\begin{array}{*{11}c}1.333 & 0.0 & 0.0 & 0.0 & 0.0 & 0.0 & 0.0 & 0.0 & 0.0\\\\0.0 & 0.333 & 0.0 & 1.0 & 0.0 & 0.0 & 0.0 & 0.0 & 0.0\\\\0.0 & 0.0 & -0.333 & 0.0 & 0.667 & 0.0 & 0.333 & 0.0 & 0.0\\\\0.0 & 1.0 & 0.0 & 0.333 & 0.0 & 0.0 & 0.0 & 0.0 & 0.0\\\\0.0 & 0.0 & 0.667 & 0.0 & 0.667 & 0.0 & 0.667 & 0.0 & 0.0\\\\0.0 & 0.0 & 0.0 & 0.0 & 0.0 & 0.333 & 0.0 & 1.0 & 0.0\\\\0.0 & 0.0 & 0.333 & 0.0 & 0.667 & 0.0 & -0.333 & 0.0 & 0.0\\\\0.0 & 0.0 & 0.0 & 0.0 & 0.0 & 1.0 & 0.0 & 0.333 & 0.0\\\\0.0 & 0.0 & 0.0 & 0.0 & 0.0 & 0.0 & 0.0 & 0.0 & 1.333\\\\\\end{array}\\right)\\end{equation*}"
      ],
      "text/plain": [
       "Quantum object: dims = [[3, 3], [3, 3]], shape = (9, 9), type = oper, isherm = True\n",
       "Qobj data =\n",
       "[[ 1.33333333  0.          0.          0.          0.          0.          0.\n",
       "   0.          0.        ]\n",
       " [ 0.          0.33333333  0.          1.          0.          0.          0.\n",
       "   0.          0.        ]\n",
       " [ 0.          0.         -0.33333333  0.          0.66666667  0.\n",
       "   0.33333333  0.          0.        ]\n",
       " [ 0.          1.          0.          0.33333333  0.          0.          0.\n",
       "   0.          0.        ]\n",
       " [ 0.          0.          0.66666667  0.          0.66666667  0.\n",
       "   0.66666667  0.          0.        ]\n",
       " [ 0.          0.          0.          0.          0.          0.33333333\n",
       "   0.          1.          0.        ]\n",
       " [ 0.          0.          0.33333333  0.          0.66666667  0.\n",
       "  -0.33333333  0.          0.        ]\n",
       " [ 0.          0.          0.          0.          0.          1.          0.\n",
       "   0.33333333  0.        ]\n",
       " [ 0.          0.          0.          0.          0.          0.          0.\n",
       "   0.          1.33333333]]"
      ]
     },
     "execution_count": 57,
     "metadata": {},
     "output_type": "execute_result"
    }
   ],
   "source": [
    "latt.hamOp"
   ]
  },
  {
   "cell_type": "markdown",
   "metadata": {
    "hidden": true
   },
   "source": [
    "### Initialize to Random State"
   ]
  },
  {
   "cell_type": "code",
   "execution_count": 58,
   "metadata": {
    "collapsed": true,
    "hidden": true
   },
   "outputs": [],
   "source": [
    "latt.setRandomState()"
   ]
  },
  {
   "cell_type": "markdown",
   "metadata": {
    "hidden": true
   },
   "source": [
    "### Draw the Lattice"
   ]
  },
  {
   "cell_type": "code",
   "execution_count": 59,
   "metadata": {
    "hidden": true
   },
   "outputs": [
    {
     "data": {
      "image/png": "[encoded data removed]",
      "text/plain": [
       "<matplotlib.figure.Figure at 0x1a1ed9abe0>"
      ]
     },
     "metadata": {},
     "output_type": "display_data"
    }
   ],
   "source": [
    "latt.draw()"
   ]
  },
  {
   "cell_type": "markdown",
   "metadata": {
    "hidden": true
   },
   "source": [
    "### Profile Lattice Energy Calculation"
   ]
  },
  {
   "cell_type": "code",
   "execution_count": 60,
   "metadata": {
    "hidden": true
   },
   "outputs": [
    {
     "name": "stdout",
     "output_type": "stream",
     "text": [
      "4.11 ms ± 171 µs per loop (mean ± std. dev. of 7 runs, 100 loops each)\n"
     ]
    }
   ],
   "source": [
    "%timeit(latt.latticeEnergy())"
   ]
  },
  {
   "cell_type": "markdown",
   "metadata": {
    "heading_collapsed": true,
    "hidden": true
   },
   "source": [
    "### Density of States"
   ]
  },
  {
   "cell_type": "code",
   "execution_count": 61,
   "metadata": {
    "collapsed": true,
    "hidden": true
   },
   "outputs": [],
   "source": [
    "energies = []\n",
    "for i in range(100):\n",
    "    latt.setRandomState()\n",
    "    energies.append(latt.latticeEnergy())"
   ]
  },
  {
   "cell_type": "code",
   "execution_count": 62,
   "metadata": {
    "hidden": true
   },
   "outputs": [
    {
     "data": {
      "text/plain": [
       "(array([  2.,   1.,   2.,   4.,   3.,   8.,   6.,   5.,  18.,   9.,   6.,\n",
       "         11.,   7.,   4.,   7.,   4.,   1.,   0.,   1.,   1.]),\n",
       " array([  1.11022302e-15,   9.00000000e-01,   1.80000000e+00,\n",
       "          2.70000000e+00,   3.60000000e+00,   4.50000000e+00,\n",
       "          5.40000000e+00,   6.30000000e+00,   7.20000000e+00,\n",
       "          8.10000000e+00,   9.00000000e+00,   9.90000000e+00,\n",
       "          1.08000000e+01,   1.17000000e+01,   1.26000000e+01,\n",
       "          1.35000000e+01,   1.44000000e+01,   1.53000000e+01,\n",
       "          1.62000000e+01,   1.71000000e+01,   1.80000000e+01]),\n",
       " <a list of 20 Patch objects>)"
      ]
     },
     "execution_count": 62,
     "metadata": {},
     "output_type": "execute_result"
    },
    {
     "data": {
      "image/png": "[encoded data removed]",
      "text/plain": [
       "<matplotlib.figure.Figure at 0x1a1e628278>"
      ]
     },
     "metadata": {},
     "output_type": "display_data"
    }
   ],
   "source": [
    "plt.hist(energies,bins=20)"
   ]
  },
  {
   "cell_type": "code",
   "execution_count": 63,
   "metadata": {
    "hidden": true
   },
   "outputs": [
    {
     "name": "stdout",
     "output_type": "stream",
     "text": [
      "{1.1102230246251565e-15, 1.3333333333333357, 2.6666666666666687, 3.333333333333334, 4.666666666666668, 5.333333333333337, 6.66666666666667, 7.333333333333336, 8.666666666666671, 9.333333333333336, 8.0, 11.333333333333334, 10.666666666666666, 11.333333333333337, 6.000000000000003, 8.66666666666667, 10.666666666666668, 8.000000000000002, 13.333333333333332, 12.0, 14.000000000000002, 4.0000000000000036, 13.999999999999998, 17.999999999999996, 16.666666666666664, 5.333333333333336, 6.0000000000000036, 7.3333333333333375, 8.000000000000004, 8.666666666666668, 9.333333333333334, 9.333333333333337, 10.000000000000002, 10.000000000000004, 10.0, 10.000000000000005, 11.333333333333336, 12.000000000000002, 12.66666666666667, 12.666666666666668, 13.333333333333336, 13.333333333333334, 14.66666666666667, 2.0000000000000027, 0.666666666666669, 4.000000000000003, 4.666666666666669, 6.666666666666669, 6.000000000000001, 6.6666666666666705, 7.333333333333333}\n"
     ]
    }
   ],
   "source": [
    "uniq_energies = set(energies)\n",
    "print(uniq_energies)"
   ]
  },
  {
   "cell_type": "code",
   "execution_count": 64,
   "metadata": {
    "hidden": true
   },
   "outputs": [
    {
     "name": "stdout",
     "output_type": "stream",
     "text": [
      "{1.1102230246251565e-15: 1, 1.3333333333333357: 1, 2.6666666666666687: 1, 3.333333333333334: 4, 4.666666666666668: 4, 5.333333333333337: 1, 6.66666666666667: 1, 7.333333333333336: 6, 8.666666666666671: 3, 9.333333333333336: 2, 8.0: 2, 11.333333333333334: 3, 10.666666666666666: 2, 11.333333333333337: 1, 6.000000000000003: 2, 8.66666666666667: 5, 10.666666666666668: 3, 8.000000000000002: 5, 13.333333333333332: 3, 12.0: 3, 14.000000000000002: 3, 4.0000000000000036: 2, 13.999999999999998: 1, 17.999999999999996: 1, 16.666666666666664: 1, 5.333333333333336: 2, 6.0000000000000036: 1, 7.3333333333333375: 2, 8.000000000000004: 2, 8.666666666666668: 1, 9.333333333333334: 2, 9.333333333333337: 2, 10.000000000000002: 2, 10.000000000000004: 1, 10.0: 2, 10.000000000000005: 1, 11.333333333333336: 3, 12.000000000000002: 1, 12.66666666666667: 1, 12.666666666666668: 1, 13.333333333333336: 1, 13.333333333333334: 1, 14.66666666666667: 1, 2.0000000000000027: 1, 0.666666666666669: 1, 4.000000000000003: 1, 4.666666666666669: 1, 6.666666666666669: 3, 6.000000000000001: 3, 6.6666666666666705: 1, 7.333333333333333: 1}\n"
     ]
    }
   ],
   "source": [
    "energy_count = {}\n",
    "for uniq in uniq_energies:\n",
    "    energy_count[uniq] = energies.count(uniq)\n",
    "print(energy_count)"
   ]
  },
  {
   "cell_type": "code",
   "execution_count": 65,
   "metadata": {
    "hidden": true
   },
   "outputs": [
    {
     "data": {
      "text/plain": [
       "<matplotlib.collections.PathCollection at 0x1a1ee912b0>"
      ]
     },
     "execution_count": 65,
     "metadata": {},
     "output_type": "execute_result"
    },
    {
     "data": {
      "image/png": "[encoded data removed]",
      "text/plain": [
       "<matplotlib.figure.Figure at 0x1a1ee20be0>"
      ]
     },
     "metadata": {},
     "output_type": "display_data"
    }
   ],
   "source": [
    "plt.scatter(list(energy_count.keys()),list(energy_count.values()))"
   ]
  },
  {
   "cell_type": "markdown",
   "metadata": {},
   "source": [
    "## 2D Spin-Glass Lattice"
   ]
  },
  {
   "cell_type": "code",
   "execution_count": 69,
   "metadata": {},
   "outputs": [
    {
     "name": "stdout",
     "output_type": "stream",
     "text": [
      "Dimension of Lattice:  2\n",
      "{'J_ij': [[]], 'mu': 0, 'spin': 0.5, 'extfield': 0}\n",
      "[Quantum object: dims = [[2], [1]], shape = (2, 1), type = ket\n",
      "Qobj data =\n",
      "[[ 1.]\n",
      " [ 0.]], Quantum object: dims = [[2], [1]], shape = (2, 1), type = ket\n",
      "Qobj data =\n",
      "[[ 0.]\n",
      " [ 1.]]]\n"
     ]
    }
   ],
   "source": [
    "latt2 = qutipLattice(lattice_dims=[4,4],periodic=True,hamType='SpinGlass',hamVars={'mu': 0, 'extfield': 0, 'J_ij': 1})"
   ]
  },
  {
   "cell_type": "code",
   "execution_count": 70,
   "metadata": {},
   "outputs": [
    {
     "ename": "TypeError",
     "evalue": "Invalid operand types",
     "output_type": "error",
     "traceback": [
      "\u001b[0;31m---------------------------------------------------------------------------\u001b[0m",
      "\u001b[0;31mTypeError\u001b[0m                                 Traceback (most recent call last)",
      "\u001b[0;32m<ipython-input-70-9bb48de04ccd>\u001b[0m in \u001b[0;36m<module>\u001b[0;34m()\u001b[0m\n\u001b[1;32m      1\u001b[0m \u001b[0mlatt2\u001b[0m\u001b[0;34m.\u001b[0m\u001b[0msetRandomState\u001b[0m\u001b[0;34m(\u001b[0m\u001b[0;34m)\u001b[0m\u001b[0;34m\u001b[0m\u001b[0m\n\u001b[1;32m      2\u001b[0m \u001b[0;34m\u001b[0m\u001b[0m\n\u001b[0;32m----> 3\u001b[0;31m \u001b[0mprint\u001b[0m\u001b[0;34m(\u001b[0m\u001b[0mlatt2\u001b[0m\u001b[0;34m.\u001b[0m\u001b[0mlatticeEnergy\u001b[0m\u001b[0;34m(\u001b[0m\u001b[0;34m)\u001b[0m\u001b[0;34m)\u001b[0m\u001b[0;34m\u001b[0m\u001b[0m\n\u001b[0m\u001b[1;32m      4\u001b[0m \u001b[0;34m\u001b[0m\u001b[0m\n\u001b[1;32m      5\u001b[0m \u001b[0mlatt2\u001b[0m\u001b[0;34m.\u001b[0m\u001b[0mdraw\u001b[0m\u001b[0;34m(\u001b[0m\u001b[0;34m)\u001b[0m\u001b[0;34m\u001b[0m\u001b[0m\n",
      "\u001b[0;32m<ipython-input-22-1ab111c81275>\u001b[0m in \u001b[0;36mlatticeEnergy\u001b[0;34m(self)\u001b[0m\n\u001b[1;32m     98\u001b[0m         \u001b[0menergy\u001b[0m \u001b[0;34m=\u001b[0m \u001b[0;36m0\u001b[0m\u001b[0;34m\u001b[0m\u001b[0m\n\u001b[1;32m     99\u001b[0m         \u001b[0;32mfor\u001b[0m \u001b[0mnode\u001b[0m \u001b[0;32min\u001b[0m \u001b[0mself\u001b[0m\u001b[0;34m.\u001b[0m\u001b[0mgraph\u001b[0m\u001b[0;34m:\u001b[0m\u001b[0;34m\u001b[0m\u001b[0m\n\u001b[0;32m--> 100\u001b[0;31m             \u001b[0menergy\u001b[0m \u001b[0;34m=\u001b[0m \u001b[0menergy\u001b[0m \u001b[0;34m+\u001b[0m \u001b[0mself\u001b[0m\u001b[0;34m.\u001b[0m\u001b[0mnearestEnergy\u001b[0m\u001b[0;34m(\u001b[0m\u001b[0mnode\u001b[0m\u001b[0;34m)\u001b[0m\u001b[0;34m\u001b[0m\u001b[0m\n\u001b[0m\u001b[1;32m    101\u001b[0m         \u001b[0;32mreturn\u001b[0m \u001b[0menergy\u001b[0m\u001b[0;34m\u001b[0m\u001b[0m\n\u001b[1;32m    102\u001b[0m \u001b[0;34m\u001b[0m\u001b[0m\n",
      "\u001b[0;32m<ipython-input-22-1ab111c81275>\u001b[0m in \u001b[0;36mnearestEnergy\u001b[0;34m(self, node)\u001b[0m\n\u001b[1;32m     83\u001b[0m         \u001b[0;32mfor\u001b[0m \u001b[0mneighbor\u001b[0m \u001b[0;32min\u001b[0m \u001b[0mself\u001b[0m\u001b[0;34m.\u001b[0m\u001b[0mgraph\u001b[0m\u001b[0;34m[\u001b[0m\u001b[0mnode\u001b[0m\u001b[0;34m]\u001b[0m\u001b[0;34m:\u001b[0m\u001b[0;34m\u001b[0m\u001b[0m\n\u001b[1;32m     84\u001b[0m             \u001b[0mtempstate\u001b[0m \u001b[0;34m=\u001b[0m \u001b[0mtensor\u001b[0m\u001b[0;34m(\u001b[0m\u001b[0mself\u001b[0m\u001b[0;34m.\u001b[0m\u001b[0mgraph\u001b[0m\u001b[0;34m.\u001b[0m\u001b[0mnode\u001b[0m\u001b[0;34m[\u001b[0m\u001b[0mnode\u001b[0m\u001b[0;34m]\u001b[0m\u001b[0;34m[\u001b[0m\u001b[0;34m'state'\u001b[0m\u001b[0;34m]\u001b[0m\u001b[0;34m,\u001b[0m\u001b[0mself\u001b[0m\u001b[0;34m.\u001b[0m\u001b[0mgraph\u001b[0m\u001b[0;34m.\u001b[0m\u001b[0mnode\u001b[0m\u001b[0;34m[\u001b[0m\u001b[0mneighbor\u001b[0m\u001b[0;34m]\u001b[0m\u001b[0;34m[\u001b[0m\u001b[0;34m'state'\u001b[0m\u001b[0;34m]\u001b[0m\u001b[0;34m)\u001b[0m\u001b[0;34m\u001b[0m\u001b[0m\n\u001b[0;32m---> 85\u001b[0;31m             \u001b[0menergy\u001b[0m \u001b[0;34m+=\u001b[0m \u001b[0mexpect\u001b[0m\u001b[0;34m(\u001b[0m\u001b[0mself\u001b[0m\u001b[0;34m.\u001b[0m\u001b[0mhamOp\u001b[0m\u001b[0;34m,\u001b[0m\u001b[0mtempstate\u001b[0m\u001b[0;34m)\u001b[0m\u001b[0;34m\u001b[0m\u001b[0m\n\u001b[0m\u001b[1;32m     86\u001b[0m         \u001b[0;32mreturn\u001b[0m \u001b[0menergy\u001b[0m\u001b[0;34m\u001b[0m\u001b[0m\n\u001b[1;32m     87\u001b[0m \u001b[0;34m\u001b[0m\u001b[0m\n",
      "\u001b[0;32m~/miniconda3/lib/python3.6/site-packages/qutip/expect.py\u001b[0m in \u001b[0;36mexpect\u001b[0;34m(oper, state)\u001b[0m\n\u001b[1;32m     71\u001b[0m     '''\n\u001b[1;32m     72\u001b[0m     \u001b[0;32mif\u001b[0m \u001b[0misinstance\u001b[0m\u001b[0;34m(\u001b[0m\u001b[0mstate\u001b[0m\u001b[0;34m,\u001b[0m \u001b[0mQobj\u001b[0m\u001b[0;34m)\u001b[0m \u001b[0;32mand\u001b[0m \u001b[0misinstance\u001b[0m\u001b[0;34m(\u001b[0m\u001b[0moper\u001b[0m\u001b[0;34m,\u001b[0m \u001b[0mQobj\u001b[0m\u001b[0;34m)\u001b[0m\u001b[0;34m:\u001b[0m\u001b[0;34m\u001b[0m\u001b[0m\n\u001b[0;32m---> 73\u001b[0;31m         \u001b[0;32mreturn\u001b[0m \u001b[0m_single_qobj_expect\u001b[0m\u001b[0;34m(\u001b[0m\u001b[0moper\u001b[0m\u001b[0;34m,\u001b[0m \u001b[0mstate\u001b[0m\u001b[0;34m)\u001b[0m\u001b[0;34m\u001b[0m\u001b[0m\n\u001b[0m\u001b[1;32m     74\u001b[0m \u001b[0;34m\u001b[0m\u001b[0m\n\u001b[1;32m     75\u001b[0m     \u001b[0;32melif\u001b[0m \u001b[0misinstance\u001b[0m\u001b[0;34m(\u001b[0m\u001b[0moper\u001b[0m\u001b[0;34m,\u001b[0m \u001b[0mQobj\u001b[0m\u001b[0;34m)\u001b[0m \u001b[0;32mand\u001b[0m \u001b[0misinstance\u001b[0m\u001b[0;34m(\u001b[0m\u001b[0mstate\u001b[0m\u001b[0;34m,\u001b[0m \u001b[0meseries\u001b[0m\u001b[0;34m)\u001b[0m\u001b[0;34m:\u001b[0m\u001b[0;34m\u001b[0m\u001b[0m\n",
      "\u001b[0;32m~/miniconda3/lib/python3.6/site-packages/qutip/expect.py\u001b[0m in \u001b[0;36m_single_qobj_expect\u001b[0;34m(oper, state)\u001b[0m\n\u001b[1;32m    118\u001b[0m                                  oper.isherm)\n\u001b[1;32m    119\u001b[0m     \u001b[0;32melse\u001b[0m\u001b[0;34m:\u001b[0m\u001b[0;34m\u001b[0m\u001b[0m\n\u001b[0;32m--> 120\u001b[0;31m         \u001b[0;32mraise\u001b[0m \u001b[0mTypeError\u001b[0m\u001b[0;34m(\u001b[0m\u001b[0;34m'Invalid operand types'\u001b[0m\u001b[0;34m)\u001b[0m\u001b[0;34m\u001b[0m\u001b[0m\n\u001b[0m\u001b[1;32m    121\u001b[0m \u001b[0;34m\u001b[0m\u001b[0m\n\u001b[1;32m    122\u001b[0m \u001b[0;34m\u001b[0m\u001b[0m\n",
      "\u001b[0;31mTypeError\u001b[0m: Invalid operand types"
     ]
    }
   ],
   "source": [
    "latt2.setRandomState()\n",
    "\n",
    "print(latt2.latticeEnergy())\n",
    "\n",
    "latt2.draw()"
   ]
  },
  {
   "cell_type": "code",
   "execution_count": null,
   "metadata": {
    "collapsed": true
   },
   "outputs": [],
   "source": [
    "energies = []\n",
    "for i in range(500):\n",
    "    latt.setRandomState()\n",
    "    energies.append(latt.latticeEnergy())"
   ]
  },
  {
   "cell_type": "code",
   "execution_count": null,
   "metadata": {
    "collapsed": true
   },
   "outputs": [],
   "source": [
    "plt.hist(energies,bins=40)"
   ]
  },
  {
   "cell_type": "code",
   "execution_count": null,
   "metadata": {
    "collapsed": true
   },
   "outputs": [],
   "source": [
    "energy_set = set(energies)\n",
    "for e in sorted(energy_set):\n",
    "    print(e,'\\t',energies.count(e))"
   ]
  },
  {
   "cell_type": "code",
   "execution_count": null,
   "metadata": {
    "collapsed": true
   },
   "outputs": [],
   "source": [
    "print?"
   ]
  },
  {
   "cell_type": "code",
   "execution_count": null,
   "metadata": {
    "collapsed": true
   },
   "outputs": [],
   "source": [
    "latt.hamiltonianVars"
   ]
  },
  {
   "cell_type": "code",
   "execution_count": null,
   "metadata": {
    "collapsed": true
   },
   "outputs": [],
   "source": [
    "x = {'i':1,'j':2}\n",
    "x"
   ]
  },
  {
   "cell_type": "code",
   "execution_count": null,
   "metadata": {
    "collapsed": true
   },
   "outputs": [],
   "source": [
    "x.values()"
   ]
  },
  {
   "cell_type": "code",
   "execution_count": null,
   "metadata": {
    "collapsed": true
   },
   "outputs": [],
   "source": [
    "x.get?"
   ]
  },
  {
   "cell_type": "code",
   "execution_count": null,
   "metadata": {
    "collapsed": true
   },
   "outputs": [],
   "source": [
    "x.get('k')"
   ]
  },
  {
   "cell_type": "code",
   "execution_count": null,
   "metadata": {
    "collapsed": true
   },
   "outputs": [],
   "source": [
    "set(x.keys())"
   ]
  },
  {
   "cell_type": "code",
   "execution_count": null,
   "metadata": {
    "collapsed": true
   },
   "outputs": [],
   "source": [
    "y = {'j':1,'i':2}\n",
    "y"
   ]
  },
  {
   "cell_type": "code",
   "execution_count": null,
   "metadata": {
    "collapsed": true
   },
   "outputs": [],
   "source": [
    "set(x.keys()) ^ set(y.keys())"
   ]
  },
  {
   "cell_type": "code",
   "execution_count": null,
   "metadata": {
    "collapsed": true
   },
   "outputs": [],
   "source": [
    "x.keys() == y.keys()"
   ]
  },
  {
   "cell_type": "code",
   "execution_count": null,
   "metadata": {
    "collapsed": true
   },
   "outputs": [],
   "source": [
    "nx.grid_2d_graph?"
   ]
  },
  {
   "cell_type": "code",
   "execution_count": null,
   "metadata": {
    "collapsed": true
   },
   "outputs": [],
   "source": [
    "# Dead code\n",
    "\n",
    "#     def hamiltonianIsing(self,node):\n",
    "#         energy = 0.\n",
    "#         for neighbor in self.graph[node]:\n",
    "#             tempstate = tensor(self.graph.node[node]['state'],self.graph.node[neighbor]['state'])\n",
    "#             energy += expect(self.hamOp)\n",
    "# #             energy += -self.J*self.graph.node[node]['state']*self.graph.node[neighbor]['state']\n",
    "# #             energy += -self.mu*self.h*self.graph.node[node]['state']\n",
    "#         return energy\n",
    "    \n",
    "# #     def hamiltonianSpinGlass(self,node):\n",
    "# #         energy = 0.\n",
    "# #         for neighbor in self.graph[node]:\n",
    "# #             energy += 0\n",
    "    \n",
    "#     def hamiltonianHubbard(self,node):\n",
    "#         energy = 0.\n",
    "# #         for neighbor in self.graph[node]:\n",
    "# #             energy += -self.J*\n",
    "#         return 0\n",
    "    \n",
    "#     def hamiltonianHeisenberg(self,node):\n",
    "#         energy = 0.\n",
    "#         for neighbor in graph[node]:\n",
    "#             energy += -self.J*self.graph.node[node]['state']*self.graph.node[neighbor]['state']\n",
    "#             energy += -self.mu*self.h*self.graph.node[node]['state']\n",
    "#         return 0\n",
    "    \n",
    "#     def hamiltonianNumberOp(self,node):\n",
    "#         return 0\n",
    "    "
   ]
  },
  {
   "cell_type": "code",
   "execution_count": null,
   "metadata": {
    "collapsed": true
   },
   "outputs": [],
   "source": []
  }
 ],
 "metadata": {
  "anaconda-cloud": {},
  "kernelspec": {
   "display_name": "Python 3",
   "language": "python",
   "name": "python3"
  },
  "language_info": {
   "codemirror_mode": {
    "name": "ipython",
    "version": 3
   },
   "file_extension": ".py",
   "mimetype": "text/x-python",
   "name": "python",
   "nbconvert_exporter": "python",
   "pygments_lexer": "ipython3",
   "version": "3.6.8"
  },
  "latex_envs": {
   "LaTeX_envs_menu_present": true,
   "autoclose": true,
   "autocomplete": true,
   "bibliofile": "biblio.bib",
   "cite_by": "apalike",
   "current_citInitial": 1,
   "eqLabelWithNumbers": true,
   "eqNumInitial": 0,
   "hotkeys": {
    "equation": "Ctrl-E",
    "itemize": "Ctrl-I"
   },
   "labels_anchors": false,
   "latex_user_defs": false,
   "report_style_numbering": true,
   "user_envs_cfg": false
  },
  "toc": {
   "base_numbering": 1,
   "nav_menu": {},
   "number_sections": true,
   "sideBar": false,
   "skip_h1_title": false,
   "title_cell": "Table of Contents",
   "title_sidebar": "Contents",
   "toc_cell": true,
   "toc_position": {
    "height": "251px",
    "left": "957.55px",
    "right": "47.45px",
    "top": "120px",
    "width": "271px"
   },
   "toc_section_display": "block",
   "toc_window_display": true
  },
  "varInspector": {
   "cols": {
    "lenName": 16,
    "lenType": 16,
    "lenVar": 40
   },
   "kernels_config": {
    "python": {
     "delete_cmd_postfix": "",
     "delete_cmd_prefix": "del ",
     "library": "var_list.py",
     "varRefreshCmd": "print(var_dic_list())"
    },
    "r": {
     "delete_cmd_postfix": ") ",
     "delete_cmd_prefix": "rm(",
     "library": "var_list.r",
     "varRefreshCmd": "cat(var_dic_list()) "
    }
   },
   "types_to_exclude": [
    "module",
    "function",
    "builtin_function_or_method",
    "instance",
    "_Feature"
   ],
   "window_display": false
  }
 },
 "nbformat": 4,
 "nbformat_minor": 1
}
