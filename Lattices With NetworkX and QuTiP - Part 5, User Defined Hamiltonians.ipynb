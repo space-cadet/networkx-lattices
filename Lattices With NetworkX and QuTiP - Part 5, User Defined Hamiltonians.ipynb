{
 "cells": [
  {
   "cell_type": "markdown",
   "metadata": {
    "toc": "true"
   },
   "source": [
    "<h1>Table of Contents<span class=\"tocSkip\"></span></h1>\n",
    "<div class=\"toc\" style=\"margin-top: 1em;\"><ul class=\"toc-item\"><li><span><a href=\"#switch-Class-Definition\" data-toc-modified-id=\"switch-Class-Definition-1\"><span class=\"toc-item-num\">1&nbsp;&nbsp;</span><code>switch</code> Class Definition</a></span></li><li><span><a href=\"#hashQobj-class-definition\" data-toc-modified-id=\"hashQobj-class-definition-2\"><span class=\"toc-item-num\">2&nbsp;&nbsp;</span><code>hashQobj</code> class definition</a></span></li><li><span><a href=\"#qutipLattice-Class-Definition\" data-toc-modified-id=\"qutipLattice-Class-Definition-3\"><span class=\"toc-item-num\">3&nbsp;&nbsp;</span><code>qutipLattice</code> Class Definition</a></span></li><li><span><a href=\"#qutipHamiltonian-Class-Definition\" data-toc-modified-id=\"qutipHamiltonian-Class-Definition-4\"><span class=\"toc-item-num\">4&nbsp;&nbsp;</span><code>qutipHamiltonian</code> Class Definition</a></span><ul class=\"toc-item\"><li><span><a href=\"#Test-to-Verify-getDeltaEnergy-Work-as-Advt.\" data-toc-modified-id=\"Test-to-Verify-getDeltaEnergy-Work-as-Advt.-4.1\"><span class=\"toc-item-num\">4.1&nbsp;&nbsp;</span>Test to Verify <code>getDeltaEnergy</code> Work as Advt.</a></span></li><li><span><a href=\"#Simulated-Annealing-Algorithm\" data-toc-modified-id=\"Simulated-Annealing-Algorithm-4.2\"><span class=\"toc-item-num\">4.2&nbsp;&nbsp;</span>Simulated Annealing Algorithm</a></span></li></ul></li></ul></div>"
   ]
  },
  {
   "cell_type": "code",
   "execution_count": 1,
   "metadata": {
    "collapsed": true
   },
   "outputs": [],
   "source": [
    "import networkx as nx\n",
    "import numpy as np\n",
    "import matplotlib as matplotlib\n",
    "matplotlib.use('qt5agg')"
   ]
  },
  {
   "cell_type": "code",
   "execution_count": null,
   "metadata": {
    "collapsed": true
   },
   "outputs": [],
   "source": [
    "import matplotlib.pyplot as plt\n",
    "import random\n",
    "\n",
    "from qutip import *"
   ]
  },
  {
   "cell_type": "code",
   "execution_count": null,
   "metadata": {},
   "outputs": [],
   "source": [
    "matplotlib.get_backend()"
   ]
  },
  {
   "cell_type": "code",
   "execution_count": null,
   "metadata": {
    "collapsed": true
   },
   "outputs": [],
   "source": [
    "%matplotlib inline"
   ]
  },
  {
   "cell_type": "markdown",
   "metadata": {},
   "source": [
    "# `switch` Class Definition\n",
    "\n",
    "Reference: [ActiveState Recipes](http://code.activestate.com/recipes/410692/)\n",
    "\n",
    "Example Usage:\n",
    "\n",
    "The following example is pretty much the exact use-case of a dictionary, but is included for its simplicity. Note that you can include statements in each suite.\n",
    "    \n",
    "```\n",
    "v = 'ten'\n",
    "for case in switch(v):\n",
    "    if case('one'):\n",
    "        print 1\n",
    "        break\n",
    "    if case('two'):\n",
    "        print 2\n",
    "        break\n",
    "    if case('ten'):\n",
    "        print 10\n",
    "        break\n",
    "    if case('eleven'):\n",
    "        print 11\n",
    "        break\n",
    "    if case(): # default, could also just omit condition or 'if True'\n",
    "        print \"something else!\"\n",
    "        # No need to break here, it'll stop anyway\n",
    "```"
   ]
  },
  {
   "cell_type": "code",
   "execution_count": null,
   "metadata": {
    "collapsed": true
   },
   "outputs": [],
   "source": [
    "# This class provides the functionality we want. You only need to look at\n",
    "# this if you want to know how this works. It only needs to be defined\n",
    "# once, no need to muck around with its internals.\n",
    "class switch(object):\n",
    "    def __init__(self, value):\n",
    "        self.value = value\n",
    "        self.fall = False\n",
    "\n",
    "    def __iter__(self):\n",
    "        \"\"\"Return the match method once, then stop\"\"\"\n",
    "        yield self.match\n",
    "        raise StopIteration\n",
    "    \n",
    "    def match(self, *args):\n",
    "        \"\"\"Indicate whether or not to enter a case suite\"\"\"\n",
    "        if self.fall or not args:\n",
    "            return True\n",
    "        elif self.value in args: # changed for v1.5, see below\n",
    "            self.fall = True\n",
    "            return True\n",
    "        else:\n",
    "            return False"
   ]
  },
  {
   "cell_type": "markdown",
   "metadata": {},
   "source": [
    "# `hashQobj` class definition"
   ]
  },
  {
   "cell_type": "code",
   "execution_count": null,
   "metadata": {
    "collapsed": true
   },
   "outputs": [],
   "source": [
    "class hashQobj(Qobj):\n",
    "    \n",
    "    def __hash__(self):\n",
    "        return hash(repr(self))"
   ]
  },
  {
   "cell_type": "markdown",
   "metadata": {},
   "source": [
    "# `qutipLattice` Class Definition"
   ]
  },
  {
   "cell_type": "code",
   "execution_count": null,
   "metadata": {
    "collapsed": true
   },
   "outputs": [],
   "source": [
    "class qutipLattice():\n",
    "    \n",
    "    hamiltonian = None\n",
    "    \n",
    "    hamOp = Qobj()\n",
    "    \n",
    "    fieldOp = Qobj()\n",
    "    \n",
    "    graph = nx.empty_graph(0)\n",
    "#     size = 10\n",
    "    state_dims = 2\n",
    "    state = np.empty([]) # create empty array\n",
    "    colors = ['r','b','g','c','m','y','k','w']\n",
    "    node_color_map = {}\n",
    "    edge_color_map = {}\n",
    "#     upspin = hashQobj(basis(2,0))\n",
    "#     dnspin = hashQobj(basis(2,1))\n",
    "#     color_map = {upspin:'r', dnspin :'b'}\n",
    "    state_values = []    # elements are hashQobj objects which are all possible states of a node allowed for particular model\n",
    "    node_color_dict = {} # dictionary whose keys are nodes and values are colors for each node\n",
    "    node_colors = []\n",
    "    pos_dict = {}\n",
    "    \n",
    "    edge_color_dict = {} # dictionary whose keys are edges and values are colors for each edge\n",
    "    edge_colors = []\n",
    "    \n",
    "    lattice_dims = [10]      # by default lattice dimension is 1d with 10 sites,\n",
    "                             # in general will be list [x,y,z,...], indicating\n",
    "                             # size of lattice along each dimension\n",
    "    dimension = 1                 # dimensionality of lattice, by default 1d\n",
    "    \n",
    "    use_default_vars = True\n",
    "    \n",
    "    scale_mult = []\n",
    "    \n",
    "    node_size = 100\n",
    "    \n",
    "    node_ext_field_on = False     # flag to determine whether or not an external field is present\n",
    "    \n",
    "    history_size = 100       # number of instances of past results to store \n",
    "    \n",
    "    history_latt_energy = []        # array to store the previously calculated values of the lattice energy\n",
    "    \n",
    "    history_node_energy = {}        # dict to store nodes whose energy was last calculated and the calculated energies\n",
    "    \n",
    "    \n",
    "    \n",
    "    def __init__(self,lattice_dims=[10],periodic=False,hamType=None,hamVars=None):\n",
    "        \n",
    "        if isinstance(lattice_dims,list) and len(lattice_dims)>0 and all(isinstance(i,int) for i in lattice_dims):\n",
    "            self.lattice_dims = lattice_dims\n",
    "            self.dimension = len(lattice_dims)\n",
    "        else:\n",
    "            raise ValueError('lattice_dim should be non-empty list of positive integers')\n",
    "        \n",
    "#         self.size = size\n",
    "        \n",
    "#         self.graph = nx.grid_2d_graph(size,size,periodic=periodic)\n",
    "\n",
    "        self.graph = nx.grid_graph(self.lattice_dims,periodic=periodic)\n",
    "        \n",
    "        for i in self.lattice_dims:\n",
    "            self.scale_mult.append(10.0/i)   # what does this do ???\n",
    "        \n",
    "        if self.dimension == 1:\n",
    "            for node in self.graph:\n",
    "                self.pos_dict[node] = [self.scale_mult[0]*node,0]\n",
    "        else:\n",
    "            print(\"Dimension of Lattice: \", self.dimension)\n",
    "            for node in self.graph:\n",
    "                # set the node co-ordinates to be same as node indices\n",
    "                self.pos_dict[node] = [self.scale_mult[i]*node[i] for i in range(self.dimension)]\n",
    "                \n",
    "                # set 'flipped' attribute of each node to False\n",
    "                self.graph.node[node]['flipped'] = False\n",
    "\n",
    "        \n",
    "        if hamType:\n",
    "            self.hamiltonian = qutipHamiltonian(hamType,self.graph,hamVars)\n",
    "            self.hamOp = self.hamiltonian.hamOp\n",
    "            self.fieldOp = self.hamiltonian.fieldOp\n",
    "            self.state_dims = self.hamiltonian.state_dims\n",
    "            self.state_values = [hashQobj(basis(self.state_dims,i)) for i in range(self.state_dims)] # Possible states of a given site\n",
    "            print(self.state_values)\n",
    "            for i in range(self.state_dims):\n",
    "                self.node_color_map[self.state_values[i]] = self.colors[i]\n",
    "            self.setRandomState()\n",
    "    \n",
    "    def setRandomState(self):\n",
    "        '''Iterates over all nodes in the graph. For each node, creates an attribute\n",
    "        labeled 'state', and assigns to it at random QuTiP objects returned by basis(2,0) or basis(2,1)\n",
    "        corresponding to spin up or spin down.'''\n",
    "\n",
    "        for node in self.graph:\n",
    "            self.graph.node[node]['state'] = self.state_values[np.random.randint(self.state_dims)]\n",
    "            self.updateNodeColor(node)\n",
    "        \n",
    "        return\n",
    "\n",
    "    def updateNodeColor(self,node):\n",
    "        self.node_color_dict[node] = self.node_color_map[self.graph.node[node]['state']]\n",
    "    \n",
    "    def setRandomField(self,ranges=[-1.0,1.0]):\n",
    "        '''Iterates over all nodes in the graph. For each node, creates an attribute\n",
    "        labeled 'field', and assigns to it at random a value between the limits specified by the first\n",
    "        elements of the list passed in the first argument'''\n",
    "        \n",
    "        if not(isinstance(ranges,list)):\n",
    "            raise ValueError('Argument `ranges` must be of list type')\n",
    "        elif len(ranges)!=2 or not(all(isinstance(i,float) for i in ranges)):\n",
    "            raise ValueError('Argument `ranges` must have exactly two elements of type float')\n",
    "        else:\n",
    "            self.node_ext_field_on = True\n",
    "            upper = max(ranges)\n",
    "            lower = min(ranges)\n",
    "            delta = upper - lower\n",
    "            for node in self.graph:\n",
    "                self.graph.node[node]['field'] = delta * np.random.random_sample() + lower\n",
    "    \n",
    "    def setExternalField(self,field=None):\n",
    "        '''Sets the external field at each lattice site. The argument `field` is a dictionary whose\n",
    "        keys are nodes and values are the values of the field at each node. These values are\n",
    "        assigned to a new node attribute called `field`. '''\n",
    "        \n",
    "        if field==None or len(field)==0:\n",
    "            print('Fields not specified. Setting field at each node to zero.')\n",
    "            return\n",
    "        else:\n",
    "            print('Setting external field')\n",
    "            \n",
    "            self.node_ext_field_on = True\n",
    "            \n",
    "            def_field_nodes = set(field.keys())\n",
    "            all_nodes = set(self.graph.nodes())\n",
    "            if (def_field_nodes < all_nodes):\n",
    "                undef_field_nodes = all_nodes - def_field_nodes\n",
    "            elif (def_field_nodes > all_nodes):\n",
    "                raise ValueError('Specified nodes are not present in lattice')\n",
    "                \n",
    "            for node in field.keys():\n",
    "                self.graph.node[node]['field'] = float(field[k])\n",
    "            for node in undef_field_nodes:\n",
    "                self.graph.node[node]['field'] = 0.0\n",
    "        return\n",
    "\n",
    "    def fieldEnergy(self,node):\n",
    "        if self.node_ext_field_on:\n",
    "            energy = 0.\n",
    "            energy += expect(self.fieldOp,self.graph.node[node]['field']*self.graph.node[node]['state'])\n",
    "            return energy\n",
    "    \n",
    "    def nearestEnergy(self,node):\n",
    "        energy = 0.\n",
    "        for neighbor in self.graph[node]:\n",
    "            tempstate = tensor(self.graph.node[node]['state'],self.graph.node[neighbor]['state'])\n",
    "            energy += expect(self.hamOp,tempstate)\n",
    "        return energy\n",
    "    \n",
    "    def nextNearestEnergy(self,node):\n",
    "        energy = 0.\n",
    "        for nearest in self.graph[node]:\n",
    "            for nextnearest in self.graph[nearest]:\n",
    "                if nextnearest!=node:\n",
    "                    tempstate = tensor(self.graph.node[node]['state'],self.graph.node[nextnearest]['state'])\n",
    "                    energy += expect(self.hamOp,tempstate)\n",
    "        return energy\n",
    "    \n",
    "    def getNodeRandomState(self,node):\n",
    "        '''Function to get a state of the specified node different from the present state'''\n",
    "        old_state = self.graph.node[node]['state']\n",
    "        new_state = old_state\n",
    "        \n",
    "        while (new_state == old_state):  # iterate until we obtain a state different from the original one.\n",
    "            new_state = self.state_values[np.random.randint(self.state_dims)]\n",
    "            \n",
    "#         self.setNodeState(node,new_state)\n",
    "        \n",
    "        return new_state\n",
    "    \n",
    "    \n",
    "    def setNodeState(self,node,state_f):\n",
    "        \n",
    "        state_i = self.graph.node[node]['state']\n",
    "        \n",
    "        self.graph.node[node]['state'] = state_f\n",
    "        self.updateNodeColor(node)\n",
    "        \n",
    "        return state_i\n",
    "        \n",
    "        \n",
    "    def getRandomNode(self):\n",
    "        '''Select and return a node from the lattice at random.'''\n",
    "        return random.choice(self.graph.nodes())\n",
    "    \n",
    "    def latticeEnergy(self):\n",
    "        energy = 0\n",
    "        if self.node_ext_field_on:\n",
    "            for node in self.graph:\n",
    "                energy = energy + self.nearestEnergy(node) + self.fieldEnergy(node)\n",
    "        else:\n",
    "            for node in self.graph.nodes():\n",
    "                energy = energy + self.nearestEnergy(node)\n",
    "        return energy\n",
    "    \n",
    "    def getRandomState(self):\n",
    "        '''Returns random state from allowed values'''\n",
    "        return self.state_values[np.random.randint(self.state_dims)]\n",
    "    \n",
    "    def getDeltaEnergy(self,node,state_f):\n",
    "        '''Function to calculate the change in the lattice energy due to changing the state of the given node.\n",
    "        \n",
    "        Parameters\n",
    "        ----------\n",
    "        \n",
    "        node:  node for which state is to changed\n",
    "        \n",
    "        state_f: hashQobj object corresponding to state given node should be set to\n",
    "        '''        \n",
    "        state_i = self.graph.node[node]['state']\n",
    "        \n",
    "        # if the new state is the same as old state, then the energy will not change\n",
    "        if (state_f == state_i):\n",
    "            return 0.\n",
    "\n",
    "        energy_i = 0.\n",
    "        energy_f = 0.\n",
    "\n",
    "        energy_i += self.nearestEnergy(node)\n",
    "        for neighbor in self.graph[node]:\n",
    "            energy_i += self.nearestEnergy(neighbor)\n",
    "        \n",
    "        self.graph.node[node]['state'] = state_f\n",
    "        \n",
    "        energy_f += self.nearestEnergy(node)\n",
    "        for neighbor in self.graph[node]:\n",
    "            energy_f += self.nearestEnergy(neighbor)\n",
    "            \n",
    "        if self.node_ext_field_on == True:\n",
    "            energy_i += expect(self.fieldOp,self.graph.node[node]['field']*state_i)\n",
    "            energy_f += expect(self.fieldOp,self.graph.node[node]['field']*state_f)\n",
    "        \n",
    "        self.graph.node[node]['state'] = state_i\n",
    "        \n",
    "        return (energy_f - energy_i)\n",
    "    \n",
    "    def getDeltaEnergySimple(self,node,state_f):\n",
    "        \n",
    "        state_i = self.graph.node[node]['state']\n",
    "        \n",
    "        # if the new state is the same as old state, then the energy will not change\n",
    "        if (state_f == state_i):\n",
    "            return 0.\n",
    "\n",
    "        energy_i = self.latticeEnergy()\n",
    "        self.graph.node[node]['state'] = state_f\n",
    "    \n",
    "        energy_f = self.latticeEnergy()\n",
    "        self.graph.node[node]['state'] = state_i\n",
    "        \n",
    "        return (energy_f - energy_i)\n",
    "\n",
    "    \n",
    "    def draw(self):\n",
    "        self.node_colors = list(self.node_color_dict.values())\n",
    "        nx.draw(self.graph,pos=self.pos_dict,node_color=self.node_colors,node_size=self.node_size)\n",
    "                "
   ]
  },
  {
   "cell_type": "code",
   "execution_count": 8,
   "metadata": {
    "collapsed": true
   },
   "outputs": [],
   "source": [
    "nx.graph?"
   ]
  },
  {
   "cell_type": "markdown",
   "metadata": {},
   "source": [
    "# `qutipHamiltonian` Class Definition"
   ]
  },
  {
   "cell_type": "code",
   "execution_count": 11,
   "metadata": {
    "code_folding": [
     0,
     115,
     167,
     171
    ],
    "collapsed": true
   },
   "outputs": [],
   "source": [
    "class qutipHamiltonian():\n",
    "    '''Class which defines the hamiltonian acting on a given site of a lattice'''\n",
    "    \n",
    "    hamTypes = ['NumberOp', 'Ising', 'Heisenberg','Hubbard', 'AKLT', 'SpinGlass']\n",
    "    \n",
    "    defaultVars = {'NumberOp':   {'J':1, 'dims': 2},\n",
    "                   'Ising':      {'J': 1, 'mu': 0},\n",
    "                   'Heisenberg': {'J': 1, 'mu': 0, 'dims': 3},\n",
    "                   'Hubbard':    {'J': 1, 'U': 0, 'mu': 1},\n",
    "                   'SpinGlass':  {'J_ij': [[]], 'mu': 0},\n",
    "                   'AKLT':       {'J': 1}\n",
    "              }             # default values of Hamiltonian parameters\n",
    "    \n",
    "    hamType = None          # type of Hamiltonian: Ising, Heisenberg, Hubbard etc.\n",
    "    \n",
    "    hamOp = Qobj()          # single-site Hamiltonian operator\n",
    "    \n",
    "    fieldOp = Qobj()\n",
    "    \n",
    "    hamVars = {}            # parameters necessary for defining Hamiltonian, coupling strengths, etc.\n",
    "    \n",
    "    graph = None            # graph on which Hamiltonian is defined.\n",
    "    \n",
    "    state_dims = 2                # dimension of single particle Hilbert space.\n",
    "    \n",
    "    latticeDimension = 2    # dimension of lattice on which Hamiltonian is defined.\n",
    "\n",
    "    latticeSize = (5,5)     # tuple containing number of sites in lattice, should match latticeDimension.\n",
    "    \n",
    "    def __init__(self, hamType, graph=None, hamVars=None):\n",
    "        \n",
    "        if hamType != None:\n",
    "            if hamType not in self.hamTypes:\n",
    "                raise ValueError('hamType must be one of ',self.hamTypes)\n",
    "            else:\n",
    "                self.hamType = hamType\n",
    "                self.initHamiltonian(graph,hamType,hamVars)\n",
    "                \n",
    "    def initHamiltonian(self,graph,hamType,hamVars):\n",
    "        \n",
    "        if graph!=None:\n",
    "            self.graph = graph\n",
    "        else:\n",
    "            print('Lattice is not defined.')\n",
    "        \n",
    "        defVars = self.defaultVars.get(hamType)\n",
    "        \n",
    "        print(defVars)\n",
    "        \n",
    "        if hamVars:\n",
    "            if set(hamVars.keys()).issubset(set(defVars.keys())):\n",
    "                self.setHamiltonianVars(hamType,hamVars)\n",
    "                self.setHamiltonianOp(hamType)\n",
    "                print(self.hamVars)\n",
    "            else:\n",
    "                raise ValueError('Hamiltonian variables for', self.hamType, 'model, should subset of:'\\\n",
    "                                            ,defVars)\n",
    "        else:\n",
    "            print('Hamiltonian parameters not specified. Using default values')\n",
    "            self.setHamiltonianVars(hamType,defVars)\n",
    "            self.setHamiltonianOp(hamType)\n",
    "            print(self.hamVars)\n",
    "            \n",
    "        return\n",
    "    \n",
    "    def setHamiltonianVars(self,hamType,hamVars):\n",
    "\n",
    "        self.hamVars = self.defaultVars.get(hamType)\n",
    "        for k in hamVars.keys():\n",
    "            self.hamVars[k] = hamVars[k]    \n",
    "\n",
    "        for case in switch(hamType):\n",
    "            if case('Ising'):\n",
    "                print('Ising')\n",
    "                self.J = self.hamVars['J']\n",
    "                self.mu = self.hamVars['mu']\n",
    "                break\n",
    "\n",
    "            if case('Hubbard'):\n",
    "                print('Hubbard')\n",
    "                self.J = self.hamVars['J']\n",
    "                self.mu = self.hamVars['mu']\n",
    "                self.U = self.hamVars['U']\n",
    "                break\n",
    "                \n",
    "            if case('Heisenberg'):\n",
    "                print('Heisenberg')\n",
    "                self.J = self.hamVars['J']\n",
    "                self.mu = self.hamVars['mu']\n",
    "                self.state_dims = 3     # Heisenberg spin-chain has spin 1 particles\n",
    "                break\n",
    "            \n",
    "            if case('AKLT'):\n",
    "                print('AKLT')\n",
    "                self.J = self.hamVars['J']\n",
    "                \n",
    "#             if case('SpinGlass'):\n",
    "#                 if hamVars:\n",
    "#                     self.J_ij = hamVars['J_ij']\n",
    "#                     self.mu = hamVars['mu']\n",
    "#                 else:\n",
    "#                     self.J = 1\n",
    "#                     self.h = 0\n",
    "#                     self.mu = 0\n",
    "#                 break\n",
    "                \n",
    "            if case('NumberOp'):\n",
    "                break\n",
    "            \n",
    "            return\n",
    "\n",
    "    def getHamiltonianVars(self):\n",
    "        if self.hamVars == {}:\n",
    "            print(\"Hamiltonian variables not defined\")\n",
    "        else:\n",
    "            for k in self.hamVars.keys():\n",
    "                print(k,self.hamVars[k])\n",
    "        \n",
    "    def setHamiltonianOp(self,hamType):\n",
    "        if self.hamVars.get('dims'):\n",
    "            self.state_dims = self.hamVars['dims']\n",
    "        else:\n",
    "            self.state_dims = 2\n",
    "\n",
    "        dim = self.state_dims\n",
    "        j = (dim-1)/2.0\n",
    "        \n",
    "        sx = jmat(j,'x')\n",
    "        sy = jmat(j,'y')\n",
    "        sz = jmat(j,'z')\n",
    "        sp = jmat(j,'+')\n",
    "        sm = jmat(j,'-')\n",
    "        identity = qeye(dim)\n",
    "        \n",
    "        self.fieldOp = sz\n",
    "        \n",
    "        for case in switch(hamType):\n",
    "            if case('Ising'):\n",
    "                self.hamOp = -self.J * tensor(sz,sz)\n",
    "                break\n",
    "            \n",
    "            if case('AKLT'):\n",
    "                self.hamOp = -self.J * (tensor(sx,sx) + tensor(sy,sy) + tensor(sz,sz))\n",
    "                self.hamOp += -self.J/3.0 * (tensor(sx,sx) + tensor(sy,sy) + tensor(sz,sz))**2\n",
    "            \n",
    "            if case('Hubbard'):\n",
    "                break\n",
    "                \n",
    "            if case('Heisenberg'):\n",
    "                self.hamOp = -0.5*self.J * (tensor(sp,sm) + tensor(sm,sp))\n",
    "                self.hamOp += -self.J * tensor(sz,sz)\n",
    "                break\n",
    "                \n",
    "#             if case('SpinGlass'):\n",
    "#                 if hamVars:\n",
    "#                     self.J_ij = hamVars['J_ij']\n",
    "#                     self.mu = hamVars['mu']\n",
    "#                 else:\n",
    "#                     self.J = 1\n",
    "#                     self.h = 0\n",
    "#                     self.mu = 0\n",
    "#                 break\n",
    "                \n",
    "            if case('NumberOp'):\n",
    "                break        \n",
    "            \n",
    "            return\n",
    "    \n",
    "    @property\n",
    "    def hermitian(self):\n",
    "        return self._isHermitian\n",
    "    \n",
    "    @hermitian.setter\n",
    "    def hermitian(self, value):\n",
    "        if isinstance(value, bool):\n",
    "            self._isHermitian = value\n",
    "        else:\n",
    "            raise ValueError('hermitian must be a boolean data type')"
   ]
  },
  {
   "cell_type": "code",
   "execution_count": 12,
   "metadata": {},
   "outputs": [
    {
     "name": "stdout",
     "output_type": "stream",
     "text": [
      "{'J': 1, 'mu': 0, 'dims': 3}\n",
      "Heisenberg\n",
      "{'J': 1, 'mu': 0.1, 'dims': 3}\n",
      "[Quantum object: dims = [[3], [1]], shape = (3, 1), type = ket\n",
      "Qobj data =\n",
      "[[ 1.]\n",
      " [ 0.]\n",
      " [ 0.]], Quantum object: dims = [[3], [1]], shape = (3, 1), type = ket\n",
      "Qobj data =\n",
      "[[ 0.]\n",
      " [ 1.]\n",
      " [ 0.]], Quantum object: dims = [[3], [1]], shape = (3, 1), type = ket\n",
      "Qobj data =\n",
      "[[ 0.]\n",
      " [ 0.]\n",
      " [ 1.]]]\n"
     ]
    }
   ],
   "source": [
    "latt = qutipLattice(lattice_dims=[10],hamType='Heisenberg',periodic=False,hamVars={'mu': 0.1, 'J': 1})"
   ]
  },
  {
   "cell_type": "markdown",
   "metadata": {},
   "source": [
    "## Test to Verify `getDeltaEnergy` Work as Advt."
   ]
  },
  {
   "cell_type": "code",
   "execution_count": 13,
   "metadata": {},
   "outputs": [
    {
     "ename": "TypeError",
     "evalue": "unhashable type: 'dict'",
     "output_type": "error",
     "traceback": [
      "\u001b[0;31m---------------------------------------------------------------------------\u001b[0m",
      "\u001b[0;31mTypeError\u001b[0m                                 Traceback (most recent call last)",
      "\u001b[0;32m<ipython-input-13-91fee91aadd4>\u001b[0m in \u001b[0;36m<module>\u001b[0;34m()\u001b[0m\n\u001b[1;32m      1\u001b[0m \u001b[0;32mfor\u001b[0m \u001b[0mi\u001b[0m \u001b[0;32min\u001b[0m \u001b[0mrange\u001b[0m\u001b[0;34m(\u001b[0m\u001b[0;36m10\u001b[0m\u001b[0;34m)\u001b[0m\u001b[0;34m:\u001b[0m\u001b[0;34m\u001b[0m\u001b[0m\n\u001b[1;32m      2\u001b[0m     \u001b[0mnode\u001b[0m \u001b[0;34m=\u001b[0m \u001b[0mlatt\u001b[0m\u001b[0;34m.\u001b[0m\u001b[0mgetRandomNode\u001b[0m\u001b[0;34m(\u001b[0m\u001b[0;34m)\u001b[0m\u001b[0;34m\u001b[0m\u001b[0m\n\u001b[0;32m----> 3\u001b[0;31m     \u001b[0mstate_f\u001b[0m \u001b[0;34m=\u001b[0m \u001b[0mlatt\u001b[0m\u001b[0;34m.\u001b[0m\u001b[0mgetNodeRandomState\u001b[0m\u001b[0;34m(\u001b[0m\u001b[0mnode\u001b[0m\u001b[0;34m)\u001b[0m\u001b[0;34m\u001b[0m\u001b[0m\n\u001b[0m\u001b[1;32m      4\u001b[0m     \u001b[0mdelta_e1\u001b[0m\u001b[0;34m=\u001b[0m \u001b[0mlatt\u001b[0m\u001b[0;34m.\u001b[0m\u001b[0mgetDeltaEnergy\u001b[0m\u001b[0;34m(\u001b[0m\u001b[0mnode\u001b[0m\u001b[0;34m,\u001b[0m\u001b[0mstate_f\u001b[0m\u001b[0;34m)\u001b[0m\u001b[0;34m\u001b[0m\u001b[0m\n\u001b[1;32m      5\u001b[0m     \u001b[0mdelta_e2\u001b[0m \u001b[0;34m=\u001b[0m \u001b[0mlatt\u001b[0m\u001b[0;34m.\u001b[0m\u001b[0mgetDeltaEnergySimple\u001b[0m\u001b[0;34m(\u001b[0m\u001b[0mnode\u001b[0m\u001b[0;34m,\u001b[0m\u001b[0mstate_f\u001b[0m\u001b[0;34m)\u001b[0m\u001b[0;34m\u001b[0m\u001b[0m\n",
      "\u001b[0;32m<ipython-input-7-ae992fa1dff6>\u001b[0m in \u001b[0;36mgetNodeRandomState\u001b[0;34m(self, node)\u001b[0m\n\u001b[1;32m    168\u001b[0m     \u001b[0;32mdef\u001b[0m \u001b[0mgetNodeRandomState\u001b[0m\u001b[0;34m(\u001b[0m\u001b[0mself\u001b[0m\u001b[0;34m,\u001b[0m\u001b[0mnode\u001b[0m\u001b[0;34m)\u001b[0m\u001b[0;34m:\u001b[0m\u001b[0;34m\u001b[0m\u001b[0m\n\u001b[1;32m    169\u001b[0m         \u001b[0;34m'''Function to get a state of the specified node different from the present state'''\u001b[0m\u001b[0;34m\u001b[0m\u001b[0m\n\u001b[0;32m--> 170\u001b[0;31m         \u001b[0mold_state\u001b[0m \u001b[0;34m=\u001b[0m \u001b[0mself\u001b[0m\u001b[0;34m.\u001b[0m\u001b[0mgraph\u001b[0m\u001b[0;34m.\u001b[0m\u001b[0mnode\u001b[0m\u001b[0;34m[\u001b[0m\u001b[0mnode\u001b[0m\u001b[0;34m]\u001b[0m\u001b[0;34m[\u001b[0m\u001b[0;34m'state'\u001b[0m\u001b[0;34m]\u001b[0m\u001b[0;34m\u001b[0m\u001b[0m\n\u001b[0m\u001b[1;32m    171\u001b[0m         \u001b[0mnew_state\u001b[0m \u001b[0;34m=\u001b[0m \u001b[0mold_state\u001b[0m\u001b[0;34m\u001b[0m\u001b[0m\n\u001b[1;32m    172\u001b[0m \u001b[0;34m\u001b[0m\u001b[0m\n",
      "\u001b[0;32m~/miniconda3/lib/python3.6/site-packages/networkx/classes/reportviews.py\u001b[0m in \u001b[0;36m__getitem__\u001b[0;34m(self, n)\u001b[0m\n\u001b[1;32m    176\u001b[0m \u001b[0;34m\u001b[0m\u001b[0m\n\u001b[1;32m    177\u001b[0m     \u001b[0;32mdef\u001b[0m \u001b[0m__getitem__\u001b[0m\u001b[0;34m(\u001b[0m\u001b[0mself\u001b[0m\u001b[0;34m,\u001b[0m \u001b[0mn\u001b[0m\u001b[0;34m)\u001b[0m\u001b[0;34m:\u001b[0m\u001b[0;34m\u001b[0m\u001b[0m\n\u001b[0;32m--> 178\u001b[0;31m         \u001b[0;32mreturn\u001b[0m \u001b[0mself\u001b[0m\u001b[0;34m.\u001b[0m\u001b[0m_nodes\u001b[0m\u001b[0;34m[\u001b[0m\u001b[0mn\u001b[0m\u001b[0;34m]\u001b[0m\u001b[0;34m\u001b[0m\u001b[0m\n\u001b[0m\u001b[1;32m    179\u001b[0m \u001b[0;34m\u001b[0m\u001b[0m\n\u001b[1;32m    180\u001b[0m     \u001b[0;31m# Set methods\u001b[0m\u001b[0;34m\u001b[0m\u001b[0;34m\u001b[0m\u001b[0m\n",
      "\u001b[0;31mTypeError\u001b[0m: unhashable type: 'dict'"
     ]
    }
   ],
   "source": [
    "for i in range(10):\n",
    "    node = latt.getRandomNode()\n",
    "    state_f = latt.getNodeRandomState(node)\n",
    "    delta_e1= latt.getDeltaEnergy(node,state_f)\n",
    "    delta_e2 = latt.getDeltaEnergySimple(node,state_f)\n",
    "    print(delta_e1,delta_e2)"
   ]
  },
  {
   "cell_type": "code",
   "execution_count": 14,
   "metadata": {},
   "outputs": [
    {
     "data": {
      "text/plain": [
       "{'state': Quantum object: dims = [[3], [1]], shape = (3, 1), type = ket\n",
       " Qobj data =\n",
       " [[ 0.]\n",
       "  [ 0.]\n",
       "  [ 1.]]}"
      ]
     },
     "execution_count": 14,
     "metadata": {},
     "output_type": "execute_result"
    }
   ],
   "source": [
    "latt.graph.node[9]"
   ]
  },
  {
   "cell_type": "code",
   "execution_count": 16,
   "metadata": {},
   "outputs": [
    {
     "data": {
      "text/plain": [
       "dict"
      ]
     },
     "execution_count": 16,
     "metadata": {},
     "output_type": "execute_result"
    }
   ],
   "source": [
    "type(_14)"
   ]
  },
  {
   "cell_type": "code",
   "execution_count": 17,
   "metadata": {},
   "outputs": [
    {
     "name": "stdout",
     "output_type": "stream",
     "text": [
      "<class 'int'>\n",
      "0\n",
      "<class 'int'>\n",
      "1\n",
      "<class 'int'>\n",
      "2\n",
      "<class 'int'>\n",
      "3\n",
      "<class 'int'>\n",
      "4\n",
      "<class 'int'>\n",
      "5\n",
      "<class 'int'>\n",
      "6\n",
      "<class 'int'>\n",
      "7\n",
      "<class 'int'>\n",
      "8\n",
      "<class 'int'>\n",
      "9\n"
     ]
    }
   ],
   "source": [
    "for node in latt.graph.nodes():\n",
    "    print(type(node))\n",
    "    print(node)"
   ]
  },
  {
   "cell_type": "code",
   "execution_count": 18,
   "metadata": {
    "collapsed": true
   },
   "outputs": [],
   "source": [
    "latt.setRandomField()"
   ]
  },
  {
   "cell_type": "code",
   "execution_count": 19,
   "metadata": {},
   "outputs": [
    {
     "name": "stdout",
     "output_type": "stream",
     "text": [
      "J 1\n",
      "mu 0.1\n",
      "dims 3\n"
     ]
    }
   ],
   "source": [
    "latt.hamiltonian.getHamiltonianVars()"
   ]
  },
  {
   "cell_type": "code",
   "execution_count": 20,
   "metadata": {
    "collapsed": true
   },
   "outputs": [],
   "source": [
    "latt.setRandomState()"
   ]
  },
  {
   "cell_type": "markdown",
   "metadata": {},
   "source": [
    "## Simulated Annealing Algorithm\n",
    "\n",
    "For finding ground state."
   ]
  },
  {
   "cell_type": "code",
   "execution_count": 21,
   "metadata": {},
   "outputs": [
    {
     "ename": "TypeError",
     "evalue": "unhashable type: 'dict'",
     "output_type": "error",
     "traceback": [
      "\u001b[0;31m---------------------------------------------------------------------------\u001b[0m",
      "\u001b[0;31mTypeError\u001b[0m                                 Traceback (most recent call last)",
      "\u001b[0;32m<ipython-input-21-5bdfd73b34b0>\u001b[0m in \u001b[0;36m<module>\u001b[0;34m()\u001b[0m\n\u001b[1;32m      4\u001b[0m \u001b[0;32mfor\u001b[0m \u001b[0mi\u001b[0m \u001b[0;32min\u001b[0m \u001b[0mrange\u001b[0m\u001b[0;34m(\u001b[0m\u001b[0;36m2000\u001b[0m\u001b[0;34m)\u001b[0m\u001b[0;34m:\u001b[0m\u001b[0;34m\u001b[0m\u001b[0m\n\u001b[1;32m      5\u001b[0m     \u001b[0mnode\u001b[0m \u001b[0;34m=\u001b[0m \u001b[0mlatt\u001b[0m\u001b[0;34m.\u001b[0m\u001b[0mgetRandomNode\u001b[0m\u001b[0;34m(\u001b[0m\u001b[0;34m)\u001b[0m\u001b[0;34m\u001b[0m\u001b[0m\n\u001b[0;32m----> 6\u001b[0;31m     \u001b[0;32mif\u001b[0m \u001b[0mlatt\u001b[0m\u001b[0;34m.\u001b[0m\u001b[0mgraph\u001b[0m\u001b[0;34m.\u001b[0m\u001b[0mnode\u001b[0m\u001b[0;34m[\u001b[0m\u001b[0mnode\u001b[0m\u001b[0;34m]\u001b[0m\u001b[0;34m[\u001b[0m\u001b[0;34m'flipped'\u001b[0m\u001b[0;34m]\u001b[0m\u001b[0;34m==\u001b[0m\u001b[0;32mFalse\u001b[0m\u001b[0;34m:\u001b[0m\u001b[0;34m\u001b[0m\u001b[0m\n\u001b[0m\u001b[1;32m      7\u001b[0m         \u001b[0mstate_f\u001b[0m \u001b[0;34m=\u001b[0m \u001b[0mlatt\u001b[0m\u001b[0;34m.\u001b[0m\u001b[0mgetNodeRandomState\u001b[0m\u001b[0;34m(\u001b[0m\u001b[0mnode\u001b[0m\u001b[0;34m)\u001b[0m\u001b[0;34m\u001b[0m\u001b[0m\n\u001b[1;32m      8\u001b[0m         \u001b[0mdelta_e\u001b[0m \u001b[0;34m=\u001b[0m \u001b[0mlatt\u001b[0m\u001b[0;34m.\u001b[0m\u001b[0mgetDeltaEnergy\u001b[0m\u001b[0;34m(\u001b[0m\u001b[0mnode\u001b[0m\u001b[0;34m,\u001b[0m\u001b[0mstate_f\u001b[0m\u001b[0;34m)\u001b[0m\u001b[0;34m\u001b[0m\u001b[0m\n",
      "\u001b[0;32m~/miniconda3/lib/python3.6/site-packages/networkx/classes/reportviews.py\u001b[0m in \u001b[0;36m__getitem__\u001b[0;34m(self, n)\u001b[0m\n\u001b[1;32m    176\u001b[0m \u001b[0;34m\u001b[0m\u001b[0m\n\u001b[1;32m    177\u001b[0m     \u001b[0;32mdef\u001b[0m \u001b[0m__getitem__\u001b[0m\u001b[0;34m(\u001b[0m\u001b[0mself\u001b[0m\u001b[0;34m,\u001b[0m \u001b[0mn\u001b[0m\u001b[0;34m)\u001b[0m\u001b[0;34m:\u001b[0m\u001b[0;34m\u001b[0m\u001b[0m\n\u001b[0;32m--> 178\u001b[0;31m         \u001b[0;32mreturn\u001b[0m \u001b[0mself\u001b[0m\u001b[0;34m.\u001b[0m\u001b[0m_nodes\u001b[0m\u001b[0;34m[\u001b[0m\u001b[0mn\u001b[0m\u001b[0;34m]\u001b[0m\u001b[0;34m\u001b[0m\u001b[0m\n\u001b[0m\u001b[1;32m    179\u001b[0m \u001b[0;34m\u001b[0m\u001b[0m\n\u001b[1;32m    180\u001b[0m     \u001b[0;31m# Set methods\u001b[0m\u001b[0;34m\u001b[0m\u001b[0;34m\u001b[0m\u001b[0m\n",
      "\u001b[0;31mTypeError\u001b[0m: unhashable type: 'dict'"
     ]
    }
   ],
   "source": [
    "pos_delta_e = 0\n",
    "neg_delta_e = 0\n",
    "temp = 200.\n",
    "for i in range(2000):\n",
    "    node = latt.getRandomNode()\n",
    "    if latt.graph.node[node]['flipped']==False:\n",
    "        state_f = latt.getNodeRandomState(node)\n",
    "        delta_e = latt.getDeltaEnergy(node,state_f)\n",
    "#         delta_e = latt.getDeltaEnergySimple(node,state_f)\n",
    "#         print(delta_e)\n",
    "        if delta_e < 0:\n",
    "            latt.setNodeState(node,state_f)\n",
    "            latt.graph.node[node]['flipped'] = True\n",
    "            neg_delta_e += delta_e\n",
    "            print(i,node,delta_e,neg_delta_e)\n",
    "        elif delta_e > 0 and np.exp(-delta_e/(temp/(i+1))) > np.random.random_sample():\n",
    "            latt.setNodeState(node,state_f)\n",
    "            latt.graph.node[node]['flipped'] = True\n",
    "            pos_delta_e += delta_e\n",
    "            print(i,node,delta_e,pos_delta_e)\n",
    "    elif latt.graph.node[node]['flipped']==True:\n",
    "#         latt.setNodeRandomState(node)\n",
    "        latt.graph.node[node]['flipped'] = False\n",
    "print('Net positive change: ',pos_delta_e)\n",
    "print('Net negative change: ',neg_delta_e)\n",
    "print('Net change: ',pos_delta_e+neg_delta_e)"
   ]
  },
  {
   "cell_type": "code",
   "execution_count": 23,
   "metadata": {},
   "outputs": [
    {
     "ename": "NameError",
     "evalue": "name 'delta_e' is not defined",
     "output_type": "error",
     "traceback": [
      "\u001b[0;31m---------------------------------------------------------------------------\u001b[0m",
      "\u001b[0;31mNameError\u001b[0m                                 Traceback (most recent call last)",
      "\u001b[0;32m<ipython-input-23-ceb256ace58f>\u001b[0m in \u001b[0;36m<module>\u001b[0;34m()\u001b[0m\n\u001b[0;32m----> 1\u001b[0;31m \u001b[0mprint\u001b[0m\u001b[0;34m(\u001b[0m\u001b[0;34m\"%3s \\t %8s \\t %4s \\t %4s\"\u001b[0m \u001b[0;34m%\u001b[0m \u001b[0;34m(\u001b[0m\u001b[0mi\u001b[0m\u001b[0;34m,\u001b[0m\u001b[0mnode\u001b[0m\u001b[0;34m,\u001b[0m\u001b[0mdelta_e\u001b[0m\u001b[0;34m,\u001b[0m\u001b[0mneg_delta_e\u001b[0m\u001b[0;34m)\u001b[0m\u001b[0;34m)\u001b[0m\u001b[0;34m\u001b[0m\u001b[0m\n\u001b[0m",
      "\u001b[0;31mNameError\u001b[0m: name 'delta_e' is not defined"
     ]
    }
   ],
   "source": [
    "print(\"%3s \\t %8s \\t %4s \\t %4s\" % (i,node,delta_e,neg_delta_e))"
   ]
  },
  {
   "cell_type": "code",
   "execution_count": 22,
   "metadata": {},
   "outputs": [
    {
     "data": {
      "image/png": "[encoded data removed]",
      "text/plain": [
       "<matplotlib.figure.Figure at 0x1171d5ef0>"
      ]
     },
     "metadata": {},
     "output_type": "display_data"
    }
   ],
   "source": [
    "latt.draw()"
   ]
  },
  {
   "cell_type": "code",
   "execution_count": 24,
   "metadata": {},
   "outputs": [
    {
     "data": {
      "text/plain": [
       "0.8111528146916753"
      ]
     },
     "execution_count": 24,
     "metadata": {},
     "output_type": "execute_result"
    }
   ],
   "source": [
    "latt.latticeEnergy()"
   ]
  },
  {
   "cell_type": "code",
   "execution_count": 25,
   "metadata": {},
   "outputs": [
    {
     "data": {
      "text/latex": [
       "Quantum object: dims = [[3], [1]], shape = (3, 1), type = ket\\begin{equation*}\\left(\\begin{array}{*{11}c}0.0\\\\0.0\\\\1.0\\\\\\end{array}\\right)\\end{equation*}"
      ],
      "text/plain": [
       "Quantum object: dims = [[3], [1]], shape = (3, 1), type = ket\n",
       "Qobj data =\n",
       "[[ 0.]\n",
       " [ 0.]\n",
       " [ 1.]]"
      ]
     },
     "execution_count": 25,
     "metadata": {},
     "output_type": "execute_result"
    }
   ],
   "source": [
    "latt.getRandomState()"
   ]
  },
  {
   "cell_type": "code",
   "execution_count": 26,
   "metadata": {
    "collapsed": true
   },
   "outputs": [],
   "source": [
    "import random"
   ]
  },
  {
   "cell_type": "code",
   "execution_count": 27,
   "metadata": {},
   "outputs": [
    {
     "data": {
      "text/plain": [
       "{'field': -0.904540758564061,\n",
       " 'state': Quantum object: dims = [[3], [1]], shape = (3, 1), type = ket\n",
       " Qobj data =\n",
       " [[ 0.]\n",
       "  [ 0.]\n",
       "  [ 1.]]}"
      ]
     },
     "execution_count": 27,
     "metadata": {},
     "output_type": "execute_result"
    }
   ],
   "source": [
    "latt.getRandomNode()"
   ]
  },
  {
   "cell_type": "code",
   "execution_count": 28,
   "metadata": {},
   "outputs": [
    {
     "ename": "TypeError",
     "evalue": "unhashable type: 'dict'",
     "output_type": "error",
     "traceback": [
      "\u001b[0;31m---------------------------------------------------------------------------\u001b[0m",
      "\u001b[0;31mTypeError\u001b[0m                                 Traceback (most recent call last)",
      "\u001b[0;32m<ipython-input-28-52ed8198cbcb>\u001b[0m in \u001b[0;36m<module>\u001b[0;34m()\u001b[0m\n\u001b[0;32m----> 1\u001b[0;31m \u001b[0mlatt\u001b[0m\u001b[0;34m.\u001b[0m\u001b[0mgetDeltaEnergy\u001b[0m\u001b[0;34m(\u001b[0m\u001b[0mlatt\u001b[0m\u001b[0;34m.\u001b[0m\u001b[0mgetRandomNode\u001b[0m\u001b[0;34m(\u001b[0m\u001b[0;34m)\u001b[0m\u001b[0;34m,\u001b[0m\u001b[0mlatt\u001b[0m\u001b[0;34m.\u001b[0m\u001b[0mgetRandomState\u001b[0m\u001b[0;34m(\u001b[0m\u001b[0;34m)\u001b[0m\u001b[0;34m)\u001b[0m\u001b[0;34m\u001b[0m\u001b[0m\n\u001b[0m",
      "\u001b[0;32m<ipython-input-7-ae992fa1dff6>\u001b[0m in \u001b[0;36mgetDeltaEnergy\u001b[0;34m(self, node, state_f)\u001b[0m\n\u001b[1;32m    217\u001b[0m         \u001b[0mstate_f\u001b[0m\u001b[0;34m:\u001b[0m \u001b[0mhashQobj\u001b[0m \u001b[0mobject\u001b[0m \u001b[0mcorresponding\u001b[0m \u001b[0mto\u001b[0m \u001b[0mstate\u001b[0m \u001b[0mgiven\u001b[0m \u001b[0mnode\u001b[0m \u001b[0mshould\u001b[0m \u001b[0mbe\u001b[0m \u001b[0mset\u001b[0m \u001b[0mto\u001b[0m\u001b[0;34m\u001b[0m\u001b[0m\n\u001b[1;32m    218\u001b[0m         '''        \n\u001b[0;32m--> 219\u001b[0;31m         \u001b[0mstate_i\u001b[0m \u001b[0;34m=\u001b[0m \u001b[0mself\u001b[0m\u001b[0;34m.\u001b[0m\u001b[0mgraph\u001b[0m\u001b[0;34m.\u001b[0m\u001b[0mnode\u001b[0m\u001b[0;34m[\u001b[0m\u001b[0mnode\u001b[0m\u001b[0;34m]\u001b[0m\u001b[0;34m[\u001b[0m\u001b[0;34m'state'\u001b[0m\u001b[0;34m]\u001b[0m\u001b[0;34m\u001b[0m\u001b[0m\n\u001b[0m\u001b[1;32m    220\u001b[0m \u001b[0;34m\u001b[0m\u001b[0m\n\u001b[1;32m    221\u001b[0m         \u001b[0;31m# if the new state is the same as old state, then the energy will not change\u001b[0m\u001b[0;34m\u001b[0m\u001b[0;34m\u001b[0m\u001b[0m\n",
      "\u001b[0;32m~/miniconda3/lib/python3.6/site-packages/networkx/classes/reportviews.py\u001b[0m in \u001b[0;36m__getitem__\u001b[0;34m(self, n)\u001b[0m\n\u001b[1;32m    176\u001b[0m \u001b[0;34m\u001b[0m\u001b[0m\n\u001b[1;32m    177\u001b[0m     \u001b[0;32mdef\u001b[0m \u001b[0m__getitem__\u001b[0m\u001b[0;34m(\u001b[0m\u001b[0mself\u001b[0m\u001b[0;34m,\u001b[0m \u001b[0mn\u001b[0m\u001b[0;34m)\u001b[0m\u001b[0;34m:\u001b[0m\u001b[0;34m\u001b[0m\u001b[0m\n\u001b[0;32m--> 178\u001b[0;31m         \u001b[0;32mreturn\u001b[0m \u001b[0mself\u001b[0m\u001b[0;34m.\u001b[0m\u001b[0m_nodes\u001b[0m\u001b[0;34m[\u001b[0m\u001b[0mn\u001b[0m\u001b[0;34m]\u001b[0m\u001b[0;34m\u001b[0m\u001b[0m\n\u001b[0m\u001b[1;32m    179\u001b[0m \u001b[0;34m\u001b[0m\u001b[0m\n\u001b[1;32m    180\u001b[0m     \u001b[0;31m# Set methods\u001b[0m\u001b[0;34m\u001b[0m\u001b[0;34m\u001b[0m\u001b[0m\n",
      "\u001b[0;31mTypeError\u001b[0m: unhashable type: 'dict'"
     ]
    }
   ],
   "source": [
    "latt.getDeltaEnergy(latt.getRandomNode(),latt.getRandomState())"
   ]
  },
  {
   "cell_type": "code",
   "execution_count": 29,
   "metadata": {
    "collapsed": true
   },
   "outputs": [],
   "source": [
    "latt.setRandomState()"
   ]
  },
  {
   "cell_type": "code",
   "execution_count": 30,
   "metadata": {},
   "outputs": [
    {
     "data": {
      "image/png": "[encoded data removed]",
      "text/plain": [
       "<matplotlib.figure.Figure at 0x11a56d470>"
      ]
     },
     "metadata": {},
     "output_type": "display_data"
    }
   ],
   "source": [
    "latt.draw()"
   ]
  },
  {
   "cell_type": "code",
   "execution_count": 31,
   "metadata": {},
   "outputs": [
    {
     "name": "stdout",
     "output_type": "stream",
     "text": [
      "7.13 ms ± 849 µs per loop (mean ± std. dev. of 7 runs, 100 loops each)\n"
     ]
    }
   ],
   "source": [
    "%timeit(latt.latticeEnergy())"
   ]
  },
  {
   "cell_type": "code",
   "execution_count": 32,
   "metadata": {
    "collapsed": true
   },
   "outputs": [],
   "source": [
    "latt.setRandomField()"
   ]
  },
  {
   "cell_type": "code",
   "execution_count": 33,
   "metadata": {},
   "outputs": [
    {
     "data": {
      "text/plain": [
       "-1.2126198640142225"
      ]
     },
     "execution_count": 33,
     "metadata": {},
     "output_type": "execute_result"
    }
   ],
   "source": [
    "latt.latticeEnergy()"
   ]
  },
  {
   "cell_type": "code",
   "execution_count": 34,
   "metadata": {},
   "outputs": [
    {
     "name": "stdout",
     "output_type": "stream",
     "text": [
      "-0.4943057937820807\n",
      "-0.16821178286065508\n",
      "-0.1258683199845536\n",
      "-0.10409065631843606\n",
      "-0.1517316382722691\n",
      "-0.4863107500869186\n",
      "0.8361661345733915\n",
      "0.3852219956304641\n",
      "0.2869335565785105\n",
      "0.4744931187873991\n"
     ]
    }
   ],
   "source": [
    "for node in latt.graph:\n",
    "    print(latt.graph.node[node]['field'])"
   ]
  },
  {
   "cell_type": "code",
   "execution_count": 35,
   "metadata": {},
   "outputs": [
    {
     "data": {
      "text/latex": [
       "Quantum object: dims = [[3, 3], [3, 3]], shape = (9, 9), type = oper, isherm = True\\begin{equation*}\\left(\\begin{array}{*{11}c}-1.0 & 0.0 & 0.0 & 0.0 & 0.0 & 0.0 & 0.0 & 0.0 & 0.0\\\\0.0 & 0.0 & 0.0 & -1.0 & 0.0 & 0.0 & 0.0 & 0.0 & 0.0\\\\0.0 & 0.0 & 1.0 & 0.0 & -1.0 & 0.0 & 0.0 & 0.0 & 0.0\\\\0.0 & -1.0 & 0.0 & 0.0 & 0.0 & 0.0 & 0.0 & 0.0 & 0.0\\\\0.0 & 0.0 & -1.0 & 0.0 & 0.0 & 0.0 & -1.0 & 0.0 & 0.0\\\\0.0 & 0.0 & 0.0 & 0.0 & 0.0 & 0.0 & 0.0 & -1.0 & 0.0\\\\0.0 & 0.0 & 0.0 & 0.0 & -1.0 & 0.0 & 1.0 & 0.0 & 0.0\\\\0.0 & 0.0 & 0.0 & 0.0 & 0.0 & -1.0 & 0.0 & 0.0 & 0.0\\\\0.0 & 0.0 & 0.0 & 0.0 & 0.0 & 0.0 & 0.0 & 0.0 & -1.0\\\\\\end{array}\\right)\\end{equation*}"
      ],
      "text/plain": [
       "Quantum object: dims = [[3, 3], [3, 3]], shape = (9, 9), type = oper, isherm = True\n",
       "Qobj data =\n",
       "[[-1.  0.  0.  0.  0.  0.  0.  0.  0.]\n",
       " [ 0.  0.  0. -1.  0.  0.  0.  0.  0.]\n",
       " [ 0.  0.  1.  0. -1.  0.  0.  0.  0.]\n",
       " [ 0. -1.  0.  0.  0.  0.  0.  0.  0.]\n",
       " [ 0.  0. -1.  0.  0.  0. -1.  0.  0.]\n",
       " [ 0.  0.  0.  0.  0.  0.  0. -1.  0.]\n",
       " [ 0.  0.  0.  0. -1.  0.  1.  0.  0.]\n",
       " [ 0.  0.  0.  0.  0. -1.  0.  0.  0.]\n",
       " [ 0.  0.  0.  0.  0.  0.  0.  0. -1.]]"
      ]
     },
     "execution_count": 35,
     "metadata": {},
     "output_type": "execute_result"
    }
   ],
   "source": [
    "latt.hamiltonian.hamOp"
   ]
  },
  {
   "cell_type": "code",
   "execution_count": 36,
   "metadata": {
    "collapsed": true
   },
   "outputs": [],
   "source": [
    "energies = []\n",
    "for i in range(100):\n",
    "    latt.setRandomState()\n",
    "    energies.append(latt.latticeEnergy())"
   ]
  },
  {
   "cell_type": "code",
   "execution_count": 37,
   "metadata": {},
   "outputs": [
    {
     "data": {
      "text/plain": [
       "(array([  3.,   4.,  12.,  25.,  24.,  16.,  13.,   1.,   0.,   2.]),\n",
       " array([-11.05459276,  -8.47078379,  -5.88697483,  -3.30316587,\n",
       "         -0.71935691,   1.86445206,   4.44826102,   7.03206998,\n",
       "          9.61587894,  12.1996879 ,  14.78349687]),\n",
       " <a list of 10 Patch objects>)"
      ]
     },
     "execution_count": 37,
     "metadata": {},
     "output_type": "execute_result"
    },
    {
     "data": {
      "image/png": "[encoded data removed]",
      "text/plain": [
       "<matplotlib.figure.Figure at 0x11a68cb70>"
      ]
     },
     "metadata": {},
     "output_type": "display_data"
    }
   ],
   "source": [
    "plt.hist(energies,bins=10)"
   ]
  },
  {
   "cell_type": "code",
   "execution_count": 38,
   "metadata": {},
   "outputs": [
    {
     "data": {
      "text/plain": [
       "(<matplotlib.figure.Figure at 0x11a7bc1d0>,\n",
       " <matplotlib.axes._subplots.AxesSubplot at 0x11a5a0d30>)"
      ]
     },
     "execution_count": 38,
     "metadata": {},
     "output_type": "execute_result"
    },
    {
     "data": {
      "image/png": "[encoded data removed]",
      "text/plain": [
       "<matplotlib.figure.Figure at 0x11a7bc1d0>"
      ]
     },
     "metadata": {},
     "output_type": "display_data"
    }
   ],
   "source": [
    "plot_energy_levels([latt.hamOp])"
   ]
  },
  {
   "cell_type": "code",
   "execution_count": 39,
   "metadata": {},
   "outputs": [
    {
     "name": "stdout",
     "output_type": "stream",
     "text": [
      "[-11.054592755101782, -9.52271776986059, -8.928826913625514, -7.233463882173358, -7.002312917038484, -6.781623087948855, -6.469939884319485, -5.297932478154746, -5.1160183487239355, -5.020280737372304, -4.967757238944384, -4.252319998486548, -4.0617779899740984, -3.886496353612101, -3.840270569348262, -3.7765681871002124, -3.675287392976456, -3.647313633673516, -3.6037913918184654, -3.138217732994473, -3.101485893020362, -2.832951993080487, -2.800864394379972, -2.716835929065318, -2.59189939883766, -2.4951246515076333, -2.2530643549651024, -2.1312534226003117, -2.1163357492613994, -2.0648209923333334, -1.9542775180530134, -1.9510218416424003, -1.9117569853687428, -1.7939512595077367, -1.7326183110413924, -1.6367409773891943, -1.5964821071050728, -1.3533238665186242, -1.218398680249429, -1.1758353982275855, -1.1382429967626029, -1.1014952142288519, -1.081788388902849, -0.9800761340255308, -0.4844504902146843, -0.37023127477196954, -0.35329371686674266, -0.3155794023812594, -0.08349239808054992, 0.04341600746516999, 0.1340855254738123, 0.26479334954326156, 0.2872321279420364, 0.44542446274631, 0.4644183666521137, 0.5061412008195784, 0.557894515467054, 0.7264138137942227, 0.9603805198852127, 1.0403347254589819, 1.1441627030183308, 1.1744270359923237, 1.2883948066144553, 1.4408625480529729, 1.699185509268961, 1.7375245209403336, 1.8359134310072, 1.83875597272312, 1.9344690572301857, 2.125171710567177, 2.201970619948178, 2.2279758226500928, 2.247791641124729, 2.3684761348030983, 2.405101441948882, 2.427116229701965, 2.5383610460279558, 2.660287499439598, 3.171789933356848, 3.203048166968002, 3.2219130340065063, 3.5289098784807416, 3.619718166233376, 4.117431157156355, 4.589803846158264, 4.6678838080978755, 4.68159427565313, 4.868822524492637, 5.057196472920104, 5.102553938870922, 5.144015746913123, 5.239783660725004, 5.604883076555272, 5.785628185656321, 6.137677145983723, 6.362767800261196, 7.0196277013953186, 8.06759868477217, 12.753619754163182, 14.783496865985471]\n"
     ]
    }
   ],
   "source": [
    "uniq_energies = set(energies)\n",
    "print(sorted(uniq_energies))"
   ]
  },
  {
   "cell_type": "code",
   "execution_count": 40,
   "metadata": {},
   "outputs": [
    {
     "name": "stdout",
     "output_type": "stream",
     "text": [
      "{-0.9800761340255308: 1, 1.4408625480529729: 1, 1.8359134310072: 1, 3.2219130340065063: 1, 4.68159427565313: 1, 0.44542446274631: 1, 6.137677145983723: 1, 2.405101441948882: 1, 4.117431157156355: 1, 4.6678838080978755: 1, 5.102553938870922: 1, 6.362767800261196: 1, 12.753619754163182: 1, 8.06759868477217: 1, 5.144015746913123: 1, 7.0196277013953186: 1, 3.619718166233376: 1, 14.783496865985471: 1, 1.1744270359923237: 1, 5.057196472920104: 1, 5.785628185656321: 1, 1.7375245209403336: 1, -1.6367409773891943: 1, 2.201970619948178: 1, 2.660287499439598: 1, -1.9510218416424003: 1, -3.886496353612101: 1, 4.868822524492637: 1, -2.59189939883766: 1, 5.239783660725004: 1, 2.247791641124729: 1, -3.675287392976456: 1, -1.081788388902849: 1, -0.37023127477196954: 1, -0.35329371686674266: 1, 0.26479334954326156: 1, -0.3155794023812594: 1, -0.08349239808054992: 1, 0.04341600746516999: 1, 0.1340855254738123: 1, -2.2530643549651024: 1, -1.5964821071050728: 1, -5.297932478154746: 1, 2.3684761348030983: 1, -4.967757238944384: 1, 3.5289098784807416: 1, -3.6037913918184654: 1, 4.589803846158264: 1, -2.1163357492613994: 1, -1.1014952142288519: 1, -7.002312917038484: 1, -6.781623087948855: 1, -3.138217732994473: 1, -3.647313633673516: 1, 1.699185509268961: 1, 0.5061412008195784: 1, -1.9117569853687428: 1, 2.125171710567177: 1, 1.9344690572301857: 1, -2.4951246515076333: 1, 2.5383610460279558: 1, -1.3533238665186242: 1, -3.7765681871002124: 1, -2.832951993080487: 1, -2.1312534226003117: 1, -2.0648209923333334: 1, 5.604883076555272: 1, -1.1758353982275855: 1, -4.0617779899740984: 1, -1.9542775180530134: 1, -3.101485893020362: 1, -0.4844504902146843: 1, 0.4644183666521137: 1, 0.2872321279420364: 1, 2.2279758226500928: 1, 0.7264138137942227: 1, 1.0403347254589819: 1, -5.020280737372304: 1, -2.800864394379972: 1, 0.557894515467054: 1, -1.7939512595077367: 1, 2.427116229701965: 1, 3.203048166968002: 1, 1.83875597272312: 1, 1.1441627030183308: 1, -1.7326183110413924: 1, -1.218398680249429: 1, 3.171789933356848: 1, 0.9603805198852127: 1, -11.054592755101782: 1, 1.2883948066144553: 1, -9.52271776986059: 1, -8.928826913625514: 1, -7.233463882173358: 1, -6.469939884319485: 1, -5.1160183487239355: 1, -4.252319998486548: 1, -3.840270569348262: 1, -2.716835929065318: 1, -1.1382429967626029: 1}\n"
     ]
    }
   ],
   "source": [
    "energy_count = {}\n",
    "for uniq in uniq_energies:\n",
    "    energy_count[uniq] = energies.count(uniq)\n",
    "print(energy_count)"
   ]
  },
  {
   "cell_type": "code",
   "execution_count": 41,
   "metadata": {},
   "outputs": [
    {
     "data": {
      "text/plain": [
       "<matplotlib.collections.PathCollection at 0x11a954240>"
      ]
     },
     "execution_count": 41,
     "metadata": {},
     "output_type": "execute_result"
    },
    {
     "data": {
      "image/png": "[encoded data removed]",
      "text/plain": [
       "<matplotlib.figure.Figure at 0x11a83a550>"
      ]
     },
     "metadata": {},
     "output_type": "display_data"
    }
   ],
   "source": [
    "plt.scatter(list(energy_count.keys()),list(energy_count.values()))"
   ]
  },
  {
   "cell_type": "code",
   "execution_count": 42,
   "metadata": {},
   "outputs": [
    {
     "data": {
      "image/png": "[encoded data removed]",
      "text/plain": [
       "<matplotlib.figure.Figure at 0x11a9132e8>"
      ]
     },
     "metadata": {},
     "output_type": "display_data"
    }
   ],
   "source": [
    "latt.draw()"
   ]
  },
  {
   "cell_type": "code",
   "execution_count": 46,
   "metadata": {
    "collapsed": true
   },
   "outputs": [],
   "source": [
    "plt.scatter?"
   ]
  },
  {
   "cell_type": "code",
   "execution_count": null,
   "metadata": {
    "collapsed": true
   },
   "outputs": [],
   "source": [
    "set.issubset?"
   ]
  },
  {
   "cell_type": "code",
   "execution_count": null,
   "metadata": {
    "collapsed": true
   },
   "outputs": [],
   "source": [
    "create?"
   ]
  },
  {
   "cell_type": "code",
   "execution_count": null,
   "metadata": {
    "collapsed": true
   },
   "outputs": [],
   "source": [
    "x = hashQobj"
   ]
  },
  {
   "cell_type": "code",
   "execution_count": null,
   "metadata": {
    "collapsed": true
   },
   "outputs": [],
   "source": [
    "hash(x)"
   ]
  },
  {
   "cell_type": "code",
   "execution_count": null,
   "metadata": {
    "collapsed": true
   },
   "outputs": [],
   "source": [
    "x = hashQobj(basis(2,0))"
   ]
  },
  {
   "cell_type": "code",
   "execution_count": null,
   "metadata": {
    "collapsed": true
   },
   "outputs": [],
   "source": [
    "hash(x)"
   ]
  },
  {
   "cell_type": "code",
   "execution_count": null,
   "metadata": {
    "collapsed": true
   },
   "outputs": [],
   "source": [
    "x"
   ]
  },
  {
   "cell_type": "code",
   "execution_count": null,
   "metadata": {
    "collapsed": true
   },
   "outputs": [],
   "source": [
    "x = {}"
   ]
  },
  {
   "cell_type": "code",
   "execution_count": null,
   "metadata": {
    "collapsed": true
   },
   "outputs": [],
   "source": [
    "len(x)"
   ]
  },
  {
   "cell_type": "code",
   "execution_count": null,
   "metadata": {
    "collapsed": true
   },
   "outputs": [],
   "source": [
    "basis(3,2)"
   ]
  },
  {
   "cell_type": "code",
   "execution_count": null,
   "metadata": {
    "collapsed": true
   },
   "outputs": [],
   "source": [
    "basis(2,1)"
   ]
  },
  {
   "cell_type": "code",
   "execution_count": null,
   "metadata": {
    "collapsed": true
   },
   "outputs": [],
   "source": [
    "np.ndarray?"
   ]
  },
  {
   "cell_type": "code",
   "execution_count": null,
   "metadata": {
    "collapsed": true
   },
   "outputs": [],
   "source": [
    "size = 4\n",
    "arr = np.ndarray([size,size],dtype=Qobj)\n",
    "arr"
   ]
  },
  {
   "cell_type": "code",
   "execution_count": null,
   "metadata": {
    "collapsed": true
   },
   "outputs": [],
   "source": [
    "type(arr[0][1])"
   ]
  },
  {
   "cell_type": "code",
   "execution_count": 46,
   "metadata": {},
   "outputs": [
    {
     "ename": "NameError",
     "evalue": "name 'SquareLattice' is not defined",
     "output_type": "error",
     "traceback": [
      "\u001b[0;31m---------------------------------------------------------------------------\u001b[0m",
      "\u001b[0;31mNameError\u001b[0m                                 Traceback (most recent call last)",
      "\u001b[0;32m<ipython-input-46-bb65d75ced52>\u001b[0m in \u001b[0;36m<module>\u001b[0;34m()\u001b[0m\n\u001b[0;32m----> 1\u001b[0;31m \u001b[0mlatt\u001b[0m \u001b[0;34m=\u001b[0m \u001b[0mSquareLattice\u001b[0m\u001b[0;34m(\u001b[0m\u001b[0msize\u001b[0m\u001b[0;34m=\u001b[0m\u001b[0;36m50\u001b[0m\u001b[0;34m,\u001b[0m\u001b[0mperiodic\u001b[0m\u001b[0;34m=\u001b[0m\u001b[0;32mTrue\u001b[0m\u001b[0;34m,\u001b[0m\u001b[0mhamiltonian\u001b[0m\u001b[0;34m=\u001b[0m\u001b[0;34m'SpinGlass'\u001b[0m\u001b[0;34m,\u001b[0m\u001b[0mham_vars\u001b[0m\u001b[0;34m=\u001b[0m\u001b[0;34m{\u001b[0m\u001b[0;34m'mu'\u001b[0m\u001b[0;34m:\u001b[0m \u001b[0;36m0\u001b[0m\u001b[0;34m,\u001b[0m \u001b[0;34m'J_ij'\u001b[0m\u001b[0;34m:\u001b[0m \u001b[0;36m1\u001b[0m\u001b[0;34m}\u001b[0m\u001b[0;34m)\u001b[0m\u001b[0;34m\u001b[0m\u001b[0m\n\u001b[0m",
      "\u001b[0;31mNameError\u001b[0m: name 'SquareLattice' is not defined"
     ]
    }
   ],
   "source": [
    "latt = SquareLattice(size=50,periodic=True,hamiltonian='SpinGlass',ham_vars={'mu': 0, 'J_ij': 1})"
   ]
  },
  {
   "cell_type": "code",
   "execution_count": null,
   "metadata": {
    "collapsed": true
   },
   "outputs": [],
   "source": [
    "latt.setRandomState()\n",
    "\n",
    "print(latt.latticeEnergy())\n",
    "\n",
    "latt.draw()"
   ]
  },
  {
   "cell_type": "code",
   "execution_count": null,
   "metadata": {
    "collapsed": true
   },
   "outputs": [],
   "source": [
    "energies = []\n",
    "for i in range(500):\n",
    "    latt.setRandomState()\n",
    "    energies.append(latt.latticeEnergy())"
   ]
  },
  {
   "cell_type": "code",
   "execution_count": null,
   "metadata": {
    "collapsed": true
   },
   "outputs": [],
   "source": [
    "plt.hist(energies,bins=40)"
   ]
  },
  {
   "cell_type": "code",
   "execution_count": null,
   "metadata": {
    "collapsed": true
   },
   "outputs": [],
   "source": [
    "energy_set = set(energies)\n",
    "for e in sorted(energy_set):\n",
    "    print(e,'\\t',energies.count(e))"
   ]
  },
  {
   "cell_type": "code",
   "execution_count": null,
   "metadata": {
    "collapsed": true
   },
   "outputs": [],
   "source": [
    "print?"
   ]
  },
  {
   "cell_type": "code",
   "execution_count": null,
   "metadata": {
    "collapsed": true
   },
   "outputs": [],
   "source": [
    "latt.hamiltonianVars"
   ]
  },
  {
   "cell_type": "code",
   "execution_count": null,
   "metadata": {
    "collapsed": true
   },
   "outputs": [],
   "source": [
    "x = {'i':1,'j':2}\n",
    "x"
   ]
  },
  {
   "cell_type": "code",
   "execution_count": null,
   "metadata": {
    "collapsed": true
   },
   "outputs": [],
   "source": [
    "x.values()"
   ]
  },
  {
   "cell_type": "code",
   "execution_count": null,
   "metadata": {
    "collapsed": true
   },
   "outputs": [],
   "source": [
    "x.get?"
   ]
  },
  {
   "cell_type": "code",
   "execution_count": null,
   "metadata": {
    "collapsed": true
   },
   "outputs": [],
   "source": [
    "x.get('k')"
   ]
  },
  {
   "cell_type": "code",
   "execution_count": null,
   "metadata": {
    "collapsed": true
   },
   "outputs": [],
   "source": [
    "set(x.keys())"
   ]
  },
  {
   "cell_type": "code",
   "execution_count": null,
   "metadata": {
    "collapsed": true
   },
   "outputs": [],
   "source": [
    "y = {'j':1,'i':2}\n",
    "y"
   ]
  },
  {
   "cell_type": "code",
   "execution_count": null,
   "metadata": {
    "collapsed": true
   },
   "outputs": [],
   "source": [
    "set(x.keys()) ^ set(y.keys())"
   ]
  },
  {
   "cell_type": "code",
   "execution_count": null,
   "metadata": {
    "collapsed": true
   },
   "outputs": [],
   "source": [
    "x.keys() == y.keys()"
   ]
  },
  {
   "cell_type": "code",
   "execution_count": null,
   "metadata": {
    "collapsed": true
   },
   "outputs": [],
   "source": [
    "nx.grid_2d_graph?"
   ]
  },
  {
   "cell_type": "code",
   "execution_count": null,
   "metadata": {
    "collapsed": true
   },
   "outputs": [],
   "source": [
    "# Dead code\n",
    "\n",
    "#     def hamiltonianIsing(self,node):\n",
    "#         energy = 0.\n",
    "#         for neighbor in self.graph[node]:\n",
    "#             tempstate = tensor(self.graph.node[node]['state'],self.graph.node[neighbor]['state'])\n",
    "#             energy += expect(self.hamOp)\n",
    "# #             energy += -self.J*self.graph.node[node]['state']*self.graph.node[neighbor]['state']\n",
    "# #             energy += -self.mu*self.h*self.graph.node[node]['state']\n",
    "#         return energy\n",
    "    \n",
    "# #     def hamiltonianSpinGlass(self,node):\n",
    "# #         energy = 0.\n",
    "# #         for neighbor in self.graph[node]:\n",
    "# #             energy += 0\n",
    "    \n",
    "#     def hamiltonianHubbard(self,node):\n",
    "#         energy = 0.\n",
    "# #         for neighbor in self.graph[node]:\n",
    "# #             energy += -self.J*\n",
    "#         return 0\n",
    "    \n",
    "#     def hamiltonianHeisenberg(self,node):\n",
    "#         energy = 0.\n",
    "#         for neighbor in graph[node]:\n",
    "#             energy += -self.J*self.graph.node[node]['state']*self.graph.node[neighbor]['state']\n",
    "#             energy += -self.mu*self.h*self.graph.node[node]['state']\n",
    "#         return 0\n",
    "    \n",
    "#     def hamiltonianNumberOp(self,node):\n",
    "#         return 0\n",
    "    "
   ]
  },
  {
   "cell_type": "code",
   "execution_count": 43,
   "metadata": {
    "collapsed": true
   },
   "outputs": [],
   "source": [
    "qutip.basis?"
   ]
  },
  {
   "cell_type": "code",
   "execution_count": 44,
   "metadata": {},
   "outputs": [
    {
     "data": {
      "text/latex": [
       "Quantum object: dims = [[2], [1]], shape = (2, 1), type = ket\\begin{equation*}\\left(\\begin{array}{*{11}c}1.0\\\\0.0\\\\\\end{array}\\right)\\end{equation*}"
      ],
      "text/plain": [
       "Quantum object: dims = [[2], [1]], shape = (2, 1), type = ket\n",
       "Qobj data =\n",
       "[[ 1.]\n",
       " [ 0.]]"
      ]
     },
     "execution_count": 44,
     "metadata": {},
     "output_type": "execute_result"
    }
   ],
   "source": [
    "basis(2)"
   ]
  },
  {
   "cell_type": "code",
   "execution_count": 45,
   "metadata": {},
   "outputs": [
    {
     "data": {
      "text/latex": [
       "Quantum object: dims = [[2], [1]], shape = (2, 1), type = ket\\begin{equation*}\\left(\\begin{array}{*{11}c}1.0\\\\0.0\\\\\\end{array}\\right)\\end{equation*}"
      ],
      "text/plain": [
       "Quantum object: dims = [[2], [1]], shape = (2, 1), type = ket\n",
       "Qobj data =\n",
       "[[ 1.]\n",
       " [ 0.]]"
      ]
     },
     "execution_count": 45,
     "metadata": {},
     "output_type": "execute_result"
    }
   ],
   "source": [
    "basis(2,0)"
   ]
  },
  {
   "cell_type": "code",
   "execution_count": 56,
   "metadata": {},
   "outputs": [
    {
     "data": {
      "text/plain": [
       "array([ 0.41139716,  0.27643556])"
      ]
     },
     "execution_count": 56,
     "metadata": {},
     "output_type": "execute_result"
    }
   ],
   "source": [
    "x = np.random.rand(2)\n",
    "x"
   ]
  },
  {
   "cell_type": "code",
   "execution_count": 57,
   "metadata": {},
   "outputs": [
    {
     "data": {
      "text/plain": [
       "(0.4113971596835897+0.27643555578673773j)"
      ]
     },
     "execution_count": 57,
     "metadata": {},
     "output_type": "execute_result"
    }
   ],
   "source": [
    "np.complex(*x)"
   ]
  },
  {
   "cell_type": "code",
   "execution_count": 61,
   "metadata": {},
   "outputs": [
    {
     "data": {
      "text/latex": [
       "Quantum object: dims = [[2], [1]], shape = (2, 1), type = ket\\begin{equation*}\\left(\\begin{array}{*{11}c}(-0.466-0.429j)\\\\(0.498-0.592j)\\\\\\end{array}\\right)\\end{equation*}"
      ],
      "text/plain": [
       "Quantum object: dims = [[2], [1]], shape = (2, 1), type = ket\n",
       "Qobj data =\n",
       "[[-0.46616392-0.42903079j]\n",
       " [ 0.49815588-0.59200043j]]"
      ]
     },
     "execution_count": 61,
     "metadata": {},
     "output_type": "execute_result"
    }
   ],
   "source": [
    "x = rand_ket(2)\n",
    "x"
   ]
  },
  {
   "cell_type": "code",
   "execution_count": 62,
   "metadata": {},
   "outputs": [
    {
     "data": {
      "text/plain": [
       "1.0"
      ]
     },
     "execution_count": 62,
     "metadata": {},
     "output_type": "execute_result"
    }
   ],
   "source": [
    "x.norm()"
   ]
  },
  {
   "cell_type": "code",
   "execution_count": 64,
   "metadata": {},
   "outputs": [
    {
     "data": {
      "text/plain": [
       "(Quantum object: dims = [[2], [1]], shape = (2, 1), type = ket\n",
       " Qobj data =\n",
       " [[-0.51678963-0.53045802j]\n",
       "  [-0.62540985+0.24577486j]],\n",
       " Quantum object: dims = [[2], [1]], shape = (2, 1), type = ket\n",
       " Qobj data =\n",
       " [[-0.03347514+0.72673211j]\n",
       "  [-0.58487564+0.35869254j]])"
      ]
     },
     "execution_count": 64,
     "metadata": {},
     "output_type": "execute_result"
    }
   ],
   "source": [
    "x = rand_ket(2)\n",
    "y = rand_ket(2)\n",
    "x,y"
   ]
  },
  {
   "cell_type": "code",
   "execution_count": 65,
   "metadata": {},
   "outputs": [
    {
     "data": {
      "text/plain": [
       "(0.9999999999999999, 1.0)"
      ]
     },
     "execution_count": 65,
     "metadata": {},
     "output_type": "execute_result"
    }
   ],
   "source": [
    "x.norm(),y.norm()"
   ]
  },
  {
   "cell_type": "code",
   "execution_count": null,
   "metadata": {
    "collapsed": true
   },
   "outputs": [],
   "source": []
  }
 ],
 "metadata": {
  "anaconda-cloud": {},
  "kernelspec": {
   "display_name": "Python 3",
   "language": "python",
   "name": "python3"
  },
  "language_info": {
   "codemirror_mode": {
    "name": "ipython",
    "version": 3
   },
   "file_extension": ".py",
   "mimetype": "text/x-python",
   "name": "python",
   "nbconvert_exporter": "python",
   "pygments_lexer": "ipython3",
   "version": "3.6.3"
  },
  "latex_envs": {
   "bibliofile": "biblio.bib",
   "cite_by": "apalike",
   "current_citInitial": 1,
   "eqLabelWithNumbers": true,
   "eqNumInitial": 0
  },
  "toc": {
   "nav_menu": {},
   "number_sections": true,
   "sideBar": false,
   "skip_h1_title": false,
   "toc_cell": true,
   "toc_position": {
    "height": "223px",
    "left": "913.3px",
    "right": "57.7px",
    "top": "120px",
    "width": "305px"
   },
   "toc_section_display": "block",
   "toc_window_display": true
  },
  "varInspector": {
   "cols": {
    "lenName": 16,
    "lenType": 16,
    "lenVar": 40
   },
   "kernels_config": {
    "python": {
     "delete_cmd_postfix": "",
     "delete_cmd_prefix": "del ",
     "library": "var_list.py",
     "varRefreshCmd": "print(var_dic_list())"
    },
    "r": {
     "delete_cmd_postfix": ") ",
     "delete_cmd_prefix": "rm(",
     "library": "var_list.r",
     "varRefreshCmd": "cat(var_dic_list()) "
    }
   },
   "types_to_exclude": [
    "module",
    "function",
    "builtin_function_or_method",
    "instance",
    "_Feature"
   ],
   "window_display": false
  }
 },
 "nbformat": 4,
 "nbformat_minor": 1
}
