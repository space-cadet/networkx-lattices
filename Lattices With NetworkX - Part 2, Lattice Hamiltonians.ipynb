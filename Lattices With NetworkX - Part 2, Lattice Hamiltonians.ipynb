{
 "cells": [
  {
   "cell_type": "markdown",
   "metadata": {
    "toc": "true"
   },
   "source": [
    " # Table of Contents\n",
    "<div class=\"toc\" style=\"margin-top: 1em;\"><ul class=\"toc-item\" id=\"toc-level0\"><li><span><a href=\"http://localhost:8888/notebooks/ipython-notebooks/research/NetworkX%20Lattices/Lattices%20With%20NetworkX%20-%20Part%202%2C%20Lattice%20Hamiltonians.ipynb#Lattice-Hamiltonians-with-QuTiP\" data-toc-modified-id=\"Lattice-Hamiltonians-with-QuTiP-1\"><span class=\"toc-item-num\">1&nbsp;&nbsp;</span>Lattice Hamiltonians with QuTiP</a></span><ul class=\"toc-item\"><li><span><a href=\"http://localhost:8888/notebooks/ipython-notebooks/research/NetworkX%20Lattices/Lattices%20With%20NetworkX%20-%20Part%202%2C%20Lattice%20Hamiltonians.ipynb#switch-Class-Definition\" data-toc-modified-id=\"switch-Class-Definition-1.1\"><span class=\"toc-item-num\">1.1&nbsp;&nbsp;</span><code>switch</code> Class Definition</a></span></li><li><span><a href=\"http://localhost:8888/notebooks/ipython-notebooks/research/NetworkX%20Lattices/Lattices%20With%20NetworkX%20-%20Part%202%2C%20Lattice%20Hamiltonians.ipynb#Hamiltonian-Class-Definition\" data-toc-modified-id=\"Hamiltonian-Class-Definition-1.2\"><span class=\"toc-item-num\">1.2&nbsp;&nbsp;</span><code>Hamiltonian</code> Class Definition</a></span></li><li><span><a href=\"http://localhost:8888/notebooks/ipython-notebooks/research/NetworkX%20Lattices/Lattices%20With%20NetworkX%20-%20Part%202%2C%20Lattice%20Hamiltonians.ipynb#SquareLattice-Class-Definition\" data-toc-modified-id=\"SquareLattice-Class-Definition-1.3\"><span class=\"toc-item-num\">1.3&nbsp;&nbsp;</span><code>SquareLattice</code> Class Definition</a></span></li><li><span><a href=\"http://localhost:8888/notebooks/ipython-notebooks/research/NetworkX%20Lattices/Lattices%20With%20NetworkX%20-%20Part%202%2C%20Lattice%20Hamiltonians.ipynb#Initializing-2d-Lattices\" data-toc-modified-id=\"Initializing-2d-Lattices-1.4\"><span class=\"toc-item-num\">1.4&nbsp;&nbsp;</span>Initializing 2d Lattices</a></span></li></ul></li></ul></div>"
   ]
  },
  {
   "cell_type": "markdown",
   "metadata": {},
   "source": [
    "# Lattice Hamiltonians with QuTiP"
   ]
  },
  {
   "cell_type": "code",
   "execution_count": null,
   "metadata": {
    "collapsed": true
   },
   "outputs": [],
   "source": [
    "import networkx as nx\n",
    "import numpy as np\n",
    "import matplotlib as matplotlib\n",
    "matplotlib.use('qt4agg')\n",
    "import matplotlib.pyplot as plt\n",
    "import random"
   ]
  },
  {
   "cell_type": "code",
   "execution_count": 3,
   "metadata": {},
   "outputs": [],
   "source": [
    "from qutip import *"
   ]
  },
  {
   "cell_type": "code",
   "execution_count": 4,
   "metadata": {
    "collapsed": true
   },
   "outputs": [],
   "source": [
    "%matplotlib inline"
   ]
  },
  {
   "cell_type": "markdown",
   "metadata": {},
   "source": [
    "## `switch` Class Definition\n",
    "\n",
    "Reference: [ActiveState Recipes](http://code.activestate.com/recipes/410692/)\n",
    "\n",
    "Example Usage:\n",
    "\n",
    "The following example is pretty much the exact use-case of a dictionary, but is included for its simplicity. Note that you can include statements in each suite.\n",
    "    \n",
    "```\n",
    "v = 'ten'\n",
    "for case in switch(v):\n",
    "    if case('one'):\n",
    "        print 1\n",
    "        break\n",
    "    if case('two'):\n",
    "        print 2\n",
    "        break\n",
    "    if case('ten'):\n",
    "        print 10\n",
    "        break\n",
    "    if case('eleven'):\n",
    "        print 11\n",
    "        break\n",
    "    if case(): # default, could also just omit condition or 'if True'\n",
    "        print \"something else!\"\n",
    "        # No need to break here, it'll stop anyway\n",
    "```"
   ]
  },
  {
   "cell_type": "code",
   "execution_count": 3,
   "metadata": {
    "collapsed": true
   },
   "outputs": [],
   "source": [
    "# This class provides the functionality we want. You only need to look at\n",
    "# this if you want to know how this works. It only needs to be defined\n",
    "# once, no need to muck around with its internals.\n",
    "class switch(object):\n",
    "    def __init__(self, value):\n",
    "        self.value = value\n",
    "        self.fall = False\n",
    "\n",
    "    def __iter__(self):\n",
    "        \"\"\"Return the match method once, then stop\"\"\"\n",
    "        yield self.match\n",
    "        raise StopIteration\n",
    "    \n",
    "    def match(self, *args):\n",
    "        \"\"\"Indicate whether or not to enter a case suite\"\"\"\n",
    "        if self.fall or not args:\n",
    "            return True\n",
    "        elif self.value in args: # changed for v1.5, see below\n",
    "            self.fall = True\n",
    "            return True\n",
    "        else:\n",
    "            return False"
   ]
  },
  {
   "cell_type": "markdown",
   "metadata": {},
   "source": [
    "## `Hamiltonian` Class Definition"
   ]
  },
  {
   "cell_type": "code",
   "execution_count": 4,
   "metadata": {
    "collapsed": true
   },
   "outputs": [],
   "source": [
    "class Hamiltonian():\n",
    "    '''Class which defines the hamiltonian acting on a given site of a lattice'''\n",
    "    \n",
    "    hamTypes = ['NumberOp', 'Ising', 'Heisenberg','Hubbard', 'SpinGlass']\n",
    "    \n",
    "    defaultVars = {'NumberOp': {'J':1},\n",
    "               'Ising': {'J': 1, 'mu': 0, 'extfield': 0},\n",
    "               'Heisenberg': {'J': 1, 'extfield': 0},\n",
    "               'Hubbard': {'J': 1, 'U': 0, 'mu': 1, 'extfield': 0}\n",
    "#                'SpinGlass': {'J_ij': [[]], 'mu': 0, 'extfield': 0 }\n",
    "              }\n",
    "    \n",
    "    hamiltonian = None\n",
    "    \n",
    "    hamType = None\n",
    "    \n",
    "    hamFunc = None\n",
    "    \n",
    "    hamVars = {}\n",
    "    \n",
    "    def __init__(self, hamType=None, hamVars=None):\n",
    "#        try:\n",
    "#            from qutip import *\n",
    "#        except:\n",
    "#            raise NameError('QuTiP is not installed')\n",
    "        \n",
    "        if hamType != None:\n",
    "            if hamType not in self.hamTypes:\n",
    "                from string import join\n",
    "                raise ValueError('hamType must be one of ' + join(self.hamTypes,', '))\n",
    "            else:\n",
    "                self.hamType = hamType\n",
    "                self.initHamiltonian(hamType,hamVars)\n",
    "                \n",
    "    def initHamiltonian(self,hamType,hamVars):\n",
    "        \n",
    "        self.hamFunc = getattr(self,'hamiltonian'+hamType)\n",
    "        \n",
    "        defvars = self.defaultVars.get(hamType)\n",
    "\n",
    "        if hamVars.keys()!=self.defaultVars[hamiltonian].keys():\n",
    "               raise ValueError('Hamiltonian variables for', hamiltonian, 'model, should be of form:'\\\n",
    "                                            , self.defaultVars[hamType])\n",
    "        else:\n",
    "            self.setHamiltonianVars(hamType,hamVars)\n",
    "            \n",
    "        return\n",
    "    \n",
    "    def setHamiltonianVars(self,hamType,hamVars):\n",
    "        for case in switch(hamType):\n",
    "            if case('Ising'):\n",
    "                if hamVars:\n",
    "                    self.J = hamVars['J']\n",
    "                    self.mu = hamVars['mu']\n",
    "                    self.h = hamVars['extfield']\n",
    "                else:\n",
    "                    self.J = 1\n",
    "                    self.mu = 0\n",
    "                    self.h = 0\n",
    "                break\n",
    "            \n",
    "            if case('Hubbard'):\n",
    "                if hamVars:\n",
    "                    self.J = hamVars['J']\n",
    "                    self.U = hamVars['U']\n",
    "                    self.mu = hamVars['mu']\n",
    "                    self.h = hamVars['extfield']\n",
    "                else:\n",
    "                    self.J = 1\n",
    "                    self.U = 0\n",
    "                    self.mu = 0\n",
    "                    self.h = 0\n",
    "                break\n",
    "                \n",
    "            if case('Heisenberg'):\n",
    "                if hamVars:\n",
    "                    self.J = hamVars['J']\n",
    "                    self.h = hamVars['extfield']\n",
    "                    self.mu = hamVars['mu']\n",
    "                else:\n",
    "                    self.J = 1\n",
    "                    self.h = 0\n",
    "                    self.mu = 0\n",
    "                break\n",
    "                \n",
    "#             if case('SpinGlass'):\n",
    "#                 if hamVars:\n",
    "#                     self.J_ij = hamVars['J_ij']\n",
    "#                     self.h = hamVars['extfield']\n",
    "#                     self.mu = hamVars['mu']\n",
    "#                 else:\n",
    "#                     self.J = 1\n",
    "#                     self.h = 0\n",
    "#                     self.mu = 0\n",
    "#                 break\n",
    "                \n",
    "            if case('NumberOp'):\n",
    "                break\n",
    "        \n",
    "    \n",
    "    def hamiltonianIsing(self,graph,node):\n",
    "        energy = 0.\n",
    "        for neighbor in graph[node]:\n",
    "            energy += -self.J*graph.node[node]['state']*graph.node[neighbor]['state']\n",
    "            energy += -self.mu*self.h*graph.node[node]['state']\n",
    "        return energy\n",
    "    \n",
    "#     def hamiltonianSpinGlass(self,node):\n",
    "#         energy = 0.\n",
    "#         for neighbor in self.graph[node]:\n",
    "#             energy += 0\n",
    "    \n",
    "    def hamiltonianHubbard(self,node):\n",
    "        energy = 0.\n",
    "#         for neighbor in graph[node]:\n",
    "#             energy += -self.J*\n",
    "        return 0\n",
    "    \n",
    "    def hamiltonianHeisenberg(self,node):\n",
    "        energy = 0.\n",
    "        for neighbor in graph[node]:\n",
    "            energy += -self.J*graph.node[node]['state']*graph.node[neighbor]['state']\n",
    "            energy += -self.mu*self.h*graph.node[node]['state']\n",
    "        return 0\n",
    "    \n",
    "    def hamiltonianNumberOp(self,node):\n",
    "        return 0\n",
    "    \n",
    "    \n",
    "            \n",
    "    @property\n",
    "    def hermitian(self):\n",
    "        return self._isHermitian\n",
    "    \n",
    "    @hermitian.setter\n",
    "    def hermitian(self, value):\n",
    "        if isinstance(value, bool):\n",
    "            self._isHermitian = value\n",
    "        else:\n",
    "            raise ValueError('hermitian must be a boolean data type')"
   ]
  },
  {
   "cell_type": "markdown",
   "metadata": {},
   "source": [
    "## `SquareLattice` Class Definition"
   ]
  },
  {
   "cell_type": "code",
   "execution_count": 5,
   "metadata": {},
   "outputs": [
    {
     "ename": "SyntaxError",
     "evalue": "invalid syntax (<ipython-input-5-289865249eaa>, line 44)",
     "output_type": "error",
     "traceback": [
      "\u001b[0;36m  File \u001b[0;32m\"<ipython-input-5-289865249eaa>\"\u001b[0;36m, line \u001b[0;32m44\u001b[0m\n\u001b[0;31m    energy = energy + self.ham.\u001b[0m\n\u001b[0m                               ^\u001b[0m\n\u001b[0;31mSyntaxError\u001b[0m\u001b[0;31m:\u001b[0m invalid syntax\n"
     ]
    }
   ],
   "source": [
    "class SquareLattice():\n",
    "    \n",
    "    hamiltonian = Hamiltonian()\n",
    "    \n",
    "    graph = nx.empty_graph(0)\n",
    "    size = 0\n",
    "    state = np.empty([]) # create empty array\n",
    "    color_map = {1:'r',-1:'b'}\n",
    "    node_color_dict = {} # dictionary whose keys are nodes and values are colors for each node\n",
    "    node_colors = []\n",
    "    pos_dict = {}\n",
    "    \n",
    "    use_default_vars = True\n",
    "    \n",
    "    scale_mult = 0\n",
    "    \n",
    "    def __init__(self,size=10,periodic=False,hamType=None,ham_vars=None):\n",
    "        self.size = size\n",
    "        self.graph = nx.grid_2d_graph(size,size,periodic=periodic)\n",
    "        self.state = np.zeros([size,size])\n",
    "        self.setRandomState()\n",
    "        \n",
    "        self.scale_mult = 10.0/self.size\n",
    "        \n",
    "        for node in self.graph:\n",
    "            self.pos_dict[node] = [self.scale_mult*node[0],self.scale_mult*node[1]] # set the node co-ordinates to be same as node indices\n",
    "        \n",
    "        if hamType:\n",
    "            self.hamiltonian = Hamiltonian(hamType,ham_vars)\n",
    "            \n",
    "    def setRandomState(self):\n",
    "        '''Iterates over all nodes in the graph. For each node, creates an attribute\n",
    "        labeled 'state', and assigns to it +1 or -1 at random  '''\n",
    "        values = [-1,1] # Possible states of a given site\n",
    "        for node in self.graph:\n",
    "            self.graph.node[node]['state'] = values[np.random.randint(2)]\n",
    "            self.node_color_dict[node] = self.color_map[self.graph.node[node]['state']]\n",
    "\n",
    "        self.node_colors = list(self.node_color_dict.values())\n",
    "    \n",
    "    def latticeEnergy(self):\n",
    "        energy = 0\n",
    "        for node in self.graph:\n",
    "            energy = energy + self.ham.\n",
    "        return energy\n",
    "    \n",
    "    def draw(self):\n",
    "        nx.draw(self.graph,pos=self.pos_dict,node_color=self.node_colors,node_size=50*self.scale_mult)\n",
    "                "
   ]
  },
  {
   "cell_type": "markdown",
   "metadata": {},
   "source": [
    "## Initializing 2d Lattices"
   ]
  },
  {
   "cell_type": "code",
   "execution_count": null,
   "metadata": {
    "collapsed": true
   },
   "outputs": [],
   "source": [
    "latt = SquareLattice(size=50,periodic=True,hamiltonian='SpinGlass',ham_vars={'mu': 0, 'extfield': 0, 'J_ij': 1})"
   ]
  },
  {
   "cell_type": "code",
   "execution_count": 209,
   "metadata": {},
   "outputs": [
    {
     "ename": "TypeError",
     "evalue": "unsupported operand type(s) for +: 'int' and 'NoneType'",
     "output_type": "error",
     "traceback": [
      "\u001b[0;31m---------------------------------------------------------------------------\u001b[0m",
      "\u001b[0;31mTypeError\u001b[0m                                 Traceback (most recent call last)",
      "\u001b[0;32m<ipython-input-209-9c8158a3b0bf>\u001b[0m in \u001b[0;36m<module>\u001b[0;34m()\u001b[0m\n\u001b[1;32m      1\u001b[0m \u001b[0mlatt\u001b[0m\u001b[0;34m.\u001b[0m\u001b[0msetRandomState\u001b[0m\u001b[0;34m(\u001b[0m\u001b[0;34m)\u001b[0m\u001b[0;34m\u001b[0m\u001b[0m\n\u001b[1;32m      2\u001b[0m \u001b[0;34m\u001b[0m\u001b[0m\n\u001b[0;32m----> 3\u001b[0;31m \u001b[0mprint\u001b[0m\u001b[0;34m(\u001b[0m\u001b[0mlatt\u001b[0m\u001b[0;34m.\u001b[0m\u001b[0mlatticeEnergy\u001b[0m\u001b[0;34m(\u001b[0m\u001b[0;34m)\u001b[0m\u001b[0;34m)\u001b[0m\u001b[0;34m\u001b[0m\u001b[0m\n\u001b[0m\u001b[1;32m      4\u001b[0m \u001b[0;34m\u001b[0m\u001b[0m\n\u001b[1;32m      5\u001b[0m \u001b[0mlatt\u001b[0m\u001b[0;34m.\u001b[0m\u001b[0mdraw\u001b[0m\u001b[0;34m(\u001b[0m\u001b[0;34m)\u001b[0m\u001b[0;34m\u001b[0m\u001b[0m\n",
      "\u001b[0;32m<ipython-input-206-0e8652b5a658>\u001b[0m in \u001b[0;36mlatticeEnergy\u001b[0;34m(self)\u001b[0m\n\u001b[1;32m     81\u001b[0m         \u001b[0menergy\u001b[0m \u001b[0;34m=\u001b[0m \u001b[0;36m0\u001b[0m\u001b[0;34m\u001b[0m\u001b[0m\n\u001b[1;32m     82\u001b[0m         \u001b[0;32mfor\u001b[0m \u001b[0mnode\u001b[0m \u001b[0;32min\u001b[0m \u001b[0mself\u001b[0m\u001b[0;34m.\u001b[0m\u001b[0mgraph\u001b[0m\u001b[0;34m:\u001b[0m\u001b[0;34m\u001b[0m\u001b[0m\n\u001b[0;32m---> 83\u001b[0;31m             \u001b[0menergy\u001b[0m \u001b[0;34m=\u001b[0m \u001b[0menergy\u001b[0m \u001b[0;34m+\u001b[0m \u001b[0mself\u001b[0m\u001b[0;34m.\u001b[0m\u001b[0mhamFunc\u001b[0m\u001b[0;34m(\u001b[0m\u001b[0mnode\u001b[0m\u001b[0;34m)\u001b[0m\u001b[0;34m\u001b[0m\u001b[0m\n\u001b[0m\u001b[1;32m     84\u001b[0m         \u001b[0;32mreturn\u001b[0m \u001b[0menergy\u001b[0m\u001b[0;34m\u001b[0m\u001b[0m\n\u001b[1;32m     85\u001b[0m \u001b[0;34m\u001b[0m\u001b[0m\n",
      "\u001b[0;31mTypeError\u001b[0m: unsupported operand type(s) for +: 'int' and 'NoneType'"
     ]
    }
   ],
   "source": [
    "latt.setRandomState()\n",
    "\n",
    "print(latt.latticeEnergy())\n",
    "\n",
    "latt.draw()"
   ]
  },
  {
   "cell_type": "code",
   "execution_count": 197,
   "metadata": {
    "collapsed": true
   },
   "outputs": [],
   "source": [
    "energies = []\n",
    "for i in range(500):\n",
    "    latt.setRandomState()\n",
    "    energies.append(latt.latticeEnergy())"
   ]
  },
  {
   "cell_type": "code",
   "execution_count": 201,
   "metadata": {},
   "outputs": [
    {
     "data": {
      "text/plain": [
       "(array([  1.,   0.,   0.,   3.,   1.,   2.,   5.,   3.,  10.,   9.,  12.,\n",
       "          4.,  24.,  26.,  18.,  29.,  32.,  15.,  33.,  37.,  30.,  39.,\n",
       "         17.,  20.,  22.,  16.,  19.,  14.,   8.,  11.,  10.,   8.,   8.,\n",
       "          4.,   3.,   1.,   2.,   3.,   0.,   1.]),\n",
       " array([-424. , -402.8, -381.6, -360.4, -339.2, -318. , -296.8, -275.6,\n",
       "        -254.4, -233.2, -212. , -190.8, -169.6, -148.4, -127.2, -106. ,\n",
       "         -84.8,  -63.6,  -42.4,  -21.2,    0. ,   21.2,   42.4,   63.6,\n",
       "          84.8,  106. ,  127.2,  148.4,  169.6,  190.8,  212. ,  233.2,\n",
       "         254.4,  275.6,  296.8,  318. ,  339.2,  360.4,  381.6,  402.8,\n",
       "         424. ]),\n",
       " <a list of 40 Patch objects>)"
      ]
     },
     "execution_count": 201,
     "metadata": {},
     "output_type": "execute_result"
    },
    {
     "data": {
      "image/png": "[encoded data removed]",
      "text/plain": [
       "<matplotlib.figure.Figure at 0x10bb064a8>"
      ]
     },
     "metadata": {},
     "output_type": "display_data"
    }
   ],
   "source": [
    "plt.hist(energies,bins=40)"
   ]
  },
  {
   "cell_type": "code",
   "execution_count": 202,
   "metadata": {},
   "outputs": [
    {
     "name": "stdout",
     "output_type": "stream",
     "text": [
      "-424.0 \t 1\n",
      "-360.0 \t 1\n",
      "-344.0 \t 2\n",
      "-328.0 \t 1\n",
      "-312.0 \t 1\n",
      "-304.0 \t 1\n",
      "-296.0 \t 2\n",
      "-288.0 \t 2\n",
      "-280.0 \t 1\n",
      "-272.0 \t 1\n",
      "-256.0 \t 2\n",
      "-248.0 \t 8\n",
      "-240.0 \t 2\n",
      "-232.0 \t 2\n",
      "-224.0 \t 6\n",
      "-216.0 \t 1\n",
      "-208.0 \t 1\n",
      "-200.0 \t 2\n",
      "-192.0 \t 9\n",
      "-184.0 \t 1\n",
      "-176.0 \t 3\n",
      "-168.0 \t 6\n",
      "-160.0 \t 8\n",
      "-152.0 \t 10\n",
      "-144.0 \t 8\n",
      "-136.0 \t 10\n",
      "-128.0 \t 8\n",
      "-120.0 \t 5\n",
      "-112.0 \t 13\n",
      "-104.0 \t 10\n",
      "-96.0 \t 8\n",
      "-88.0 \t 11\n",
      "-80.0 \t 9\n",
      "-72.0 \t 13\n",
      "-64.0 \t 10\n",
      "-56.0 \t 5\n",
      "-48.0 \t 10\n",
      "-40.0 \t 9\n",
      "-32.0 \t 12\n",
      "-24.0 \t 12\n",
      "-16.0 \t 18\n",
      "-8.0 \t 19\n",
      "0.0 \t 13\n",
      "8.0 \t 8\n",
      "16.0 \t 9\n",
      "24.0 \t 14\n",
      "32.0 \t 17\n",
      "40.0 \t 8\n",
      "48.0 \t 8\n",
      "56.0 \t 9\n",
      "64.0 \t 4\n",
      "72.0 \t 4\n",
      "80.0 \t 12\n",
      "88.0 \t 5\n",
      "96.0 \t 9\n",
      "104.0 \t 8\n",
      "112.0 \t 10\n",
      "120.0 \t 6\n",
      "128.0 \t 7\n",
      "136.0 \t 7\n",
      "144.0 \t 5\n",
      "152.0 \t 3\n",
      "160.0 \t 6\n",
      "168.0 \t 5\n",
      "176.0 \t 5\n",
      "184.0 \t 3\n",
      "192.0 \t 5\n",
      "200.0 \t 3\n",
      "208.0 \t 3\n",
      "216.0 \t 1\n",
      "224.0 \t 6\n",
      "232.0 \t 3\n",
      "240.0 \t 4\n",
      "248.0 \t 4\n",
      "256.0 \t 2\n",
      "264.0 \t 3\n",
      "272.0 \t 3\n",
      "280.0 \t 2\n",
      "288.0 \t 2\n",
      "304.0 \t 1\n",
      "312.0 \t 2\n",
      "320.0 \t 1\n",
      "344.0 \t 1\n",
      "352.0 \t 1\n",
      "368.0 \t 2\n",
      "376.0 \t 1\n",
      "424.0 \t 1\n"
     ]
    }
   ],
   "source": [
    "energy_set = set(energies)\n",
    "for e in sorted(energy_set):\n",
    "    print(e,'\\t',energies.count(e))"
   ]
  },
  {
   "cell_type": "code",
   "execution_count": 182,
   "metadata": {
    "collapsed": true
   },
   "outputs": [],
   "source": [
    "print?"
   ]
  },
  {
   "cell_type": "code",
   "execution_count": 26,
   "metadata": {},
   "outputs": [
    {
     "data": {
      "text/plain": [
       "{'J': 1, 'extfield': 0, 'mu': 0}"
      ]
     },
     "execution_count": 26,
     "metadata": {},
     "output_type": "execute_result"
    }
   ],
   "source": [
    "latt.hamiltonianVars"
   ]
  },
  {
   "cell_type": "code",
   "execution_count": 13,
   "metadata": {},
   "outputs": [
    {
     "data": {
      "text/plain": [
       "{'i': 1, 'j': 2}"
      ]
     },
     "execution_count": 13,
     "metadata": {},
     "output_type": "execute_result"
    }
   ],
   "source": [
    "x = {'i':1,'j':2}\n",
    "x"
   ]
  },
  {
   "cell_type": "code",
   "execution_count": 14,
   "metadata": {},
   "outputs": [
    {
     "data": {
      "text/plain": [
       "dict_values([1, 2])"
      ]
     },
     "execution_count": 14,
     "metadata": {},
     "output_type": "execute_result"
    }
   ],
   "source": [
    "x.values()"
   ]
  },
  {
   "cell_type": "code",
   "execution_count": 27,
   "metadata": {
    "collapsed": true
   },
   "outputs": [],
   "source": [
    "x.get?"
   ]
  },
  {
   "cell_type": "code",
   "execution_count": 29,
   "metadata": {},
   "outputs": [
    {
     "data": {
      "text/plain": [
       "1"
      ]
     },
     "execution_count": 29,
     "metadata": {},
     "output_type": "execute_result"
    }
   ],
   "source": [
    "x.get('i')"
   ]
  },
  {
   "cell_type": "code",
   "execution_count": 31,
   "metadata": {},
   "outputs": [
    {
     "data": {
      "text/plain": [
       "{'i', 'j'}"
      ]
     },
     "execution_count": 31,
     "metadata": {},
     "output_type": "execute_result"
    }
   ],
   "source": [
    "set(x.keys())"
   ]
  },
  {
   "cell_type": "code",
   "execution_count": 36,
   "metadata": {},
   "outputs": [
    {
     "data": {
      "text/plain": [
       "{'i': 2, 'j': 1}"
      ]
     },
     "execution_count": 36,
     "metadata": {},
     "output_type": "execute_result"
    }
   ],
   "source": [
    "y = {'j':1,'i':2}\n",
    "y"
   ]
  },
  {
   "cell_type": "code",
   "execution_count": 37,
   "metadata": {},
   "outputs": [
    {
     "data": {
      "text/plain": [
       "set()"
      ]
     },
     "execution_count": 37,
     "metadata": {},
     "output_type": "execute_result"
    }
   ],
   "source": [
    "set(x.keys()) ^ set(y.keys())"
   ]
  },
  {
   "cell_type": "code",
   "execution_count": 68,
   "metadata": {},
   "outputs": [
    {
     "data": {
      "text/plain": [
       "True"
      ]
     },
     "execution_count": 68,
     "metadata": {},
     "output_type": "execute_result"
    }
   ],
   "source": [
    "x.keys() == y.keys()"
   ]
  },
  {
   "cell_type": "code",
   "execution_count": 61,
   "metadata": {
    "collapsed": true
   },
   "outputs": [],
   "source": [
    "nx.grid_2d_graph?"
   ]
  },
  {
   "cell_type": "code",
   "execution_count": null,
   "metadata": {
    "collapsed": true
   },
   "outputs": [],
   "source": []
  }
 ],
 "metadata": {
  "anaconda-cloud": {},
  "kernelspec": {
   "display_name": "Python [default]",
   "language": "python",
   "name": "python3"
  },
  "language_info": {
   "codemirror_mode": {
    "name": "ipython",
    "version": 3
   },
   "file_extension": ".py",
   "mimetype": "text/x-python",
   "name": "python",
   "nbconvert_exporter": "python",
   "pygments_lexer": "ipython3",
   "version": "3.5.4"
  },
  "latex_envs": {
   "bibliofile": "biblio.bib",
   "cite_by": "apalike",
   "current_citInitial": 1,
   "eqLabelWithNumbers": true,
   "eqNumInitial": 0
  },
  "toc": {
   "nav_menu": {},
   "number_sections": true,
   "sideBar": false,
   "skip_h1_title": false,
   "toc_cell": true,
   "toc_position": {
    "height": "269px",
    "left": "987.617px",
    "right": "32.3833px",
    "top": "120px",
    "width": "256px"
   },
   "toc_section_display": "block",
   "toc_window_display": true
  }
 },
 "nbformat": 4,
 "nbformat_minor": 1
}
