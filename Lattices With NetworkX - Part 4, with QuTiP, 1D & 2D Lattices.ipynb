{
 "cells": [
  {
   "cell_type": "markdown",
   "metadata": {
    "toc": "true"
   },
   "source": [
    "<h1>Table of Contents<span class=\"tocSkip\"></span></h1>\n",
    "<div class=\"toc\" style=\"margin-top: 1em;\"><ul class=\"toc-item\"><li><span><a href=\"#QuTiP,-1D-&amp;-2D-Lattices\" data-toc-modified-id=\"QuTiP,-1D-&amp;-2D-Lattices-1\"><span class=\"toc-item-num\">1&nbsp;&nbsp;</span>QuTiP, 1D &amp; 2D Lattices</a></span><ul class=\"toc-item\"><li><span><a href=\"#switch-Class-Definition\" data-toc-modified-id=\"switch-Class-Definition-1.1\"><span class=\"toc-item-num\">1.1&nbsp;&nbsp;</span><code>switch</code> Class Definition</a></span></li><li><span><a href=\"#qutipLattice-Class-Definition\" data-toc-modified-id=\"qutipLattice-Class-Definition-1.2\"><span class=\"toc-item-num\">1.2&nbsp;&nbsp;</span><code>qutipLattice</code> Class Definition</a></span><ul class=\"toc-item\"><li><span><a href=\"#qutipHamiltonian-Class-Definition\" data-toc-modified-id=\"qutipHamiltonian-Class-Definition-1.2.1\"><span class=\"toc-item-num\">1.2.1&nbsp;&nbsp;</span><code>qutipHamiltonian</code> Class Definition</a></span></li></ul></li></ul></li></ul></div>"
   ]
  },
  {
   "cell_type": "markdown",
   "metadata": {},
   "source": [
    "# QuTiP, 1D & 2D Lattices"
   ]
  },
  {
   "cell_type": "code",
   "execution_count": 2,
   "metadata": {
    "collapsed": true
   },
   "outputs": [],
   "source": [
    "import networkx as nx\n",
    "import numpy as np\n",
    "import matplotlib as mp\n",
    "import matplotlib.pyplot as plt"
   ]
  },
  {
   "cell_type": "code",
   "execution_count": 3,
   "metadata": {
    "collapsed": true
   },
   "outputs": [],
   "source": [
    "%matplotlib inline"
   ]
  },
  {
   "cell_type": "markdown",
   "metadata": {},
   "source": [
    "## `switch` Class Definition\n",
    "\n",
    "Reference: [ActiveState Recipes](http://code.activestate.com/recipes/410692/)\n",
    "\n",
    "Example Usage:\n",
    "\n",
    "The following example is pretty much the exact use-case of a dictionary, but is included for its simplicity. Note that you can include statements in each suite.\n",
    "    \n",
    "```\n",
    "v = 'ten'\n",
    "for case in switch(v):\n",
    "    if case('one'):\n",
    "        print 1\n",
    "        break\n",
    "    if case('two'):\n",
    "        print 2\n",
    "        break\n",
    "    if case('ten'):\n",
    "        print 10\n",
    "        break\n",
    "    if case('eleven'):\n",
    "        print 11\n",
    "        break\n",
    "    if case(): # default, could also just omit condition or 'if True'\n",
    "        print \"something else!\"\n",
    "        # No need to break here, it'll stop anyway\n",
    "```"
   ]
  },
  {
   "cell_type": "code",
   "execution_count": 4,
   "metadata": {
    "collapsed": true
   },
   "outputs": [],
   "source": [
    "# This class provides the functionality we want. You only need to look at\n",
    "# this if you want to know how this works. It only needs to be defined\n",
    "# once, no need to muck around with its internals.\n",
    "class switch(object):\n",
    "    def __init__(self, value):\n",
    "        self.value = value\n",
    "        self.fall = False\n",
    "\n",
    "    def __iter__(self):\n",
    "        \"\"\"Return the match method once, then stop\"\"\"\n",
    "        yield self.match\n",
    "        raise StopIteration\n",
    "    \n",
    "    def match(self, *args):\n",
    "        \"\"\"Indicate whether or not to enter a case suite\"\"\"\n",
    "        if self.fall or not args:\n",
    "            return True\n",
    "        elif self.value in args: # changed for v1.5, see below\n",
    "            self.fall = True\n",
    "            return True\n",
    "        else:\n",
    "            return False"
   ]
  },
  {
   "cell_type": "code",
   "execution_count": 5,
   "metadata": {
    "collapsed": true
   },
   "outputs": [],
   "source": [
    "from qutip import *"
   ]
  },
  {
   "cell_type": "code",
   "execution_count": 6,
   "metadata": {
    "collapsed": true
   },
   "outputs": [],
   "source": [
    "class hashQobj(Qobj):\n",
    "    \n",
    "    def __hash__(self):\n",
    "        return hash(repr(self))"
   ]
  },
  {
   "cell_type": "code",
   "execution_count": 7,
   "metadata": {},
   "outputs": [
    {
     "data": {
      "image/png": "[encoded data removed]",
      "text/plain": [
       "<matplotlib.figure.Figure at 0x10c1c7208>"
      ]
     },
     "metadata": {},
     "output_type": "display_data"
    }
   ],
   "source": [
    "g = nx.grid_graph([2])\n",
    "nx.draw(g)"
   ]
  },
  {
   "cell_type": "code",
   "execution_count": 8,
   "metadata": {
    "collapsed": true
   },
   "outputs": [],
   "source": [
    "pos_dict = {}"
   ]
  },
  {
   "cell_type": "code",
   "execution_count": 12,
   "metadata": {},
   "outputs": [
    {
     "name": "stdout",
     "output_type": "stream",
     "text": [
      "0\n",
      "1\n"
     ]
    }
   ],
   "source": [
    "i = 0\n",
    "for node in g:\n",
    "    print(node)\n",
    "    pos_dict[node] = [i,0]\n",
    "    i += 1"
   ]
  },
  {
   "cell_type": "code",
   "execution_count": 13,
   "metadata": {},
   "outputs": [
    {
     "data": {
      "text/plain": [
       "{0: [0, 0], 1: [1, 0]}"
      ]
     },
     "execution_count": 13,
     "metadata": {},
     "output_type": "execute_result"
    }
   ],
   "source": [
    "pos_dict"
   ]
  },
  {
   "cell_type": "code",
   "execution_count": 14,
   "metadata": {},
   "outputs": [
    {
     "data": {
      "image/png": "[encoded data removed]",
      "text/plain": [
       "<matplotlib.figure.Figure at 0x10814dfd0>"
      ]
     },
     "metadata": {},
     "output_type": "display_data"
    }
   ],
   "source": [
    "nx.draw(g,pos_dict)"
   ]
  },
  {
   "cell_type": "markdown",
   "metadata": {},
   "source": [
    "## `qutipLattice` Class Definition"
   ]
  },
  {
   "cell_type": "code",
   "execution_count": 15,
   "metadata": {
    "collapsed": true
   },
   "outputs": [],
   "source": [
    "class qutipLattice():\n",
    "    \n",
    "    hamiltonian = None\n",
    "    \n",
    "    hamOp = Qobj()\n",
    "    \n",
    "    graph = nx.empty_graph(0)\n",
    "#     size = 10\n",
    "    state_dims = 2\n",
    "    state = np.empty([]) # create empty array\n",
    "    colors = ['r','b','g','c','m','y','k','w']\n",
    "    color_map = {}\n",
    "#     upspin = hashQobj(basis(2,0))\n",
    "#     dnspin = hashQobj(basis(2,1))\n",
    "#     color_map = {upspin:'r', dnspin :'b'}\n",
    "    state_values = []    # elements are hashQobj objects which are all possible states of a node allowed for particular model\n",
    "    node_color_dict = {} # dictionary whose keys are nodes and values are colors for each node\n",
    "    node_colors = []\n",
    "    pos_dict = {}\n",
    "    \n",
    "    lattice_dims = [10]      # by default lattice dimension is 1d with 10 sites,\n",
    "                             # in general will be list [x,y,z,...], indicating\n",
    "                             # size of lattice along each dimension\n",
    "    dimension = 1                 # dimensionality of lattice, by default 1d\n",
    "    \n",
    "    use_default_vars = True\n",
    "    \n",
    "    scale_mult = []\n",
    "    \n",
    "    def __init__(self,lattice_dims=[10],periodic=False,hamType=None,hamVars=None):\n",
    "        \n",
    "        if isinstance(lattice_dims,list) and len(lattice_dims)>0 and all(isinstance(i,int) for i in lattice_dims):\n",
    "            self.lattice_dims = lattice_dims\n",
    "            self.dimension = len(lattice_dims)\n",
    "        else:\n",
    "            raise ValueError('lattice_dim should be non-empty list of positive integers')\n",
    "        \n",
    "#         self.size = size\n",
    "        \n",
    "#         self.graph = nx.grid_2d_graph(size,size,periodic=periodic)\n",
    "\n",
    "        self.graph = nx.grid_graph(self.lattice_dims,periodic=periodic)\n",
    "        \n",
    "        for i in self.lattice_dims:\n",
    "            self.scale_mult.append(10.0/i)\n",
    "        \n",
    "        if self.dimension == 1:\n",
    "            for node in self.graph:\n",
    "                self.pos_dict[node] = [self.scale_mult[0]*node,0]\n",
    "        else:\n",
    "            print(\"Dimension of Lattice: \", self.dimension)\n",
    "            for node in self.graph:\n",
    "                self.pos_dict[node] = [self.scale_mult[i]*node[i] for i in range(self.dimension)]\n",
    "                # set the node co-ordinates to be same as node indices\n",
    "\n",
    "        \n",
    "        if hamType:\n",
    "            self.hamiltonian = qutipHamiltonian(hamType,self.graph,hamVars)\n",
    "            self.hamOp = self.hamiltonian.hamOp\n",
    "            self.state_dims = self.hamiltonian.state_dims\n",
    "            self.state_values = [hashQobj(basis(self.state_dims,i)) for i in range(self.state_dims)] # Possible states of a given site\n",
    "            print(self.state_values)\n",
    "            for i in range(self.state_dims):\n",
    "                self.color_map[self.state_values[i]] = self.colors[i]\n",
    "            self.setRandomState()\n",
    "    \n",
    "    def setRandomState(self):\n",
    "        '''Iterates over all nodes in the graph. For each node, creates an attribute\n",
    "        labeled 'state', and assigns to it at random QuTiP objects returned by basis(2,0) or basis(2,1)\n",
    "        corresponding to spin up or spin down.'''\n",
    "\n",
    "        for node in self.graph:\n",
    "            self.graph.node[node]['state'] = self.state_values[np.random.randint(self.state_dims)]\n",
    "            self.node_color_dict[node] = self.color_map[self.graph.node[node]['state']]\n",
    "\n",
    "        self.node_colors = list(self.node_color_dict.values())\n",
    "        \n",
    "        return\n",
    "\n",
    "    \n",
    "    def nearestEnergy(self,node):\n",
    "        energy = 0.\n",
    "        for neighbor in self.graph[node]:\n",
    "            tempstate = tensor(self.graph.node[node]['state'],self.graph.node[neighbor]['state'])\n",
    "            energy += expect(self.hamOp,tempstate)\n",
    "        return energy\n",
    "    \n",
    "    def nextNearestEnergy(self,node):\n",
    "        energy = 0.\n",
    "        for nearest in self.graph[node]:\n",
    "            for nextnearest in self.graph[nearest]:\n",
    "                if nextnearest!=node:\n",
    "                    tempstate = tensor(self.graph.node[node]['state'],self.graph.node[nextnearest]['state'])\n",
    "                    energy += expect(self.hamOp,tempstate)\n",
    "        return energy\n",
    "    \n",
    "    def latticeEnergy(self):\n",
    "        energy = 0\n",
    "        for node in self.graph:\n",
    "            energy = energy + self.nearestEnergy(node)\n",
    "        return energy\n",
    "    \n",
    "    def draw(self):\n",
    "        nx.draw(self.graph,pos=self.pos_dict,node_color=self.node_colors)\n",
    "                "
   ]
  },
  {
   "cell_type": "markdown",
   "metadata": {},
   "source": [
    "### `qutipHamiltonian` Class Definition"
   ]
  },
  {
   "cell_type": "code",
   "execution_count": 35,
   "metadata": {
    "code_folding": [
     157
    ],
    "collapsed": true
   },
   "outputs": [],
   "source": [
    "class qutipHamiltonian():\n",
    "    '''Class which defines the hamiltonian acting on a given site of a lattice'''\n",
    "    \n",
    "    hamTypes = ['NumberOp', 'Ising', 'Heisenberg','Hubbard', 'AKLT', 'SpinGlass']\n",
    "    \n",
    "    defaultVars = {'NumberOp':   {'J':1, 'dims': 2},\n",
    "                   'Ising':      {'J': 1, 'mu': 0, 'extfield': 0, 'spin': 0.5},\n",
    "                   'Heisenberg': {'J': 1, 'mu': 0, 'extfield': 0, 'spin': 0.5, 'dims': 3},\n",
    "                   'Hubbard':    {'J': 1, 'U': 0, 'mu': 1, 'spin': 0.5, 'extfield': 0},\n",
    "                   'SpinGlass':  {'J_ij': [[]], 'mu': 0, 'spin': 0.5, 'extfield': 0 },\n",
    "                   'AKLT':       {'J': 1, 'spin': 1, 'dims': 3}\n",
    "              }             # default values of Hamiltonian parameters\n",
    "    \n",
    "    hamType = None          # type of Hamiltonian: Ising, Heisenberg, Hubbard etc.\n",
    "    \n",
    "    hamOp = Qobj()          # single-site Hamiltonian operator\n",
    "    \n",
    "    hamVars = {}            # parameters necessary for defining Hamiltonian, coupling strengths, etc.\n",
    "    \n",
    "    graph = None            # graph on which Hamiltonian is defined.\n",
    "    \n",
    "    state_dims = 2                # dimension of single particle Hilbert space.\n",
    "    \n",
    "    latticeDimension = 2    # dimension of lattice on which Hamiltonian is defined.\n",
    "\n",
    "    latticeSize = (5,5)     # tuple containing number of sites in lattice, should match latticeDimension.\n",
    "    \n",
    "    def __init__(self, hamType, graph=None, hamVars=None):\n",
    "        \n",
    "        if hamType != None:\n",
    "            if hamType not in self.hamTypes:\n",
    "                raise ValueError('hamType must be one of ',self.hamTypes)\n",
    "            else:\n",
    "                self.hamType = hamType\n",
    "                self.initHamiltonian(graph,hamType,hamVars)\n",
    "                \n",
    "    def initHamiltonian(self,graph,hamType,hamVars):\n",
    "        \n",
    "        if graph!=None:\n",
    "            self.graph = graph\n",
    "        else:\n",
    "            print('Lattice is not defined.')\n",
    "        \n",
    "        defVars = self.defaultVars.get(hamType)\n",
    "        \n",
    "        print(defVars)\n",
    "        \n",
    "        if hamVars:\n",
    "            if set(hamVars.keys()).issubset(set(self.defVars.keys())):\n",
    "                self.setHamiltonianVars(hamType,hamVars)\n",
    "                self.setHamiltonianOp(hamType)\n",
    "            else:\n",
    "                raise ValueError('Hamiltonian variables for', self.hamType, 'model, should subset of:'\\\n",
    "                                            ,defVars)\n",
    "        else:\n",
    "            print('Hamiltonian parameters not specified. Using default values')\n",
    "            self.setHamiltonianVars(hamType,defVars)\n",
    "            self.setHamiltonianOp(hamType)\n",
    "            \n",
    "        return\n",
    "    \n",
    "    def setHamiltonianVars(self,hamType,hamVars):\n",
    "\n",
    "        self.hamVars = self.defaultVars.get(hamType)\n",
    "        for k in hamVars.keys():\n",
    "            self.hamVars[k] = hamVars[k]    \n",
    "\n",
    "        for case in switch(hamType):\n",
    "            if case('Ising'):\n",
    "                print('Ising')\n",
    "                self.J = self.hamVars['J']\n",
    "                self.mu = self.hamVars['mu']\n",
    "                self.h = self.hamVars['extfield']\n",
    "                break\n",
    "\n",
    "            if case('Hubbard'):\n",
    "                print('Hubbard')\n",
    "                self.J = self.hamVars['J']\n",
    "                self.mu = self.hamVars['mu']\n",
    "                self.h = self.hamVars['extfield']\n",
    "                self.U = self.hamVars['U']\n",
    "                break\n",
    "                \n",
    "            if case('Heisenberg'):\n",
    "                print('Heisenberg')\n",
    "                self.J = self.hamVars['J']\n",
    "                self.h = self.hamVars['extfield']\n",
    "                self.mu = self.hamVars['mu']\n",
    "                self.state_dims = 3     # Heisenberg spin-chain has spin 1 particles\n",
    "                break\n",
    "            \n",
    "            if case('AKLT'):\n",
    "                print('AKLT')\n",
    "                self.J = self.hamVars['J']\n",
    "                \n",
    "#             if case('SpinGlass'):\n",
    "#                 if hamVars:\n",
    "#                     self.J_ij = hamVars['J_ij']\n",
    "#                     self.h = hamVars['extfield']\n",
    "#                     self.mu = hamVars['mu']\n",
    "#                 else:\n",
    "#                     self.J = 1\n",
    "#                     self.h = 0\n",
    "#                     self.mu = 0\n",
    "#                 break\n",
    "                \n",
    "            if case('NumberOp'):\n",
    "                break\n",
    "            \n",
    "            return\n",
    "                \n",
    "    def setHamiltonianOp(self,hamType):\n",
    "        if self.hamVars.get('dims'):\n",
    "            self.state_dims = self.hamVars['dims']\n",
    "        else:\n",
    "            self.state_dims = 2\n",
    "\n",
    "        dim = self.state_dims\n",
    "        j = (dim-1)/2.0\n",
    "        \n",
    "        sx = jmat(j,'x')\n",
    "        sy = jmat(j,'y')\n",
    "        sz = jmat(j,'z')\n",
    "        sp = jmat(j,'+')\n",
    "        sm = jmat(j,'-')\n",
    "        identity = qeye(dim)\n",
    "        \n",
    "        \n",
    "        for case in switch(hamType):\n",
    "            if case('Ising'):\n",
    "                self.hamOp = -self.J * tensor(sz,sz) \\\n",
    "                                            - self.mu * self.h * tensor(sz,identity)\n",
    "                break\n",
    "            \n",
    "            if case('AKLT'):\n",
    "                self.hamOp = self.J * (tensor(sx,sx) + tensor(sy,sy) + tensor(sz,sz))\n",
    "                self.hamOp += self.J/3.0 * (tensor(sx,sx) + tensor(sy,sy) + tensor(sz,sz))**2\n",
    "            \n",
    "            if case('Hubbard'):\n",
    "                break\n",
    "                \n",
    "            if case('Heisenberg'):\n",
    "                self.hamOp = -0.5*self.J * (tensor(sp,sm) + tensor(sm,sp))\n",
    "                self.hamOp += -self.J * tensor(sz,sz)\n",
    "                break\n",
    "                \n",
    "#             if case('SpinGlass'):\n",
    "#                 if hamVars:\n",
    "#                     self.J_ij = hamVars['J_ij']\n",
    "#                     self.h = hamVars['extfield']\n",
    "#                     self.mu = hamVars['mu']\n",
    "#                 else:\n",
    "#                     self.J = 1\n",
    "#                     self.h = 0\n",
    "#                     self.mu = 0\n",
    "#                 break\n",
    "                \n",
    "            if case('NumberOp'):\n",
    "                break        \n",
    "            \n",
    "            return\n",
    "    \n",
    "    @property\n",
    "    def hermitian(self):\n",
    "        return self._isHermitian\n",
    "    \n",
    "    @hermitian.setter\n",
    "    def hermitian(self, value):\n",
    "        if isinstance(value, bool):\n",
    "            self._isHermitian = value\n",
    "        else:\n",
    "            raise ValueError('hermitian must be a boolean data type')"
   ]
  },
  {
   "cell_type": "code",
   "execution_count": 17,
   "metadata": {},
   "outputs": [
    {
     "data": {
      "text/latex": [
       "Quantum object: dims = [[2], [2]], shape = [2, 2], type = oper, isherm = True\\begin{equation*}\\left(\\begin{array}{*{11}c}0.500 & 0.0\\\\0.0 & -0.500\\\\\\end{array}\\right)\\end{equation*}"
      ],
      "text/plain": [
       "Quantum object: dims = [[2], [2]], shape = [2, 2], type = oper, isherm = True\n",
       "Qobj data =\n",
       "[[ 0.5  0. ]\n",
       " [ 0.  -0.5]]"
      ]
     },
     "execution_count": 17,
     "metadata": {},
     "output_type": "execute_result"
    }
   ],
   "source": [
    "jmat(0.5,'z')"
   ]
  },
  {
   "cell_type": "code",
   "execution_count": 36,
   "metadata": {},
   "outputs": [
    {
     "name": "stdout",
     "output_type": "stream",
     "text": [
      "{'spin': 1, 'dims': 3, 'J': 1}\n",
      "Hamiltonian parameters not specified. Using default values\n",
      "AKLT\n",
      "[Quantum object: dims = [[3], [1]], shape = [3, 1], type = ket\n",
      "Qobj data =\n",
      "[[ 1.]\n",
      " [ 0.]\n",
      " [ 0.]], Quantum object: dims = [[3], [1]], shape = [3, 1], type = ket\n",
      "Qobj data =\n",
      "[[ 0.]\n",
      " [ 1.]\n",
      " [ 0.]], Quantum object: dims = [[3], [1]], shape = [3, 1], type = ket\n",
      "Qobj data =\n",
      "[[ 0.]\n",
      " [ 0.]\n",
      " [ 1.]]]\n"
     ]
    }
   ],
   "source": [
    "latt = qutipLattice(lattice_dims=[1],hamType='AKLT',periodic=False)"
   ]
  },
  {
   "cell_type": "code",
   "execution_count": 37,
   "metadata": {},
   "outputs": [
    {
     "data": {
      "text/latex": [
       "Quantum object: dims = [[3, 3], [3, 3]], shape = [9, 9], type = oper, isherm = True\\begin{equation*}\\left(\\begin{array}{*{11}c}1.333 & 0.0 & 0.0 & 0.0 & 0.0 & 0.0 & 0.0 & 0.0 & 0.0\\\\0.0 & 0.333 & 0.0 & 1.0 & 0.0 & 0.0 & 0.0 & 0.0 & 0.0\\\\0.0 & 0.0 & -0.333 & 0.0 & 0.667 & 0.0 & 0.333 & 0.0 & 0.0\\\\0.0 & 1.0 & 0.0 & 0.333 & 0.0 & 0.0 & 0.0 & 0.0 & 0.0\\\\0.0 & 0.0 & 0.667 & 0.0 & 0.667 & 0.0 & 0.667 & 0.0 & 0.0\\\\0.0 & 0.0 & 0.0 & 0.0 & 0.0 & 0.333 & 0.0 & 1.0 & 0.0\\\\0.0 & 0.0 & 0.333 & 0.0 & 0.667 & 0.0 & -0.333 & 0.0 & 0.0\\\\0.0 & 0.0 & 0.0 & 0.0 & 0.0 & 1.0 & 0.0 & 0.333 & 0.0\\\\0.0 & 0.0 & 0.0 & 0.0 & 0.0 & 0.0 & 0.0 & 0.0 & 1.333\\\\\\end{array}\\right)\\end{equation*}"
      ],
      "text/plain": [
       "Quantum object: dims = [[3, 3], [3, 3]], shape = [9, 9], type = oper, isherm = True\n",
       "Qobj data =\n",
       "[[ 1.33333333  0.          0.          0.          0.          0.          0.\n",
       "   0.          0.        ]\n",
       " [ 0.          0.33333333  0.          1.          0.          0.          0.\n",
       "   0.          0.        ]\n",
       " [ 0.          0.         -0.33333333  0.          0.66666667  0.\n",
       "   0.33333333  0.          0.        ]\n",
       " [ 0.          1.          0.          0.33333333  0.          0.          0.\n",
       "   0.          0.        ]\n",
       " [ 0.          0.          0.66666667  0.          0.66666667  0.\n",
       "   0.66666667  0.          0.        ]\n",
       " [ 0.          0.          0.          0.          0.          0.33333333\n",
       "   0.          1.          0.        ]\n",
       " [ 0.          0.          0.33333333  0.          0.66666667  0.\n",
       "  -0.33333333  0.          0.        ]\n",
       " [ 0.          0.          0.          0.          0.          1.          0.\n",
       "   0.33333333  0.        ]\n",
       " [ 0.          0.          0.          0.          0.          0.          0.\n",
       "   0.          1.33333333]]"
      ]
     },
     "execution_count": 37,
     "metadata": {},
     "output_type": "execute_result"
    }
   ],
   "source": [
    "latt.hamOp"
   ]
  },
  {
   "cell_type": "code",
   "execution_count": 38,
   "metadata": {
    "collapsed": true
   },
   "outputs": [],
   "source": [
    "latt.setRandomState()"
   ]
  },
  {
   "cell_type": "code",
   "execution_count": 39,
   "metadata": {},
   "outputs": [
    {
     "data": {
      "image/png": "[encoded data removed]",
      "text/plain": [
       "<matplotlib.figure.Figure at 0x108187cf8>"
      ]
     },
     "metadata": {},
     "output_type": "display_data"
    }
   ],
   "source": [
    "latt.draw()"
   ]
  },
  {
   "cell_type": "code",
   "execution_count": null,
   "metadata": {
    "collapsed": true
   },
   "outputs": [],
   "source": [
    "%timeit(latt.latticeEnergy())"
   ]
  },
  {
   "cell_type": "code",
   "execution_count": null,
   "metadata": {
    "collapsed": true
   },
   "outputs": [],
   "source": [
    "latt.hamiltonian.hamOp"
   ]
  },
  {
   "cell_type": "code",
   "execution_count": null,
   "metadata": {
    "collapsed": true
   },
   "outputs": [],
   "source": [
    "energies = []\n",
    "for i in range(100):\n",
    "    latt.setRandomState()\n",
    "    energies.append(latt.latticeEnergy())"
   ]
  },
  {
   "cell_type": "code",
   "execution_count": null,
   "metadata": {
    "collapsed": true
   },
   "outputs": [],
   "source": [
    "plt.hist(energies,bins=20)"
   ]
  },
  {
   "cell_type": "code",
   "execution_count": null,
   "metadata": {
    "collapsed": true
   },
   "outputs": [],
   "source": [
    "uniq_energies = set(energies)\n",
    "print(uniq_energies)"
   ]
  },
  {
   "cell_type": "code",
   "execution_count": null,
   "metadata": {
    "collapsed": true
   },
   "outputs": [],
   "source": [
    "energy_count = {}\n",
    "for uniq in uniq_energies:\n",
    "    energy_count[uniq] = energies.count(uniq)\n",
    "print(energy_count)"
   ]
  },
  {
   "cell_type": "code",
   "execution_count": null,
   "metadata": {
    "collapsed": true
   },
   "outputs": [],
   "source": [
    "plt.scatter(list(energy_count.keys()),list(energy_count.values()))"
   ]
  },
  {
   "cell_type": "code",
   "execution_count": null,
   "metadata": {
    "collapsed": true
   },
   "outputs": [],
   "source": [
    "plt.scatter?"
   ]
  },
  {
   "cell_type": "code",
   "execution_count": null,
   "metadata": {
    "collapsed": true
   },
   "outputs": [],
   "source": [
    "set.issubset?"
   ]
  },
  {
   "cell_type": "code",
   "execution_count": null,
   "metadata": {
    "collapsed": true
   },
   "outputs": [],
   "source": [
    "create?"
   ]
  },
  {
   "cell_type": "code",
   "execution_count": null,
   "metadata": {
    "collapsed": true
   },
   "outputs": [],
   "source": [
    "x = hashQobj"
   ]
  },
  {
   "cell_type": "code",
   "execution_count": null,
   "metadata": {
    "collapsed": true
   },
   "outputs": [],
   "source": [
    "hash(x)"
   ]
  },
  {
   "cell_type": "code",
   "execution_count": null,
   "metadata": {
    "collapsed": true
   },
   "outputs": [],
   "source": [
    "x = hashQobj(basis(2,0))"
   ]
  },
  {
   "cell_type": "code",
   "execution_count": null,
   "metadata": {
    "collapsed": true
   },
   "outputs": [],
   "source": [
    "hash(x)"
   ]
  },
  {
   "cell_type": "code",
   "execution_count": null,
   "metadata": {
    "collapsed": true
   },
   "outputs": [],
   "source": [
    "x"
   ]
  },
  {
   "cell_type": "code",
   "execution_count": null,
   "metadata": {
    "collapsed": true
   },
   "outputs": [],
   "source": [
    "x = {}"
   ]
  },
  {
   "cell_type": "code",
   "execution_count": null,
   "metadata": {
    "collapsed": true
   },
   "outputs": [],
   "source": [
    "len(x)"
   ]
  },
  {
   "cell_type": "code",
   "execution_count": null,
   "metadata": {
    "collapsed": true
   },
   "outputs": [],
   "source": [
    "basis(3,2)"
   ]
  },
  {
   "cell_type": "code",
   "execution_count": null,
   "metadata": {
    "collapsed": true
   },
   "outputs": [],
   "source": [
    "basis(2,1)"
   ]
  },
  {
   "cell_type": "code",
   "execution_count": null,
   "metadata": {
    "collapsed": true
   },
   "outputs": [],
   "source": [
    "np.ndarray?"
   ]
  },
  {
   "cell_type": "code",
   "execution_count": null,
   "metadata": {
    "collapsed": true
   },
   "outputs": [],
   "source": [
    "size = 4\n",
    "arr = np.ndarray([size,size],dtype=Qobj)\n",
    "arr"
   ]
  },
  {
   "cell_type": "code",
   "execution_count": null,
   "metadata": {
    "collapsed": true
   },
   "outputs": [],
   "source": [
    "type(arr[0][1])"
   ]
  },
  {
   "cell_type": "code",
   "execution_count": null,
   "metadata": {
    "collapsed": true
   },
   "outputs": [],
   "source": [
    "latt = SquareLattice(size=50,periodic=True,hamiltonian='SpinGlass',ham_vars={'mu': 0, 'extfield': 0, 'J_ij': 1})"
   ]
  },
  {
   "cell_type": "code",
   "execution_count": null,
   "metadata": {
    "collapsed": true
   },
   "outputs": [],
   "source": [
    "latt.setRandomState()\n",
    "\n",
    "print(latt.latticeEnergy())\n",
    "\n",
    "latt.draw()"
   ]
  },
  {
   "cell_type": "code",
   "execution_count": null,
   "metadata": {
    "collapsed": true
   },
   "outputs": [],
   "source": [
    "energies = []\n",
    "for i in range(500):\n",
    "    latt.setRandomState()\n",
    "    energies.append(latt.latticeEnergy())"
   ]
  },
  {
   "cell_type": "code",
   "execution_count": null,
   "metadata": {
    "collapsed": true
   },
   "outputs": [],
   "source": [
    "plt.hist(energies,bins=40)"
   ]
  },
  {
   "cell_type": "code",
   "execution_count": null,
   "metadata": {
    "collapsed": true
   },
   "outputs": [],
   "source": [
    "energy_set = set(energies)\n",
    "for e in sorted(energy_set):\n",
    "    print(e,'\\t',energies.count(e))"
   ]
  },
  {
   "cell_type": "code",
   "execution_count": null,
   "metadata": {
    "collapsed": true
   },
   "outputs": [],
   "source": [
    "print?"
   ]
  },
  {
   "cell_type": "code",
   "execution_count": null,
   "metadata": {
    "collapsed": true
   },
   "outputs": [],
   "source": [
    "latt.hamiltonianVars"
   ]
  },
  {
   "cell_type": "code",
   "execution_count": null,
   "metadata": {
    "collapsed": true
   },
   "outputs": [],
   "source": [
    "x = {'i':1,'j':2}\n",
    "x"
   ]
  },
  {
   "cell_type": "code",
   "execution_count": null,
   "metadata": {
    "collapsed": true
   },
   "outputs": [],
   "source": [
    "x.values()"
   ]
  },
  {
   "cell_type": "code",
   "execution_count": null,
   "metadata": {
    "collapsed": true
   },
   "outputs": [],
   "source": [
    "x.get?"
   ]
  },
  {
   "cell_type": "code",
   "execution_count": null,
   "metadata": {
    "collapsed": true
   },
   "outputs": [],
   "source": [
    "x.get('k')"
   ]
  },
  {
   "cell_type": "code",
   "execution_count": null,
   "metadata": {
    "collapsed": true
   },
   "outputs": [],
   "source": [
    "set(x.keys())"
   ]
  },
  {
   "cell_type": "code",
   "execution_count": null,
   "metadata": {
    "collapsed": true
   },
   "outputs": [],
   "source": [
    "y = {'j':1,'i':2}\n",
    "y"
   ]
  },
  {
   "cell_type": "code",
   "execution_count": null,
   "metadata": {
    "collapsed": true
   },
   "outputs": [],
   "source": [
    "set(x.keys()) ^ set(y.keys())"
   ]
  },
  {
   "cell_type": "code",
   "execution_count": null,
   "metadata": {
    "collapsed": true
   },
   "outputs": [],
   "source": [
    "x.keys() == y.keys()"
   ]
  },
  {
   "cell_type": "code",
   "execution_count": null,
   "metadata": {
    "collapsed": true
   },
   "outputs": [],
   "source": [
    "nx.grid_2d_graph?"
   ]
  },
  {
   "cell_type": "code",
   "execution_count": null,
   "metadata": {
    "collapsed": true
   },
   "outputs": [],
   "source": [
    "# Dead code\n",
    "\n",
    "#     def hamiltonianIsing(self,node):\n",
    "#         energy = 0.\n",
    "#         for neighbor in self.graph[node]:\n",
    "#             tempstate = tensor(self.graph.node[node]['state'],self.graph.node[neighbor]['state'])\n",
    "#             energy += expect(self.hamOp)\n",
    "# #             energy += -self.J*self.graph.node[node]['state']*self.graph.node[neighbor]['state']\n",
    "# #             energy += -self.mu*self.h*self.graph.node[node]['state']\n",
    "#         return energy\n",
    "    \n",
    "# #     def hamiltonianSpinGlass(self,node):\n",
    "# #         energy = 0.\n",
    "# #         for neighbor in self.graph[node]:\n",
    "# #             energy += 0\n",
    "    \n",
    "#     def hamiltonianHubbard(self,node):\n",
    "#         energy = 0.\n",
    "# #         for neighbor in self.graph[node]:\n",
    "# #             energy += -self.J*\n",
    "#         return 0\n",
    "    \n",
    "#     def hamiltonianHeisenberg(self,node):\n",
    "#         energy = 0.\n",
    "#         for neighbor in graph[node]:\n",
    "#             energy += -self.J*self.graph.node[node]['state']*self.graph.node[neighbor]['state']\n",
    "#             energy += -self.mu*self.h*self.graph.node[node]['state']\n",
    "#         return 0\n",
    "    \n",
    "#     def hamiltonianNumberOp(self,node):\n",
    "#         return 0\n",
    "    "
   ]
  },
  {
   "cell_type": "code",
   "execution_count": null,
   "metadata": {
    "collapsed": true
   },
   "outputs": [],
   "source": []
  }
 ],
 "metadata": {
  "anaconda-cloud": {},
  "kernelspec": {
   "display_name": "Python 3",
   "language": "python",
   "name": "python3"
  },
  "language_info": {
   "codemirror_mode": {
    "name": "ipython",
    "version": 3
   },
   "file_extension": ".py",
   "mimetype": "text/x-python",
   "name": "python",
   "nbconvert_exporter": "python",
   "pygments_lexer": "ipython3",
   "version": "3.6.3"
  },
  "latex_envs": {
   "bibliofile": "biblio.bib",
   "cite_by": "apalike",
   "current_citInitial": 1,
   "eqLabelWithNumbers": true,
   "eqNumInitial": 0
  },
  "toc": {
   "nav_menu": {},
   "number_sections": true,
   "sideBar": false,
   "skip_h1_title": false,
   "toc_cell": true,
   "toc_position": {
    "height": "251px",
    "left": "957.55px",
    "right": "47.45px",
    "top": "120px",
    "width": "271px"
   },
   "toc_section_display": "block",
   "toc_window_display": true
  },
  "varInspector": {
   "cols": {
    "lenName": 16,
    "lenType": 16,
    "lenVar": 40
   },
   "kernels_config": {
    "python": {
     "delete_cmd_postfix": "",
     "delete_cmd_prefix": "del ",
     "library": "var_list.py",
     "varRefreshCmd": "print(var_dic_list())"
    },
    "r": {
     "delete_cmd_postfix": ") ",
     "delete_cmd_prefix": "rm(",
     "library": "var_list.r",
     "varRefreshCmd": "cat(var_dic_list()) "
    }
   },
   "types_to_exclude": [
    "module",
    "function",
    "builtin_function_or_method",
    "instance",
    "_Feature"
   ],
   "window_display": false
  }
 },
 "nbformat": 4,
 "nbformat_minor": 1
}
